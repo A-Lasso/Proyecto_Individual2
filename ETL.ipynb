{
 "cells": [
  {
   "cell_type": "markdown",
   "metadata": {},
   "source": [
    "Se traen los csv desde la API."
   ]
  },
  {
   "cell_type": "code",
   "execution_count": 24,
   "metadata": {},
   "outputs": [],
   "source": [
    "import pandas as pd\n",
    "import numpy as np\n",
    "import requests\n",
    "import json\n",
    "from pandas import json_normalize"
   ]
  },
  {
   "cell_type": "code",
   "execution_count": 43,
   "metadata": {},
   "outputs": [],
   "source": [
    "api='BxrBbhvSlTYotzfFY9EGDOGvI1BLTQtgdEszu86l'"
   ]
  },
  {
   "cell_type": "code",
   "execution_count": 37,
   "metadata": {},
   "outputs": [],
   "source": [
    "url='http://api.datosabiertos.enacom.gob.ar/api/v2/datastreams/PENET-DEL-INTER-FIJO-51614/data.csv/?auth_key={}'.format(api)\n",
    "response=requests.get(url)"
   ]
  },
  {
   "cell_type": "code",
   "execution_count": 27,
   "metadata": {},
   "outputs": [
    {
     "data": {
      "text/plain": [
       "<Response [200]>"
      ]
     },
     "execution_count": 27,
     "metadata": {},
     "output_type": "execute_result"
    }
   ],
   "source": [
    "requests.get(url)"
   ]
  },
  {
   "cell_type": "code",
   "execution_count": 28,
   "metadata": {},
   "outputs": [],
   "source": [
    "#1\n",
    "if response.status_code ==200:\n",
    "    result=response.content\n",
    "    arch=open(\"csv_api\\Penet_Inter_PROV_100HOG.csv\",\"wb\")\n",
    "    arch.write(result)\n",
    "    arch.close()"
   ]
  },
  {
   "cell_type": "code",
   "execution_count": 29,
   "metadata": {},
   "outputs": [],
   "source": [
    "#2\n",
    "url4='http://api.datosabiertos.enacom.gob.ar/api/v2/datastreams/PENET-NACIO-DEL-INTER-FIJO/data.csv/?auth_key={}'.format(api)\n",
    "response=requests.get(url4)\n",
    "if response.status_code ==200:\n",
    "    result=response.content\n",
    "    arch=open(\"csv_api\\Penet_Inter_Nac.csv\",\"wb\")\n",
    "    arch.write(result)\n",
    "    arch.close()"
   ]
  },
  {
   "cell_type": "code",
   "execution_count": 30,
   "metadata": {},
   "outputs": [],
   "source": [
    "#3\n",
    "url2='http://api.datosabiertos.enacom.gob.ar/api/v2/datastreams/TOTAL-NACIO-DE-ACCES-48866/data.csv/?auth_key={}'.format(api)\n",
    "response=requests.get(url2)\n",
    "if response.status_code ==200:\n",
    "    result=response.content\n",
    "    arch=open(\"csv_api\\Acces_Banda_Ancha_Angosta_Nac.csv\",\"wb\")\n",
    "    arch.write(result)\n",
    "    arch.close()"
   ]
  },
  {
   "cell_type": "code",
   "execution_count": 31,
   "metadata": {},
   "outputs": [],
   "source": [
    "#4\n",
    "url3='http://api.datosabiertos.enacom.gob.ar/api/v2/datastreams/BANDA-ANCHA-Y-BANDA-ANGOS/data.csv/?auth_key={}'.format(api)\n",
    "response=requests.get(url3)\n",
    "if response.status_code ==200:\n",
    "    result=response.content\n",
    "    arch=open(\"csv_api\\Acces_Banda_Ancha_Angosta_Provincia.csv\",\"wb\")\n",
    "    arch.write(result)\n",
    "    arch.close()"
   ]
  },
  {
   "cell_type": "code",
   "execution_count": 32,
   "metadata": {},
   "outputs": [],
   "source": [
    "#5\n",
    "url5='http://api.datosabiertos.enacom.gob.ar/api/v2/datastreams/TOTAL-NACIO-DE-ACCES-A/data.csv/?auth_key={}'.format(api)\n",
    "response=requests.get(url5)\n",
    "if response.status_code ==200:\n",
    "    result=response.content\n",
    "    arch=open(\"csv_api\\Acces_Inter_Tec_Nac.csv\",\"wb\")\n",
    "    arch.write(result)\n",
    "    arch.close()"
   ]
  },
  {
   "cell_type": "markdown",
   "metadata": {},
   "source": [
    "Tiene error, desde la pagina no se ve, intente cargarlo desde la API pero devuelve error también."
   ]
  },
  {
   "cell_type": "code",
   "execution_count": 33,
   "metadata": {},
   "outputs": [
    {
     "data": {
      "text/plain": [
       "'\\nurl6=\\'http://api.datosabiertos.enacom.gob.ar/api/v2/datastreams/ACCES-A-INTER-FIJO-POR/data.json/?auth_key=Vvj1xJ4hv6NtIRgLQwzfoMSMogPayC2gfKxCcONm\\'\\nresponse=requests.get(url6)\\nif response.status_code ==200:\\n    result=response.content\\n    arch=open(\"csv_api\\\\Acces_Inter_Tec_Prov.csv\",\"wb\")\\n    arch.write(result)\\n    arch.close()\\n    Asi ocurre con otros csv\\n    '"
      ]
     },
     "execution_count": 33,
     "metadata": {},
     "output_type": "execute_result"
    }
   ],
   "source": [
    "'''\n",
    "url6='http://api.datosabiertos.enacom.gob.ar/api/v2/datastreams/ACCES-A-INTER-FIJO-POR/data.json/?auth_key=Vvj1xJ4hv6NtIRgLQwzfoMSMogPayC2gfKxCcONm'\n",
    "response=requests.get(url6)\n",
    "if response.status_code ==200:\n",
    "    result=response.content\n",
    "    arch=open(\"csv_api\\Acces_Inter_Tec_Prov.csv\",\"wb\")\n",
    "    arch.write(result)\n",
    "    arch.close()\n",
    "    Asi ocurre con otros csv\n",
    "    '''"
   ]
  },
  {
   "cell_type": "code",
   "execution_count": 34,
   "metadata": {},
   "outputs": [],
   "source": [
    "#6\n",
    "url7='http://api.datosabiertos.enacom.gob.ar/api/v2/datastreams/VELOC-PROME-DE-BAJAD-51733/data.csv/?auth_key={}'.format(api)\n",
    "response=requests.get(url7)\n",
    "if response.status_code ==200:\n",
    "    result=response.content\n",
    "    arch=open(\"csv_api\\Vel_MedBajada_Nac.csv\",\"wb\")\n",
    "    arch.write(result)\n",
    "    arch.close()"
   ]
  },
  {
   "cell_type": "code",
   "execution_count": 38,
   "metadata": {},
   "outputs": [],
   "source": [
    "#7\n",
    "url8='http://api.datosabiertos.enacom.gob.ar/api/v2/datastreams/ACCES-A-INTER-FIJO-23248/data.csv/?auth_key={}'.format(api)\n",
    "response=requests.get(url8)\n",
    "if response.status_code ==200:\n",
    "    result=response.content\n",
    "    arch=open(\"csv_api\\Acces_Inter_Prov_Vel.csv\",\"wb\")\n",
    "    arch.write(result)\n",
    "    arch.close()"
   ]
  },
  {
   "cell_type": "code",
   "execution_count": 39,
   "metadata": {},
   "outputs": [],
   "source": [
    "#8\n",
    "url9='http://api.datosabiertos.enacom.gob.ar/api/v2/datastreams/INGRE-POR-LA-OPERA-DEL/data.csv/?auth_key={}'.format(api)\n",
    "response=requests.get(url9)\n",
    "if response.status_code ==200:\n",
    "    result=response.content\n",
    "    arch=open(\"csv_api\\Ingresos_Inter_Fijo.csv\",\"wb\")\n",
    "    arch.write(result)\n",
    "    arch.close()"
   ]
  },
  {
   "cell_type": "code",
   "execution_count": 40,
   "metadata": {},
   "outputs": [
    {
     "ename": "ConnectTimeout",
     "evalue": "HTTPSConnectionPool(host='api.datosabiertos.enacom.gob.ar', port=443): Max retries exceeded with url: /api/v2/datastreams/ACCES-A-INTER-FIJO-16249/data.csv/?auth_key=LSFmHDwHEj7bRMgG7ILOUqopmWHxg7W9XTqj5WCV (Caused by ConnectTimeoutError(<urllib3.connection.HTTPSConnection object at 0x00000190268D4CA0>, 'Connection to api.datosabiertos.enacom.gob.ar timed out. (connect timeout=None)'))",
     "output_type": "error",
     "traceback": [
      "\u001b[1;31m---------------------------------------------------------------------------\u001b[0m",
      "\u001b[1;31mTimeoutError\u001b[0m                              Traceback (most recent call last)",
      "File \u001b[1;32mc:\\Users\\lasso\\AppData\\Local\\Programs\\Python\\Python310\\lib\\site-packages\\urllib3\\connection.py:174\u001b[0m, in \u001b[0;36mHTTPConnection._new_conn\u001b[1;34m(self)\u001b[0m\n\u001b[0;32m    173\u001b[0m \u001b[39mtry\u001b[39;00m:\n\u001b[1;32m--> 174\u001b[0m     conn \u001b[39m=\u001b[39m connection\u001b[39m.\u001b[39mcreate_connection(\n\u001b[0;32m    175\u001b[0m         (\u001b[39mself\u001b[39m\u001b[39m.\u001b[39m_dns_host, \u001b[39mself\u001b[39m\u001b[39m.\u001b[39mport), \u001b[39mself\u001b[39m\u001b[39m.\u001b[39mtimeout, \u001b[39m*\u001b[39m\u001b[39m*\u001b[39mextra_kw\n\u001b[0;32m    176\u001b[0m     )\n\u001b[0;32m    178\u001b[0m \u001b[39mexcept\u001b[39;00m SocketTimeout:\n",
      "File \u001b[1;32mc:\\Users\\lasso\\AppData\\Local\\Programs\\Python\\Python310\\lib\\site-packages\\urllib3\\util\\connection.py:95\u001b[0m, in \u001b[0;36mcreate_connection\u001b[1;34m(address, timeout, source_address, socket_options)\u001b[0m\n\u001b[0;32m     94\u001b[0m \u001b[39mif\u001b[39;00m err \u001b[39mis\u001b[39;00m \u001b[39mnot\u001b[39;00m \u001b[39mNone\u001b[39;00m:\n\u001b[1;32m---> 95\u001b[0m     \u001b[39mraise\u001b[39;00m err\n\u001b[0;32m     97\u001b[0m \u001b[39mraise\u001b[39;00m socket\u001b[39m.\u001b[39merror(\u001b[39m\"\u001b[39m\u001b[39mgetaddrinfo returns an empty list\u001b[39m\u001b[39m\"\u001b[39m)\n",
      "File \u001b[1;32mc:\\Users\\lasso\\AppData\\Local\\Programs\\Python\\Python310\\lib\\site-packages\\urllib3\\util\\connection.py:85\u001b[0m, in \u001b[0;36mcreate_connection\u001b[1;34m(address, timeout, source_address, socket_options)\u001b[0m\n\u001b[0;32m     84\u001b[0m     sock\u001b[39m.\u001b[39mbind(source_address)\n\u001b[1;32m---> 85\u001b[0m sock\u001b[39m.\u001b[39;49mconnect(sa)\n\u001b[0;32m     86\u001b[0m \u001b[39mreturn\u001b[39;00m sock\n",
      "\u001b[1;31mTimeoutError\u001b[0m: [WinError 10060] Se produjo un error durante el intento de conexión ya que la parte conectada no respondió adecuadamente tras un periodo de tiempo, o bien se produjo un error en la conexión establecida ya que el host conectado no ha podido responder",
      "\nDuring handling of the above exception, another exception occurred:\n",
      "\u001b[1;31mConnectTimeoutError\u001b[0m                       Traceback (most recent call last)",
      "File \u001b[1;32mc:\\Users\\lasso\\AppData\\Local\\Programs\\Python\\Python310\\lib\\site-packages\\urllib3\\connectionpool.py:703\u001b[0m, in \u001b[0;36mHTTPConnectionPool.urlopen\u001b[1;34m(self, method, url, body, headers, retries, redirect, assert_same_host, timeout, pool_timeout, release_conn, chunked, body_pos, **response_kw)\u001b[0m\n\u001b[0;32m    702\u001b[0m \u001b[39m# Make the request on the httplib connection object.\u001b[39;00m\n\u001b[1;32m--> 703\u001b[0m httplib_response \u001b[39m=\u001b[39m \u001b[39mself\u001b[39;49m\u001b[39m.\u001b[39;49m_make_request(\n\u001b[0;32m    704\u001b[0m     conn,\n\u001b[0;32m    705\u001b[0m     method,\n\u001b[0;32m    706\u001b[0m     url,\n\u001b[0;32m    707\u001b[0m     timeout\u001b[39m=\u001b[39;49mtimeout_obj,\n\u001b[0;32m    708\u001b[0m     body\u001b[39m=\u001b[39;49mbody,\n\u001b[0;32m    709\u001b[0m     headers\u001b[39m=\u001b[39;49mheaders,\n\u001b[0;32m    710\u001b[0m     chunked\u001b[39m=\u001b[39;49mchunked,\n\u001b[0;32m    711\u001b[0m )\n\u001b[0;32m    713\u001b[0m \u001b[39m# If we're going to release the connection in ``finally:``, then\u001b[39;00m\n\u001b[0;32m    714\u001b[0m \u001b[39m# the response doesn't need to know about the connection. Otherwise\u001b[39;00m\n\u001b[0;32m    715\u001b[0m \u001b[39m# it will also try to release it and we'll have a double-release\u001b[39;00m\n\u001b[0;32m    716\u001b[0m \u001b[39m# mess.\u001b[39;00m\n",
      "File \u001b[1;32mc:\\Users\\lasso\\AppData\\Local\\Programs\\Python\\Python310\\lib\\site-packages\\urllib3\\connectionpool.py:386\u001b[0m, in \u001b[0;36mHTTPConnectionPool._make_request\u001b[1;34m(self, conn, method, url, timeout, chunked, **httplib_request_kw)\u001b[0m\n\u001b[0;32m    385\u001b[0m \u001b[39mtry\u001b[39;00m:\n\u001b[1;32m--> 386\u001b[0m     \u001b[39mself\u001b[39;49m\u001b[39m.\u001b[39;49m_validate_conn(conn)\n\u001b[0;32m    387\u001b[0m \u001b[39mexcept\u001b[39;00m (SocketTimeout, BaseSSLError) \u001b[39mas\u001b[39;00m e:\n\u001b[0;32m    388\u001b[0m     \u001b[39m# Py2 raises this as a BaseSSLError, Py3 raises it as socket timeout.\u001b[39;00m\n",
      "File \u001b[1;32mc:\\Users\\lasso\\AppData\\Local\\Programs\\Python\\Python310\\lib\\site-packages\\urllib3\\connectionpool.py:1042\u001b[0m, in \u001b[0;36mHTTPSConnectionPool._validate_conn\u001b[1;34m(self, conn)\u001b[0m\n\u001b[0;32m   1041\u001b[0m \u001b[39mif\u001b[39;00m \u001b[39mnot\u001b[39;00m \u001b[39mgetattr\u001b[39m(conn, \u001b[39m\"\u001b[39m\u001b[39msock\u001b[39m\u001b[39m\"\u001b[39m, \u001b[39mNone\u001b[39;00m):  \u001b[39m# AppEngine might not have  `.sock`\u001b[39;00m\n\u001b[1;32m-> 1042\u001b[0m     conn\u001b[39m.\u001b[39;49mconnect()\n\u001b[0;32m   1044\u001b[0m \u001b[39mif\u001b[39;00m \u001b[39mnot\u001b[39;00m conn\u001b[39m.\u001b[39mis_verified:\n",
      "File \u001b[1;32mc:\\Users\\lasso\\AppData\\Local\\Programs\\Python\\Python310\\lib\\site-packages\\urllib3\\connection.py:363\u001b[0m, in \u001b[0;36mHTTPSConnection.connect\u001b[1;34m(self)\u001b[0m\n\u001b[0;32m    361\u001b[0m \u001b[39mdef\u001b[39;00m \u001b[39mconnect\u001b[39m(\u001b[39mself\u001b[39m):\n\u001b[0;32m    362\u001b[0m     \u001b[39m# Add certificate verification\u001b[39;00m\n\u001b[1;32m--> 363\u001b[0m     \u001b[39mself\u001b[39m\u001b[39m.\u001b[39msock \u001b[39m=\u001b[39m conn \u001b[39m=\u001b[39m \u001b[39mself\u001b[39;49m\u001b[39m.\u001b[39;49m_new_conn()\n\u001b[0;32m    364\u001b[0m     hostname \u001b[39m=\u001b[39m \u001b[39mself\u001b[39m\u001b[39m.\u001b[39mhost\n",
      "File \u001b[1;32mc:\\Users\\lasso\\AppData\\Local\\Programs\\Python\\Python310\\lib\\site-packages\\urllib3\\connection.py:179\u001b[0m, in \u001b[0;36mHTTPConnection._new_conn\u001b[1;34m(self)\u001b[0m\n\u001b[0;32m    178\u001b[0m \u001b[39mexcept\u001b[39;00m SocketTimeout:\n\u001b[1;32m--> 179\u001b[0m     \u001b[39mraise\u001b[39;00m ConnectTimeoutError(\n\u001b[0;32m    180\u001b[0m         \u001b[39mself\u001b[39m,\n\u001b[0;32m    181\u001b[0m         \u001b[39m\"\u001b[39m\u001b[39mConnection to \u001b[39m\u001b[39m%s\u001b[39;00m\u001b[39m timed out. (connect timeout=\u001b[39m\u001b[39m%s\u001b[39;00m\u001b[39m)\u001b[39m\u001b[39m\"\u001b[39m\n\u001b[0;32m    182\u001b[0m         \u001b[39m%\u001b[39m (\u001b[39mself\u001b[39m\u001b[39m.\u001b[39mhost, \u001b[39mself\u001b[39m\u001b[39m.\u001b[39mtimeout),\n\u001b[0;32m    183\u001b[0m     )\n\u001b[0;32m    185\u001b[0m \u001b[39mexcept\u001b[39;00m SocketError \u001b[39mas\u001b[39;00m e:\n",
      "\u001b[1;31mConnectTimeoutError\u001b[0m: (<urllib3.connection.HTTPSConnection object at 0x00000190268D4CA0>, 'Connection to api.datosabiertos.enacom.gob.ar timed out. (connect timeout=None)')",
      "\nDuring handling of the above exception, another exception occurred:\n",
      "\u001b[1;31mMaxRetryError\u001b[0m                             Traceback (most recent call last)",
      "File \u001b[1;32mc:\\Users\\lasso\\AppData\\Local\\Programs\\Python\\Python310\\lib\\site-packages\\requests\\adapters.py:489\u001b[0m, in \u001b[0;36mHTTPAdapter.send\u001b[1;34m(self, request, stream, timeout, verify, cert, proxies)\u001b[0m\n\u001b[0;32m    488\u001b[0m \u001b[39mif\u001b[39;00m \u001b[39mnot\u001b[39;00m chunked:\n\u001b[1;32m--> 489\u001b[0m     resp \u001b[39m=\u001b[39m conn\u001b[39m.\u001b[39;49murlopen(\n\u001b[0;32m    490\u001b[0m         method\u001b[39m=\u001b[39;49mrequest\u001b[39m.\u001b[39;49mmethod,\n\u001b[0;32m    491\u001b[0m         url\u001b[39m=\u001b[39;49murl,\n\u001b[0;32m    492\u001b[0m         body\u001b[39m=\u001b[39;49mrequest\u001b[39m.\u001b[39;49mbody,\n\u001b[0;32m    493\u001b[0m         headers\u001b[39m=\u001b[39;49mrequest\u001b[39m.\u001b[39;49mheaders,\n\u001b[0;32m    494\u001b[0m         redirect\u001b[39m=\u001b[39;49m\u001b[39mFalse\u001b[39;49;00m,\n\u001b[0;32m    495\u001b[0m         assert_same_host\u001b[39m=\u001b[39;49m\u001b[39mFalse\u001b[39;49;00m,\n\u001b[0;32m    496\u001b[0m         preload_content\u001b[39m=\u001b[39;49m\u001b[39mFalse\u001b[39;49;00m,\n\u001b[0;32m    497\u001b[0m         decode_content\u001b[39m=\u001b[39;49m\u001b[39mFalse\u001b[39;49;00m,\n\u001b[0;32m    498\u001b[0m         retries\u001b[39m=\u001b[39;49m\u001b[39mself\u001b[39;49m\u001b[39m.\u001b[39;49mmax_retries,\n\u001b[0;32m    499\u001b[0m         timeout\u001b[39m=\u001b[39;49mtimeout,\n\u001b[0;32m    500\u001b[0m     )\n\u001b[0;32m    502\u001b[0m \u001b[39m# Send the request.\u001b[39;00m\n\u001b[0;32m    503\u001b[0m \u001b[39melse\u001b[39;00m:\n",
      "File \u001b[1;32mc:\\Users\\lasso\\AppData\\Local\\Programs\\Python\\Python310\\lib\\site-packages\\urllib3\\connectionpool.py:787\u001b[0m, in \u001b[0;36mHTTPConnectionPool.urlopen\u001b[1;34m(self, method, url, body, headers, retries, redirect, assert_same_host, timeout, pool_timeout, release_conn, chunked, body_pos, **response_kw)\u001b[0m\n\u001b[0;32m    785\u001b[0m     e \u001b[39m=\u001b[39m ProtocolError(\u001b[39m\"\u001b[39m\u001b[39mConnection aborted.\u001b[39m\u001b[39m\"\u001b[39m, e)\n\u001b[1;32m--> 787\u001b[0m retries \u001b[39m=\u001b[39m retries\u001b[39m.\u001b[39;49mincrement(\n\u001b[0;32m    788\u001b[0m     method, url, error\u001b[39m=\u001b[39;49me, _pool\u001b[39m=\u001b[39;49m\u001b[39mself\u001b[39;49m, _stacktrace\u001b[39m=\u001b[39;49msys\u001b[39m.\u001b[39;49mexc_info()[\u001b[39m2\u001b[39;49m]\n\u001b[0;32m    789\u001b[0m )\n\u001b[0;32m    790\u001b[0m retries\u001b[39m.\u001b[39msleep()\n",
      "File \u001b[1;32mc:\\Users\\lasso\\AppData\\Local\\Programs\\Python\\Python310\\lib\\site-packages\\urllib3\\util\\retry.py:592\u001b[0m, in \u001b[0;36mRetry.increment\u001b[1;34m(self, method, url, response, error, _pool, _stacktrace)\u001b[0m\n\u001b[0;32m    591\u001b[0m \u001b[39mif\u001b[39;00m new_retry\u001b[39m.\u001b[39mis_exhausted():\n\u001b[1;32m--> 592\u001b[0m     \u001b[39mraise\u001b[39;00m MaxRetryError(_pool, url, error \u001b[39mor\u001b[39;00m ResponseError(cause))\n\u001b[0;32m    594\u001b[0m log\u001b[39m.\u001b[39mdebug(\u001b[39m\"\u001b[39m\u001b[39mIncremented Retry for (url=\u001b[39m\u001b[39m'\u001b[39m\u001b[39m%s\u001b[39;00m\u001b[39m'\u001b[39m\u001b[39m): \u001b[39m\u001b[39m%r\u001b[39;00m\u001b[39m\"\u001b[39m, url, new_retry)\n",
      "\u001b[1;31mMaxRetryError\u001b[0m: HTTPSConnectionPool(host='api.datosabiertos.enacom.gob.ar', port=443): Max retries exceeded with url: /api/v2/datastreams/ACCES-A-INTER-FIJO-16249/data.csv/?auth_key=LSFmHDwHEj7bRMgG7ILOUqopmWHxg7W9XTqj5WCV (Caused by ConnectTimeoutError(<urllib3.connection.HTTPSConnection object at 0x00000190268D4CA0>, 'Connection to api.datosabiertos.enacom.gob.ar timed out. (connect timeout=None)'))",
      "\nDuring handling of the above exception, another exception occurred:\n",
      "\u001b[1;31mConnectTimeout\u001b[0m                            Traceback (most recent call last)",
      "Cell \u001b[1;32mIn[40], line 3\u001b[0m\n\u001b[0;32m      1\u001b[0m \u001b[39m#9\u001b[39;00m\n\u001b[0;32m      2\u001b[0m url10\u001b[39m=\u001b[39m\u001b[39m'\u001b[39m\u001b[39mhttp://api.datosabiertos.enacom.gob.ar/api/v2/datastreams/ACCES-A-INTER-FIJO-16249/data.csv/?auth_key=\u001b[39m\u001b[39m{}\u001b[39;00m\u001b[39m'\u001b[39m\u001b[39m.\u001b[39mformat(api)\n\u001b[1;32m----> 3\u001b[0m response\u001b[39m=\u001b[39mrequests\u001b[39m.\u001b[39;49mget(url10)\n\u001b[0;32m      4\u001b[0m \u001b[39mif\u001b[39;00m response\u001b[39m.\u001b[39mstatus_code \u001b[39m==\u001b[39m\u001b[39m200\u001b[39m:\n\u001b[0;32m      5\u001b[0m     result\u001b[39m=\u001b[39mresponse\u001b[39m.\u001b[39mcontent\n",
      "File \u001b[1;32mc:\\Users\\lasso\\AppData\\Local\\Programs\\Python\\Python310\\lib\\site-packages\\requests\\api.py:73\u001b[0m, in \u001b[0;36mget\u001b[1;34m(url, params, **kwargs)\u001b[0m\n\u001b[0;32m     62\u001b[0m \u001b[39mdef\u001b[39;00m \u001b[39mget\u001b[39m(url, params\u001b[39m=\u001b[39m\u001b[39mNone\u001b[39;00m, \u001b[39m*\u001b[39m\u001b[39m*\u001b[39mkwargs):\n\u001b[0;32m     63\u001b[0m \u001b[39m    \u001b[39m\u001b[39mr\u001b[39m\u001b[39m\"\"\"Sends a GET request.\u001b[39;00m\n\u001b[0;32m     64\u001b[0m \n\u001b[0;32m     65\u001b[0m \u001b[39m    :param url: URL for the new :class:`Request` object.\u001b[39;00m\n\u001b[1;32m   (...)\u001b[0m\n\u001b[0;32m     70\u001b[0m \u001b[39m    :rtype: requests.Response\u001b[39;00m\n\u001b[0;32m     71\u001b[0m \u001b[39m    \"\"\"\u001b[39;00m\n\u001b[1;32m---> 73\u001b[0m     \u001b[39mreturn\u001b[39;00m request(\u001b[39m\"\u001b[39m\u001b[39mget\u001b[39m\u001b[39m\"\u001b[39m, url, params\u001b[39m=\u001b[39mparams, \u001b[39m*\u001b[39m\u001b[39m*\u001b[39mkwargs)\n",
      "File \u001b[1;32mc:\\Users\\lasso\\AppData\\Local\\Programs\\Python\\Python310\\lib\\site-packages\\requests\\api.py:59\u001b[0m, in \u001b[0;36mrequest\u001b[1;34m(method, url, **kwargs)\u001b[0m\n\u001b[0;32m     55\u001b[0m \u001b[39m# By using the 'with' statement we are sure the session is closed, thus we\u001b[39;00m\n\u001b[0;32m     56\u001b[0m \u001b[39m# avoid leaving sockets open which can trigger a ResourceWarning in some\u001b[39;00m\n\u001b[0;32m     57\u001b[0m \u001b[39m# cases, and look like a memory leak in others.\u001b[39;00m\n\u001b[0;32m     58\u001b[0m \u001b[39mwith\u001b[39;00m sessions\u001b[39m.\u001b[39mSession() \u001b[39mas\u001b[39;00m session:\n\u001b[1;32m---> 59\u001b[0m     \u001b[39mreturn\u001b[39;00m session\u001b[39m.\u001b[39mrequest(method\u001b[39m=\u001b[39mmethod, url\u001b[39m=\u001b[39murl, \u001b[39m*\u001b[39m\u001b[39m*\u001b[39mkwargs)\n",
      "File \u001b[1;32mc:\\Users\\lasso\\AppData\\Local\\Programs\\Python\\Python310\\lib\\site-packages\\requests\\sessions.py:587\u001b[0m, in \u001b[0;36mSession.request\u001b[1;34m(self, method, url, params, data, headers, cookies, files, auth, timeout, allow_redirects, proxies, hooks, stream, verify, cert, json)\u001b[0m\n\u001b[0;32m    582\u001b[0m send_kwargs \u001b[39m=\u001b[39m {\n\u001b[0;32m    583\u001b[0m     \u001b[39m\"\u001b[39m\u001b[39mtimeout\u001b[39m\u001b[39m\"\u001b[39m: timeout,\n\u001b[0;32m    584\u001b[0m     \u001b[39m\"\u001b[39m\u001b[39mallow_redirects\u001b[39m\u001b[39m\"\u001b[39m: allow_redirects,\n\u001b[0;32m    585\u001b[0m }\n\u001b[0;32m    586\u001b[0m send_kwargs\u001b[39m.\u001b[39mupdate(settings)\n\u001b[1;32m--> 587\u001b[0m resp \u001b[39m=\u001b[39m \u001b[39mself\u001b[39m\u001b[39m.\u001b[39msend(prep, \u001b[39m*\u001b[39m\u001b[39m*\u001b[39msend_kwargs)\n\u001b[0;32m    589\u001b[0m \u001b[39mreturn\u001b[39;00m resp\n",
      "File \u001b[1;32mc:\\Users\\lasso\\AppData\\Local\\Programs\\Python\\Python310\\lib\\site-packages\\requests\\sessions.py:723\u001b[0m, in \u001b[0;36mSession.send\u001b[1;34m(self, request, **kwargs)\u001b[0m\n\u001b[0;32m    720\u001b[0m \u001b[39mif\u001b[39;00m allow_redirects:\n\u001b[0;32m    721\u001b[0m     \u001b[39m# Redirect resolving generator.\u001b[39;00m\n\u001b[0;32m    722\u001b[0m     gen \u001b[39m=\u001b[39m \u001b[39mself\u001b[39m\u001b[39m.\u001b[39mresolve_redirects(r, request, \u001b[39m*\u001b[39m\u001b[39m*\u001b[39mkwargs)\n\u001b[1;32m--> 723\u001b[0m     history \u001b[39m=\u001b[39m [resp \u001b[39mfor\u001b[39;00m resp \u001b[39min\u001b[39;00m gen]\n\u001b[0;32m    724\u001b[0m \u001b[39melse\u001b[39;00m:\n\u001b[0;32m    725\u001b[0m     history \u001b[39m=\u001b[39m []\n",
      "File \u001b[1;32mc:\\Users\\lasso\\AppData\\Local\\Programs\\Python\\Python310\\lib\\site-packages\\requests\\sessions.py:723\u001b[0m, in \u001b[0;36m<listcomp>\u001b[1;34m(.0)\u001b[0m\n\u001b[0;32m    720\u001b[0m \u001b[39mif\u001b[39;00m allow_redirects:\n\u001b[0;32m    721\u001b[0m     \u001b[39m# Redirect resolving generator.\u001b[39;00m\n\u001b[0;32m    722\u001b[0m     gen \u001b[39m=\u001b[39m \u001b[39mself\u001b[39m\u001b[39m.\u001b[39mresolve_redirects(r, request, \u001b[39m*\u001b[39m\u001b[39m*\u001b[39mkwargs)\n\u001b[1;32m--> 723\u001b[0m     history \u001b[39m=\u001b[39m [resp \u001b[39mfor\u001b[39;00m resp \u001b[39min\u001b[39;00m gen]\n\u001b[0;32m    724\u001b[0m \u001b[39melse\u001b[39;00m:\n\u001b[0;32m    725\u001b[0m     history \u001b[39m=\u001b[39m []\n",
      "File \u001b[1;32mc:\\Users\\lasso\\AppData\\Local\\Programs\\Python\\Python310\\lib\\site-packages\\requests\\sessions.py:266\u001b[0m, in \u001b[0;36mSessionRedirectMixin.resolve_redirects\u001b[1;34m(self, resp, req, stream, timeout, verify, cert, proxies, yield_requests, **adapter_kwargs)\u001b[0m\n\u001b[0;32m    263\u001b[0m     \u001b[39myield\u001b[39;00m req\n\u001b[0;32m    264\u001b[0m \u001b[39melse\u001b[39;00m:\n\u001b[1;32m--> 266\u001b[0m     resp \u001b[39m=\u001b[39m \u001b[39mself\u001b[39m\u001b[39m.\u001b[39msend(\n\u001b[0;32m    267\u001b[0m         req,\n\u001b[0;32m    268\u001b[0m         stream\u001b[39m=\u001b[39mstream,\n\u001b[0;32m    269\u001b[0m         timeout\u001b[39m=\u001b[39mtimeout,\n\u001b[0;32m    270\u001b[0m         verify\u001b[39m=\u001b[39mverify,\n\u001b[0;32m    271\u001b[0m         cert\u001b[39m=\u001b[39mcert,\n\u001b[0;32m    272\u001b[0m         proxies\u001b[39m=\u001b[39mproxies,\n\u001b[0;32m    273\u001b[0m         allow_redirects\u001b[39m=\u001b[39m\u001b[39mFalse\u001b[39;00m,\n\u001b[0;32m    274\u001b[0m         \u001b[39m*\u001b[39m\u001b[39m*\u001b[39madapter_kwargs,\n\u001b[0;32m    275\u001b[0m     )\n\u001b[0;32m    277\u001b[0m     extract_cookies_to_jar(\u001b[39mself\u001b[39m\u001b[39m.\u001b[39mcookies, prepared_request, resp\u001b[39m.\u001b[39mraw)\n\u001b[0;32m    279\u001b[0m     \u001b[39m# extract redirect url, if any, for the next loop\u001b[39;00m\n",
      "File \u001b[1;32mc:\\Users\\lasso\\AppData\\Local\\Programs\\Python\\Python310\\lib\\site-packages\\requests\\sessions.py:701\u001b[0m, in \u001b[0;36mSession.send\u001b[1;34m(self, request, **kwargs)\u001b[0m\n\u001b[0;32m    698\u001b[0m start \u001b[39m=\u001b[39m preferred_clock()\n\u001b[0;32m    700\u001b[0m \u001b[39m# Send the request\u001b[39;00m\n\u001b[1;32m--> 701\u001b[0m r \u001b[39m=\u001b[39m adapter\u001b[39m.\u001b[39msend(request, \u001b[39m*\u001b[39m\u001b[39m*\u001b[39mkwargs)\n\u001b[0;32m    703\u001b[0m \u001b[39m# Total elapsed time of the request (approximately)\u001b[39;00m\n\u001b[0;32m    704\u001b[0m elapsed \u001b[39m=\u001b[39m preferred_clock() \u001b[39m-\u001b[39m start\n",
      "File \u001b[1;32mc:\\Users\\lasso\\AppData\\Local\\Programs\\Python\\Python310\\lib\\site-packages\\requests\\adapters.py:553\u001b[0m, in \u001b[0;36mHTTPAdapter.send\u001b[1;34m(self, request, stream, timeout, verify, cert, proxies)\u001b[0m\n\u001b[0;32m    550\u001b[0m \u001b[39mif\u001b[39;00m \u001b[39misinstance\u001b[39m(e\u001b[39m.\u001b[39mreason, ConnectTimeoutError):\n\u001b[0;32m    551\u001b[0m     \u001b[39m# TODO: Remove this in 3.0.0: see #2811\u001b[39;00m\n\u001b[0;32m    552\u001b[0m     \u001b[39mif\u001b[39;00m \u001b[39mnot\u001b[39;00m \u001b[39misinstance\u001b[39m(e\u001b[39m.\u001b[39mreason, NewConnectionError):\n\u001b[1;32m--> 553\u001b[0m         \u001b[39mraise\u001b[39;00m ConnectTimeout(e, request\u001b[39m=\u001b[39mrequest)\n\u001b[0;32m    555\u001b[0m \u001b[39mif\u001b[39;00m \u001b[39misinstance\u001b[39m(e\u001b[39m.\u001b[39mreason, ResponseError):\n\u001b[0;32m    556\u001b[0m     \u001b[39mraise\u001b[39;00m RetryError(e, request\u001b[39m=\u001b[39mrequest)\n",
      "\u001b[1;31mConnectTimeout\u001b[0m: HTTPSConnectionPool(host='api.datosabiertos.enacom.gob.ar', port=443): Max retries exceeded with url: /api/v2/datastreams/ACCES-A-INTER-FIJO-16249/data.csv/?auth_key=LSFmHDwHEj7bRMgG7ILOUqopmWHxg7W9XTqj5WCV (Caused by ConnectTimeoutError(<urllib3.connection.HTTPSConnection object at 0x00000190268D4CA0>, 'Connection to api.datosabiertos.enacom.gob.ar timed out. (connect timeout=None)'))"
     ]
    }
   ],
   "source": [
    "#9\n",
    "url10='http://api.datosabiertos.enacom.gob.ar/api/v2/datastreams/ACCES-A-INTER-FIJO-16249/data.csv/?auth_key={}'.format(api)\n",
    "response=requests.get(url10)\n",
    "if response.status_code ==200:\n",
    "    result=response.content\n",
    "    arch=open(\"csv_api\\Acces_Inter_VelBajada_Localidad.csv\",\"wb\")\n",
    "    arch.write(result)\n",
    "    arch.close()"
   ]
  },
  {
   "cell_type": "code",
   "execution_count": null,
   "metadata": {},
   "outputs": [],
   "source": [
    "#10\n",
    "url10='http://api.datosabiertos.enacom.gob.ar/api/v2/datastreams/LISTA-DE-LOCAL-CON-CONEC/data.csv/?auth_key={}'.format(api)\n",
    "response=requests.get(url10)\n",
    "if response.status_code ==200:\n",
    "    result=response.content\n",
    "    arch=open(\"csv_api\\Acces_Inter_Localidades.csv\",\"wb\")\n",
    "    arch.write(result)\n",
    "    arch.close()"
   ]
  },
  {
   "cell_type": "code",
   "execution_count": 44,
   "metadata": {},
   "outputs": [],
   "source": [
    "#11\n",
    "url10='http://api.datosabiertos.enacom.gob.ar/api/v2/datastreams/CONEC-AL-SERVI-DE-INTER/data.csv/?auth_key={}'.format(api)\n",
    "response=requests.get(url10)\n",
    "if response.status_code ==200:\n",
    "    result=response.content\n",
    "    arch=open(\"csv_api\\Conectividad_Localidad.csv\",\"wb\")\n",
    "    arch.write(result)\n",
    "    arch.close()"
   ]
  },
  {
   "cell_type": "markdown",
   "metadata": {},
   "source": [
    "Se verifican los valores en cada csv"
   ]
  },
  {
   "cell_type": "markdown",
   "metadata": {},
   "source": [
    "## Los cambios los voy a hacer en SQL\n",
    "Por ahora los voy marcando y dejando señalados para saber qué cambiar en sql."
   ]
  },
  {
   "cell_type": "code",
   "execution_count": null,
   "metadata": {},
   "outputs": [
    {
     "data": {
      "text/html": [
       "<div>\n",
       "<style scoped>\n",
       "    .dataframe tbody tr th:only-of-type {\n",
       "        vertical-align: middle;\n",
       "    }\n",
       "\n",
       "    .dataframe tbody tr th {\n",
       "        vertical-align: top;\n",
       "    }\n",
       "\n",
       "    .dataframe thead th {\n",
       "        text-align: right;\n",
       "    }\n",
       "</style>\n",
       "<table border=\"1\" class=\"dataframe\">\n",
       "  <thead>\n",
       "    <tr style=\"text-align: right;\">\n",
       "      <th></th>\n",
       "      <th>Año</th>\n",
       "      <th>Trimestre</th>\n",
       "      <th>Provincia</th>\n",
       "      <th>Accesos por cada 100 hogares</th>\n",
       "    </tr>\n",
       "  </thead>\n",
       "  <tbody>\n",
       "    <tr>\n",
       "      <th>0</th>\n",
       "      <td>2022</td>\n",
       "      <td>3</td>\n",
       "      <td>Buenos Aires</td>\n",
       "      <td>78,11</td>\n",
       "    </tr>\n",
       "    <tr>\n",
       "      <th>1</th>\n",
       "      <td>2022</td>\n",
       "      <td>3</td>\n",
       "      <td>Capital Federal</td>\n",
       "      <td>122,28</td>\n",
       "    </tr>\n",
       "    <tr>\n",
       "      <th>2</th>\n",
       "      <td>2022</td>\n",
       "      <td>3</td>\n",
       "      <td>Catamarca</td>\n",
       "      <td>65,33</td>\n",
       "    </tr>\n",
       "    <tr>\n",
       "      <th>3</th>\n",
       "      <td>2022</td>\n",
       "      <td>3</td>\n",
       "      <td>Chaco</td>\n",
       "      <td>43,86</td>\n",
       "    </tr>\n",
       "    <tr>\n",
       "      <th>4</th>\n",
       "      <td>2022</td>\n",
       "      <td>3</td>\n",
       "      <td>Chubut</td>\n",
       "      <td>84,38</td>\n",
       "    </tr>\n",
       "  </tbody>\n",
       "</table>\n",
       "</div>"
      ],
      "text/plain": [
       "    Año  Trimestre        Provincia Accesos por cada 100 hogares\n",
       "0  2022          3     Buenos Aires                        78,11\n",
       "1  2022          3  Capital Federal                       122,28\n",
       "2  2022          3        Catamarca                        65,33\n",
       "3  2022          3            Chaco                        43,86\n",
       "4  2022          3           Chubut                        84,38"
      ]
     },
     "execution_count": 100,
     "metadata": {},
     "output_type": "execute_result"
    }
   ],
   "source": [
    "#1\n",
    "pd.read_csv(\"csv_api\\Penet_Inter_PROV_100HOG.csv\").head(5)"
   ]
  },
  {
   "cell_type": "code",
   "execution_count": null,
   "metadata": {},
   "outputs": [
    {
     "name": "stdout",
     "output_type": "stream",
     "text": [
      "<class 'pandas.core.frame.DataFrame'>\n",
      "RangeIndex: 840 entries, 0 to 839\n",
      "Data columns (total 4 columns):\n",
      " #   Column                        Non-Null Count  Dtype \n",
      "---  ------                        --------------  ----- \n",
      " 0   Año                           840 non-null    int64 \n",
      " 1   Trimestre                     840 non-null    int64 \n",
      " 2   Provincia                     840 non-null    object\n",
      " 3   Accesos por cada 100 hogares  840 non-null    object\n",
      "dtypes: int64(2), object(2)\n",
      "memory usage: 26.4+ KB\n"
     ]
    }
   ],
   "source": [
    "pd.read_csv(\"csv_api\\Penet_Inter_PROV_100HOG.csv\").info()"
   ]
  },
  {
   "cell_type": "code",
   "execution_count": null,
   "metadata": {},
   "outputs": [
    {
     "data": {
      "text/plain": [
       "Año                             0\n",
       "Trimestre                       0\n",
       "Provincia                       0\n",
       "Accesos por cada 100 hogares    0\n",
       "dtype: int64"
      ]
     },
     "execution_count": 102,
     "metadata": {},
     "output_type": "execute_result"
    }
   ],
   "source": [
    "pd.read_csv(\"csv_api\\Penet_Inter_PROV_100HOG.csv\").isna().sum()"
   ]
  },
  {
   "cell_type": "code",
   "execution_count": null,
   "metadata": {},
   "outputs": [
    {
     "data": {
      "text/html": [
       "<div>\n",
       "<style scoped>\n",
       "    .dataframe tbody tr th:only-of-type {\n",
       "        vertical-align: middle;\n",
       "    }\n",
       "\n",
       "    .dataframe tbody tr th {\n",
       "        vertical-align: top;\n",
       "    }\n",
       "\n",
       "    .dataframe thead th {\n",
       "        text-align: right;\n",
       "    }\n",
       "</style>\n",
       "<table border=\"1\" class=\"dataframe\">\n",
       "  <thead>\n",
       "    <tr style=\"text-align: right;\">\n",
       "      <th></th>\n",
       "      <th>Año</th>\n",
       "      <th>Trimestre</th>\n",
       "    </tr>\n",
       "  </thead>\n",
       "  <tbody>\n",
       "    <tr>\n",
       "      <th>count</th>\n",
       "      <td>840.000000</td>\n",
       "      <td>840.000000</td>\n",
       "    </tr>\n",
       "    <tr>\n",
       "      <th>mean</th>\n",
       "      <td>2017.885714</td>\n",
       "      <td>2.457143</td>\n",
       "    </tr>\n",
       "    <tr>\n",
       "      <th>std</th>\n",
       "      <td>2.528745</td>\n",
       "      <td>1.105009</td>\n",
       "    </tr>\n",
       "    <tr>\n",
       "      <th>min</th>\n",
       "      <td>2014.000000</td>\n",
       "      <td>1.000000</td>\n",
       "    </tr>\n",
       "    <tr>\n",
       "      <th>25%</th>\n",
       "      <td>2016.000000</td>\n",
       "      <td>1.000000</td>\n",
       "    </tr>\n",
       "    <tr>\n",
       "      <th>50%</th>\n",
       "      <td>2018.000000</td>\n",
       "      <td>2.000000</td>\n",
       "    </tr>\n",
       "    <tr>\n",
       "      <th>75%</th>\n",
       "      <td>2020.000000</td>\n",
       "      <td>3.000000</td>\n",
       "    </tr>\n",
       "    <tr>\n",
       "      <th>max</th>\n",
       "      <td>2022.000000</td>\n",
       "      <td>4.000000</td>\n",
       "    </tr>\n",
       "  </tbody>\n",
       "</table>\n",
       "</div>"
      ],
      "text/plain": [
       "               Año   Trimestre\n",
       "count   840.000000  840.000000\n",
       "mean   2017.885714    2.457143\n",
       "std       2.528745    1.105009\n",
       "min    2014.000000    1.000000\n",
       "25%    2016.000000    1.000000\n",
       "50%    2018.000000    2.000000\n",
       "75%    2020.000000    3.000000\n",
       "max    2022.000000    4.000000"
      ]
     },
     "execution_count": 103,
     "metadata": {},
     "output_type": "execute_result"
    }
   ],
   "source": [
    "pd.read_csv(\"csv_api\\Penet_Inter_PROV_100HOG.csv\").describe()"
   ]
  },
  {
   "cell_type": "markdown",
   "metadata": {},
   "source": [
    "### Hay que cambiar la \",\" por un \".\" asi se puede poner en tipo float."
   ]
  },
  {
   "cell_type": "markdown",
   "metadata": {},
   "source": [
    "Conectividad_Localidad.csv<br>\n",
    "Acces_Inter_Localidades.csv<br>\n",
    "Acces_Inter_VelBajada_Localidad.csv<br>\n",
    "Acces_Inter_Prov_Vel.csv<br>\n",
    "Acces_Banda_Ancha_Angosta_Provincia.csv<br>\n",
    "csv_api\\Penet_Inter_PROV_100HOG.csv"
   ]
  },
  {
   "cell_type": "code",
   "execution_count": null,
   "metadata": {},
   "outputs": [
    {
     "data": {
      "text/html": [
       "<div>\n",
       "<style scoped>\n",
       "    .dataframe tbody tr th:only-of-type {\n",
       "        vertical-align: middle;\n",
       "    }\n",
       "\n",
       "    .dataframe tbody tr th {\n",
       "        vertical-align: top;\n",
       "    }\n",
       "\n",
       "    .dataframe thead th {\n",
       "        text-align: right;\n",
       "    }\n",
       "</style>\n",
       "<table border=\"1\" class=\"dataframe\">\n",
       "  <thead>\n",
       "    <tr style=\"text-align: right;\">\n",
       "      <th></th>\n",
       "      <th>Año</th>\n",
       "      <th>Trimestre</th>\n",
       "      <th>Accesos por cada 100 hogares</th>\n",
       "      <th>Accesos por cada 100 hab</th>\n",
       "      <th>Periodo</th>\n",
       "    </tr>\n",
       "  </thead>\n",
       "  <tbody>\n",
       "    <tr>\n",
       "      <th>0</th>\n",
       "      <td>2022</td>\n",
       "      <td>3</td>\n",
       "      <td>76,64</td>\n",
       "      <td>23,95</td>\n",
       "      <td>Jul-Sept 2022</td>\n",
       "    </tr>\n",
       "    <tr>\n",
       "      <th>1</th>\n",
       "      <td>2022</td>\n",
       "      <td>2</td>\n",
       "      <td>75,97</td>\n",
       "      <td>23,72</td>\n",
       "      <td>Abr-Jun 2022</td>\n",
       "    </tr>\n",
       "    <tr>\n",
       "      <th>2</th>\n",
       "      <td>2022</td>\n",
       "      <td>1</td>\n",
       "      <td>73,88</td>\n",
       "      <td>23,05</td>\n",
       "      <td>Ene-Mar 2022</td>\n",
       "    </tr>\n",
       "    <tr>\n",
       "      <th>3</th>\n",
       "      <td>2021</td>\n",
       "      <td>4</td>\n",
       "      <td>73,18</td>\n",
       "      <td>22,81</td>\n",
       "      <td>Oct-Dic 2021</td>\n",
       "    </tr>\n",
       "    <tr>\n",
       "      <th>4</th>\n",
       "      <td>2021</td>\n",
       "      <td>3</td>\n",
       "      <td>70,58</td>\n",
       "      <td>21,98</td>\n",
       "      <td>Jul-Sept 2021</td>\n",
       "    </tr>\n",
       "  </tbody>\n",
       "</table>\n",
       "</div>"
      ],
      "text/plain": [
       "    Año  Trimestre Accesos por cada 100 hogares Accesos por cada 100 hab  \\\n",
       "0  2022          3                        76,64                    23,95   \n",
       "1  2022          2                        75,97                    23,72   \n",
       "2  2022          1                        73,88                    23,05   \n",
       "3  2021          4                        73,18                    22,81   \n",
       "4  2021          3                        70,58                    21,98   \n",
       "\n",
       "         Periodo  \n",
       "0  Jul-Sept 2022  \n",
       "1   Abr-Jun 2022  \n",
       "2   Ene-Mar 2022  \n",
       "3   Oct-Dic 2021  \n",
       "4  Jul-Sept 2021  "
      ]
     },
     "execution_count": 104,
     "metadata": {},
     "output_type": "execute_result"
    }
   ],
   "source": [
    "#2\n",
    "pd.read_csv(\"csv_api\\Penet_Inter_Nac.csv\").head(5)"
   ]
  },
  {
   "cell_type": "code",
   "execution_count": null,
   "metadata": {},
   "outputs": [
    {
     "name": "stdout",
     "output_type": "stream",
     "text": [
      "<class 'pandas.core.frame.DataFrame'>\n",
      "RangeIndex: 35 entries, 0 to 34\n",
      "Data columns (total 5 columns):\n",
      " #   Column                        Non-Null Count  Dtype \n",
      "---  ------                        --------------  ----- \n",
      " 0   Año                           35 non-null     int64 \n",
      " 1   Trimestre                     35 non-null     int64 \n",
      " 2   Accesos por cada 100 hogares  35 non-null     object\n",
      " 3   Accesos por cada 100 hab      35 non-null     object\n",
      " 4   Periodo                       35 non-null     object\n",
      "dtypes: int64(2), object(3)\n",
      "memory usage: 1.5+ KB\n"
     ]
    }
   ],
   "source": [
    "pd.read_csv(\"csv_api\\Penet_Inter_Nac.csv\").info()"
   ]
  },
  {
   "cell_type": "code",
   "execution_count": null,
   "metadata": {},
   "outputs": [
    {
     "data": {
      "text/plain": [
       "Año                             0\n",
       "Trimestre                       0\n",
       "Accesos por cada 100 hogares    0\n",
       "Accesos por cada 100 hab        0\n",
       "Periodo                         0\n",
       "dtype: int64"
      ]
     },
     "execution_count": 106,
     "metadata": {},
     "output_type": "execute_result"
    }
   ],
   "source": [
    "pd.read_csv(\"csv_api\\Penet_Inter_Nac.csv\").isna().sum()"
   ]
  },
  {
   "cell_type": "code",
   "execution_count": null,
   "metadata": {},
   "outputs": [
    {
     "data": {
      "text/html": [
       "<div>\n",
       "<style scoped>\n",
       "    .dataframe tbody tr th:only-of-type {\n",
       "        vertical-align: middle;\n",
       "    }\n",
       "\n",
       "    .dataframe tbody tr th {\n",
       "        vertical-align: top;\n",
       "    }\n",
       "\n",
       "    .dataframe thead th {\n",
       "        text-align: right;\n",
       "    }\n",
       "</style>\n",
       "<table border=\"1\" class=\"dataframe\">\n",
       "  <thead>\n",
       "    <tr style=\"text-align: right;\">\n",
       "      <th></th>\n",
       "      <th>Año</th>\n",
       "      <th>Trimestre</th>\n",
       "    </tr>\n",
       "  </thead>\n",
       "  <tbody>\n",
       "    <tr>\n",
       "      <th>count</th>\n",
       "      <td>35.000000</td>\n",
       "      <td>35.000000</td>\n",
       "    </tr>\n",
       "    <tr>\n",
       "      <th>mean</th>\n",
       "      <td>2017.885714</td>\n",
       "      <td>2.457143</td>\n",
       "    </tr>\n",
       "    <tr>\n",
       "      <th>std</th>\n",
       "      <td>2.564135</td>\n",
       "      <td>1.120474</td>\n",
       "    </tr>\n",
       "    <tr>\n",
       "      <th>min</th>\n",
       "      <td>2014.000000</td>\n",
       "      <td>1.000000</td>\n",
       "    </tr>\n",
       "    <tr>\n",
       "      <th>25%</th>\n",
       "      <td>2016.000000</td>\n",
       "      <td>1.500000</td>\n",
       "    </tr>\n",
       "    <tr>\n",
       "      <th>50%</th>\n",
       "      <td>2018.000000</td>\n",
       "      <td>2.000000</td>\n",
       "    </tr>\n",
       "    <tr>\n",
       "      <th>75%</th>\n",
       "      <td>2020.000000</td>\n",
       "      <td>3.000000</td>\n",
       "    </tr>\n",
       "    <tr>\n",
       "      <th>max</th>\n",
       "      <td>2022.000000</td>\n",
       "      <td>4.000000</td>\n",
       "    </tr>\n",
       "  </tbody>\n",
       "</table>\n",
       "</div>"
      ],
      "text/plain": [
       "               Año  Trimestre\n",
       "count    35.000000  35.000000\n",
       "mean   2017.885714   2.457143\n",
       "std       2.564135   1.120474\n",
       "min    2014.000000   1.000000\n",
       "25%    2016.000000   1.500000\n",
       "50%    2018.000000   2.000000\n",
       "75%    2020.000000   3.000000\n",
       "max    2022.000000   4.000000"
      ]
     },
     "execution_count": 107,
     "metadata": {},
     "output_type": "execute_result"
    }
   ],
   "source": [
    "pd.read_csv(\"csv_api\\Penet_Inter_Nac.csv\").describe()"
   ]
  },
  {
   "cell_type": "code",
   "execution_count": null,
   "metadata": {},
   "outputs": [
    {
     "data": {
      "text/html": [
       "<div>\n",
       "<style scoped>\n",
       "    .dataframe tbody tr th:only-of-type {\n",
       "        vertical-align: middle;\n",
       "    }\n",
       "\n",
       "    .dataframe tbody tr th {\n",
       "        vertical-align: top;\n",
       "    }\n",
       "\n",
       "    .dataframe thead th {\n",
       "        text-align: right;\n",
       "    }\n",
       "</style>\n",
       "<table border=\"1\" class=\"dataframe\">\n",
       "  <thead>\n",
       "    <tr style=\"text-align: right;\">\n",
       "      <th></th>\n",
       "      <th>Año</th>\n",
       "      <th>Trimestre</th>\n",
       "      <th>Banda ancha fija</th>\n",
       "      <th>Dial up</th>\n",
       "      <th>Total</th>\n",
       "      <th>Periodo</th>\n",
       "    </tr>\n",
       "  </thead>\n",
       "  <tbody>\n",
       "    <tr>\n",
       "      <th>0</th>\n",
       "      <td>2022</td>\n",
       "      <td>3</td>\n",
       "      <td>11.078.691</td>\n",
       "      <td>12.437</td>\n",
       "      <td>11.091.128</td>\n",
       "      <td>Jul-Sept 2022</td>\n",
       "    </tr>\n",
       "    <tr>\n",
       "      <th>1</th>\n",
       "      <td>2022</td>\n",
       "      <td>2</td>\n",
       "      <td>10.946.248</td>\n",
       "      <td>12.436</td>\n",
       "      <td>10.958.684</td>\n",
       "      <td>Abr-Jun 2022</td>\n",
       "    </tr>\n",
       "    <tr>\n",
       "      <th>2</th>\n",
       "      <td>2022</td>\n",
       "      <td>1</td>\n",
       "      <td>10.611.390</td>\n",
       "      <td>12.619</td>\n",
       "      <td>10.624.009</td>\n",
       "      <td>Ene-Mar 2022</td>\n",
       "    </tr>\n",
       "    <tr>\n",
       "      <th>3</th>\n",
       "      <td>2021</td>\n",
       "      <td>4</td>\n",
       "      <td>10.476.933</td>\n",
       "      <td>12.861</td>\n",
       "      <td>10.489.794</td>\n",
       "      <td>Oct-Dic 2021</td>\n",
       "    </tr>\n",
       "    <tr>\n",
       "      <th>4</th>\n",
       "      <td>2021</td>\n",
       "      <td>3</td>\n",
       "      <td>10.075.184</td>\n",
       "      <td>10.357</td>\n",
       "      <td>10.085.541</td>\n",
       "      <td>Jul-Sept 2021</td>\n",
       "    </tr>\n",
       "  </tbody>\n",
       "</table>\n",
       "</div>"
      ],
      "text/plain": [
       "    Año  Trimestre Banda ancha fija  Dial up       Total        Periodo\n",
       "0  2022          3       11.078.691   12.437  11.091.128  Jul-Sept 2022\n",
       "1  2022          2       10.946.248   12.436  10.958.684   Abr-Jun 2022\n",
       "2  2022          1       10.611.390   12.619  10.624.009   Ene-Mar 2022\n",
       "3  2021          4       10.476.933   12.861  10.489.794   Oct-Dic 2021\n",
       "4  2021          3       10.075.184   10.357  10.085.541  Jul-Sept 2021"
      ]
     },
     "execution_count": 108,
     "metadata": {},
     "output_type": "execute_result"
    }
   ],
   "source": [
    "#3\n",
    "pd.read_csv(\"csv_api\\Acces_Banda_Ancha_Angosta_Nac.csv\").head(5)"
   ]
  },
  {
   "cell_type": "code",
   "execution_count": null,
   "metadata": {},
   "outputs": [
    {
     "name": "stdout",
     "output_type": "stream",
     "text": [
      "<class 'pandas.core.frame.DataFrame'>\n",
      "RangeIndex: 35 entries, 0 to 34\n",
      "Data columns (total 6 columns):\n",
      " #   Column            Non-Null Count  Dtype  \n",
      "---  ------            --------------  -----  \n",
      " 0   Año               35 non-null     int64  \n",
      " 1   Trimestre         35 non-null     int64  \n",
      " 2   Banda ancha fija  35 non-null     object \n",
      " 3   Dial up           35 non-null     float64\n",
      " 4   Total             35 non-null     object \n",
      " 5   Periodo           35 non-null     object \n",
      "dtypes: float64(1), int64(2), object(3)\n",
      "memory usage: 1.8+ KB\n"
     ]
    }
   ],
   "source": [
    "pd.read_csv(\"csv_api\\Acces_Banda_Ancha_Angosta_Nac.csv\").info()"
   ]
  },
  {
   "cell_type": "code",
   "execution_count": null,
   "metadata": {},
   "outputs": [
    {
     "data": {
      "text/plain": [
       "Año                 0\n",
       "Trimestre           0\n",
       "Banda ancha fija    0\n",
       "Dial up             0\n",
       "Total               0\n",
       "Periodo             0\n",
       "dtype: int64"
      ]
     },
     "execution_count": 110,
     "metadata": {},
     "output_type": "execute_result"
    }
   ],
   "source": [
    "pd.read_csv(\"csv_api\\Acces_Banda_Ancha_Angosta_Nac.csv\").isna().sum()"
   ]
  },
  {
   "cell_type": "code",
   "execution_count": null,
   "metadata": {},
   "outputs": [
    {
     "data": {
      "text/html": [
       "<div>\n",
       "<style scoped>\n",
       "    .dataframe tbody tr th:only-of-type {\n",
       "        vertical-align: middle;\n",
       "    }\n",
       "\n",
       "    .dataframe tbody tr th {\n",
       "        vertical-align: top;\n",
       "    }\n",
       "\n",
       "    .dataframe thead th {\n",
       "        text-align: right;\n",
       "    }\n",
       "</style>\n",
       "<table border=\"1\" class=\"dataframe\">\n",
       "  <thead>\n",
       "    <tr style=\"text-align: right;\">\n",
       "      <th></th>\n",
       "      <th>Año</th>\n",
       "      <th>Trimestre</th>\n",
       "      <th>Dial up</th>\n",
       "    </tr>\n",
       "  </thead>\n",
       "  <tbody>\n",
       "    <tr>\n",
       "      <th>count</th>\n",
       "      <td>35.000000</td>\n",
       "      <td>35.000000</td>\n",
       "      <td>35.000000</td>\n",
       "    </tr>\n",
       "    <tr>\n",
       "      <th>mean</th>\n",
       "      <td>2017.885714</td>\n",
       "      <td>2.457143</td>\n",
       "      <td>23.383371</td>\n",
       "    </tr>\n",
       "    <tr>\n",
       "      <th>std</th>\n",
       "      <td>2.564135</td>\n",
       "      <td>1.120474</td>\n",
       "      <td>10.087397</td>\n",
       "    </tr>\n",
       "    <tr>\n",
       "      <th>min</th>\n",
       "      <td>2014.000000</td>\n",
       "      <td>1.000000</td>\n",
       "      <td>9.991000</td>\n",
       "    </tr>\n",
       "    <tr>\n",
       "      <th>25%</th>\n",
       "      <td>2016.000000</td>\n",
       "      <td>1.500000</td>\n",
       "      <td>12.436500</td>\n",
       "    </tr>\n",
       "    <tr>\n",
       "      <th>50%</th>\n",
       "      <td>2018.000000</td>\n",
       "      <td>2.000000</td>\n",
       "      <td>26.911000</td>\n",
       "    </tr>\n",
       "    <tr>\n",
       "      <th>75%</th>\n",
       "      <td>2020.000000</td>\n",
       "      <td>3.000000</td>\n",
       "      <td>32.508500</td>\n",
       "    </tr>\n",
       "    <tr>\n",
       "      <th>max</th>\n",
       "      <td>2022.000000</td>\n",
       "      <td>4.000000</td>\n",
       "      <td>39.324000</td>\n",
       "    </tr>\n",
       "  </tbody>\n",
       "</table>\n",
       "</div>"
      ],
      "text/plain": [
       "               Año  Trimestre    Dial up\n",
       "count    35.000000  35.000000  35.000000\n",
       "mean   2017.885714   2.457143  23.383371\n",
       "std       2.564135   1.120474  10.087397\n",
       "min    2014.000000   1.000000   9.991000\n",
       "25%    2016.000000   1.500000  12.436500\n",
       "50%    2018.000000   2.000000  26.911000\n",
       "75%    2020.000000   3.000000  32.508500\n",
       "max    2022.000000   4.000000  39.324000"
      ]
     },
     "execution_count": 111,
     "metadata": {},
     "output_type": "execute_result"
    }
   ],
   "source": [
    "pd.read_csv(\"csv_api\\Acces_Banda_Ancha_Angosta_Nac.csv\").describe()"
   ]
  },
  {
   "cell_type": "code",
   "execution_count": null,
   "metadata": {},
   "outputs": [
    {
     "data": {
      "text/html": [
       "<div>\n",
       "<style scoped>\n",
       "    .dataframe tbody tr th:only-of-type {\n",
       "        vertical-align: middle;\n",
       "    }\n",
       "\n",
       "    .dataframe tbody tr th {\n",
       "        vertical-align: top;\n",
       "    }\n",
       "\n",
       "    .dataframe thead th {\n",
       "        text-align: right;\n",
       "    }\n",
       "</style>\n",
       "<table border=\"1\" class=\"dataframe\">\n",
       "  <thead>\n",
       "    <tr style=\"text-align: right;\">\n",
       "      <th></th>\n",
       "      <th>Año</th>\n",
       "      <th>Trimestre</th>\n",
       "      <th>Provincia</th>\n",
       "      <th>Banda ancha fija</th>\n",
       "      <th>Dial up</th>\n",
       "      <th>Total</th>\n",
       "    </tr>\n",
       "  </thead>\n",
       "  <tbody>\n",
       "    <tr>\n",
       "      <th>0</th>\n",
       "      <td>2022</td>\n",
       "      <td>3</td>\n",
       "      <td>Buenos Aires</td>\n",
       "      <td>4.715.469</td>\n",
       "      <td>6.199</td>\n",
       "      <td>4.721.668</td>\n",
       "    </tr>\n",
       "    <tr>\n",
       "      <th>1</th>\n",
       "      <td>2022</td>\n",
       "      <td>3</td>\n",
       "      <td>Capital Federal</td>\n",
       "      <td>1.545.534</td>\n",
       "      <td>2.145</td>\n",
       "      <td>1.547.679</td>\n",
       "    </tr>\n",
       "    <tr>\n",
       "      <th>2</th>\n",
       "      <td>2022</td>\n",
       "      <td>3</td>\n",
       "      <td>Catamarca</td>\n",
       "      <td>70.292</td>\n",
       "      <td>1</td>\n",
       "      <td>70.293</td>\n",
       "    </tr>\n",
       "    <tr>\n",
       "      <th>3</th>\n",
       "      <td>2022</td>\n",
       "      <td>3</td>\n",
       "      <td>Chaco</td>\n",
       "      <td>144.141</td>\n",
       "      <td>5</td>\n",
       "      <td>144.146</td>\n",
       "    </tr>\n",
       "    <tr>\n",
       "      <th>4</th>\n",
       "      <td>2022</td>\n",
       "      <td>3</td>\n",
       "      <td>Chubut</td>\n",
       "      <td>164.874</td>\n",
       "      <td>904</td>\n",
       "      <td>165.778</td>\n",
       "    </tr>\n",
       "  </tbody>\n",
       "</table>\n",
       "</div>"
      ],
      "text/plain": [
       "    Año  Trimestre        Provincia Banda ancha fija Dial up      Total\n",
       "0  2022          3     Buenos Aires        4.715.469   6.199  4.721.668\n",
       "1  2022          3  Capital Federal        1.545.534   2.145  1.547.679\n",
       "2  2022          3        Catamarca           70.292       1     70.293\n",
       "3  2022          3            Chaco          144.141       5    144.146\n",
       "4  2022          3           Chubut          164.874     904    165.778"
      ]
     },
     "execution_count": 112,
     "metadata": {},
     "output_type": "execute_result"
    }
   ],
   "source": [
    "#4\n",
    "pd.read_csv(\"csv_api\\Acces_Banda_Ancha_Angosta_Provincia.csv\").head(5)"
   ]
  },
  {
   "cell_type": "code",
   "execution_count": null,
   "metadata": {},
   "outputs": [
    {
     "data": {
      "text/plain": [
       "str"
      ]
     },
     "execution_count": 3,
     "metadata": {},
     "output_type": "execute_result"
    }
   ],
   "source": [
    "type(pd.read_csv(\"csv_api\\Acces_Banda_Ancha_Angosta_Provincia.csv\")['Banda ancha fija'][0])"
   ]
  },
  {
   "cell_type": "code",
   "execution_count": null,
   "metadata": {},
   "outputs": [
    {
     "name": "stdout",
     "output_type": "stream",
     "text": [
      "<class 'pandas.core.frame.DataFrame'>\n",
      "RangeIndex: 840 entries, 0 to 839\n",
      "Data columns (total 6 columns):\n",
      " #   Column            Non-Null Count  Dtype \n",
      "---  ------            --------------  ----- \n",
      " 0   Año               840 non-null    int64 \n",
      " 1   Trimestre         840 non-null    int64 \n",
      " 2   Provincia         840 non-null    object\n",
      " 3   Banda ancha fija  840 non-null    object\n",
      " 4   Dial up           838 non-null    object\n",
      " 5   Total             840 non-null    object\n",
      "dtypes: int64(2), object(4)\n",
      "memory usage: 39.5+ KB\n"
     ]
    }
   ],
   "source": [
    "pd.read_csv(\"csv_api\\Acces_Banda_Ancha_Angosta_Provincia.csv\").info()"
   ]
  },
  {
   "cell_type": "markdown",
   "metadata": {},
   "source": [
    "### Revisar ese valor de nulos"
   ]
  },
  {
   "cell_type": "code",
   "execution_count": null,
   "metadata": {},
   "outputs": [
    {
     "data": {
      "text/plain": [
       "Año                 0\n",
       "Trimestre           0\n",
       "Provincia           0\n",
       "Banda ancha fija    0\n",
       "Dial up             2\n",
       "Total               0\n",
       "dtype: int64"
      ]
     },
     "execution_count": 114,
     "metadata": {},
     "output_type": "execute_result"
    }
   ],
   "source": [
    "pd.read_csv(\"csv_api\\Acces_Banda_Ancha_Angosta_Provincia.csv\").isna().sum()"
   ]
  },
  {
   "cell_type": "code",
   "execution_count": null,
   "metadata": {},
   "outputs": [
    {
     "data": {
      "text/html": [
       "<div>\n",
       "<style scoped>\n",
       "    .dataframe tbody tr th:only-of-type {\n",
       "        vertical-align: middle;\n",
       "    }\n",
       "\n",
       "    .dataframe tbody tr th {\n",
       "        vertical-align: top;\n",
       "    }\n",
       "\n",
       "    .dataframe thead th {\n",
       "        text-align: right;\n",
       "    }\n",
       "</style>\n",
       "<table border=\"1\" class=\"dataframe\">\n",
       "  <thead>\n",
       "    <tr style=\"text-align: right;\">\n",
       "      <th></th>\n",
       "      <th>Año</th>\n",
       "      <th>Trimestre</th>\n",
       "    </tr>\n",
       "  </thead>\n",
       "  <tbody>\n",
       "    <tr>\n",
       "      <th>count</th>\n",
       "      <td>840.000000</td>\n",
       "      <td>840.000000</td>\n",
       "    </tr>\n",
       "    <tr>\n",
       "      <th>mean</th>\n",
       "      <td>2017.885714</td>\n",
       "      <td>2.457143</td>\n",
       "    </tr>\n",
       "    <tr>\n",
       "      <th>std</th>\n",
       "      <td>2.528745</td>\n",
       "      <td>1.105009</td>\n",
       "    </tr>\n",
       "    <tr>\n",
       "      <th>min</th>\n",
       "      <td>2014.000000</td>\n",
       "      <td>1.000000</td>\n",
       "    </tr>\n",
       "    <tr>\n",
       "      <th>25%</th>\n",
       "      <td>2016.000000</td>\n",
       "      <td>1.000000</td>\n",
       "    </tr>\n",
       "    <tr>\n",
       "      <th>50%</th>\n",
       "      <td>2018.000000</td>\n",
       "      <td>2.000000</td>\n",
       "    </tr>\n",
       "    <tr>\n",
       "      <th>75%</th>\n",
       "      <td>2020.000000</td>\n",
       "      <td>3.000000</td>\n",
       "    </tr>\n",
       "    <tr>\n",
       "      <th>max</th>\n",
       "      <td>2022.000000</td>\n",
       "      <td>4.000000</td>\n",
       "    </tr>\n",
       "  </tbody>\n",
       "</table>\n",
       "</div>"
      ],
      "text/plain": [
       "               Año   Trimestre\n",
       "count   840.000000  840.000000\n",
       "mean   2017.885714    2.457143\n",
       "std       2.528745    1.105009\n",
       "min    2014.000000    1.000000\n",
       "25%    2016.000000    1.000000\n",
       "50%    2018.000000    2.000000\n",
       "75%    2020.000000    3.000000\n",
       "max    2022.000000    4.000000"
      ]
     },
     "execution_count": 115,
     "metadata": {},
     "output_type": "execute_result"
    }
   ],
   "source": [
    "pd.read_csv(\"csv_api\\Acces_Banda_Ancha_Angosta_Provincia.csv\").describe()"
   ]
  },
  {
   "cell_type": "code",
   "execution_count": null,
   "metadata": {},
   "outputs": [
    {
     "data": {
      "text/html": [
       "<div>\n",
       "<style scoped>\n",
       "    .dataframe tbody tr th:only-of-type {\n",
       "        vertical-align: middle;\n",
       "    }\n",
       "\n",
       "    .dataframe tbody tr th {\n",
       "        vertical-align: top;\n",
       "    }\n",
       "\n",
       "    .dataframe thead th {\n",
       "        text-align: right;\n",
       "    }\n",
       "</style>\n",
       "<table border=\"1\" class=\"dataframe\">\n",
       "  <thead>\n",
       "    <tr style=\"text-align: right;\">\n",
       "      <th></th>\n",
       "      <th>Año</th>\n",
       "      <th>Trimestre</th>\n",
       "      <th>ADSL</th>\n",
       "      <th>Cablemodem</th>\n",
       "      <th>Fibra óptica</th>\n",
       "      <th>Wireless</th>\n",
       "      <th>Otros</th>\n",
       "      <th>Total</th>\n",
       "      <th>Periodo</th>\n",
       "    </tr>\n",
       "  </thead>\n",
       "  <tbody>\n",
       "    <tr>\n",
       "      <th>0</th>\n",
       "      <td>2022</td>\n",
       "      <td>3</td>\n",
       "      <td>1.395.277</td>\n",
       "      <td>6.031.970</td>\n",
       "      <td>2.871.541</td>\n",
       "      <td>557.110</td>\n",
       "      <td>235.230</td>\n",
       "      <td>11.091.128</td>\n",
       "      <td>Jul-Sept 2022</td>\n",
       "    </tr>\n",
       "    <tr>\n",
       "      <th>1</th>\n",
       "      <td>2022</td>\n",
       "      <td>2</td>\n",
       "      <td>1.468.333</td>\n",
       "      <td>5.979.214</td>\n",
       "      <td>2.723.285</td>\n",
       "      <td>556.243</td>\n",
       "      <td>231.609</td>\n",
       "      <td>10.958.684</td>\n",
       "      <td>Abr-Jun 2022</td>\n",
       "    </tr>\n",
       "    <tr>\n",
       "      <th>2</th>\n",
       "      <td>2022</td>\n",
       "      <td>1</td>\n",
       "      <td>1.533.240</td>\n",
       "      <td>6.073.426</td>\n",
       "      <td>2.219.533</td>\n",
       "      <td>545.814</td>\n",
       "      <td>251.996</td>\n",
       "      <td>10.624.009</td>\n",
       "      <td>Ene-Mar 2022</td>\n",
       "    </tr>\n",
       "    <tr>\n",
       "      <th>3</th>\n",
       "      <td>2021</td>\n",
       "      <td>4</td>\n",
       "      <td>1.657.615</td>\n",
       "      <td>5.984.240</td>\n",
       "      <td>2.072.236</td>\n",
       "      <td>523.107</td>\n",
       "      <td>252.596</td>\n",
       "      <td>10.489.794</td>\n",
       "      <td>Oct-Dic 2021</td>\n",
       "    </tr>\n",
       "    <tr>\n",
       "      <th>4</th>\n",
       "      <td>2021</td>\n",
       "      <td>3</td>\n",
       "      <td>1.950.631</td>\n",
       "      <td>5.826.257</td>\n",
       "      <td>1.566.048</td>\n",
       "      <td>492.415</td>\n",
       "      <td>250.190</td>\n",
       "      <td>10.085.541</td>\n",
       "      <td>Jul-Sept 2021</td>\n",
       "    </tr>\n",
       "  </tbody>\n",
       "</table>\n",
       "</div>"
      ],
      "text/plain": [
       "    Año  Trimestre       ADSL Cablemodem Fibra óptica  Wireless    Otros  \\\n",
       "0  2022          3  1.395.277  6.031.970    2.871.541   557.110  235.230   \n",
       "1  2022          2  1.468.333  5.979.214    2.723.285   556.243  231.609   \n",
       "2  2022          1  1.533.240  6.073.426    2.219.533   545.814  251.996   \n",
       "3  2021          4  1.657.615  5.984.240    2.072.236   523.107  252.596   \n",
       "4  2021          3  1.950.631  5.826.257    1.566.048   492.415  250.190   \n",
       "\n",
       "        Total        Periodo  \n",
       "0  11.091.128  Jul-Sept 2022  \n",
       "1  10.958.684   Abr-Jun 2022  \n",
       "2  10.624.009   Ene-Mar 2022  \n",
       "3  10.489.794   Oct-Dic 2021  \n",
       "4  10.085.541  Jul-Sept 2021  "
      ]
     },
     "execution_count": 116,
     "metadata": {},
     "output_type": "execute_result"
    }
   ],
   "source": [
    "#5\n",
    "pd.read_csv(\"csv_api\\Acces_Inter_Tec_Nac.csv\").head(5)"
   ]
  },
  {
   "cell_type": "code",
   "execution_count": null,
   "metadata": {},
   "outputs": [
    {
     "data": {
      "text/plain": [
       "248.28002857142855"
      ]
     },
     "execution_count": 5,
     "metadata": {},
     "output_type": "execute_result"
    }
   ],
   "source": [
    "pd.read_csv(\"csv_api\\Acces_Inter_Tec_Nac.csv\")['Wireless'].mean()"
   ]
  },
  {
   "cell_type": "code",
   "execution_count": null,
   "metadata": {},
   "outputs": [
    {
     "name": "stdout",
     "output_type": "stream",
     "text": [
      "<class 'pandas.core.frame.DataFrame'>\n",
      "RangeIndex: 35 entries, 0 to 34\n",
      "Data columns (total 9 columns):\n",
      " #   Column        Non-Null Count  Dtype  \n",
      "---  ------        --------------  -----  \n",
      " 0   Año           35 non-null     int64  \n",
      " 1   Trimestre     35 non-null     int64  \n",
      " 2   ADSL          35 non-null     object \n",
      " 3   Cablemodem    35 non-null     object \n",
      " 4   Fibra óptica  35 non-null     object \n",
      " 5   Wireless      35 non-null     float64\n",
      " 6   Otros         35 non-null     float64\n",
      " 7   Total         35 non-null     object \n",
      " 8   Periodo       35 non-null     object \n",
      "dtypes: float64(2), int64(2), object(5)\n",
      "memory usage: 2.6+ KB\n"
     ]
    }
   ],
   "source": [
    "pd.read_csv(\"csv_api\\Acces_Inter_Tec_Nac.csv\").info()"
   ]
  },
  {
   "cell_type": "code",
   "execution_count": null,
   "metadata": {},
   "outputs": [
    {
     "data": {
      "text/plain": [
       "Año             0\n",
       "Trimestre       0\n",
       "ADSL            0\n",
       "Cablemodem      0\n",
       "Fibra óptica    0\n",
       "Wireless        0\n",
       "Otros           0\n",
       "Total           0\n",
       "Periodo         0\n",
       "dtype: int64"
      ]
     },
     "execution_count": 118,
     "metadata": {},
     "output_type": "execute_result"
    }
   ],
   "source": [
    "pd.read_csv(\"csv_api\\Acces_Inter_Tec_Nac.csv\").isna().sum()"
   ]
  },
  {
   "cell_type": "code",
   "execution_count": null,
   "metadata": {},
   "outputs": [
    {
     "data": {
      "text/html": [
       "<div>\n",
       "<style scoped>\n",
       "    .dataframe tbody tr th:only-of-type {\n",
       "        vertical-align: middle;\n",
       "    }\n",
       "\n",
       "    .dataframe tbody tr th {\n",
       "        vertical-align: top;\n",
       "    }\n",
       "\n",
       "    .dataframe thead th {\n",
       "        text-align: right;\n",
       "    }\n",
       "</style>\n",
       "<table border=\"1\" class=\"dataframe\">\n",
       "  <thead>\n",
       "    <tr style=\"text-align: right;\">\n",
       "      <th></th>\n",
       "      <th>Año</th>\n",
       "      <th>Trimestre</th>\n",
       "      <th>Wireless</th>\n",
       "      <th>Otros</th>\n",
       "    </tr>\n",
       "  </thead>\n",
       "  <tbody>\n",
       "    <tr>\n",
       "      <th>count</th>\n",
       "      <td>35.000000</td>\n",
       "      <td>35.000000</td>\n",
       "      <td>35.000000</td>\n",
       "      <td>35.000000</td>\n",
       "    </tr>\n",
       "    <tr>\n",
       "      <th>mean</th>\n",
       "      <td>2017.885714</td>\n",
       "      <td>2.457143</td>\n",
       "      <td>248.280029</td>\n",
       "      <td>147.431086</td>\n",
       "    </tr>\n",
       "    <tr>\n",
       "      <th>std</th>\n",
       "      <td>2.564135</td>\n",
       "      <td>1.120474</td>\n",
       "      <td>174.354293</td>\n",
       "      <td>85.868717</td>\n",
       "    </tr>\n",
       "    <tr>\n",
       "      <th>min</th>\n",
       "      <td>2014.000000</td>\n",
       "      <td>1.000000</td>\n",
       "      <td>70.749000</td>\n",
       "      <td>54.300000</td>\n",
       "    </tr>\n",
       "    <tr>\n",
       "      <th>25%</th>\n",
       "      <td>2016.000000</td>\n",
       "      <td>1.500000</td>\n",
       "      <td>85.107500</td>\n",
       "      <td>62.763500</td>\n",
       "    </tr>\n",
       "    <tr>\n",
       "      <th>50%</th>\n",
       "      <td>2018.000000</td>\n",
       "      <td>2.000000</td>\n",
       "      <td>194.267000</td>\n",
       "      <td>100.554000</td>\n",
       "    </tr>\n",
       "    <tr>\n",
       "      <th>75%</th>\n",
       "      <td>2020.000000</td>\n",
       "      <td>3.000000</td>\n",
       "      <td>394.963000</td>\n",
       "      <td>247.918500</td>\n",
       "    </tr>\n",
       "    <tr>\n",
       "      <th>max</th>\n",
       "      <td>2022.000000</td>\n",
       "      <td>4.000000</td>\n",
       "      <td>557.110000</td>\n",
       "      <td>265.328000</td>\n",
       "    </tr>\n",
       "  </tbody>\n",
       "</table>\n",
       "</div>"
      ],
      "text/plain": [
       "               Año  Trimestre    Wireless       Otros\n",
       "count    35.000000  35.000000   35.000000   35.000000\n",
       "mean   2017.885714   2.457143  248.280029  147.431086\n",
       "std       2.564135   1.120474  174.354293   85.868717\n",
       "min    2014.000000   1.000000   70.749000   54.300000\n",
       "25%    2016.000000   1.500000   85.107500   62.763500\n",
       "50%    2018.000000   2.000000  194.267000  100.554000\n",
       "75%    2020.000000   3.000000  394.963000  247.918500\n",
       "max    2022.000000   4.000000  557.110000  265.328000"
      ]
     },
     "execution_count": 119,
     "metadata": {},
     "output_type": "execute_result"
    }
   ],
   "source": [
    "pd.read_csv(\"csv_api\\Acces_Inter_Tec_Nac.csv\").describe()"
   ]
  },
  {
   "cell_type": "code",
   "execution_count": null,
   "metadata": {},
   "outputs": [
    {
     "data": {
      "text/html": [
       "<div>\n",
       "<style scoped>\n",
       "    .dataframe tbody tr th:only-of-type {\n",
       "        vertical-align: middle;\n",
       "    }\n",
       "\n",
       "    .dataframe tbody tr th {\n",
       "        vertical-align: top;\n",
       "    }\n",
       "\n",
       "    .dataframe thead th {\n",
       "        text-align: right;\n",
       "    }\n",
       "</style>\n",
       "<table border=\"1\" class=\"dataframe\">\n",
       "  <thead>\n",
       "    <tr style=\"text-align: right;\">\n",
       "      <th></th>\n",
       "      <th>Año</th>\n",
       "      <th>Trimestre</th>\n",
       "      <th>Mbps (Media de bajada)</th>\n",
       "      <th>Trimestre.1</th>\n",
       "    </tr>\n",
       "  </thead>\n",
       "  <tbody>\n",
       "    <tr>\n",
       "      <th>0</th>\n",
       "      <td>2022</td>\n",
       "      <td>3</td>\n",
       "      <td>62,46</td>\n",
       "      <td>Jul-Sept 2022</td>\n",
       "    </tr>\n",
       "    <tr>\n",
       "      <th>1</th>\n",
       "      <td>2022</td>\n",
       "      <td>2</td>\n",
       "      <td>58,44</td>\n",
       "      <td>Abr-Jun 2022</td>\n",
       "    </tr>\n",
       "    <tr>\n",
       "      <th>2</th>\n",
       "      <td>2022</td>\n",
       "      <td>1</td>\n",
       "      <td>55,11</td>\n",
       "      <td>Ene-Mar 2022</td>\n",
       "    </tr>\n",
       "    <tr>\n",
       "      <th>3</th>\n",
       "      <td>2021</td>\n",
       "      <td>4</td>\n",
       "      <td>52,34</td>\n",
       "      <td>Oct-Dic 2021</td>\n",
       "    </tr>\n",
       "    <tr>\n",
       "      <th>4</th>\n",
       "      <td>2021</td>\n",
       "      <td>3</td>\n",
       "      <td>48,46</td>\n",
       "      <td>Jul-Sept 2021</td>\n",
       "    </tr>\n",
       "  </tbody>\n",
       "</table>\n",
       "</div>"
      ],
      "text/plain": [
       "    Año  Trimestre Mbps (Media de bajada)    Trimestre.1\n",
       "0  2022          3                  62,46  Jul-Sept 2022\n",
       "1  2022          2                  58,44   Abr-Jun 2022\n",
       "2  2022          1                  55,11   Ene-Mar 2022\n",
       "3  2021          4                  52,34   Oct-Dic 2021\n",
       "4  2021          3                  48,46  Jul-Sept 2021"
      ]
     },
     "execution_count": 120,
     "metadata": {},
     "output_type": "execute_result"
    }
   ],
   "source": [
    "#6\n",
    "pd.read_csv(\"csv_api\\Vel_MedBajada_Nac.csv\").head(5)"
   ]
  },
  {
   "cell_type": "code",
   "execution_count": null,
   "metadata": {},
   "outputs": [
    {
     "name": "stdout",
     "output_type": "stream",
     "text": [
      "<class 'pandas.core.frame.DataFrame'>\n",
      "RangeIndex: 35 entries, 0 to 34\n",
      "Data columns (total 4 columns):\n",
      " #   Column                  Non-Null Count  Dtype \n",
      "---  ------                  --------------  ----- \n",
      " 0   Año                     35 non-null     int64 \n",
      " 1   Trimestre               35 non-null     int64 \n",
      " 2   Mbps (Media de bajada)  35 non-null     object\n",
      " 3   Trimestre.1             35 non-null     object\n",
      "dtypes: int64(2), object(2)\n",
      "memory usage: 1.2+ KB\n"
     ]
    }
   ],
   "source": [
    "pd.read_csv(\"csv_api\\Vel_MedBajada_Nac.csv\").info()"
   ]
  },
  {
   "cell_type": "code",
   "execution_count": null,
   "metadata": {},
   "outputs": [
    {
     "data": {
      "text/plain": [
       "Año                       0\n",
       "Trimestre                 0\n",
       "Mbps (Media de bajada)    0\n",
       "Trimestre.1               0\n",
       "dtype: int64"
      ]
     },
     "execution_count": 122,
     "metadata": {},
     "output_type": "execute_result"
    }
   ],
   "source": [
    "pd.read_csv(\"csv_api\\Vel_MedBajada_Nac.csv\").isna().sum()"
   ]
  },
  {
   "cell_type": "code",
   "execution_count": null,
   "metadata": {},
   "outputs": [
    {
     "data": {
      "text/html": [
       "<div>\n",
       "<style scoped>\n",
       "    .dataframe tbody tr th:only-of-type {\n",
       "        vertical-align: middle;\n",
       "    }\n",
       "\n",
       "    .dataframe tbody tr th {\n",
       "        vertical-align: top;\n",
       "    }\n",
       "\n",
       "    .dataframe thead th {\n",
       "        text-align: right;\n",
       "    }\n",
       "</style>\n",
       "<table border=\"1\" class=\"dataframe\">\n",
       "  <thead>\n",
       "    <tr style=\"text-align: right;\">\n",
       "      <th></th>\n",
       "      <th>Año</th>\n",
       "      <th>Trimestre</th>\n",
       "    </tr>\n",
       "  </thead>\n",
       "  <tbody>\n",
       "    <tr>\n",
       "      <th>count</th>\n",
       "      <td>35.000000</td>\n",
       "      <td>35.000000</td>\n",
       "    </tr>\n",
       "    <tr>\n",
       "      <th>mean</th>\n",
       "      <td>2017.885714</td>\n",
       "      <td>2.457143</td>\n",
       "    </tr>\n",
       "    <tr>\n",
       "      <th>std</th>\n",
       "      <td>2.564135</td>\n",
       "      <td>1.120474</td>\n",
       "    </tr>\n",
       "    <tr>\n",
       "      <th>min</th>\n",
       "      <td>2014.000000</td>\n",
       "      <td>1.000000</td>\n",
       "    </tr>\n",
       "    <tr>\n",
       "      <th>25%</th>\n",
       "      <td>2016.000000</td>\n",
       "      <td>1.500000</td>\n",
       "    </tr>\n",
       "    <tr>\n",
       "      <th>50%</th>\n",
       "      <td>2018.000000</td>\n",
       "      <td>2.000000</td>\n",
       "    </tr>\n",
       "    <tr>\n",
       "      <th>75%</th>\n",
       "      <td>2020.000000</td>\n",
       "      <td>3.000000</td>\n",
       "    </tr>\n",
       "    <tr>\n",
       "      <th>max</th>\n",
       "      <td>2022.000000</td>\n",
       "      <td>4.000000</td>\n",
       "    </tr>\n",
       "  </tbody>\n",
       "</table>\n",
       "</div>"
      ],
      "text/plain": [
       "               Año  Trimestre\n",
       "count    35.000000  35.000000\n",
       "mean   2017.885714   2.457143\n",
       "std       2.564135   1.120474\n",
       "min    2014.000000   1.000000\n",
       "25%    2016.000000   1.500000\n",
       "50%    2018.000000   2.000000\n",
       "75%    2020.000000   3.000000\n",
       "max    2022.000000   4.000000"
      ]
     },
     "execution_count": 123,
     "metadata": {},
     "output_type": "execute_result"
    }
   ],
   "source": [
    "pd.read_csv(\"csv_api\\Vel_MedBajada_Nac.csv\").describe()"
   ]
  },
  {
   "cell_type": "code",
   "execution_count": null,
   "metadata": {},
   "outputs": [
    {
     "data": {
      "text/html": [
       "<div>\n",
       "<style scoped>\n",
       "    .dataframe tbody tr th:only-of-type {\n",
       "        vertical-align: middle;\n",
       "    }\n",
       "\n",
       "    .dataframe tbody tr th {\n",
       "        vertical-align: top;\n",
       "    }\n",
       "\n",
       "    .dataframe thead th {\n",
       "        text-align: right;\n",
       "    }\n",
       "</style>\n",
       "<table border=\"1\" class=\"dataframe\">\n",
       "  <thead>\n",
       "    <tr style=\"text-align: right;\">\n",
       "      <th></th>\n",
       "      <th>Año</th>\n",
       "      <th>Trimestre</th>\n",
       "      <th>Provincia</th>\n",
       "      <th>HASTA 512 kbps</th>\n",
       "      <th>+ 512 Kbps - 1 Mbps</th>\n",
       "      <th>+ 1 Mbps - 6 Mbps</th>\n",
       "      <th>+ 6 Mbps - 10 Mbps</th>\n",
       "      <th>+ 10 Mbps - 20 Mbps</th>\n",
       "      <th>+ 20 Mbps - 30 Mbps</th>\n",
       "      <th>+ 30 Mbps</th>\n",
       "      <th>OTROS</th>\n",
       "      <th>Total</th>\n",
       "    </tr>\n",
       "  </thead>\n",
       "  <tbody>\n",
       "    <tr>\n",
       "      <th>0</th>\n",
       "      <td>2022</td>\n",
       "      <td>3</td>\n",
       "      <td>Buenos Aires</td>\n",
       "      <td>29.985</td>\n",
       "      <td>27.709</td>\n",
       "      <td>290.315</td>\n",
       "      <td>297.915</td>\n",
       "      <td>267.044</td>\n",
       "      <td>124.190</td>\n",
       "      <td>3.618.689</td>\n",
       "      <td>65.821</td>\n",
       "      <td>4.721.668</td>\n",
       "    </tr>\n",
       "    <tr>\n",
       "      <th>1</th>\n",
       "      <td>2022</td>\n",
       "      <td>3</td>\n",
       "      <td>Capital Federal</td>\n",
       "      <td>517.000</td>\n",
       "      <td>5.742</td>\n",
       "      <td>34.371</td>\n",
       "      <td>67.829</td>\n",
       "      <td>51.946</td>\n",
       "      <td>28.692</td>\n",
       "      <td>1.253.105</td>\n",
       "      <td>105.477</td>\n",
       "      <td>1.547.679</td>\n",
       "    </tr>\n",
       "    <tr>\n",
       "      <th>2</th>\n",
       "      <td>2022</td>\n",
       "      <td>3</td>\n",
       "      <td>Catamarca</td>\n",
       "      <td>71.000</td>\n",
       "      <td>384.000</td>\n",
       "      <td>3.107</td>\n",
       "      <td>5.389</td>\n",
       "      <td>5.099</td>\n",
       "      <td>3.737</td>\n",
       "      <td>50.298</td>\n",
       "      <td>2.208</td>\n",
       "      <td>70.293</td>\n",
       "    </tr>\n",
       "    <tr>\n",
       "      <th>3</th>\n",
       "      <td>2022</td>\n",
       "      <td>3</td>\n",
       "      <td>Chaco</td>\n",
       "      <td>461.000</td>\n",
       "      <td>987.000</td>\n",
       "      <td>16.782</td>\n",
       "      <td>18.938</td>\n",
       "      <td>8.049</td>\n",
       "      <td>15.828</td>\n",
       "      <td>79.390</td>\n",
       "      <td>3.711</td>\n",
       "      <td>144.146</td>\n",
       "    </tr>\n",
       "    <tr>\n",
       "      <th>4</th>\n",
       "      <td>2022</td>\n",
       "      <td>3</td>\n",
       "      <td>Chubut</td>\n",
       "      <td>109.000</td>\n",
       "      <td>1.444</td>\n",
       "      <td>45.707</td>\n",
       "      <td>30.940</td>\n",
       "      <td>34.682</td>\n",
       "      <td>15.309</td>\n",
       "      <td>17.563</td>\n",
       "      <td>20.024</td>\n",
       "      <td>165.778</td>\n",
       "    </tr>\n",
       "  </tbody>\n",
       "</table>\n",
       "</div>"
      ],
      "text/plain": [
       "    Año  Trimestre        Provincia  HASTA 512 kbps  + 512 Kbps - 1 Mbps  \\\n",
       "0  2022          3     Buenos Aires          29.985               27.709   \n",
       "1  2022          3  Capital Federal         517.000                5.742   \n",
       "2  2022          3        Catamarca          71.000              384.000   \n",
       "3  2022          3            Chaco         461.000              987.000   \n",
       "4  2022          3           Chubut         109.000                1.444   \n",
       "\n",
       "  + 1 Mbps - 6 Mbps  + 6 Mbps - 10 Mbps  + 10 Mbps - 20 Mbps  \\\n",
       "0           290.315             297.915              267.044   \n",
       "1            34.371              67.829               51.946   \n",
       "2             3.107               5.389                5.099   \n",
       "3            16.782              18.938                8.049   \n",
       "4            45.707              30.940               34.682   \n",
       "\n",
       "   + 20 Mbps - 30 Mbps  + 30 Mbps    OTROS      Total  \n",
       "0              124.190  3.618.689   65.821  4.721.668  \n",
       "1               28.692  1.253.105  105.477  1.547.679  \n",
       "2                3.737     50.298    2.208     70.293  \n",
       "3               15.828     79.390    3.711    144.146  \n",
       "4               15.309     17.563   20.024    165.778  "
      ]
     },
     "execution_count": 124,
     "metadata": {},
     "output_type": "execute_result"
    }
   ],
   "source": [
    "#7\n",
    "pd.read_csv(\"csv_api\\Acces_Inter_Prov_Vel.csv\").head(5)"
   ]
  },
  {
   "cell_type": "code",
   "execution_count": null,
   "metadata": {},
   "outputs": [
    {
     "name": "stdout",
     "output_type": "stream",
     "text": [
      "<class 'pandas.core.frame.DataFrame'>\n",
      "RangeIndex: 840 entries, 0 to 839\n",
      "Data columns (total 12 columns):\n",
      " #   Column               Non-Null Count  Dtype  \n",
      "---  ------               --------------  -----  \n",
      " 0   Año                  840 non-null    int64  \n",
      " 1   Trimestre            840 non-null    int64  \n",
      " 2   Provincia            840 non-null    object \n",
      " 3   HASTA 512 kbps       840 non-null    float64\n",
      " 4   + 512 Kbps - 1 Mbps  840 non-null    float64\n",
      " 5   + 1 Mbps - 6 Mbps    840 non-null    object \n",
      " 6   + 6 Mbps - 10 Mbps   840 non-null    float64\n",
      " 7   + 10 Mbps - 20 Mbps  840 non-null    float64\n",
      " 8   + 20 Mbps - 30 Mbps  840 non-null    float64\n",
      " 9   + 30 Mbps            840 non-null    object \n",
      " 10  OTROS                834 non-null    float64\n",
      " 11  Total                840 non-null    object \n",
      "dtypes: float64(6), int64(2), object(4)\n",
      "memory usage: 78.9+ KB\n"
     ]
    }
   ],
   "source": [
    "pd.read_csv(\"csv_api\\Acces_Inter_Prov_Vel.csv\").info()"
   ]
  },
  {
   "cell_type": "code",
   "execution_count": null,
   "metadata": {},
   "outputs": [
    {
     "data": {
      "text/plain": [
       "Año                    0\n",
       "Trimestre              0\n",
       "Provincia              0\n",
       "HASTA 512 kbps         0\n",
       "+ 512 Kbps - 1 Mbps    0\n",
       "+ 1 Mbps - 6 Mbps      0\n",
       "+ 6 Mbps - 10 Mbps     0\n",
       "+ 10 Mbps - 20 Mbps    0\n",
       "+ 20 Mbps - 30 Mbps    0\n",
       "+ 30 Mbps              0\n",
       "OTROS                  6\n",
       "Total                  0\n",
       "dtype: int64"
      ]
     },
     "execution_count": 126,
     "metadata": {},
     "output_type": "execute_result"
    }
   ],
   "source": [
    "pd.read_csv(\"csv_api\\Acces_Inter_Prov_Vel.csv\").isna().sum()"
   ]
  },
  {
   "cell_type": "code",
   "execution_count": null,
   "metadata": {},
   "outputs": [
    {
     "data": {
      "text/html": [
       "<div>\n",
       "<style scoped>\n",
       "    .dataframe tbody tr th:only-of-type {\n",
       "        vertical-align: middle;\n",
       "    }\n",
       "\n",
       "    .dataframe tbody tr th {\n",
       "        vertical-align: top;\n",
       "    }\n",
       "\n",
       "    .dataframe thead th {\n",
       "        text-align: right;\n",
       "    }\n",
       "</style>\n",
       "<table border=\"1\" class=\"dataframe\">\n",
       "  <thead>\n",
       "    <tr style=\"text-align: right;\">\n",
       "      <th></th>\n",
       "      <th>Año</th>\n",
       "      <th>Trimestre</th>\n",
       "      <th>HASTA 512 kbps</th>\n",
       "      <th>+ 512 Kbps - 1 Mbps</th>\n",
       "      <th>+ 6 Mbps - 10 Mbps</th>\n",
       "      <th>+ 10 Mbps - 20 Mbps</th>\n",
       "      <th>+ 20 Mbps - 30 Mbps</th>\n",
       "      <th>OTROS</th>\n",
       "    </tr>\n",
       "  </thead>\n",
       "  <tbody>\n",
       "    <tr>\n",
       "      <th>count</th>\n",
       "      <td>840.000000</td>\n",
       "      <td>840.000000</td>\n",
       "      <td>840.000000</td>\n",
       "      <td>840.000000</td>\n",
       "      <td>840.000000</td>\n",
       "      <td>840.000000</td>\n",
       "      <td>840.000000</td>\n",
       "      <td>834.000000</td>\n",
       "    </tr>\n",
       "    <tr>\n",
       "      <th>mean</th>\n",
       "      <td>2017.885714</td>\n",
       "      <td>2.457143</td>\n",
       "      <td>126.009998</td>\n",
       "      <td>101.790393</td>\n",
       "      <td>71.417265</td>\n",
       "      <td>79.988627</td>\n",
       "      <td>100.758158</td>\n",
       "      <td>32.937064</td>\n",
       "    </tr>\n",
       "    <tr>\n",
       "      <th>std</th>\n",
       "      <td>2.528745</td>\n",
       "      <td>1.105009</td>\n",
       "      <td>187.578607</td>\n",
       "      <td>207.396126</td>\n",
       "      <td>140.324223</td>\n",
       "      <td>170.586599</td>\n",
       "      <td>208.683467</td>\n",
       "      <td>128.937905</td>\n",
       "    </tr>\n",
       "    <tr>\n",
       "      <th>min</th>\n",
       "      <td>2014.000000</td>\n",
       "      <td>1.000000</td>\n",
       "      <td>1.007000</td>\n",
       "      <td>0.000000</td>\n",
       "      <td>0.000000</td>\n",
       "      <td>0.000000</td>\n",
       "      <td>0.000000</td>\n",
       "      <td>-1.945000</td>\n",
       "    </tr>\n",
       "    <tr>\n",
       "      <th>25%</th>\n",
       "      <td>2016.000000</td>\n",
       "      <td>1.000000</td>\n",
       "      <td>10.000000</td>\n",
       "      <td>3.362500</td>\n",
       "      <td>5.357250</td>\n",
       "      <td>4.872000</td>\n",
       "      <td>2.019000</td>\n",
       "      <td>0.000000</td>\n",
       "    </tr>\n",
       "    <tr>\n",
       "      <th>50%</th>\n",
       "      <td>2018.000000</td>\n",
       "      <td>2.000000</td>\n",
       "      <td>50.000000</td>\n",
       "      <td>8.788000</td>\n",
       "      <td>20.157000</td>\n",
       "      <td>14.965500</td>\n",
       "      <td>11.251500</td>\n",
       "      <td>0.000000</td>\n",
       "    </tr>\n",
       "    <tr>\n",
       "      <th>75%</th>\n",
       "      <td>2020.000000</td>\n",
       "      <td>3.000000</td>\n",
       "      <td>134.000000</td>\n",
       "      <td>84.340500</td>\n",
       "      <td>62.225500</td>\n",
       "      <td>55.093000</td>\n",
       "      <td>64.286250</td>\n",
       "      <td>7.497750</td>\n",
       "    </tr>\n",
       "    <tr>\n",
       "      <th>max</th>\n",
       "      <td>2022.000000</td>\n",
       "      <td>4.000000</td>\n",
       "      <td>998.000000</td>\n",
       "      <td>999.000000</td>\n",
       "      <td>917.000000</td>\n",
       "      <td>978.000000</td>\n",
       "      <td>997.000000</td>\n",
       "      <td>923.000000</td>\n",
       "    </tr>\n",
       "  </tbody>\n",
       "</table>\n",
       "</div>"
      ],
      "text/plain": [
       "               Año   Trimestre  HASTA 512 kbps  + 512 Kbps - 1 Mbps  \\\n",
       "count   840.000000  840.000000      840.000000           840.000000   \n",
       "mean   2017.885714    2.457143      126.009998           101.790393   \n",
       "std       2.528745    1.105009      187.578607           207.396126   \n",
       "min    2014.000000    1.000000        1.007000             0.000000   \n",
       "25%    2016.000000    1.000000       10.000000             3.362500   \n",
       "50%    2018.000000    2.000000       50.000000             8.788000   \n",
       "75%    2020.000000    3.000000      134.000000            84.340500   \n",
       "max    2022.000000    4.000000      998.000000           999.000000   \n",
       "\n",
       "       + 6 Mbps - 10 Mbps  + 10 Mbps - 20 Mbps  + 20 Mbps - 30 Mbps  \\\n",
       "count          840.000000           840.000000           840.000000   \n",
       "mean            71.417265            79.988627           100.758158   \n",
       "std            140.324223           170.586599           208.683467   \n",
       "min              0.000000             0.000000             0.000000   \n",
       "25%              5.357250             4.872000             2.019000   \n",
       "50%             20.157000            14.965500            11.251500   \n",
       "75%             62.225500            55.093000            64.286250   \n",
       "max            917.000000           978.000000           997.000000   \n",
       "\n",
       "            OTROS  \n",
       "count  834.000000  \n",
       "mean    32.937064  \n",
       "std    128.937905  \n",
       "min     -1.945000  \n",
       "25%      0.000000  \n",
       "50%      0.000000  \n",
       "75%      7.497750  \n",
       "max    923.000000  "
      ]
     },
     "execution_count": 127,
     "metadata": {},
     "output_type": "execute_result"
    }
   ],
   "source": [
    "pd.read_csv(\"csv_api\\Acces_Inter_Prov_Vel.csv\").describe()"
   ]
  },
  {
   "cell_type": "code",
   "execution_count": null,
   "metadata": {},
   "outputs": [
    {
     "data": {
      "text/html": [
       "<div>\n",
       "<style scoped>\n",
       "    .dataframe tbody tr th:only-of-type {\n",
       "        vertical-align: middle;\n",
       "    }\n",
       "\n",
       "    .dataframe tbody tr th {\n",
       "        vertical-align: top;\n",
       "    }\n",
       "\n",
       "    .dataframe thead th {\n",
       "        text-align: right;\n",
       "    }\n",
       "</style>\n",
       "<table border=\"1\" class=\"dataframe\">\n",
       "  <thead>\n",
       "    <tr style=\"text-align: right;\">\n",
       "      <th></th>\n",
       "      <th>Año</th>\n",
       "      <th>Trimestre</th>\n",
       "      <th>Ingresos (miles de pesos)</th>\n",
       "      <th>Periodo</th>\n",
       "    </tr>\n",
       "  </thead>\n",
       "  <tbody>\n",
       "    <tr>\n",
       "      <th>0</th>\n",
       "      <td>2022</td>\n",
       "      <td>3</td>\n",
       "      <td>67.055.930</td>\n",
       "      <td>Jul-Sept 2022</td>\n",
       "    </tr>\n",
       "    <tr>\n",
       "      <th>1</th>\n",
       "      <td>2022</td>\n",
       "      <td>2</td>\n",
       "      <td>60.335.724</td>\n",
       "      <td>Abr-Jun 2022</td>\n",
       "    </tr>\n",
       "    <tr>\n",
       "      <th>2</th>\n",
       "      <td>2022</td>\n",
       "      <td>1</td>\n",
       "      <td>55.589.997</td>\n",
       "      <td>Ene-Mar 2022</td>\n",
       "    </tr>\n",
       "    <tr>\n",
       "      <th>3</th>\n",
       "      <td>2021</td>\n",
       "      <td>4</td>\n",
       "      <td>45.467.887</td>\n",
       "      <td>Oct-Dic 2021</td>\n",
       "    </tr>\n",
       "    <tr>\n",
       "      <th>4</th>\n",
       "      <td>2021</td>\n",
       "      <td>3</td>\n",
       "      <td>42.999.944</td>\n",
       "      <td>Jul-Sept 2021</td>\n",
       "    </tr>\n",
       "  </tbody>\n",
       "</table>\n",
       "</div>"
      ],
      "text/plain": [
       "    Año  Trimestre Ingresos (miles de pesos)        Periodo\n",
       "0  2022          3                67.055.930  Jul-Sept 2022\n",
       "1  2022          2                60.335.724   Abr-Jun 2022\n",
       "2  2022          1                55.589.997   Ene-Mar 2022\n",
       "3  2021          4                45.467.887   Oct-Dic 2021\n",
       "4  2021          3                42.999.944  Jul-Sept 2021"
      ]
     },
     "execution_count": 128,
     "metadata": {},
     "output_type": "execute_result"
    }
   ],
   "source": [
    "#8\n",
    "pd.read_csv(\"csv_api\\Ingresos_Inter_Fijo.csv\").head(5)"
   ]
  },
  {
   "cell_type": "code",
   "execution_count": null,
   "metadata": {},
   "outputs": [
    {
     "name": "stdout",
     "output_type": "stream",
     "text": [
      "<class 'pandas.core.frame.DataFrame'>\n",
      "RangeIndex: 35 entries, 0 to 34\n",
      "Data columns (total 4 columns):\n",
      " #   Column                     Non-Null Count  Dtype \n",
      "---  ------                     --------------  ----- \n",
      " 0   Año                        35 non-null     int64 \n",
      " 1   Trimestre                  35 non-null     int64 \n",
      " 2   Ingresos (miles de pesos)  35 non-null     object\n",
      " 3   Periodo                    35 non-null     object\n",
      "dtypes: int64(2), object(2)\n",
      "memory usage: 1.2+ KB\n"
     ]
    }
   ],
   "source": [
    "pd.read_csv(\"csv_api\\Ingresos_Inter_Fijo.csv\").info()"
   ]
  },
  {
   "cell_type": "code",
   "execution_count": null,
   "metadata": {},
   "outputs": [
    {
     "data": {
      "text/plain": [
       "Año                          0\n",
       "Trimestre                    0\n",
       "Ingresos (miles de pesos)    0\n",
       "Periodo                      0\n",
       "dtype: int64"
      ]
     },
     "execution_count": 3,
     "metadata": {},
     "output_type": "execute_result"
    }
   ],
   "source": [
    "pd.read_csv(\"csv_api\\Ingresos_Inter_Fijo.csv\").isna().sum()"
   ]
  },
  {
   "cell_type": "code",
   "execution_count": null,
   "metadata": {},
   "outputs": [
    {
     "data": {
      "text/html": [
       "<div>\n",
       "<style scoped>\n",
       "    .dataframe tbody tr th:only-of-type {\n",
       "        vertical-align: middle;\n",
       "    }\n",
       "\n",
       "    .dataframe tbody tr th {\n",
       "        vertical-align: top;\n",
       "    }\n",
       "\n",
       "    .dataframe thead th {\n",
       "        text-align: right;\n",
       "    }\n",
       "</style>\n",
       "<table border=\"1\" class=\"dataframe\">\n",
       "  <thead>\n",
       "    <tr style=\"text-align: right;\">\n",
       "      <th></th>\n",
       "      <th>Año</th>\n",
       "      <th>Trimestre</th>\n",
       "    </tr>\n",
       "  </thead>\n",
       "  <tbody>\n",
       "    <tr>\n",
       "      <th>count</th>\n",
       "      <td>35.000000</td>\n",
       "      <td>35.000000</td>\n",
       "    </tr>\n",
       "    <tr>\n",
       "      <th>mean</th>\n",
       "      <td>2017.885714</td>\n",
       "      <td>2.457143</td>\n",
       "    </tr>\n",
       "    <tr>\n",
       "      <th>std</th>\n",
       "      <td>2.564135</td>\n",
       "      <td>1.120474</td>\n",
       "    </tr>\n",
       "    <tr>\n",
       "      <th>min</th>\n",
       "      <td>2014.000000</td>\n",
       "      <td>1.000000</td>\n",
       "    </tr>\n",
       "    <tr>\n",
       "      <th>25%</th>\n",
       "      <td>2016.000000</td>\n",
       "      <td>1.500000</td>\n",
       "    </tr>\n",
       "    <tr>\n",
       "      <th>50%</th>\n",
       "      <td>2018.000000</td>\n",
       "      <td>2.000000</td>\n",
       "    </tr>\n",
       "    <tr>\n",
       "      <th>75%</th>\n",
       "      <td>2020.000000</td>\n",
       "      <td>3.000000</td>\n",
       "    </tr>\n",
       "    <tr>\n",
       "      <th>max</th>\n",
       "      <td>2022.000000</td>\n",
       "      <td>4.000000</td>\n",
       "    </tr>\n",
       "  </tbody>\n",
       "</table>\n",
       "</div>"
      ],
      "text/plain": [
       "               Año  Trimestre\n",
       "count    35.000000  35.000000\n",
       "mean   2017.885714   2.457143\n",
       "std       2.564135   1.120474\n",
       "min    2014.000000   1.000000\n",
       "25%    2016.000000   1.500000\n",
       "50%    2018.000000   2.000000\n",
       "75%    2020.000000   3.000000\n",
       "max    2022.000000   4.000000"
      ]
     },
     "execution_count": 4,
     "metadata": {},
     "output_type": "execute_result"
    }
   ],
   "source": [
    "pd.read_csv(\"csv_api\\Ingresos_Inter_Fijo.csv\").describe()"
   ]
  },
  {
   "cell_type": "code",
   "execution_count": null,
   "metadata": {},
   "outputs": [
    {
     "data": {
      "text/html": [
       "<div>\n",
       "<style scoped>\n",
       "    .dataframe tbody tr th:only-of-type {\n",
       "        vertical-align: middle;\n",
       "    }\n",
       "\n",
       "    .dataframe tbody tr th {\n",
       "        vertical-align: top;\n",
       "    }\n",
       "\n",
       "    .dataframe thead th {\n",
       "        text-align: right;\n",
       "    }\n",
       "</style>\n",
       "<table border=\"1\" class=\"dataframe\">\n",
       "  <thead>\n",
       "    <tr style=\"text-align: right;\">\n",
       "      <th></th>\n",
       "      <th>Provincia</th>\n",
       "      <th>Partido</th>\n",
       "      <th>Localidad</th>\n",
       "      <th>Link Indec</th>\n",
       "      <th>Otros</th>\n",
       "      <th>0,256 mbps</th>\n",
       "      <th>0,375 mbps</th>\n",
       "      <th>0,5 mbps</th>\n",
       "      <th>0,512 mbps</th>\n",
       "      <th>0,625 mbps</th>\n",
       "      <th>...</th>\n",
       "      <th>75 mbps</th>\n",
       "      <th>78 mbps</th>\n",
       "      <th>80 mbps</th>\n",
       "      <th>82 mbps</th>\n",
       "      <th>83 mbps</th>\n",
       "      <th>85 mbps</th>\n",
       "      <th>90 mbps</th>\n",
       "      <th>92 mbps</th>\n",
       "      <th>95 mbps</th>\n",
       "      <th>100 mbps</th>\n",
       "    </tr>\n",
       "  </thead>\n",
       "  <tbody>\n",
       "    <tr>\n",
       "      <th>0</th>\n",
       "      <td>BUENOS AIRES</td>\n",
       "      <td>25 de Mayo</td>\n",
       "      <td>25 de Mayo</td>\n",
       "      <td>6854100</td>\n",
       "      <td>NaN</td>\n",
       "      <td>NaN</td>\n",
       "      <td>NaN</td>\n",
       "      <td>2</td>\n",
       "      <td>NaN</td>\n",
       "      <td>NaN</td>\n",
       "      <td>...</td>\n",
       "      <td>NaN</td>\n",
       "      <td>NaN</td>\n",
       "      <td>9.0</td>\n",
       "      <td>NaN</td>\n",
       "      <td>NaN</td>\n",
       "      <td>NaN</td>\n",
       "      <td>NaN</td>\n",
       "      <td>NaN</td>\n",
       "      <td>NaN</td>\n",
       "      <td>NaN</td>\n",
       "    </tr>\n",
       "    <tr>\n",
       "      <th>1</th>\n",
       "      <td>BUENOS AIRES</td>\n",
       "      <td>25 de Mayo</td>\n",
       "      <td>Agustín Mosconi</td>\n",
       "      <td>6854010</td>\n",
       "      <td>NaN</td>\n",
       "      <td>NaN</td>\n",
       "      <td>NaN</td>\n",
       "      <td>NaN</td>\n",
       "      <td>NaN</td>\n",
       "      <td>NaN</td>\n",
       "      <td>...</td>\n",
       "      <td>NaN</td>\n",
       "      <td>NaN</td>\n",
       "      <td>NaN</td>\n",
       "      <td>NaN</td>\n",
       "      <td>NaN</td>\n",
       "      <td>NaN</td>\n",
       "      <td>NaN</td>\n",
       "      <td>NaN</td>\n",
       "      <td>NaN</td>\n",
       "      <td>NaN</td>\n",
       "    </tr>\n",
       "    <tr>\n",
       "      <th>2</th>\n",
       "      <td>BUENOS AIRES</td>\n",
       "      <td>25 de Mayo</td>\n",
       "      <td>Del Valle</td>\n",
       "      <td>6854020</td>\n",
       "      <td>NaN</td>\n",
       "      <td>NaN</td>\n",
       "      <td>NaN</td>\n",
       "      <td>1</td>\n",
       "      <td>NaN</td>\n",
       "      <td>NaN</td>\n",
       "      <td>...</td>\n",
       "      <td>NaN</td>\n",
       "      <td>NaN</td>\n",
       "      <td>NaN</td>\n",
       "      <td>NaN</td>\n",
       "      <td>NaN</td>\n",
       "      <td>NaN</td>\n",
       "      <td>NaN</td>\n",
       "      <td>NaN</td>\n",
       "      <td>NaN</td>\n",
       "      <td>NaN</td>\n",
       "    </tr>\n",
       "    <tr>\n",
       "      <th>3</th>\n",
       "      <td>BUENOS AIRES</td>\n",
       "      <td>25 de Mayo</td>\n",
       "      <td>Ernestina</td>\n",
       "      <td>6854030</td>\n",
       "      <td>NaN</td>\n",
       "      <td>NaN</td>\n",
       "      <td>NaN</td>\n",
       "      <td>NaN</td>\n",
       "      <td>NaN</td>\n",
       "      <td>NaN</td>\n",
       "      <td>...</td>\n",
       "      <td>NaN</td>\n",
       "      <td>NaN</td>\n",
       "      <td>NaN</td>\n",
       "      <td>NaN</td>\n",
       "      <td>NaN</td>\n",
       "      <td>NaN</td>\n",
       "      <td>NaN</td>\n",
       "      <td>NaN</td>\n",
       "      <td>NaN</td>\n",
       "      <td>NaN</td>\n",
       "    </tr>\n",
       "    <tr>\n",
       "      <th>4</th>\n",
       "      <td>BUENOS AIRES</td>\n",
       "      <td>25 de Mayo</td>\n",
       "      <td>Gobernador Ugarte</td>\n",
       "      <td>6854040</td>\n",
       "      <td>NaN</td>\n",
       "      <td>NaN</td>\n",
       "      <td>NaN</td>\n",
       "      <td>NaN</td>\n",
       "      <td>NaN</td>\n",
       "      <td>NaN</td>\n",
       "      <td>...</td>\n",
       "      <td>NaN</td>\n",
       "      <td>NaN</td>\n",
       "      <td>NaN</td>\n",
       "      <td>NaN</td>\n",
       "      <td>NaN</td>\n",
       "      <td>NaN</td>\n",
       "      <td>NaN</td>\n",
       "      <td>NaN</td>\n",
       "      <td>NaN</td>\n",
       "      <td>NaN</td>\n",
       "    </tr>\n",
       "  </tbody>\n",
       "</table>\n",
       "<p>5 rows × 83 columns</p>\n",
       "</div>"
      ],
      "text/plain": [
       "      Provincia     Partido          Localidad Link Indec Otros  0,256 mbps  \\\n",
       "0  BUENOS AIRES  25 de Mayo         25 de Mayo    6854100   NaN         NaN   \n",
       "1  BUENOS AIRES  25 de Mayo    Agustín Mosconi    6854010   NaN         NaN   \n",
       "2  BUENOS AIRES  25 de Mayo          Del Valle    6854020   NaN         NaN   \n",
       "3  BUENOS AIRES  25 de Mayo          Ernestina    6854030   NaN         NaN   \n",
       "4  BUENOS AIRES  25 de Mayo  Gobernador Ugarte    6854040   NaN         NaN   \n",
       "\n",
       "   0,375 mbps 0,5 mbps  0,512 mbps  0,625 mbps  ... 75 mbps 78 mbps  80 mbps  \\\n",
       "0         NaN        2         NaN         NaN  ...     NaN     NaN      9.0   \n",
       "1         NaN      NaN         NaN         NaN  ...     NaN     NaN      NaN   \n",
       "2         NaN        1         NaN         NaN  ...     NaN     NaN      NaN   \n",
       "3         NaN      NaN         NaN         NaN  ...     NaN     NaN      NaN   \n",
       "4         NaN      NaN         NaN         NaN  ...     NaN     NaN      NaN   \n",
       "\n",
       "  82 mbps 83 mbps  85 mbps  90 mbps 92 mbps  95 mbps 100 mbps  \n",
       "0     NaN     NaN      NaN      NaN     NaN      NaN      NaN  \n",
       "1     NaN     NaN      NaN      NaN     NaN      NaN      NaN  \n",
       "2     NaN     NaN      NaN      NaN     NaN      NaN      NaN  \n",
       "3     NaN     NaN      NaN      NaN     NaN      NaN      NaN  \n",
       "4     NaN     NaN      NaN      NaN     NaN      NaN      NaN  \n",
       "\n",
       "[5 rows x 83 columns]"
      ]
     },
     "execution_count": 129,
     "metadata": {},
     "output_type": "execute_result"
    }
   ],
   "source": [
    "#9\n",
    "pd.read_csv(\"csv_api\\Acces_Inter_VelBajada_Localidad.csv\").head(5)"
   ]
  },
  {
   "cell_type": "code",
   "execution_count": null,
   "metadata": {},
   "outputs": [
    {
     "name": "stdout",
     "output_type": "stream",
     "text": [
      "<class 'pandas.core.frame.DataFrame'>\n",
      "RangeIndex: 3098 entries, 0 to 3097\n",
      "Data columns (total 83 columns):\n",
      " #   Column      Non-Null Count  Dtype  \n",
      "---  ------      --------------  -----  \n",
      " 0   Provincia   3098 non-null   object \n",
      " 1   Partido     3098 non-null   object \n",
      " 2   Localidad   3098 non-null   object \n",
      " 3   Link Indec  3098 non-null   object \n",
      " 4   Otros       956 non-null    object \n",
      " 5   0,256 mbps  29 non-null     float64\n",
      " 6   0,375 mbps  1 non-null      float64\n",
      " 7   0,5 mbps    643 non-null    object \n",
      " 8   0,512 mbps  524 non-null    float64\n",
      " 9   0,625 mbps  1 non-null      float64\n",
      " 10  0,75 mbps   284 non-null    object \n",
      " 11  1 mbps      931 non-null    object \n",
      " 12  1,25 mbps   1 non-null      float64\n",
      " 13  1,5 mbps    16 non-null     object \n",
      " 14  2 mbps      741 non-null    object \n",
      " 15  2,2 mbps    1 non-null      float64\n",
      " 16  2,5 mbps    3 non-null      float64\n",
      " 17  3 mbps      1388 non-null   object \n",
      " 18  3,3 mbps    1 non-null      float64\n",
      " 19  3,5 mbps    373 non-null    object \n",
      " 20  4 mbps      539 non-null    object \n",
      " 21  4,5 mbps    1 non-null      float64\n",
      " 22  5 mbps      1013 non-null   object \n",
      " 23  6 mbps      1436 non-null   object \n",
      " 24  6,4 mbps    1 non-null      float64\n",
      " 25  7 mbps      221 non-null    object \n",
      " 26  7,5 mbps    4 non-null      float64\n",
      " 27  8 mbps      616 non-null    object \n",
      " 28  9 mbps      52 non-null     object \n",
      " 29  10 mbps     1685 non-null   object \n",
      " 30  11 mbps     27 non-null     float64\n",
      " 31  12 mbps     519 non-null    object \n",
      " 32  13 mbps     15 non-null     float64\n",
      " 33  14 mbps     20 non-null     float64\n",
      " 34  15 mbps     1020 non-null   object \n",
      " 35  16 mbps     18 non-null     object \n",
      " 36  17 mbps     1 non-null      float64\n",
      " 37  18 mbps     237 non-null    object \n",
      " 38  19 mbps     1 non-null      float64\n",
      " 39  20 mbps     1053 non-null   object \n",
      " 40  21 mbps     4 non-null      float64\n",
      " 41  22 mbps     1 non-null      float64\n",
      " 42  23 mbps     2 non-null      float64\n",
      " 43  24 mbps     14 non-null     object \n",
      " 44  25 mbps     580 non-null    object \n",
      " 45  25,1 mbps   1 non-null      float64\n",
      " 46  25,11 mbps  1 non-null      float64\n",
      " 47  25,5 mbps   1 non-null      float64\n",
      " 48  26 mbps     2 non-null      float64\n",
      " 49  30 mbps     693 non-null    object \n",
      " 50  31 mbps     4 non-null      float64\n",
      " 51  32 mbps     2 non-null      float64\n",
      " 52  34 mbps     1 non-null      float64\n",
      " 53  35 mbps     12 non-null     float64\n",
      " 54  36 mbps     2 non-null      float64\n",
      " 55  38 mbps     1 non-null      float64\n",
      " 56  39 mbps     1 non-null      float64\n",
      " 57  40 mbps     92 non-null     object \n",
      " 58  41 mbps     1 non-null      float64\n",
      " 59  45 mbps     3 non-null      float64\n",
      " 60  46 mbps     1 non-null      float64\n",
      " 61  49 mbps     1 non-null      float64\n",
      " 62  50 mbps     645 non-null    object \n",
      " 63  55 mbps     4 non-null      float64\n",
      " 64  58 mbps     1 non-null      float64\n",
      " 65  59 mbps     1 non-null      float64\n",
      " 66  60 mbps     257 non-null    object \n",
      " 67  61 mbps     3 non-null      float64\n",
      " 68  62 mbps     1 non-null      float64\n",
      " 69  64 mbps     1 non-null      float64\n",
      " 70  65 mbps     2 non-null      float64\n",
      " 71  66 mbps     1 non-null      float64\n",
      " 72  70 mbps     10 non-null     object \n",
      " 73  75 mbps     227 non-null    object \n",
      " 74  78 mbps     1 non-null      float64\n",
      " 75  80 mbps     16 non-null     float64\n",
      " 76  82 mbps     1 non-null      float64\n",
      " 77  83 mbps     1 non-null      float64\n",
      " 78  85 mbps     1 non-null      float64\n",
      " 79  90 mbps     2 non-null      float64\n",
      " 80  92 mbps     2 non-null      float64\n",
      " 81  95 mbps     1 non-null      float64\n",
      " 82  100 mbps    553 non-null    object \n",
      "dtypes: float64(50), object(33)\n",
      "memory usage: 2.0+ MB\n"
     ]
    }
   ],
   "source": [
    "pd.read_csv(\"csv_api\\Acces_Inter_VelBajada_Localidad.csv\").info()"
   ]
  },
  {
   "cell_type": "markdown",
   "metadata": {},
   "source": [
    "### Tiene vacios\n",
    "Estos vacios ya los había visto de antemano, lo mejor para este caso es reemplazarlo por 0, ya que se cuentan la cantidad consumo para x velocidad de bajada de internet que hay. Al ser vacio significa que no hay y con 0 se representa fácilmente ello."
   ]
  },
  {
   "cell_type": "code",
   "execution_count": null,
   "metadata": {},
   "outputs": [
    {
     "data": {
      "text/plain": [
       "Provincia        0\n",
       "Partido          0\n",
       "Localidad        0\n",
       "Link Indec       0\n",
       "Otros         2142\n",
       "              ... \n",
       "85 mbps       3097\n",
       "90 mbps       3096\n",
       "92 mbps       3096\n",
       "95 mbps       3097\n",
       "100 mbps      2545\n",
       "Length: 83, dtype: int64"
      ]
     },
     "execution_count": 131,
     "metadata": {},
     "output_type": "execute_result"
    }
   ],
   "source": [
    "pd.read_csv(\"csv_api\\Acces_Inter_VelBajada_Localidad.csv\").isna().sum()"
   ]
  },
  {
   "cell_type": "code",
   "execution_count": null,
   "metadata": {},
   "outputs": [
    {
     "data": {
      "text/html": [
       "<div>\n",
       "<style scoped>\n",
       "    .dataframe tbody tr th:only-of-type {\n",
       "        vertical-align: middle;\n",
       "    }\n",
       "\n",
       "    .dataframe tbody tr th {\n",
       "        vertical-align: top;\n",
       "    }\n",
       "\n",
       "    .dataframe thead th {\n",
       "        text-align: right;\n",
       "    }\n",
       "</style>\n",
       "<table border=\"1\" class=\"dataframe\">\n",
       "  <thead>\n",
       "    <tr style=\"text-align: right;\">\n",
       "      <th></th>\n",
       "      <th>0,256 mbps</th>\n",
       "      <th>0,375 mbps</th>\n",
       "      <th>0,512 mbps</th>\n",
       "      <th>0,625 mbps</th>\n",
       "      <th>1,25 mbps</th>\n",
       "      <th>2,2 mbps</th>\n",
       "      <th>2,5 mbps</th>\n",
       "      <th>3,3 mbps</th>\n",
       "      <th>4,5 mbps</th>\n",
       "      <th>6,4 mbps</th>\n",
       "      <th>...</th>\n",
       "      <th>65 mbps</th>\n",
       "      <th>66 mbps</th>\n",
       "      <th>78 mbps</th>\n",
       "      <th>80 mbps</th>\n",
       "      <th>82 mbps</th>\n",
       "      <th>83 mbps</th>\n",
       "      <th>85 mbps</th>\n",
       "      <th>90 mbps</th>\n",
       "      <th>92 mbps</th>\n",
       "      <th>95 mbps</th>\n",
       "    </tr>\n",
       "  </thead>\n",
       "  <tbody>\n",
       "    <tr>\n",
       "      <th>count</th>\n",
       "      <td>29.000000</td>\n",
       "      <td>1.0</td>\n",
       "      <td>524.000000</td>\n",
       "      <td>1.0</td>\n",
       "      <td>1.0</td>\n",
       "      <td>1.0</td>\n",
       "      <td>3.000000</td>\n",
       "      <td>1.0</td>\n",
       "      <td>1.0</td>\n",
       "      <td>1.0</td>\n",
       "      <td>...</td>\n",
       "      <td>2.000000</td>\n",
       "      <td>1.0</td>\n",
       "      <td>1.0</td>\n",
       "      <td>16.000000</td>\n",
       "      <td>1.0</td>\n",
       "      <td>1.0</td>\n",
       "      <td>1.0</td>\n",
       "      <td>2.000000</td>\n",
       "      <td>2.000000</td>\n",
       "      <td>1.0</td>\n",
       "    </tr>\n",
       "    <tr>\n",
       "      <th>mean</th>\n",
       "      <td>3.379310</td>\n",
       "      <td>225.0</td>\n",
       "      <td>2.173664</td>\n",
       "      <td>111.0</td>\n",
       "      <td>25.0</td>\n",
       "      <td>26.0</td>\n",
       "      <td>59.666667</td>\n",
       "      <td>6.0</td>\n",
       "      <td>65.0</td>\n",
       "      <td>13.0</td>\n",
       "      <td>...</td>\n",
       "      <td>7.000000</td>\n",
       "      <td>1.0</td>\n",
       "      <td>2.0</td>\n",
       "      <td>174.687500</td>\n",
       "      <td>1.0</td>\n",
       "      <td>1.0</td>\n",
       "      <td>14.0</td>\n",
       "      <td>2.000000</td>\n",
       "      <td>1.500000</td>\n",
       "      <td>1.0</td>\n",
       "    </tr>\n",
       "    <tr>\n",
       "      <th>std</th>\n",
       "      <td>6.411005</td>\n",
       "      <td>NaN</td>\n",
       "      <td>4.822112</td>\n",
       "      <td>NaN</td>\n",
       "      <td>NaN</td>\n",
       "      <td>NaN</td>\n",
       "      <td>47.648015</td>\n",
       "      <td>NaN</td>\n",
       "      <td>NaN</td>\n",
       "      <td>NaN</td>\n",
       "      <td>...</td>\n",
       "      <td>8.485281</td>\n",
       "      <td>NaN</td>\n",
       "      <td>NaN</td>\n",
       "      <td>300.673182</td>\n",
       "      <td>NaN</td>\n",
       "      <td>NaN</td>\n",
       "      <td>NaN</td>\n",
       "      <td>1.414214</td>\n",
       "      <td>0.707107</td>\n",
       "      <td>NaN</td>\n",
       "    </tr>\n",
       "    <tr>\n",
       "      <th>min</th>\n",
       "      <td>1.000000</td>\n",
       "      <td>225.0</td>\n",
       "      <td>1.000000</td>\n",
       "      <td>111.0</td>\n",
       "      <td>25.0</td>\n",
       "      <td>26.0</td>\n",
       "      <td>25.000000</td>\n",
       "      <td>6.0</td>\n",
       "      <td>65.0</td>\n",
       "      <td>13.0</td>\n",
       "      <td>...</td>\n",
       "      <td>1.000000</td>\n",
       "      <td>1.0</td>\n",
       "      <td>2.0</td>\n",
       "      <td>1.000000</td>\n",
       "      <td>1.0</td>\n",
       "      <td>1.0</td>\n",
       "      <td>14.0</td>\n",
       "      <td>1.000000</td>\n",
       "      <td>1.000000</td>\n",
       "      <td>1.0</td>\n",
       "    </tr>\n",
       "    <tr>\n",
       "      <th>25%</th>\n",
       "      <td>1.000000</td>\n",
       "      <td>225.0</td>\n",
       "      <td>1.000000</td>\n",
       "      <td>111.0</td>\n",
       "      <td>25.0</td>\n",
       "      <td>26.0</td>\n",
       "      <td>32.500000</td>\n",
       "      <td>6.0</td>\n",
       "      <td>65.0</td>\n",
       "      <td>13.0</td>\n",
       "      <td>...</td>\n",
       "      <td>4.000000</td>\n",
       "      <td>1.0</td>\n",
       "      <td>2.0</td>\n",
       "      <td>7.000000</td>\n",
       "      <td>1.0</td>\n",
       "      <td>1.0</td>\n",
       "      <td>14.0</td>\n",
       "      <td>1.500000</td>\n",
       "      <td>1.250000</td>\n",
       "      <td>1.0</td>\n",
       "    </tr>\n",
       "    <tr>\n",
       "      <th>50%</th>\n",
       "      <td>1.000000</td>\n",
       "      <td>225.0</td>\n",
       "      <td>1.000000</td>\n",
       "      <td>111.0</td>\n",
       "      <td>25.0</td>\n",
       "      <td>26.0</td>\n",
       "      <td>40.000000</td>\n",
       "      <td>6.0</td>\n",
       "      <td>65.0</td>\n",
       "      <td>13.0</td>\n",
       "      <td>...</td>\n",
       "      <td>7.000000</td>\n",
       "      <td>1.0</td>\n",
       "      <td>2.0</td>\n",
       "      <td>30.000000</td>\n",
       "      <td>1.0</td>\n",
       "      <td>1.0</td>\n",
       "      <td>14.0</td>\n",
       "      <td>2.000000</td>\n",
       "      <td>1.500000</td>\n",
       "      <td>1.0</td>\n",
       "    </tr>\n",
       "    <tr>\n",
       "      <th>75%</th>\n",
       "      <td>3.000000</td>\n",
       "      <td>225.0</td>\n",
       "      <td>1.000000</td>\n",
       "      <td>111.0</td>\n",
       "      <td>25.0</td>\n",
       "      <td>26.0</td>\n",
       "      <td>77.000000</td>\n",
       "      <td>6.0</td>\n",
       "      <td>65.0</td>\n",
       "      <td>13.0</td>\n",
       "      <td>...</td>\n",
       "      <td>10.000000</td>\n",
       "      <td>1.0</td>\n",
       "      <td>2.0</td>\n",
       "      <td>114.750000</td>\n",
       "      <td>1.0</td>\n",
       "      <td>1.0</td>\n",
       "      <td>14.0</td>\n",
       "      <td>2.500000</td>\n",
       "      <td>1.750000</td>\n",
       "      <td>1.0</td>\n",
       "    </tr>\n",
       "    <tr>\n",
       "      <th>max</th>\n",
       "      <td>31.000000</td>\n",
       "      <td>225.0</td>\n",
       "      <td>61.000000</td>\n",
       "      <td>111.0</td>\n",
       "      <td>25.0</td>\n",
       "      <td>26.0</td>\n",
       "      <td>114.000000</td>\n",
       "      <td>6.0</td>\n",
       "      <td>65.0</td>\n",
       "      <td>13.0</td>\n",
       "      <td>...</td>\n",
       "      <td>13.000000</td>\n",
       "      <td>1.0</td>\n",
       "      <td>2.0</td>\n",
       "      <td>952.000000</td>\n",
       "      <td>1.0</td>\n",
       "      <td>1.0</td>\n",
       "      <td>14.0</td>\n",
       "      <td>3.000000</td>\n",
       "      <td>2.000000</td>\n",
       "      <td>1.0</td>\n",
       "    </tr>\n",
       "  </tbody>\n",
       "</table>\n",
       "<p>8 rows × 50 columns</p>\n",
       "</div>"
      ],
      "text/plain": [
       "       0,256 mbps  0,375 mbps  0,512 mbps  0,625 mbps  1,25 mbps  2,2 mbps  \\\n",
       "count   29.000000         1.0  524.000000         1.0        1.0       1.0   \n",
       "mean     3.379310       225.0    2.173664       111.0       25.0      26.0   \n",
       "std      6.411005         NaN    4.822112         NaN        NaN       NaN   \n",
       "min      1.000000       225.0    1.000000       111.0       25.0      26.0   \n",
       "25%      1.000000       225.0    1.000000       111.0       25.0      26.0   \n",
       "50%      1.000000       225.0    1.000000       111.0       25.0      26.0   \n",
       "75%      3.000000       225.0    1.000000       111.0       25.0      26.0   \n",
       "max     31.000000       225.0   61.000000       111.0       25.0      26.0   \n",
       "\n",
       "         2,5 mbps  3,3 mbps  4,5 mbps  6,4 mbps  ...    65 mbps  66 mbps  \\\n",
       "count    3.000000       1.0       1.0       1.0  ...   2.000000      1.0   \n",
       "mean    59.666667       6.0      65.0      13.0  ...   7.000000      1.0   \n",
       "std     47.648015       NaN       NaN       NaN  ...   8.485281      NaN   \n",
       "min     25.000000       6.0      65.0      13.0  ...   1.000000      1.0   \n",
       "25%     32.500000       6.0      65.0      13.0  ...   4.000000      1.0   \n",
       "50%     40.000000       6.0      65.0      13.0  ...   7.000000      1.0   \n",
       "75%     77.000000       6.0      65.0      13.0  ...  10.000000      1.0   \n",
       "max    114.000000       6.0      65.0      13.0  ...  13.000000      1.0   \n",
       "\n",
       "       78 mbps     80 mbps  82 mbps  83 mbps  85 mbps   90 mbps   92 mbps  \\\n",
       "count      1.0   16.000000      1.0      1.0      1.0  2.000000  2.000000   \n",
       "mean       2.0  174.687500      1.0      1.0     14.0  2.000000  1.500000   \n",
       "std        NaN  300.673182      NaN      NaN      NaN  1.414214  0.707107   \n",
       "min        2.0    1.000000      1.0      1.0     14.0  1.000000  1.000000   \n",
       "25%        2.0    7.000000      1.0      1.0     14.0  1.500000  1.250000   \n",
       "50%        2.0   30.000000      1.0      1.0     14.0  2.000000  1.500000   \n",
       "75%        2.0  114.750000      1.0      1.0     14.0  2.500000  1.750000   \n",
       "max        2.0  952.000000      1.0      1.0     14.0  3.000000  2.000000   \n",
       "\n",
       "       95 mbps  \n",
       "count      1.0  \n",
       "mean       1.0  \n",
       "std        NaN  \n",
       "min        1.0  \n",
       "25%        1.0  \n",
       "50%        1.0  \n",
       "75%        1.0  \n",
       "max        1.0  \n",
       "\n",
       "[8 rows x 50 columns]"
      ]
     },
     "execution_count": 132,
     "metadata": {},
     "output_type": "execute_result"
    }
   ],
   "source": [
    "pd.read_csv(\"csv_api\\Acces_Inter_VelBajada_Localidad.csv\").describe()"
   ]
  },
  {
   "cell_type": "code",
   "execution_count": null,
   "metadata": {},
   "outputs": [
    {
     "data": {
      "text/html": [
       "<div>\n",
       "<style scoped>\n",
       "    .dataframe tbody tr th:only-of-type {\n",
       "        vertical-align: middle;\n",
       "    }\n",
       "\n",
       "    .dataframe tbody tr th {\n",
       "        vertical-align: top;\n",
       "    }\n",
       "\n",
       "    .dataframe thead th {\n",
       "        text-align: right;\n",
       "    }\n",
       "</style>\n",
       "<table border=\"1\" class=\"dataframe\">\n",
       "  <thead>\n",
       "    <tr style=\"text-align: right;\">\n",
       "      <th></th>\n",
       "      <th>Provincia</th>\n",
       "      <th>Partido</th>\n",
       "      <th>Localidad</th>\n",
       "      <th>ADSL</th>\n",
       "      <th>CABLEMODEM</th>\n",
       "      <th>DIALUP</th>\n",
       "      <th>FIBRAOPTICA</th>\n",
       "      <th>4G</th>\n",
       "      <th>3G</th>\n",
       "      <th>TELEFONIAFIJA</th>\n",
       "      <th>WIRELESS</th>\n",
       "      <th>SATELITAL</th>\n",
       "    </tr>\n",
       "  </thead>\n",
       "  <tbody>\n",
       "    <tr>\n",
       "      <th>0</th>\n",
       "      <td>BUENOS AIRES</td>\n",
       "      <td>Bahía Blanca</td>\n",
       "      <td>Villa Bordeau</td>\n",
       "      <td>--</td>\n",
       "      <td>--</td>\n",
       "      <td>--</td>\n",
       "      <td>--</td>\n",
       "      <td>SI</td>\n",
       "      <td>SI</td>\n",
       "      <td>--</td>\n",
       "      <td>--</td>\n",
       "      <td>--</td>\n",
       "    </tr>\n",
       "    <tr>\n",
       "      <th>1</th>\n",
       "      <td>BUENOS AIRES</td>\n",
       "      <td>Bahía Blanca</td>\n",
       "      <td>Villa Espora</td>\n",
       "      <td>--</td>\n",
       "      <td>--</td>\n",
       "      <td>--</td>\n",
       "      <td>--</td>\n",
       "      <td>--</td>\n",
       "      <td>--</td>\n",
       "      <td>--</td>\n",
       "      <td>--</td>\n",
       "      <td>--</td>\n",
       "    </tr>\n",
       "    <tr>\n",
       "      <th>2</th>\n",
       "      <td>BUENOS AIRES</td>\n",
       "      <td>Balcarce</td>\n",
       "      <td>Balcarce</td>\n",
       "      <td>SI</td>\n",
       "      <td>SI</td>\n",
       "      <td>SI</td>\n",
       "      <td>SI</td>\n",
       "      <td>SI</td>\n",
       "      <td>SI</td>\n",
       "      <td>SI</td>\n",
       "      <td>SI</td>\n",
       "      <td>--</td>\n",
       "    </tr>\n",
       "    <tr>\n",
       "      <th>3</th>\n",
       "      <td>BUENOS AIRES</td>\n",
       "      <td>Balcarce</td>\n",
       "      <td>Los Pinos</td>\n",
       "      <td>--</td>\n",
       "      <td>--</td>\n",
       "      <td>--</td>\n",
       "      <td>--</td>\n",
       "      <td>--</td>\n",
       "      <td>--</td>\n",
       "      <td>SI</td>\n",
       "      <td>SI</td>\n",
       "      <td>--</td>\n",
       "    </tr>\n",
       "    <tr>\n",
       "      <th>4</th>\n",
       "      <td>BUENOS AIRES</td>\n",
       "      <td>Balcarce</td>\n",
       "      <td>Napaleofú</td>\n",
       "      <td>--</td>\n",
       "      <td>--</td>\n",
       "      <td>--</td>\n",
       "      <td>SI</td>\n",
       "      <td>SI</td>\n",
       "      <td>SI</td>\n",
       "      <td>SI</td>\n",
       "      <td>SI</td>\n",
       "      <td>--</td>\n",
       "    </tr>\n",
       "  </tbody>\n",
       "</table>\n",
       "</div>"
      ],
      "text/plain": [
       "      Provincia       Partido      Localidad ADSL CABLEMODEM DIALUP  \\\n",
       "0  BUENOS AIRES  Bahía Blanca  Villa Bordeau   --         --     --   \n",
       "1  BUENOS AIRES  Bahía Blanca   Villa Espora   --         --     --   \n",
       "2  BUENOS AIRES      Balcarce       Balcarce   SI         SI     SI   \n",
       "3  BUENOS AIRES      Balcarce      Los Pinos   --         --     --   \n",
       "4  BUENOS AIRES      Balcarce      Napaleofú   --         --     --   \n",
       "\n",
       "  FIBRAOPTICA  4G  3G TELEFONIAFIJA WIRELESS SATELITAL  \n",
       "0          --  SI  SI            --       --        --  \n",
       "1          --  --  --            --       --        --  \n",
       "2          SI  SI  SI            SI       SI        --  \n",
       "3          --  --  --            SI       SI        --  \n",
       "4          SI  SI  SI            SI       SI        --  "
      ]
     },
     "execution_count": 133,
     "metadata": {},
     "output_type": "execute_result"
    }
   ],
   "source": [
    "#10\n",
    "pd.read_csv(\"csv_api\\Acces_Inter_Localidades.csv\").head(5)"
   ]
  },
  {
   "cell_type": "code",
   "execution_count": null,
   "metadata": {},
   "outputs": [
    {
     "name": "stdout",
     "output_type": "stream",
     "text": [
      "<class 'pandas.core.frame.DataFrame'>\n",
      "RangeIndex: 4312 entries, 0 to 4311\n",
      "Data columns (total 12 columns):\n",
      " #   Column         Non-Null Count  Dtype \n",
      "---  ------         --------------  ----- \n",
      " 0   Provincia      4312 non-null   object\n",
      " 1   Partido        4312 non-null   object\n",
      " 2   Localidad      4312 non-null   object\n",
      " 3   ADSL           4312 non-null   object\n",
      " 4   CABLEMODEM     4312 non-null   object\n",
      " 5   DIALUP         4312 non-null   object\n",
      " 6   FIBRAOPTICA    4312 non-null   object\n",
      " 7   4G             4312 non-null   object\n",
      " 8   3G             4312 non-null   object\n",
      " 9   TELEFONIAFIJA  4312 non-null   object\n",
      " 10  WIRELESS       4312 non-null   object\n",
      " 11  SATELITAL      4312 non-null   object\n",
      "dtypes: object(12)\n",
      "memory usage: 404.4+ KB\n"
     ]
    }
   ],
   "source": [
    "pd.read_csv(\"csv_api\\Acces_Inter_Localidades.csv\").info()"
   ]
  },
  {
   "cell_type": "code",
   "execution_count": null,
   "metadata": {},
   "outputs": [
    {
     "data": {
      "text/plain": [
       "Provincia        0\n",
       "Partido          0\n",
       "Localidad        0\n",
       "ADSL             0\n",
       "CABLEMODEM       0\n",
       "DIALUP           0\n",
       "FIBRAOPTICA      0\n",
       "4G               0\n",
       "3G               0\n",
       "TELEFONIAFIJA    0\n",
       "WIRELESS         0\n",
       "SATELITAL        0\n",
       "dtype: int64"
      ]
     },
     "execution_count": 135,
     "metadata": {},
     "output_type": "execute_result"
    }
   ],
   "source": [
    "pd.read_csv(\"csv_api\\Acces_Inter_Localidades.csv\").isna().sum()"
   ]
  },
  {
   "cell_type": "code",
   "execution_count": null,
   "metadata": {},
   "outputs": [
    {
     "data": {
      "text/html": [
       "<div>\n",
       "<style scoped>\n",
       "    .dataframe tbody tr th:only-of-type {\n",
       "        vertical-align: middle;\n",
       "    }\n",
       "\n",
       "    .dataframe tbody tr th {\n",
       "        vertical-align: top;\n",
       "    }\n",
       "\n",
       "    .dataframe thead th {\n",
       "        text-align: right;\n",
       "    }\n",
       "</style>\n",
       "<table border=\"1\" class=\"dataframe\">\n",
       "  <thead>\n",
       "    <tr style=\"text-align: right;\">\n",
       "      <th></th>\n",
       "      <th>Provincia</th>\n",
       "      <th>Partido</th>\n",
       "      <th>Localidad</th>\n",
       "      <th>ADSL</th>\n",
       "      <th>CABLEMODEM</th>\n",
       "      <th>DIALUP</th>\n",
       "      <th>FIBRAOPTICA</th>\n",
       "      <th>4G</th>\n",
       "      <th>3G</th>\n",
       "      <th>TELEFONIAFIJA</th>\n",
       "      <th>WIRELESS</th>\n",
       "      <th>SATELITAL</th>\n",
       "    </tr>\n",
       "  </thead>\n",
       "  <tbody>\n",
       "    <tr>\n",
       "      <th>count</th>\n",
       "      <td>4312</td>\n",
       "      <td>4312</td>\n",
       "      <td>4312</td>\n",
       "      <td>4312</td>\n",
       "      <td>4312</td>\n",
       "      <td>4312</td>\n",
       "      <td>4312</td>\n",
       "      <td>4312</td>\n",
       "      <td>4312</td>\n",
       "      <td>4312</td>\n",
       "      <td>4312</td>\n",
       "      <td>4312</td>\n",
       "    </tr>\n",
       "    <tr>\n",
       "      <th>unique</th>\n",
       "      <td>24</td>\n",
       "      <td>444</td>\n",
       "      <td>3912</td>\n",
       "      <td>2</td>\n",
       "      <td>2</td>\n",
       "      <td>2</td>\n",
       "      <td>2</td>\n",
       "      <td>2</td>\n",
       "      <td>2</td>\n",
       "      <td>2</td>\n",
       "      <td>2</td>\n",
       "      <td>2</td>\n",
       "    </tr>\n",
       "    <tr>\n",
       "      <th>top</th>\n",
       "      <td>BUENOS AIRES</td>\n",
       "      <td>General Roca</td>\n",
       "      <td>San Pedro</td>\n",
       "      <td>--</td>\n",
       "      <td>--</td>\n",
       "      <td>--</td>\n",
       "      <td>--</td>\n",
       "      <td>SI</td>\n",
       "      <td>--</td>\n",
       "      <td>SI</td>\n",
       "      <td>SI</td>\n",
       "      <td>--</td>\n",
       "    </tr>\n",
       "    <tr>\n",
       "      <th>freq</th>\n",
       "      <td>901</td>\n",
       "      <td>85</td>\n",
       "      <td>12</td>\n",
       "      <td>3179</td>\n",
       "      <td>3436</td>\n",
       "      <td>3909</td>\n",
       "      <td>2866</td>\n",
       "      <td>2574</td>\n",
       "      <td>2432</td>\n",
       "      <td>2162</td>\n",
       "      <td>2242</td>\n",
       "      <td>3233</td>\n",
       "    </tr>\n",
       "  </tbody>\n",
       "</table>\n",
       "</div>"
      ],
      "text/plain": [
       "           Provincia       Partido  Localidad  ADSL CABLEMODEM DIALUP  \\\n",
       "count           4312          4312       4312  4312       4312   4312   \n",
       "unique            24           444       3912     2          2      2   \n",
       "top     BUENOS AIRES  General Roca  San Pedro    --         --     --   \n",
       "freq             901            85         12  3179       3436   3909   \n",
       "\n",
       "       FIBRAOPTICA    4G    3G TELEFONIAFIJA WIRELESS SATELITAL  \n",
       "count         4312  4312  4312          4312     4312      4312  \n",
       "unique           2     2     2             2        2         2  \n",
       "top             --    SI    --            SI       SI        --  \n",
       "freq          2866  2574  2432          2162     2242      3233  "
      ]
     },
     "execution_count": 141,
     "metadata": {},
     "output_type": "execute_result"
    }
   ],
   "source": [
    "pd.read_csv(\"csv_api\\Acces_Inter_Localidades.csv\").describe()"
   ]
  },
  {
   "cell_type": "code",
   "execution_count": null,
   "metadata": {},
   "outputs": [
    {
     "data": {
      "text/html": [
       "<div>\n",
       "<style scoped>\n",
       "    .dataframe tbody tr th:only-of-type {\n",
       "        vertical-align: middle;\n",
       "    }\n",
       "\n",
       "    .dataframe tbody tr th {\n",
       "        vertical-align: top;\n",
       "    }\n",
       "\n",
       "    .dataframe thead th {\n",
       "        text-align: right;\n",
       "    }\n",
       "</style>\n",
       "<table border=\"1\" class=\"dataframe\">\n",
       "  <thead>\n",
       "    <tr style=\"text-align: right;\">\n",
       "      <th></th>\n",
       "      <th>Provincia</th>\n",
       "      <th>Partido</th>\n",
       "      <th>Localidad</th>\n",
       "      <th>Poblacion</th>\n",
       "      <th>ADSL</th>\n",
       "      <th>CABLEMODEM</th>\n",
       "      <th>DIALUP</th>\n",
       "      <th>FIBRAOPTICA</th>\n",
       "      <th>SATELITAL</th>\n",
       "      <th>WIRELESS</th>\n",
       "      <th>TELEFONIAFIJA</th>\n",
       "      <th>3G</th>\n",
       "      <th>4G</th>\n",
       "      <th>link</th>\n",
       "      <th>Latitud</th>\n",
       "      <th>Longitud</th>\n",
       "    </tr>\n",
       "  </thead>\n",
       "  <tbody>\n",
       "    <tr>\n",
       "      <th>0</th>\n",
       "      <td>BUENOS AIRES</td>\n",
       "      <td>Bahía Blanca</td>\n",
       "      <td>Villa Bordeau</td>\n",
       "      <td>0</td>\n",
       "      <td>--</td>\n",
       "      <td>--</td>\n",
       "      <td>--</td>\n",
       "      <td>--</td>\n",
       "      <td>--</td>\n",
       "      <td>--</td>\n",
       "      <td>--</td>\n",
       "      <td>SI</td>\n",
       "      <td>SI</td>\n",
       "      <td>6056020.0</td>\n",
       "      <td>-38,6472605094596</td>\n",
       "      <td>-62,3200223419024</td>\n",
       "    </tr>\n",
       "    <tr>\n",
       "      <th>1</th>\n",
       "      <td>BUENOS AIRES</td>\n",
       "      <td>Bahía Blanca</td>\n",
       "      <td>Villa Espora</td>\n",
       "      <td>0</td>\n",
       "      <td>--</td>\n",
       "      <td>--</td>\n",
       "      <td>--</td>\n",
       "      <td>--</td>\n",
       "      <td>--</td>\n",
       "      <td>--</td>\n",
       "      <td>--</td>\n",
       "      <td>--</td>\n",
       "      <td>--</td>\n",
       "      <td>6056020.0</td>\n",
       "      <td>-38,7765069529222</td>\n",
       "      <td>-62,1851833537179</td>\n",
       "    </tr>\n",
       "    <tr>\n",
       "      <th>2</th>\n",
       "      <td>BUENOS AIRES</td>\n",
       "      <td>Balcarce</td>\n",
       "      <td>Balcarce</td>\n",
       "      <td>38376</td>\n",
       "      <td>SI</td>\n",
       "      <td>SI</td>\n",
       "      <td>SI</td>\n",
       "      <td>SI</td>\n",
       "      <td>--</td>\n",
       "      <td>SI</td>\n",
       "      <td>SI</td>\n",
       "      <td>SI</td>\n",
       "      <td>SI</td>\n",
       "      <td>6063010.0</td>\n",
       "      <td>-37,8482779294345</td>\n",
       "      <td>-58,2551665841248</td>\n",
       "    </tr>\n",
       "    <tr>\n",
       "      <th>3</th>\n",
       "      <td>BUENOS AIRES</td>\n",
       "      <td>Balcarce</td>\n",
       "      <td>Los Pinos</td>\n",
       "      <td>337</td>\n",
       "      <td>--</td>\n",
       "      <td>--</td>\n",
       "      <td>--</td>\n",
       "      <td>--</td>\n",
       "      <td>--</td>\n",
       "      <td>SI</td>\n",
       "      <td>SI</td>\n",
       "      <td>--</td>\n",
       "      <td>--</td>\n",
       "      <td>6063020.0</td>\n",
       "      <td>-37,9412057603</td>\n",
       "      <td>-58,3225920150442</td>\n",
       "    </tr>\n",
       "    <tr>\n",
       "      <th>4</th>\n",
       "      <td>BUENOS AIRES</td>\n",
       "      <td>Balcarce</td>\n",
       "      <td>Napaleofú</td>\n",
       "      <td>374</td>\n",
       "      <td>--</td>\n",
       "      <td>--</td>\n",
       "      <td>--</td>\n",
       "      <td>SI</td>\n",
       "      <td>--</td>\n",
       "      <td>SI</td>\n",
       "      <td>SI</td>\n",
       "      <td>SI</td>\n",
       "      <td>SI</td>\n",
       "      <td>6063030.0</td>\n",
       "      <td>-37,6254980210026</td>\n",
       "      <td>-58,7461862359423</td>\n",
       "    </tr>\n",
       "  </tbody>\n",
       "</table>\n",
       "</div>"
      ],
      "text/plain": [
       "      Provincia       Partido      Localidad  Poblacion ADSL CABLEMODEM  \\\n",
       "0  BUENOS AIRES  Bahía Blanca  Villa Bordeau          0   --         --   \n",
       "1  BUENOS AIRES  Bahía Blanca   Villa Espora          0   --         --   \n",
       "2  BUENOS AIRES      Balcarce       Balcarce      38376   SI         SI   \n",
       "3  BUENOS AIRES      Balcarce      Los Pinos        337   --         --   \n",
       "4  BUENOS AIRES      Balcarce      Napaleofú        374   --         --   \n",
       "\n",
       "  DIALUP FIBRAOPTICA SATELITAL WIRELESS TELEFONIAFIJA  3G  4G       link  \\\n",
       "0     --          --        --       --            --  SI  SI  6056020.0   \n",
       "1     --          --        --       --            --  --  --  6056020.0   \n",
       "2     SI          SI        --       SI            SI  SI  SI  6063010.0   \n",
       "3     --          --        --       SI            SI  --  --  6063020.0   \n",
       "4     --          SI        --       SI            SI  SI  SI  6063030.0   \n",
       "\n",
       "             Latitud           Longitud  \n",
       "0  -38,6472605094596  -62,3200223419024  \n",
       "1  -38,7765069529222  -62,1851833537179  \n",
       "2  -37,8482779294345  -58,2551665841248  \n",
       "3     -37,9412057603  -58,3225920150442  \n",
       "4  -37,6254980210026  -58,7461862359423  "
      ]
     },
     "execution_count": 137,
     "metadata": {},
     "output_type": "execute_result"
    }
   ],
   "source": [
    "#11\n",
    "pd.read_csv(\"csv_api\\Conectividad_Localidad.csv\").head(5)"
   ]
  },
  {
   "cell_type": "code",
   "execution_count": null,
   "metadata": {},
   "outputs": [
    {
     "name": "stdout",
     "output_type": "stream",
     "text": [
      "<class 'pandas.core.frame.DataFrame'>\n",
      "RangeIndex: 4312 entries, 0 to 4311\n",
      "Data columns (total 16 columns):\n",
      " #   Column         Non-Null Count  Dtype  \n",
      "---  ------         --------------  -----  \n",
      " 0   Provincia      4312 non-null   object \n",
      " 1   Partido        4312 non-null   object \n",
      " 2   Localidad      4312 non-null   object \n",
      " 3   Poblacion      4312 non-null   int64  \n",
      " 4   ADSL           4312 non-null   object \n",
      " 5   CABLEMODEM     4312 non-null   object \n",
      " 6   DIALUP         4312 non-null   object \n",
      " 7   FIBRAOPTICA    4312 non-null   object \n",
      " 8   SATELITAL      4312 non-null   object \n",
      " 9   WIRELESS       4312 non-null   object \n",
      " 10  TELEFONIAFIJA  4312 non-null   object \n",
      " 11  3G             4312 non-null   object \n",
      " 12  4G             4312 non-null   object \n",
      " 13  link           4300 non-null   float64\n",
      " 14  Latitud        4312 non-null   object \n",
      " 15  Longitud       4312 non-null   object \n",
      "dtypes: float64(1), int64(1), object(14)\n",
      "memory usage: 539.1+ KB\n"
     ]
    }
   ],
   "source": [
    "pd.read_csv(\"csv_api\\Conectividad_Localidad.csv\").info()"
   ]
  },
  {
   "cell_type": "markdown",
   "metadata": {},
   "source": [
    "### Tiene vacios, hay que verlos y averiguar qué hacer."
   ]
  },
  {
   "cell_type": "code",
   "execution_count": null,
   "metadata": {},
   "outputs": [
    {
     "data": {
      "text/plain": [
       "Provincia         0\n",
       "Partido           0\n",
       "Localidad         0\n",
       "Poblacion         0\n",
       "ADSL              0\n",
       "CABLEMODEM        0\n",
       "DIALUP            0\n",
       "FIBRAOPTICA       0\n",
       "SATELITAL         0\n",
       "WIRELESS          0\n",
       "TELEFONIAFIJA     0\n",
       "3G                0\n",
       "4G                0\n",
       "link             12\n",
       "Latitud           0\n",
       "Longitud          0\n",
       "dtype: int64"
      ]
     },
     "execution_count": 139,
     "metadata": {},
     "output_type": "execute_result"
    }
   ],
   "source": [
    "pd.read_csv(\"csv_api\\Conectividad_Localidad.csv\").isna().sum()"
   ]
  },
  {
   "cell_type": "code",
   "execution_count": null,
   "metadata": {},
   "outputs": [
    {
     "data": {
      "text/html": [
       "<div>\n",
       "<style scoped>\n",
       "    .dataframe tbody tr th:only-of-type {\n",
       "        vertical-align: middle;\n",
       "    }\n",
       "\n",
       "    .dataframe tbody tr th {\n",
       "        vertical-align: top;\n",
       "    }\n",
       "\n",
       "    .dataframe thead th {\n",
       "        text-align: right;\n",
       "    }\n",
       "</style>\n",
       "<table border=\"1\" class=\"dataframe\">\n",
       "  <thead>\n",
       "    <tr style=\"text-align: right;\">\n",
       "      <th></th>\n",
       "      <th>Poblacion</th>\n",
       "      <th>link</th>\n",
       "    </tr>\n",
       "  </thead>\n",
       "  <tbody>\n",
       "    <tr>\n",
       "      <th>count</th>\n",
       "      <td>4.312000e+03</td>\n",
       "      <td>4.300000e+03</td>\n",
       "    </tr>\n",
       "    <tr>\n",
       "      <th>mean</th>\n",
       "      <td>8.693093e+03</td>\n",
       "      <td>3.909872e+07</td>\n",
       "    </tr>\n",
       "    <tr>\n",
       "      <th>std</th>\n",
       "      <td>3.821544e+04</td>\n",
       "      <td>2.939305e+07</td>\n",
       "    </tr>\n",
       "    <tr>\n",
       "      <th>min</th>\n",
       "      <td>0.000000e+00</td>\n",
       "      <td>2.000010e+06</td>\n",
       "    </tr>\n",
       "    <tr>\n",
       "      <th>25%</th>\n",
       "      <td>1.160000e+02</td>\n",
       "      <td>1.009104e+07</td>\n",
       "    </tr>\n",
       "    <tr>\n",
       "      <th>50%</th>\n",
       "      <td>5.755000e+02</td>\n",
       "      <td>3.401053e+07</td>\n",
       "    </tr>\n",
       "    <tr>\n",
       "      <th>75%</th>\n",
       "      <td>3.202000e+03</td>\n",
       "      <td>6.612602e+07</td>\n",
       "    </tr>\n",
       "    <tr>\n",
       "      <th>max</th>\n",
       "      <td>1.317298e+06</td>\n",
       "      <td>9.401402e+07</td>\n",
       "    </tr>\n",
       "  </tbody>\n",
       "</table>\n",
       "</div>"
      ],
      "text/plain": [
       "          Poblacion          link\n",
       "count  4.312000e+03  4.300000e+03\n",
       "mean   8.693093e+03  3.909872e+07\n",
       "std    3.821544e+04  2.939305e+07\n",
       "min    0.000000e+00  2.000010e+06\n",
       "25%    1.160000e+02  1.009104e+07\n",
       "50%    5.755000e+02  3.401053e+07\n",
       "75%    3.202000e+03  6.612602e+07\n",
       "max    1.317298e+06  9.401402e+07"
      ]
     },
     "execution_count": 140,
     "metadata": {},
     "output_type": "execute_result"
    }
   ],
   "source": [
    "pd.read_csv(\"csv_api\\Conectividad_Localidad.csv\").describe()"
   ]
  },
  {
   "cell_type": "markdown",
   "metadata": {},
   "source": [
    "Con este analisis rápido de todos los dataframes puedo asegurar:\n",
    "- Hay pocos vacios que tratar, el único dataset con muchos es porque \"no se tienen\" asi que se reemplaza por 0.\n",
    "- Todos los datasets que tienen años contemplan el mismo rango (2014-2022)\n",
    "- Los datos estan muy completos y ordenados (de esperar en una API de ENACOM, pero nunca se sabe)"
   ]
  },
  {
   "cell_type": "markdown",
   "metadata": {},
   "source": [
    "Primero:<br>\n",
    "- verifico que todos los dataset que contengan strings de lugares esten escritos de igual manera.\n",
    "- Creo una tabla para cada una de estas categorizaciones de lugares (Provincias, Localidades, Partidos) donde cada una va a tener un id unico para cada categoria de lugar.\n",
    "- Agrego en cada tabla los strings por los id de los lugares (para la visualización de correlación) y elimino las columnas de strings que los representan. (reemplazando las divisiones por string con divisiones por id.)"
   ]
  },
  {
   "cell_type": "markdown",
   "metadata": {},
   "source": [
    "Datasets a verificar:\n",
    "- Conectividad_Localidad.csv<br>\n",
    "- Acces_Inter_Localidades.csv<br>\n",
    "- Acces_Inter_VelBajada_Localidad.csv<br>\n",
    "- Acces_Inter_Prov_Vel.csv<br>\n",
    "- Acces_Banda_Ancha_Angosta_Provincia.csv<br>\n",
    "- Penet_Inter_PROV_100HOG.csv"
   ]
  },
  {
   "cell_type": "code",
   "execution_count": 184,
   "metadata": {},
   "outputs": [],
   "source": [
    "Conect_local=pd.read_csv(\"csv_api\\Conectividad_Localidad.csv\")"
   ]
  },
  {
   "cell_type": "code",
   "execution_count": 185,
   "metadata": {},
   "outputs": [
    {
     "data": {
      "text/plain": [
       "Index(['Provincia', 'Partido', 'Localidad', 'Poblacion', 'ADSL', 'CABLEMODEM',\n",
       "       'DIALUP', 'FIBRAOPTICA', 'SATELITAL', 'WIRELESS', 'TELEFONIAFIJA', '3G',\n",
       "       '4G', 'link', 'Latitud', 'Longitud'],\n",
       "      dtype='object')"
      ]
     },
     "execution_count": 185,
     "metadata": {},
     "output_type": "execute_result"
    }
   ],
   "source": [
    "Conect_local.columns\n",
    "# Quiero ver 'Provincia','Partido' y 'Localidad'"
   ]
  },
  {
   "cell_type": "code",
   "execution_count": 186,
   "metadata": {},
   "outputs": [],
   "source": [
    "Acces_Inter_Localidades=pd.read_csv(\"csv_api\\Acces_Inter_Localidades.csv\")"
   ]
  },
  {
   "cell_type": "code",
   "execution_count": 187,
   "metadata": {},
   "outputs": [
    {
     "data": {
      "text/plain": [
       "Index(['Provincia', 'Partido', 'Localidad', 'ADSL', 'CABLEMODEM', 'DIALUP',\n",
       "       'FIBRAOPTICA', '4G', '3G', 'TELEFONIAFIJA', 'WIRELESS', 'SATELITAL'],\n",
       "      dtype='object')"
      ]
     },
     "execution_count": 187,
     "metadata": {},
     "output_type": "execute_result"
    }
   ],
   "source": [
    "Acces_Inter_Localidades.columns\n",
    "# Quiero ver 'Provincia','Partido' y 'Localidad'"
   ]
  },
  {
   "cell_type": "code",
   "execution_count": 188,
   "metadata": {},
   "outputs": [],
   "source": [
    "Acces_Inter_VelBajada_Localidad=pd.read_csv(\"csv_api\\Acces_Inter_VelBajada_Localidad.csv\")"
   ]
  },
  {
   "cell_type": "code",
   "execution_count": 189,
   "metadata": {},
   "outputs": [
    {
     "data": {
      "text/plain": [
       "Index(['Provincia', 'Partido', 'Localidad', 'Link Indec', 'Otros',\n",
       "       '0,256 mbps', '0,375 mbps', '0,5 mbps', '0,512 mbps', '0,625 mbps',\n",
       "       '0,75 mbps', '1 mbps', '1,25 mbps', '1,5 mbps', '2 mbps', '2,2 mbps',\n",
       "       '2,5 mbps', '3 mbps', '3,3 mbps', '3,5 mbps', '4 mbps', '4,5 mbps',\n",
       "       '5 mbps', '6 mbps', '6,4 mbps', '7 mbps', '7,5 mbps', '8 mbps',\n",
       "       '9 mbps', '10 mbps', '11 mbps', '12 mbps', '13 mbps', '14 mbps',\n",
       "       '15 mbps', '16 mbps', '17 mbps', '18 mbps', '19 mbps', '20 mbps',\n",
       "       '21 mbps', '22 mbps', '23 mbps', '24 mbps', '25 mbps', '25,1 mbps',\n",
       "       '25,11 mbps', '25,5 mbps', '26 mbps', '30 mbps', '31 mbps', '32 mbps',\n",
       "       '34 mbps', '35 mbps', '36 mbps', '38 mbps', '39 mbps', '40 mbps',\n",
       "       '41 mbps', '45 mbps', '46 mbps', '49 mbps', '50 mbps', '55 mbps',\n",
       "       '58 mbps', '59 mbps', '60 mbps', '61 mbps', '62 mbps', '64 mbps',\n",
       "       '65 mbps', '66 mbps', '70 mbps', '75 mbps', '78 mbps', '80 mbps',\n",
       "       '82 mbps', '83 mbps', '85 mbps', '90 mbps', '92 mbps', '95 mbps',\n",
       "       '100 mbps'],\n",
       "      dtype='object')"
      ]
     },
     "execution_count": 189,
     "metadata": {},
     "output_type": "execute_result"
    }
   ],
   "source": [
    "Acces_Inter_VelBajada_Localidad.columns\n",
    "# Quiero ver 'Provincia','Partido' y 'Localidad'"
   ]
  },
  {
   "cell_type": "code",
   "execution_count": 190,
   "metadata": {},
   "outputs": [],
   "source": [
    "Acces_Inter_Prov_Vel=pd.read_csv(\"csv_api\\Acces_Inter_Prov_Vel.csv\")"
   ]
  },
  {
   "cell_type": "code",
   "execution_count": 191,
   "metadata": {},
   "outputs": [
    {
     "data": {
      "text/plain": [
       "Index(['Año', 'Trimestre', 'Provincia', 'HASTA 512 kbps',\n",
       "       '+ 512 Kbps - 1 Mbps', '+ 1 Mbps - 6 Mbps', '+ 6 Mbps - 10 Mbps',\n",
       "       '+ 10 Mbps - 20 Mbps', '+ 20 Mbps - 30 Mbps', '+ 30 Mbps', 'OTROS',\n",
       "       'Total'],\n",
       "      dtype='object')"
      ]
     },
     "execution_count": 191,
     "metadata": {},
     "output_type": "execute_result"
    }
   ],
   "source": [
    "Acces_Inter_Prov_Vel.columns\n",
    "# Quiero ver 'Provincia'"
   ]
  },
  {
   "cell_type": "code",
   "execution_count": 192,
   "metadata": {},
   "outputs": [],
   "source": [
    "Acces_Banda_Ancha_Angosta_Provincia=pd.read_csv(\"csv_api\\Acces_Banda_Ancha_Angosta_Provincia.csv\")"
   ]
  },
  {
   "cell_type": "code",
   "execution_count": 193,
   "metadata": {},
   "outputs": [
    {
     "data": {
      "text/plain": [
       "Index(['Año', 'Trimestre', 'Provincia', 'Banda ancha fija', 'Dial up',\n",
       "       'Total'],\n",
       "      dtype='object')"
      ]
     },
     "execution_count": 193,
     "metadata": {},
     "output_type": "execute_result"
    }
   ],
   "source": [
    "Acces_Banda_Ancha_Angosta_Provincia.columns\n",
    "# Quiero ver 'Provincia'"
   ]
  },
  {
   "cell_type": "code",
   "execution_count": 194,
   "metadata": {},
   "outputs": [],
   "source": [
    "Penet_Inter_PROV_100HOG=pd.read_csv(\"csv_api\\Penet_Inter_PROV_100HOG.csv\")"
   ]
  },
  {
   "cell_type": "code",
   "execution_count": 195,
   "metadata": {},
   "outputs": [
    {
     "data": {
      "text/plain": [
       "Index(['Año', 'Trimestre', 'Provincia', 'Accesos por cada 100 hogares'], dtype='object')"
      ]
     },
     "execution_count": 195,
     "metadata": {},
     "output_type": "execute_result"
    }
   ],
   "source": [
    "Penet_Inter_PROV_100HOG.columns\n",
    "# Quiero ver 'Provincia'"
   ]
  },
  {
   "cell_type": "code",
   "execution_count": 196,
   "metadata": {},
   "outputs": [
    {
     "name": "stdout",
     "output_type": "stream",
     "text": [
      "['BUENOS AIRES', 'CABA', 'CATAMARCA', 'CHACO', 'CHUBUT', 'CORDOBA', 'CORRIENTES', 'ENTRE RIOS', 'FORMOSA', 'JUJUY', 'LA PAMPA', 'LA RIOJA', 'MENDOZA', 'MISIONES', 'NEUQUEN', 'RIO NEGRO', 'SALTA', 'SAN JUAN', 'SAN LUIS', 'SANTA CRUZ', 'SANTA FE', 'SANTIAGO DEL ESTERO', 'TIERRA DEL FUEGO', 'TUCUMAN']\n",
      "['BUENOS AIRES', 'CABA', 'CATAMARCA', 'CHACO', 'CHUBUT', 'CORDOBA', 'CORRIENTES', 'ENTRE RIOS', 'FORMOSA', 'JUJUY', 'LA PAMPA', 'LA RIOJA', 'MENDOZA', 'MISIONES', 'NEUQUEN', 'RIO NEGRO', 'SALTA', 'SAN JUAN', 'SAN LUIS', 'SANTA CRUZ', 'SANTA FE', 'SANTIAGO DEL ESTERO', 'TIERRA DEL FUEGO', 'TUCUMAN']\n",
      "['BUENOS AIRES', 'CABA', 'CATAMARCA', 'CHACO', 'CHUBUT', 'CORDOBA', 'CORRIENTES', 'ENTRE RIOS', 'FORMOSA', 'JUJUY', 'LA PAMPA', 'LA RIOJA', 'MENDOZA', 'MISIONES', 'NEUQUEN', 'RIO NEGRO', 'SALTA', 'SAN JUAN', 'SAN LUIS', 'SANTA CRUZ', 'SANTA FE', 'SANTIAGO DEL ESTERO', 'TIERRA DEL FUEGO', 'TUCUMAN']\n",
      "['Buenos Aires', 'Capital Federal', 'Catamarca', 'Chaco', 'Chubut', 'Corrientes', 'Córdoba', 'Entre Ríos', 'Formosa', 'Jujuy', 'La Pampa', 'La Rioja', 'Mendoza', 'Misiones', 'Neuquén', 'Río Negro', 'Salta', 'San Juan', 'San Luis', 'Santa Cruz', 'Santa Fe', 'Santiago Del Estero', 'Tierra Del Fuego', 'Tucumán']\n",
      "['Buenos Aires', 'Capital Federal', 'Catamarca', 'Chaco', 'Chubut', 'Corrientes', 'Córdoba', 'Entre Ríos', 'Formosa', 'Jujuy', 'La Pampa', 'La Rioja', 'Mendoza', 'Misiones', 'Neuquén', 'Río Negro', 'Salta', 'San Juan', 'San Luis', 'Santa Cruz', 'Santa Fe', 'Santiago Del Estero', 'Tierra Del Fuego', 'Tucumán']\n",
      "['Buenos Aires', 'Capital Federal', 'Catamarca', 'Chaco', 'Chubut', 'Corrientes', 'Córdoba', 'Entre Ríos', 'Formosa', 'Jujuy', 'La Pampa', 'La Rioja', 'Mendoza', 'Misiones', 'Neuquén', 'Río Negro', 'Salta', 'San Juan', 'San Luis', 'Santa Cruz', 'Santa Fe', 'Santiago Del Estero', 'Tierra Del Fuego', 'Tucumán']\n"
     ]
    }
   ],
   "source": [
    "# Empezamos con 'Provincia'\n",
    "print(list(Conect_local['Provincia'].sort_values().unique()))\n",
    "print(list(Acces_Inter_Localidades['Provincia'].sort_values().unique()))\n",
    "print(list(Acces_Inter_VelBajada_Localidad['Provincia'].sort_values().unique()))\n",
    "print(list(Acces_Inter_Prov_Vel['Provincia'].sort_values().unique()))\n",
    "print(list(Acces_Banda_Ancha_Angosta_Provincia['Provincia'].sort_values().unique()))\n",
    "print(list(Penet_Inter_PROV_100HOG['Provincia'].sort_values().unique()))"
   ]
  },
  {
   "cell_type": "code",
   "execution_count": 197,
   "metadata": {},
   "outputs": [
    {
     "name": "stdout",
     "output_type": "stream",
     "text": [
      "24\n",
      "24\n",
      "24\n",
      "24\n",
      "24\n",
      "24\n"
     ]
    }
   ],
   "source": [
    "print(len(list(Conect_local['Provincia'].sort_values().unique())))\n",
    "print(len(list(Acces_Inter_Localidades['Provincia'].sort_values().unique())))\n",
    "print(len(list(Acces_Inter_VelBajada_Localidad['Provincia'].sort_values().unique())))\n",
    "print(len(list(Acces_Inter_Prov_Vel['Provincia'].sort_values().unique())))\n",
    "print(len(list(Acces_Banda_Ancha_Angosta_Provincia['Provincia'].sort_values().unique())))\n",
    "print(len(list(Penet_Inter_PROV_100HOG['Provincia'].sort_values().unique())))"
   ]
  },
  {
   "cell_type": "markdown",
   "metadata": {},
   "source": [
    "Hay que ponerlos todos en Mayusculas o minusculas.<br>\n",
    "Hay que elegir \"CABA\" o \"Capital Federal\" (Prefiero CABA).<br>\n",
    "Y en los que se encuentran en minusculas contienen tildes, entonces lo que puedo hacer es tomar el valor en mayusculas sin tilde y reemplazar, de paso dejando sin tildes para evitar conflictos entre lenguajes que no distinguen estos."
   ]
  },
  {
   "cell_type": "code",
   "execution_count": 198,
   "metadata": {},
   "outputs": [
    {
     "name": "stderr",
     "output_type": "stream",
     "text": [
      "C:\\Users\\lasso\\AppData\\Local\\Temp\\ipykernel_14788\\4089357463.py:4: SettingWithCopyWarning: \n",
      "A value is trying to be set on a copy of a slice from a DataFrame\n",
      "\n",
      "See the caveats in the documentation: https://pandas.pydata.org/pandas-docs/stable/user_guide/indexing.html#returning-a-view-versus-a-copy\n",
      "  Acces_Inter_Prov_Vel['Provincia'][Acces_Inter_Prov_Vel['Provincia']=='Buenos Aires']='BUENOS AIRES'\n",
      "C:\\Users\\lasso\\AppData\\Local\\Temp\\ipykernel_14788\\4089357463.py:5: SettingWithCopyWarning: \n",
      "A value is trying to be set on a copy of a slice from a DataFrame\n",
      "\n",
      "See the caveats in the documentation: https://pandas.pydata.org/pandas-docs/stable/user_guide/indexing.html#returning-a-view-versus-a-copy\n",
      "  Acces_Inter_Prov_Vel['Provincia'][Acces_Inter_Prov_Vel['Provincia']=='Capital Federal']='CABA'\n",
      "C:\\Users\\lasso\\AppData\\Local\\Temp\\ipykernel_14788\\4089357463.py:6: SettingWithCopyWarning: \n",
      "A value is trying to be set on a copy of a slice from a DataFrame\n",
      "\n",
      "See the caveats in the documentation: https://pandas.pydata.org/pandas-docs/stable/user_guide/indexing.html#returning-a-view-versus-a-copy\n",
      "  Acces_Inter_Prov_Vel['Provincia'][Acces_Inter_Prov_Vel['Provincia']=='Catamarca']='CATAMARCA'\n",
      "C:\\Users\\lasso\\AppData\\Local\\Temp\\ipykernel_14788\\4089357463.py:7: SettingWithCopyWarning: \n",
      "A value is trying to be set on a copy of a slice from a DataFrame\n",
      "\n",
      "See the caveats in the documentation: https://pandas.pydata.org/pandas-docs/stable/user_guide/indexing.html#returning-a-view-versus-a-copy\n",
      "  Acces_Inter_Prov_Vel['Provincia'][Acces_Inter_Prov_Vel['Provincia']=='Chaco']='CHACO'\n",
      "C:\\Users\\lasso\\AppData\\Local\\Temp\\ipykernel_14788\\4089357463.py:8: SettingWithCopyWarning: \n",
      "A value is trying to be set on a copy of a slice from a DataFrame\n",
      "\n",
      "See the caveats in the documentation: https://pandas.pydata.org/pandas-docs/stable/user_guide/indexing.html#returning-a-view-versus-a-copy\n",
      "  Acces_Inter_Prov_Vel['Provincia'][Acces_Inter_Prov_Vel['Provincia']=='Chubut']='CHUBUT'\n",
      "C:\\Users\\lasso\\AppData\\Local\\Temp\\ipykernel_14788\\4089357463.py:9: SettingWithCopyWarning: \n",
      "A value is trying to be set on a copy of a slice from a DataFrame\n",
      "\n",
      "See the caveats in the documentation: https://pandas.pydata.org/pandas-docs/stable/user_guide/indexing.html#returning-a-view-versus-a-copy\n",
      "  Acces_Inter_Prov_Vel['Provincia'][Acces_Inter_Prov_Vel['Provincia']=='Corrientes']='CORRIENTES'\n",
      "C:\\Users\\lasso\\AppData\\Local\\Temp\\ipykernel_14788\\4089357463.py:10: SettingWithCopyWarning: \n",
      "A value is trying to be set on a copy of a slice from a DataFrame\n",
      "\n",
      "See the caveats in the documentation: https://pandas.pydata.org/pandas-docs/stable/user_guide/indexing.html#returning-a-view-versus-a-copy\n",
      "  Acces_Inter_Prov_Vel['Provincia'][Acces_Inter_Prov_Vel['Provincia']=='Entre Ríos']='ENTRE RIOS'\n",
      "C:\\Users\\lasso\\AppData\\Local\\Temp\\ipykernel_14788\\4089357463.py:11: SettingWithCopyWarning: \n",
      "A value is trying to be set on a copy of a slice from a DataFrame\n",
      "\n",
      "See the caveats in the documentation: https://pandas.pydata.org/pandas-docs/stable/user_guide/indexing.html#returning-a-view-versus-a-copy\n",
      "  Acces_Inter_Prov_Vel['Provincia'][Acces_Inter_Prov_Vel['Provincia']=='Córdoba']='CORDOBA'\n",
      "C:\\Users\\lasso\\AppData\\Local\\Temp\\ipykernel_14788\\4089357463.py:12: SettingWithCopyWarning: \n",
      "A value is trying to be set on a copy of a slice from a DataFrame\n",
      "\n",
      "See the caveats in the documentation: https://pandas.pydata.org/pandas-docs/stable/user_guide/indexing.html#returning-a-view-versus-a-copy\n",
      "  Acces_Inter_Prov_Vel['Provincia'][Acces_Inter_Prov_Vel['Provincia']=='Formosa']='FORMOSA'\n",
      "C:\\Users\\lasso\\AppData\\Local\\Temp\\ipykernel_14788\\4089357463.py:13: SettingWithCopyWarning: \n",
      "A value is trying to be set on a copy of a slice from a DataFrame\n",
      "\n",
      "See the caveats in the documentation: https://pandas.pydata.org/pandas-docs/stable/user_guide/indexing.html#returning-a-view-versus-a-copy\n",
      "  Acces_Inter_Prov_Vel['Provincia'][Acces_Inter_Prov_Vel['Provincia']=='Jujuy']='JUJUY'\n",
      "C:\\Users\\lasso\\AppData\\Local\\Temp\\ipykernel_14788\\4089357463.py:14: SettingWithCopyWarning: \n",
      "A value is trying to be set on a copy of a slice from a DataFrame\n",
      "\n",
      "See the caveats in the documentation: https://pandas.pydata.org/pandas-docs/stable/user_guide/indexing.html#returning-a-view-versus-a-copy\n",
      "  Acces_Inter_Prov_Vel['Provincia'][Acces_Inter_Prov_Vel['Provincia']=='La Pampa']='LA PAMPA'\n",
      "C:\\Users\\lasso\\AppData\\Local\\Temp\\ipykernel_14788\\4089357463.py:15: SettingWithCopyWarning: \n",
      "A value is trying to be set on a copy of a slice from a DataFrame\n",
      "\n",
      "See the caveats in the documentation: https://pandas.pydata.org/pandas-docs/stable/user_guide/indexing.html#returning-a-view-versus-a-copy\n",
      "  Acces_Inter_Prov_Vel['Provincia'][Acces_Inter_Prov_Vel['Provincia']=='La Rioja']='LA RIOJA'\n",
      "C:\\Users\\lasso\\AppData\\Local\\Temp\\ipykernel_14788\\4089357463.py:16: SettingWithCopyWarning: \n",
      "A value is trying to be set on a copy of a slice from a DataFrame\n",
      "\n",
      "See the caveats in the documentation: https://pandas.pydata.org/pandas-docs/stable/user_guide/indexing.html#returning-a-view-versus-a-copy\n",
      "  Acces_Inter_Prov_Vel['Provincia'][Acces_Inter_Prov_Vel['Provincia']=='Mendoza']='MENDOZA'\n",
      "C:\\Users\\lasso\\AppData\\Local\\Temp\\ipykernel_14788\\4089357463.py:17: SettingWithCopyWarning: \n",
      "A value is trying to be set on a copy of a slice from a DataFrame\n",
      "\n",
      "See the caveats in the documentation: https://pandas.pydata.org/pandas-docs/stable/user_guide/indexing.html#returning-a-view-versus-a-copy\n",
      "  Acces_Inter_Prov_Vel['Provincia'][Acces_Inter_Prov_Vel['Provincia']=='Misiones']='MISIONES'\n",
      "C:\\Users\\lasso\\AppData\\Local\\Temp\\ipykernel_14788\\4089357463.py:18: SettingWithCopyWarning: \n",
      "A value is trying to be set on a copy of a slice from a DataFrame\n",
      "\n",
      "See the caveats in the documentation: https://pandas.pydata.org/pandas-docs/stable/user_guide/indexing.html#returning-a-view-versus-a-copy\n",
      "  Acces_Inter_Prov_Vel['Provincia'][Acces_Inter_Prov_Vel['Provincia']=='Neuquén']='NEUQUEN'\n",
      "C:\\Users\\lasso\\AppData\\Local\\Temp\\ipykernel_14788\\4089357463.py:19: SettingWithCopyWarning: \n",
      "A value is trying to be set on a copy of a slice from a DataFrame\n",
      "\n",
      "See the caveats in the documentation: https://pandas.pydata.org/pandas-docs/stable/user_guide/indexing.html#returning-a-view-versus-a-copy\n",
      "  Acces_Inter_Prov_Vel['Provincia'][Acces_Inter_Prov_Vel['Provincia']=='Río Negro']='RIO NEGRO'\n",
      "C:\\Users\\lasso\\AppData\\Local\\Temp\\ipykernel_14788\\4089357463.py:20: SettingWithCopyWarning: \n",
      "A value is trying to be set on a copy of a slice from a DataFrame\n",
      "\n",
      "See the caveats in the documentation: https://pandas.pydata.org/pandas-docs/stable/user_guide/indexing.html#returning-a-view-versus-a-copy\n",
      "  Acces_Inter_Prov_Vel['Provincia'][Acces_Inter_Prov_Vel['Provincia']=='Salta']='SALTA'\n",
      "C:\\Users\\lasso\\AppData\\Local\\Temp\\ipykernel_14788\\4089357463.py:21: SettingWithCopyWarning: \n",
      "A value is trying to be set on a copy of a slice from a DataFrame\n",
      "\n",
      "See the caveats in the documentation: https://pandas.pydata.org/pandas-docs/stable/user_guide/indexing.html#returning-a-view-versus-a-copy\n",
      "  Acces_Inter_Prov_Vel['Provincia'][Acces_Inter_Prov_Vel['Provincia']=='San Juan']='SAN JUAN'\n",
      "C:\\Users\\lasso\\AppData\\Local\\Temp\\ipykernel_14788\\4089357463.py:22: SettingWithCopyWarning: \n",
      "A value is trying to be set on a copy of a slice from a DataFrame\n",
      "\n",
      "See the caveats in the documentation: https://pandas.pydata.org/pandas-docs/stable/user_guide/indexing.html#returning-a-view-versus-a-copy\n",
      "  Acces_Inter_Prov_Vel['Provincia'][Acces_Inter_Prov_Vel['Provincia']=='San Luis']='SAN LUIS'\n",
      "C:\\Users\\lasso\\AppData\\Local\\Temp\\ipykernel_14788\\4089357463.py:23: SettingWithCopyWarning: \n",
      "A value is trying to be set on a copy of a slice from a DataFrame\n",
      "\n",
      "See the caveats in the documentation: https://pandas.pydata.org/pandas-docs/stable/user_guide/indexing.html#returning-a-view-versus-a-copy\n",
      "  Acces_Inter_Prov_Vel['Provincia'][Acces_Inter_Prov_Vel['Provincia']=='Santa Cruz']='SANTA CRUZ'\n",
      "C:\\Users\\lasso\\AppData\\Local\\Temp\\ipykernel_14788\\4089357463.py:24: SettingWithCopyWarning: \n",
      "A value is trying to be set on a copy of a slice from a DataFrame\n",
      "\n",
      "See the caveats in the documentation: https://pandas.pydata.org/pandas-docs/stable/user_guide/indexing.html#returning-a-view-versus-a-copy\n",
      "  Acces_Inter_Prov_Vel['Provincia'][Acces_Inter_Prov_Vel['Provincia']=='Santa Fe']='SANTA FE'\n",
      "C:\\Users\\lasso\\AppData\\Local\\Temp\\ipykernel_14788\\4089357463.py:25: SettingWithCopyWarning: \n",
      "A value is trying to be set on a copy of a slice from a DataFrame\n",
      "\n",
      "See the caveats in the documentation: https://pandas.pydata.org/pandas-docs/stable/user_guide/indexing.html#returning-a-view-versus-a-copy\n",
      "  Acces_Inter_Prov_Vel['Provincia'][Acces_Inter_Prov_Vel['Provincia']=='Santiago Del Estero']='SANTIAGO DEL ESTERO'\n",
      "C:\\Users\\lasso\\AppData\\Local\\Temp\\ipykernel_14788\\4089357463.py:26: SettingWithCopyWarning: \n",
      "A value is trying to be set on a copy of a slice from a DataFrame\n",
      "\n",
      "See the caveats in the documentation: https://pandas.pydata.org/pandas-docs/stable/user_guide/indexing.html#returning-a-view-versus-a-copy\n",
      "  Acces_Inter_Prov_Vel['Provincia'][Acces_Inter_Prov_Vel['Provincia']=='Tierra Del Fuego']='TIERRA DEL FUEGO'\n",
      "C:\\Users\\lasso\\AppData\\Local\\Temp\\ipykernel_14788\\4089357463.py:27: SettingWithCopyWarning: \n",
      "A value is trying to be set on a copy of a slice from a DataFrame\n",
      "\n",
      "See the caveats in the documentation: https://pandas.pydata.org/pandas-docs/stable/user_guide/indexing.html#returning-a-view-versus-a-copy\n",
      "  Acces_Inter_Prov_Vel['Provincia'][Acces_Inter_Prov_Vel['Provincia']=='Tucumán']='TUCUMAN'\n",
      "C:\\Users\\lasso\\AppData\\Local\\Temp\\ipykernel_14788\\4089357463.py:30: SettingWithCopyWarning: \n",
      "A value is trying to be set on a copy of a slice from a DataFrame\n",
      "\n",
      "See the caveats in the documentation: https://pandas.pydata.org/pandas-docs/stable/user_guide/indexing.html#returning-a-view-versus-a-copy\n",
      "  Acces_Banda_Ancha_Angosta_Provincia['Provincia'][Acces_Banda_Ancha_Angosta_Provincia['Provincia']=='Buenos Aires']='BUENOS AIRES'\n",
      "C:\\Users\\lasso\\AppData\\Local\\Temp\\ipykernel_14788\\4089357463.py:31: SettingWithCopyWarning: \n",
      "A value is trying to be set on a copy of a slice from a DataFrame\n",
      "\n",
      "See the caveats in the documentation: https://pandas.pydata.org/pandas-docs/stable/user_guide/indexing.html#returning-a-view-versus-a-copy\n",
      "  Acces_Banda_Ancha_Angosta_Provincia['Provincia'][Acces_Banda_Ancha_Angosta_Provincia['Provincia']=='Capital Federal']='CABA'\n",
      "C:\\Users\\lasso\\AppData\\Local\\Temp\\ipykernel_14788\\4089357463.py:32: SettingWithCopyWarning: \n",
      "A value is trying to be set on a copy of a slice from a DataFrame\n",
      "\n",
      "See the caveats in the documentation: https://pandas.pydata.org/pandas-docs/stable/user_guide/indexing.html#returning-a-view-versus-a-copy\n",
      "  Acces_Banda_Ancha_Angosta_Provincia['Provincia'][Acces_Banda_Ancha_Angosta_Provincia['Provincia']=='Catamarca']='CATAMARCA'\n",
      "C:\\Users\\lasso\\AppData\\Local\\Temp\\ipykernel_14788\\4089357463.py:33: SettingWithCopyWarning: \n",
      "A value is trying to be set on a copy of a slice from a DataFrame\n",
      "\n",
      "See the caveats in the documentation: https://pandas.pydata.org/pandas-docs/stable/user_guide/indexing.html#returning-a-view-versus-a-copy\n",
      "  Acces_Banda_Ancha_Angosta_Provincia['Provincia'][Acces_Banda_Ancha_Angosta_Provincia['Provincia']=='Chaco']='CHACO'\n",
      "C:\\Users\\lasso\\AppData\\Local\\Temp\\ipykernel_14788\\4089357463.py:34: SettingWithCopyWarning: \n",
      "A value is trying to be set on a copy of a slice from a DataFrame\n",
      "\n",
      "See the caveats in the documentation: https://pandas.pydata.org/pandas-docs/stable/user_guide/indexing.html#returning-a-view-versus-a-copy\n",
      "  Acces_Banda_Ancha_Angosta_Provincia['Provincia'][Acces_Banda_Ancha_Angosta_Provincia['Provincia']=='Chubut']='CHUBUT'\n",
      "C:\\Users\\lasso\\AppData\\Local\\Temp\\ipykernel_14788\\4089357463.py:35: SettingWithCopyWarning: \n",
      "A value is trying to be set on a copy of a slice from a DataFrame\n",
      "\n",
      "See the caveats in the documentation: https://pandas.pydata.org/pandas-docs/stable/user_guide/indexing.html#returning-a-view-versus-a-copy\n",
      "  Acces_Banda_Ancha_Angosta_Provincia['Provincia'][Acces_Banda_Ancha_Angosta_Provincia['Provincia']=='Corrientes']='CORRIENTES'\n",
      "C:\\Users\\lasso\\AppData\\Local\\Temp\\ipykernel_14788\\4089357463.py:36: SettingWithCopyWarning: \n",
      "A value is trying to be set on a copy of a slice from a DataFrame\n",
      "\n",
      "See the caveats in the documentation: https://pandas.pydata.org/pandas-docs/stable/user_guide/indexing.html#returning-a-view-versus-a-copy\n",
      "  Acces_Banda_Ancha_Angosta_Provincia['Provincia'][Acces_Banda_Ancha_Angosta_Provincia['Provincia']=='Entre Ríos']='ENTRE RIOS'\n",
      "C:\\Users\\lasso\\AppData\\Local\\Temp\\ipykernel_14788\\4089357463.py:37: SettingWithCopyWarning: \n",
      "A value is trying to be set on a copy of a slice from a DataFrame\n",
      "\n",
      "See the caveats in the documentation: https://pandas.pydata.org/pandas-docs/stable/user_guide/indexing.html#returning-a-view-versus-a-copy\n",
      "  Acces_Banda_Ancha_Angosta_Provincia['Provincia'][Acces_Banda_Ancha_Angosta_Provincia['Provincia']=='Córdoba']='CORDOBA'\n",
      "C:\\Users\\lasso\\AppData\\Local\\Temp\\ipykernel_14788\\4089357463.py:38: SettingWithCopyWarning: \n",
      "A value is trying to be set on a copy of a slice from a DataFrame\n",
      "\n",
      "See the caveats in the documentation: https://pandas.pydata.org/pandas-docs/stable/user_guide/indexing.html#returning-a-view-versus-a-copy\n",
      "  Acces_Banda_Ancha_Angosta_Provincia['Provincia'][Acces_Banda_Ancha_Angosta_Provincia['Provincia']=='Formosa']='FORMOSA'\n",
      "C:\\Users\\lasso\\AppData\\Local\\Temp\\ipykernel_14788\\4089357463.py:39: SettingWithCopyWarning: \n",
      "A value is trying to be set on a copy of a slice from a DataFrame\n",
      "\n",
      "See the caveats in the documentation: https://pandas.pydata.org/pandas-docs/stable/user_guide/indexing.html#returning-a-view-versus-a-copy\n",
      "  Acces_Banda_Ancha_Angosta_Provincia['Provincia'][Acces_Banda_Ancha_Angosta_Provincia['Provincia']=='Jujuy']='JUJUY'\n",
      "C:\\Users\\lasso\\AppData\\Local\\Temp\\ipykernel_14788\\4089357463.py:40: SettingWithCopyWarning: \n",
      "A value is trying to be set on a copy of a slice from a DataFrame\n",
      "\n",
      "See the caveats in the documentation: https://pandas.pydata.org/pandas-docs/stable/user_guide/indexing.html#returning-a-view-versus-a-copy\n",
      "  Acces_Banda_Ancha_Angosta_Provincia['Provincia'][Acces_Banda_Ancha_Angosta_Provincia['Provincia']=='La Pampa']='LA PAMPA'\n",
      "C:\\Users\\lasso\\AppData\\Local\\Temp\\ipykernel_14788\\4089357463.py:41: SettingWithCopyWarning: \n",
      "A value is trying to be set on a copy of a slice from a DataFrame\n",
      "\n",
      "See the caveats in the documentation: https://pandas.pydata.org/pandas-docs/stable/user_guide/indexing.html#returning-a-view-versus-a-copy\n",
      "  Acces_Banda_Ancha_Angosta_Provincia['Provincia'][Acces_Banda_Ancha_Angosta_Provincia['Provincia']=='La Rioja']='LA RIOJA'\n",
      "C:\\Users\\lasso\\AppData\\Local\\Temp\\ipykernel_14788\\4089357463.py:42: SettingWithCopyWarning: \n",
      "A value is trying to be set on a copy of a slice from a DataFrame\n",
      "\n",
      "See the caveats in the documentation: https://pandas.pydata.org/pandas-docs/stable/user_guide/indexing.html#returning-a-view-versus-a-copy\n",
      "  Acces_Banda_Ancha_Angosta_Provincia['Provincia'][Acces_Banda_Ancha_Angosta_Provincia['Provincia']=='Mendoza']='MENDOZA'\n",
      "C:\\Users\\lasso\\AppData\\Local\\Temp\\ipykernel_14788\\4089357463.py:43: SettingWithCopyWarning: \n",
      "A value is trying to be set on a copy of a slice from a DataFrame\n",
      "\n",
      "See the caveats in the documentation: https://pandas.pydata.org/pandas-docs/stable/user_guide/indexing.html#returning-a-view-versus-a-copy\n",
      "  Acces_Banda_Ancha_Angosta_Provincia['Provincia'][Acces_Banda_Ancha_Angosta_Provincia['Provincia']=='Misiones']='MISIONES'\n",
      "C:\\Users\\lasso\\AppData\\Local\\Temp\\ipykernel_14788\\4089357463.py:44: SettingWithCopyWarning: \n",
      "A value is trying to be set on a copy of a slice from a DataFrame\n",
      "\n",
      "See the caveats in the documentation: https://pandas.pydata.org/pandas-docs/stable/user_guide/indexing.html#returning-a-view-versus-a-copy\n",
      "  Acces_Banda_Ancha_Angosta_Provincia['Provincia'][Acces_Banda_Ancha_Angosta_Provincia['Provincia']=='Neuquén']='NEUQUEN'\n",
      "C:\\Users\\lasso\\AppData\\Local\\Temp\\ipykernel_14788\\4089357463.py:45: SettingWithCopyWarning: \n",
      "A value is trying to be set on a copy of a slice from a DataFrame\n",
      "\n",
      "See the caveats in the documentation: https://pandas.pydata.org/pandas-docs/stable/user_guide/indexing.html#returning-a-view-versus-a-copy\n",
      "  Acces_Banda_Ancha_Angosta_Provincia['Provincia'][Acces_Banda_Ancha_Angosta_Provincia['Provincia']=='Río Negro']='RIO NEGRO'\n",
      "C:\\Users\\lasso\\AppData\\Local\\Temp\\ipykernel_14788\\4089357463.py:46: SettingWithCopyWarning: \n",
      "A value is trying to be set on a copy of a slice from a DataFrame\n",
      "\n",
      "See the caveats in the documentation: https://pandas.pydata.org/pandas-docs/stable/user_guide/indexing.html#returning-a-view-versus-a-copy\n",
      "  Acces_Banda_Ancha_Angosta_Provincia['Provincia'][Acces_Banda_Ancha_Angosta_Provincia['Provincia']=='Salta']='SALTA'\n",
      "C:\\Users\\lasso\\AppData\\Local\\Temp\\ipykernel_14788\\4089357463.py:47: SettingWithCopyWarning: \n",
      "A value is trying to be set on a copy of a slice from a DataFrame\n",
      "\n",
      "See the caveats in the documentation: https://pandas.pydata.org/pandas-docs/stable/user_guide/indexing.html#returning-a-view-versus-a-copy\n",
      "  Acces_Banda_Ancha_Angosta_Provincia['Provincia'][Acces_Banda_Ancha_Angosta_Provincia['Provincia']=='San Juan']='SAN JUAN'\n",
      "C:\\Users\\lasso\\AppData\\Local\\Temp\\ipykernel_14788\\4089357463.py:48: SettingWithCopyWarning: \n",
      "A value is trying to be set on a copy of a slice from a DataFrame\n",
      "\n",
      "See the caveats in the documentation: https://pandas.pydata.org/pandas-docs/stable/user_guide/indexing.html#returning-a-view-versus-a-copy\n",
      "  Acces_Banda_Ancha_Angosta_Provincia['Provincia'][Acces_Banda_Ancha_Angosta_Provincia['Provincia']=='San Luis']='SAN LUIS'\n",
      "C:\\Users\\lasso\\AppData\\Local\\Temp\\ipykernel_14788\\4089357463.py:49: SettingWithCopyWarning: \n",
      "A value is trying to be set on a copy of a slice from a DataFrame\n",
      "\n",
      "See the caveats in the documentation: https://pandas.pydata.org/pandas-docs/stable/user_guide/indexing.html#returning-a-view-versus-a-copy\n",
      "  Acces_Banda_Ancha_Angosta_Provincia['Provincia'][Acces_Banda_Ancha_Angosta_Provincia['Provincia']=='Santa Cruz']='SANTA CRUZ'\n",
      "C:\\Users\\lasso\\AppData\\Local\\Temp\\ipykernel_14788\\4089357463.py:50: SettingWithCopyWarning: \n",
      "A value is trying to be set on a copy of a slice from a DataFrame\n",
      "\n",
      "See the caveats in the documentation: https://pandas.pydata.org/pandas-docs/stable/user_guide/indexing.html#returning-a-view-versus-a-copy\n",
      "  Acces_Banda_Ancha_Angosta_Provincia['Provincia'][Acces_Banda_Ancha_Angosta_Provincia['Provincia']=='Santa Fe']='SANTA FE'\n",
      "C:\\Users\\lasso\\AppData\\Local\\Temp\\ipykernel_14788\\4089357463.py:51: SettingWithCopyWarning: \n",
      "A value is trying to be set on a copy of a slice from a DataFrame\n",
      "\n",
      "See the caveats in the documentation: https://pandas.pydata.org/pandas-docs/stable/user_guide/indexing.html#returning-a-view-versus-a-copy\n",
      "  Acces_Banda_Ancha_Angosta_Provincia['Provincia'][Acces_Banda_Ancha_Angosta_Provincia['Provincia']=='Santiago Del Estero']='SANTIAGO DEL ESTERO'\n",
      "C:\\Users\\lasso\\AppData\\Local\\Temp\\ipykernel_14788\\4089357463.py:52: SettingWithCopyWarning: \n",
      "A value is trying to be set on a copy of a slice from a DataFrame\n",
      "\n",
      "See the caveats in the documentation: https://pandas.pydata.org/pandas-docs/stable/user_guide/indexing.html#returning-a-view-versus-a-copy\n",
      "  Acces_Banda_Ancha_Angosta_Provincia['Provincia'][Acces_Banda_Ancha_Angosta_Provincia['Provincia']=='Tierra Del Fuego']='TIERRA DEL FUEGO'\n",
      "C:\\Users\\lasso\\AppData\\Local\\Temp\\ipykernel_14788\\4089357463.py:53: SettingWithCopyWarning: \n",
      "A value is trying to be set on a copy of a slice from a DataFrame\n",
      "\n",
      "See the caveats in the documentation: https://pandas.pydata.org/pandas-docs/stable/user_guide/indexing.html#returning-a-view-versus-a-copy\n",
      "  Acces_Banda_Ancha_Angosta_Provincia['Provincia'][Acces_Banda_Ancha_Angosta_Provincia['Provincia']=='Tucumán']='TUCUMAN'\n",
      "C:\\Users\\lasso\\AppData\\Local\\Temp\\ipykernel_14788\\4089357463.py:56: SettingWithCopyWarning: \n",
      "A value is trying to be set on a copy of a slice from a DataFrame\n",
      "\n",
      "See the caveats in the documentation: https://pandas.pydata.org/pandas-docs/stable/user_guide/indexing.html#returning-a-view-versus-a-copy\n",
      "  Penet_Inter_PROV_100HOG['Provincia'][Penet_Inter_PROV_100HOG['Provincia']=='Buenos Aires']='BUENOS AIRES'\n",
      "C:\\Users\\lasso\\AppData\\Local\\Temp\\ipykernel_14788\\4089357463.py:57: SettingWithCopyWarning: \n",
      "A value is trying to be set on a copy of a slice from a DataFrame\n",
      "\n",
      "See the caveats in the documentation: https://pandas.pydata.org/pandas-docs/stable/user_guide/indexing.html#returning-a-view-versus-a-copy\n",
      "  Penet_Inter_PROV_100HOG['Provincia'][Penet_Inter_PROV_100HOG['Provincia']=='Capital Federal']='CABA'\n",
      "C:\\Users\\lasso\\AppData\\Local\\Temp\\ipykernel_14788\\4089357463.py:58: SettingWithCopyWarning: \n",
      "A value is trying to be set on a copy of a slice from a DataFrame\n",
      "\n",
      "See the caveats in the documentation: https://pandas.pydata.org/pandas-docs/stable/user_guide/indexing.html#returning-a-view-versus-a-copy\n",
      "  Penet_Inter_PROV_100HOG['Provincia'][Penet_Inter_PROV_100HOG['Provincia']=='Catamarca']='CATAMARCA'\n",
      "C:\\Users\\lasso\\AppData\\Local\\Temp\\ipykernel_14788\\4089357463.py:59: SettingWithCopyWarning: \n",
      "A value is trying to be set on a copy of a slice from a DataFrame\n",
      "\n",
      "See the caveats in the documentation: https://pandas.pydata.org/pandas-docs/stable/user_guide/indexing.html#returning-a-view-versus-a-copy\n",
      "  Penet_Inter_PROV_100HOG['Provincia'][Penet_Inter_PROV_100HOG['Provincia']=='Chaco']='CHACO'\n",
      "C:\\Users\\lasso\\AppData\\Local\\Temp\\ipykernel_14788\\4089357463.py:60: SettingWithCopyWarning: \n",
      "A value is trying to be set on a copy of a slice from a DataFrame\n",
      "\n",
      "See the caveats in the documentation: https://pandas.pydata.org/pandas-docs/stable/user_guide/indexing.html#returning-a-view-versus-a-copy\n",
      "  Penet_Inter_PROV_100HOG['Provincia'][Penet_Inter_PROV_100HOG['Provincia']=='Chubut']='CHUBUT'\n",
      "C:\\Users\\lasso\\AppData\\Local\\Temp\\ipykernel_14788\\4089357463.py:61: SettingWithCopyWarning: \n",
      "A value is trying to be set on a copy of a slice from a DataFrame\n",
      "\n",
      "See the caveats in the documentation: https://pandas.pydata.org/pandas-docs/stable/user_guide/indexing.html#returning-a-view-versus-a-copy\n",
      "  Penet_Inter_PROV_100HOG['Provincia'][Penet_Inter_PROV_100HOG['Provincia']=='Corrientes']='CORRIENTES'\n",
      "C:\\Users\\lasso\\AppData\\Local\\Temp\\ipykernel_14788\\4089357463.py:62: SettingWithCopyWarning: \n",
      "A value is trying to be set on a copy of a slice from a DataFrame\n",
      "\n",
      "See the caveats in the documentation: https://pandas.pydata.org/pandas-docs/stable/user_guide/indexing.html#returning-a-view-versus-a-copy\n",
      "  Penet_Inter_PROV_100HOG['Provincia'][Penet_Inter_PROV_100HOG['Provincia']=='Entre Ríos']='ENTRE RIOS'\n",
      "C:\\Users\\lasso\\AppData\\Local\\Temp\\ipykernel_14788\\4089357463.py:63: SettingWithCopyWarning: \n",
      "A value is trying to be set on a copy of a slice from a DataFrame\n",
      "\n",
      "See the caveats in the documentation: https://pandas.pydata.org/pandas-docs/stable/user_guide/indexing.html#returning-a-view-versus-a-copy\n",
      "  Penet_Inter_PROV_100HOG['Provincia'][Penet_Inter_PROV_100HOG['Provincia']=='Córdoba']='CORDOBA'\n",
      "C:\\Users\\lasso\\AppData\\Local\\Temp\\ipykernel_14788\\4089357463.py:64: SettingWithCopyWarning: \n",
      "A value is trying to be set on a copy of a slice from a DataFrame\n",
      "\n",
      "See the caveats in the documentation: https://pandas.pydata.org/pandas-docs/stable/user_guide/indexing.html#returning-a-view-versus-a-copy\n",
      "  Penet_Inter_PROV_100HOG['Provincia'][Penet_Inter_PROV_100HOG['Provincia']=='Formosa']='FORMOSA'\n",
      "C:\\Users\\lasso\\AppData\\Local\\Temp\\ipykernel_14788\\4089357463.py:65: SettingWithCopyWarning: \n",
      "A value is trying to be set on a copy of a slice from a DataFrame\n",
      "\n",
      "See the caveats in the documentation: https://pandas.pydata.org/pandas-docs/stable/user_guide/indexing.html#returning-a-view-versus-a-copy\n",
      "  Penet_Inter_PROV_100HOG['Provincia'][Penet_Inter_PROV_100HOG['Provincia']=='Jujuy']='JUJUY'\n",
      "C:\\Users\\lasso\\AppData\\Local\\Temp\\ipykernel_14788\\4089357463.py:66: SettingWithCopyWarning: \n",
      "A value is trying to be set on a copy of a slice from a DataFrame\n",
      "\n",
      "See the caveats in the documentation: https://pandas.pydata.org/pandas-docs/stable/user_guide/indexing.html#returning-a-view-versus-a-copy\n",
      "  Penet_Inter_PROV_100HOG['Provincia'][Penet_Inter_PROV_100HOG['Provincia']=='La Pampa']='LA PAMPA'\n",
      "C:\\Users\\lasso\\AppData\\Local\\Temp\\ipykernel_14788\\4089357463.py:67: SettingWithCopyWarning: \n",
      "A value is trying to be set on a copy of a slice from a DataFrame\n",
      "\n",
      "See the caveats in the documentation: https://pandas.pydata.org/pandas-docs/stable/user_guide/indexing.html#returning-a-view-versus-a-copy\n",
      "  Penet_Inter_PROV_100HOG['Provincia'][Penet_Inter_PROV_100HOG['Provincia']=='La Rioja']='LA RIOJA'\n",
      "C:\\Users\\lasso\\AppData\\Local\\Temp\\ipykernel_14788\\4089357463.py:68: SettingWithCopyWarning: \n",
      "A value is trying to be set on a copy of a slice from a DataFrame\n",
      "\n",
      "See the caveats in the documentation: https://pandas.pydata.org/pandas-docs/stable/user_guide/indexing.html#returning-a-view-versus-a-copy\n",
      "  Penet_Inter_PROV_100HOG['Provincia'][Penet_Inter_PROV_100HOG['Provincia']=='Mendoza']='MENDOZA'\n",
      "C:\\Users\\lasso\\AppData\\Local\\Temp\\ipykernel_14788\\4089357463.py:69: SettingWithCopyWarning: \n",
      "A value is trying to be set on a copy of a slice from a DataFrame\n",
      "\n",
      "See the caveats in the documentation: https://pandas.pydata.org/pandas-docs/stable/user_guide/indexing.html#returning-a-view-versus-a-copy\n",
      "  Penet_Inter_PROV_100HOG['Provincia'][Penet_Inter_PROV_100HOG['Provincia']=='Misiones']='MISIONES'\n",
      "C:\\Users\\lasso\\AppData\\Local\\Temp\\ipykernel_14788\\4089357463.py:70: SettingWithCopyWarning: \n",
      "A value is trying to be set on a copy of a slice from a DataFrame\n",
      "\n",
      "See the caveats in the documentation: https://pandas.pydata.org/pandas-docs/stable/user_guide/indexing.html#returning-a-view-versus-a-copy\n",
      "  Penet_Inter_PROV_100HOG['Provincia'][Penet_Inter_PROV_100HOG['Provincia']=='Neuquén']='NEUQUEN'\n",
      "C:\\Users\\lasso\\AppData\\Local\\Temp\\ipykernel_14788\\4089357463.py:71: SettingWithCopyWarning: \n",
      "A value is trying to be set on a copy of a slice from a DataFrame\n",
      "\n",
      "See the caveats in the documentation: https://pandas.pydata.org/pandas-docs/stable/user_guide/indexing.html#returning-a-view-versus-a-copy\n",
      "  Penet_Inter_PROV_100HOG['Provincia'][Penet_Inter_PROV_100HOG['Provincia']=='Río Negro']='RIO NEGRO'\n",
      "C:\\Users\\lasso\\AppData\\Local\\Temp\\ipykernel_14788\\4089357463.py:72: SettingWithCopyWarning: \n",
      "A value is trying to be set on a copy of a slice from a DataFrame\n",
      "\n",
      "See the caveats in the documentation: https://pandas.pydata.org/pandas-docs/stable/user_guide/indexing.html#returning-a-view-versus-a-copy\n",
      "  Penet_Inter_PROV_100HOG['Provincia'][Penet_Inter_PROV_100HOG['Provincia']=='Salta']='SALTA'\n",
      "C:\\Users\\lasso\\AppData\\Local\\Temp\\ipykernel_14788\\4089357463.py:73: SettingWithCopyWarning: \n",
      "A value is trying to be set on a copy of a slice from a DataFrame\n",
      "\n",
      "See the caveats in the documentation: https://pandas.pydata.org/pandas-docs/stable/user_guide/indexing.html#returning-a-view-versus-a-copy\n",
      "  Penet_Inter_PROV_100HOG['Provincia'][Penet_Inter_PROV_100HOG['Provincia']=='San Juan']='SAN JUAN'\n",
      "C:\\Users\\lasso\\AppData\\Local\\Temp\\ipykernel_14788\\4089357463.py:74: SettingWithCopyWarning: \n",
      "A value is trying to be set on a copy of a slice from a DataFrame\n",
      "\n",
      "See the caveats in the documentation: https://pandas.pydata.org/pandas-docs/stable/user_guide/indexing.html#returning-a-view-versus-a-copy\n",
      "  Penet_Inter_PROV_100HOG['Provincia'][Penet_Inter_PROV_100HOG['Provincia']=='San Luis']='SAN LUIS'\n",
      "C:\\Users\\lasso\\AppData\\Local\\Temp\\ipykernel_14788\\4089357463.py:75: SettingWithCopyWarning: \n",
      "A value is trying to be set on a copy of a slice from a DataFrame\n",
      "\n",
      "See the caveats in the documentation: https://pandas.pydata.org/pandas-docs/stable/user_guide/indexing.html#returning-a-view-versus-a-copy\n",
      "  Penet_Inter_PROV_100HOG['Provincia'][Penet_Inter_PROV_100HOG['Provincia']=='Santa Cruz']='SANTA CRUZ'\n",
      "C:\\Users\\lasso\\AppData\\Local\\Temp\\ipykernel_14788\\4089357463.py:76: SettingWithCopyWarning: \n",
      "A value is trying to be set on a copy of a slice from a DataFrame\n",
      "\n",
      "See the caveats in the documentation: https://pandas.pydata.org/pandas-docs/stable/user_guide/indexing.html#returning-a-view-versus-a-copy\n",
      "  Penet_Inter_PROV_100HOG['Provincia'][Penet_Inter_PROV_100HOG['Provincia']=='Santa Fe']='SANTA FE'\n",
      "C:\\Users\\lasso\\AppData\\Local\\Temp\\ipykernel_14788\\4089357463.py:77: SettingWithCopyWarning: \n",
      "A value is trying to be set on a copy of a slice from a DataFrame\n",
      "\n",
      "See the caveats in the documentation: https://pandas.pydata.org/pandas-docs/stable/user_guide/indexing.html#returning-a-view-versus-a-copy\n",
      "  Penet_Inter_PROV_100HOG['Provincia'][Penet_Inter_PROV_100HOG['Provincia']=='Santiago Del Estero']='SANTIAGO DEL ESTERO'\n",
      "C:\\Users\\lasso\\AppData\\Local\\Temp\\ipykernel_14788\\4089357463.py:78: SettingWithCopyWarning: \n",
      "A value is trying to be set on a copy of a slice from a DataFrame\n",
      "\n",
      "See the caveats in the documentation: https://pandas.pydata.org/pandas-docs/stable/user_guide/indexing.html#returning-a-view-versus-a-copy\n",
      "  Penet_Inter_PROV_100HOG['Provincia'][Penet_Inter_PROV_100HOG['Provincia']=='Tierra Del Fuego']='TIERRA DEL FUEGO'\n",
      "C:\\Users\\lasso\\AppData\\Local\\Temp\\ipykernel_14788\\4089357463.py:79: SettingWithCopyWarning: \n",
      "A value is trying to be set on a copy of a slice from a DataFrame\n",
      "\n",
      "See the caveats in the documentation: https://pandas.pydata.org/pandas-docs/stable/user_guide/indexing.html#returning-a-view-versus-a-copy\n",
      "  Penet_Inter_PROV_100HOG['Provincia'][Penet_Inter_PROV_100HOG['Provincia']=='Tucumán']='TUCUMAN'\n"
     ]
    }
   ],
   "source": [
    "# Manualmente cambio cada uno de los valores de estos tres datasets.\n",
    "\n",
    "# Primero \"Acces_Inter_Prov_Vel\"\n",
    "Acces_Inter_Prov_Vel['Provincia'][Acces_Inter_Prov_Vel['Provincia']=='Buenos Aires']='BUENOS AIRES'\n",
    "Acces_Inter_Prov_Vel['Provincia'][Acces_Inter_Prov_Vel['Provincia']=='Capital Federal']='CABA'\n",
    "Acces_Inter_Prov_Vel['Provincia'][Acces_Inter_Prov_Vel['Provincia']=='Catamarca']='CATAMARCA'\n",
    "Acces_Inter_Prov_Vel['Provincia'][Acces_Inter_Prov_Vel['Provincia']=='Chaco']='CHACO'\n",
    "Acces_Inter_Prov_Vel['Provincia'][Acces_Inter_Prov_Vel['Provincia']=='Chubut']='CHUBUT'\n",
    "Acces_Inter_Prov_Vel['Provincia'][Acces_Inter_Prov_Vel['Provincia']=='Corrientes']='CORRIENTES'\n",
    "Acces_Inter_Prov_Vel['Provincia'][Acces_Inter_Prov_Vel['Provincia']=='Entre Ríos']='ENTRE RIOS'\n",
    "Acces_Inter_Prov_Vel['Provincia'][Acces_Inter_Prov_Vel['Provincia']=='Córdoba']='CORDOBA'\n",
    "Acces_Inter_Prov_Vel['Provincia'][Acces_Inter_Prov_Vel['Provincia']=='Formosa']='FORMOSA'\n",
    "Acces_Inter_Prov_Vel['Provincia'][Acces_Inter_Prov_Vel['Provincia']=='Jujuy']='JUJUY'\n",
    "Acces_Inter_Prov_Vel['Provincia'][Acces_Inter_Prov_Vel['Provincia']=='La Pampa']='LA PAMPA'\n",
    "Acces_Inter_Prov_Vel['Provincia'][Acces_Inter_Prov_Vel['Provincia']=='La Rioja']='LA RIOJA'\n",
    "Acces_Inter_Prov_Vel['Provincia'][Acces_Inter_Prov_Vel['Provincia']=='Mendoza']='MENDOZA'\n",
    "Acces_Inter_Prov_Vel['Provincia'][Acces_Inter_Prov_Vel['Provincia']=='Misiones']='MISIONES'\n",
    "Acces_Inter_Prov_Vel['Provincia'][Acces_Inter_Prov_Vel['Provincia']=='Neuquén']='NEUQUEN'\n",
    "Acces_Inter_Prov_Vel['Provincia'][Acces_Inter_Prov_Vel['Provincia']=='Río Negro']='RIO NEGRO'\n",
    "Acces_Inter_Prov_Vel['Provincia'][Acces_Inter_Prov_Vel['Provincia']=='Salta']='SALTA'\n",
    "Acces_Inter_Prov_Vel['Provincia'][Acces_Inter_Prov_Vel['Provincia']=='San Juan']='SAN JUAN'\n",
    "Acces_Inter_Prov_Vel['Provincia'][Acces_Inter_Prov_Vel['Provincia']=='San Luis']='SAN LUIS'\n",
    "Acces_Inter_Prov_Vel['Provincia'][Acces_Inter_Prov_Vel['Provincia']=='Santa Cruz']='SANTA CRUZ'\n",
    "Acces_Inter_Prov_Vel['Provincia'][Acces_Inter_Prov_Vel['Provincia']=='Santa Fe']='SANTA FE'\n",
    "Acces_Inter_Prov_Vel['Provincia'][Acces_Inter_Prov_Vel['Provincia']=='Santiago Del Estero']='SANTIAGO DEL ESTERO'\n",
    "Acces_Inter_Prov_Vel['Provincia'][Acces_Inter_Prov_Vel['Provincia']=='Tierra Del Fuego']='TIERRA DEL FUEGO'\n",
    "Acces_Inter_Prov_Vel['Provincia'][Acces_Inter_Prov_Vel['Provincia']=='Tucumán']='TUCUMAN'\n",
    "\n",
    "# Segundo \"Acces_Banda_Ancha_Angosta_Provincia\"\n",
    "Acces_Banda_Ancha_Angosta_Provincia['Provincia'][Acces_Banda_Ancha_Angosta_Provincia['Provincia']=='Buenos Aires']='BUENOS AIRES'\n",
    "Acces_Banda_Ancha_Angosta_Provincia['Provincia'][Acces_Banda_Ancha_Angosta_Provincia['Provincia']=='Capital Federal']='CABA'\n",
    "Acces_Banda_Ancha_Angosta_Provincia['Provincia'][Acces_Banda_Ancha_Angosta_Provincia['Provincia']=='Catamarca']='CATAMARCA'\n",
    "Acces_Banda_Ancha_Angosta_Provincia['Provincia'][Acces_Banda_Ancha_Angosta_Provincia['Provincia']=='Chaco']='CHACO'\n",
    "Acces_Banda_Ancha_Angosta_Provincia['Provincia'][Acces_Banda_Ancha_Angosta_Provincia['Provincia']=='Chubut']='CHUBUT'\n",
    "Acces_Banda_Ancha_Angosta_Provincia['Provincia'][Acces_Banda_Ancha_Angosta_Provincia['Provincia']=='Corrientes']='CORRIENTES'\n",
    "Acces_Banda_Ancha_Angosta_Provincia['Provincia'][Acces_Banda_Ancha_Angosta_Provincia['Provincia']=='Entre Ríos']='ENTRE RIOS'\n",
    "Acces_Banda_Ancha_Angosta_Provincia['Provincia'][Acces_Banda_Ancha_Angosta_Provincia['Provincia']=='Córdoba']='CORDOBA'\n",
    "Acces_Banda_Ancha_Angosta_Provincia['Provincia'][Acces_Banda_Ancha_Angosta_Provincia['Provincia']=='Formosa']='FORMOSA'\n",
    "Acces_Banda_Ancha_Angosta_Provincia['Provincia'][Acces_Banda_Ancha_Angosta_Provincia['Provincia']=='Jujuy']='JUJUY'\n",
    "Acces_Banda_Ancha_Angosta_Provincia['Provincia'][Acces_Banda_Ancha_Angosta_Provincia['Provincia']=='La Pampa']='LA PAMPA'\n",
    "Acces_Banda_Ancha_Angosta_Provincia['Provincia'][Acces_Banda_Ancha_Angosta_Provincia['Provincia']=='La Rioja']='LA RIOJA'\n",
    "Acces_Banda_Ancha_Angosta_Provincia['Provincia'][Acces_Banda_Ancha_Angosta_Provincia['Provincia']=='Mendoza']='MENDOZA'\n",
    "Acces_Banda_Ancha_Angosta_Provincia['Provincia'][Acces_Banda_Ancha_Angosta_Provincia['Provincia']=='Misiones']='MISIONES'\n",
    "Acces_Banda_Ancha_Angosta_Provincia['Provincia'][Acces_Banda_Ancha_Angosta_Provincia['Provincia']=='Neuquén']='NEUQUEN'\n",
    "Acces_Banda_Ancha_Angosta_Provincia['Provincia'][Acces_Banda_Ancha_Angosta_Provincia['Provincia']=='Río Negro']='RIO NEGRO'\n",
    "Acces_Banda_Ancha_Angosta_Provincia['Provincia'][Acces_Banda_Ancha_Angosta_Provincia['Provincia']=='Salta']='SALTA'\n",
    "Acces_Banda_Ancha_Angosta_Provincia['Provincia'][Acces_Banda_Ancha_Angosta_Provincia['Provincia']=='San Juan']='SAN JUAN'\n",
    "Acces_Banda_Ancha_Angosta_Provincia['Provincia'][Acces_Banda_Ancha_Angosta_Provincia['Provincia']=='San Luis']='SAN LUIS'\n",
    "Acces_Banda_Ancha_Angosta_Provincia['Provincia'][Acces_Banda_Ancha_Angosta_Provincia['Provincia']=='Santa Cruz']='SANTA CRUZ'\n",
    "Acces_Banda_Ancha_Angosta_Provincia['Provincia'][Acces_Banda_Ancha_Angosta_Provincia['Provincia']=='Santa Fe']='SANTA FE'\n",
    "Acces_Banda_Ancha_Angosta_Provincia['Provincia'][Acces_Banda_Ancha_Angosta_Provincia['Provincia']=='Santiago Del Estero']='SANTIAGO DEL ESTERO'\n",
    "Acces_Banda_Ancha_Angosta_Provincia['Provincia'][Acces_Banda_Ancha_Angosta_Provincia['Provincia']=='Tierra Del Fuego']='TIERRA DEL FUEGO'\n",
    "Acces_Banda_Ancha_Angosta_Provincia['Provincia'][Acces_Banda_Ancha_Angosta_Provincia['Provincia']=='Tucumán']='TUCUMAN'\n",
    "\n",
    "# Tercero \"Penet_Inter_PROV_100HOG\"\n",
    "Penet_Inter_PROV_100HOG['Provincia'][Penet_Inter_PROV_100HOG['Provincia']=='Buenos Aires']='BUENOS AIRES'\n",
    "Penet_Inter_PROV_100HOG['Provincia'][Penet_Inter_PROV_100HOG['Provincia']=='Capital Federal']='CABA'\n",
    "Penet_Inter_PROV_100HOG['Provincia'][Penet_Inter_PROV_100HOG['Provincia']=='Catamarca']='CATAMARCA'\n",
    "Penet_Inter_PROV_100HOG['Provincia'][Penet_Inter_PROV_100HOG['Provincia']=='Chaco']='CHACO'\n",
    "Penet_Inter_PROV_100HOG['Provincia'][Penet_Inter_PROV_100HOG['Provincia']=='Chubut']='CHUBUT'\n",
    "Penet_Inter_PROV_100HOG['Provincia'][Penet_Inter_PROV_100HOG['Provincia']=='Corrientes']='CORRIENTES'\n",
    "Penet_Inter_PROV_100HOG['Provincia'][Penet_Inter_PROV_100HOG['Provincia']=='Entre Ríos']='ENTRE RIOS'\n",
    "Penet_Inter_PROV_100HOG['Provincia'][Penet_Inter_PROV_100HOG['Provincia']=='Córdoba']='CORDOBA'\n",
    "Penet_Inter_PROV_100HOG['Provincia'][Penet_Inter_PROV_100HOG['Provincia']=='Formosa']='FORMOSA'\n",
    "Penet_Inter_PROV_100HOG['Provincia'][Penet_Inter_PROV_100HOG['Provincia']=='Jujuy']='JUJUY'\n",
    "Penet_Inter_PROV_100HOG['Provincia'][Penet_Inter_PROV_100HOG['Provincia']=='La Pampa']='LA PAMPA'\n",
    "Penet_Inter_PROV_100HOG['Provincia'][Penet_Inter_PROV_100HOG['Provincia']=='La Rioja']='LA RIOJA'\n",
    "Penet_Inter_PROV_100HOG['Provincia'][Penet_Inter_PROV_100HOG['Provincia']=='Mendoza']='MENDOZA'\n",
    "Penet_Inter_PROV_100HOG['Provincia'][Penet_Inter_PROV_100HOG['Provincia']=='Misiones']='MISIONES'\n",
    "Penet_Inter_PROV_100HOG['Provincia'][Penet_Inter_PROV_100HOG['Provincia']=='Neuquén']='NEUQUEN'\n",
    "Penet_Inter_PROV_100HOG['Provincia'][Penet_Inter_PROV_100HOG['Provincia']=='Río Negro']='RIO NEGRO'\n",
    "Penet_Inter_PROV_100HOG['Provincia'][Penet_Inter_PROV_100HOG['Provincia']=='Salta']='SALTA'\n",
    "Penet_Inter_PROV_100HOG['Provincia'][Penet_Inter_PROV_100HOG['Provincia']=='San Juan']='SAN JUAN'\n",
    "Penet_Inter_PROV_100HOG['Provincia'][Penet_Inter_PROV_100HOG['Provincia']=='San Luis']='SAN LUIS'\n",
    "Penet_Inter_PROV_100HOG['Provincia'][Penet_Inter_PROV_100HOG['Provincia']=='Santa Cruz']='SANTA CRUZ'\n",
    "Penet_Inter_PROV_100HOG['Provincia'][Penet_Inter_PROV_100HOG['Provincia']=='Santa Fe']='SANTA FE'\n",
    "Penet_Inter_PROV_100HOG['Provincia'][Penet_Inter_PROV_100HOG['Provincia']=='Santiago Del Estero']='SANTIAGO DEL ESTERO'\n",
    "Penet_Inter_PROV_100HOG['Provincia'][Penet_Inter_PROV_100HOG['Provincia']=='Tierra Del Fuego']='TIERRA DEL FUEGO'\n",
    "Penet_Inter_PROV_100HOG['Provincia'][Penet_Inter_PROV_100HOG['Provincia']=='Tucumán']='TUCUMAN'"
   ]
  },
  {
   "cell_type": "code",
   "execution_count": 199,
   "metadata": {},
   "outputs": [
    {
     "name": "stdout",
     "output_type": "stream",
     "text": [
      "['BUENOS AIRES', 'CABA', 'CATAMARCA', 'CHACO', 'CHUBUT', 'CORDOBA', 'CORRIENTES', 'ENTRE RIOS', 'FORMOSA', 'JUJUY', 'LA PAMPA', 'LA RIOJA', 'MENDOZA', 'MISIONES', 'NEUQUEN', 'RIO NEGRO', 'SALTA', 'SAN JUAN', 'SAN LUIS', 'SANTA CRUZ', 'SANTA FE', 'SANTIAGO DEL ESTERO', 'TIERRA DEL FUEGO', 'TUCUMAN']\n",
      "['BUENOS AIRES', 'CABA', 'CATAMARCA', 'CHACO', 'CHUBUT', 'CORDOBA', 'CORRIENTES', 'ENTRE RIOS', 'FORMOSA', 'JUJUY', 'LA PAMPA', 'LA RIOJA', 'MENDOZA', 'MISIONES', 'NEUQUEN', 'RIO NEGRO', 'SALTA', 'SAN JUAN', 'SAN LUIS', 'SANTA CRUZ', 'SANTA FE', 'SANTIAGO DEL ESTERO', 'TIERRA DEL FUEGO', 'TUCUMAN']\n",
      "['BUENOS AIRES', 'CABA', 'CATAMARCA', 'CHACO', 'CHUBUT', 'CORDOBA', 'CORRIENTES', 'ENTRE RIOS', 'FORMOSA', 'JUJUY', 'LA PAMPA', 'LA RIOJA', 'MENDOZA', 'MISIONES', 'NEUQUEN', 'RIO NEGRO', 'SALTA', 'SAN JUAN', 'SAN LUIS', 'SANTA CRUZ', 'SANTA FE', 'SANTIAGO DEL ESTERO', 'TIERRA DEL FUEGO', 'TUCUMAN']\n",
      "['BUENOS AIRES', 'CABA', 'CATAMARCA', 'CHACO', 'CHUBUT', 'CORDOBA', 'CORRIENTES', 'ENTRE RIOS', 'FORMOSA', 'JUJUY', 'LA PAMPA', 'LA RIOJA', 'MENDOZA', 'MISIONES', 'NEUQUEN', 'RIO NEGRO', 'SALTA', 'SAN JUAN', 'SAN LUIS', 'SANTA CRUZ', 'SANTA FE', 'SANTIAGO DEL ESTERO', 'TIERRA DEL FUEGO', 'TUCUMAN']\n",
      "['BUENOS AIRES', 'CABA', 'CATAMARCA', 'CHACO', 'CHUBUT', 'CORDOBA', 'CORRIENTES', 'ENTRE RIOS', 'FORMOSA', 'JUJUY', 'LA PAMPA', 'LA RIOJA', 'MENDOZA', 'MISIONES', 'NEUQUEN', 'RIO NEGRO', 'SALTA', 'SAN JUAN', 'SAN LUIS', 'SANTA CRUZ', 'SANTA FE', 'SANTIAGO DEL ESTERO', 'TIERRA DEL FUEGO', 'TUCUMAN']\n",
      "['BUENOS AIRES', 'CABA', 'CATAMARCA', 'CHACO', 'CHUBUT', 'CORDOBA', 'CORRIENTES', 'ENTRE RIOS', 'FORMOSA', 'JUJUY', 'LA PAMPA', 'LA RIOJA', 'MENDOZA', 'MISIONES', 'NEUQUEN', 'RIO NEGRO', 'SALTA', 'SAN JUAN', 'SAN LUIS', 'SANTA CRUZ', 'SANTA FE', 'SANTIAGO DEL ESTERO', 'TIERRA DEL FUEGO', 'TUCUMAN']\n"
     ]
    }
   ],
   "source": [
    "print(list(Conect_local['Provincia'].sort_values().unique()))\n",
    "print(list(Acces_Inter_Localidades['Provincia'].sort_values().unique()))\n",
    "print(list(Acces_Inter_VelBajada_Localidad['Provincia'].sort_values().unique()))\n",
    "print(list(Acces_Inter_Prov_Vel['Provincia'].sort_values().unique()))\n",
    "print(list(Acces_Banda_Ancha_Angosta_Provincia['Provincia'].sort_values().unique()))\n",
    "print(list(Penet_Inter_PROV_100HOG['Provincia'].sort_values().unique()))"
   ]
  },
  {
   "cell_type": "code",
   "execution_count": 200,
   "metadata": {},
   "outputs": [
    {
     "name": "stdout",
     "output_type": "stream",
     "text": [
      "['12 de Octubre', '1º de Mayo', '2 de Abril', '25 de Mayo', '9 de Julio', 'ANTARTIDA ARGENTINA', 'Adolfo Alsina', 'Adolfo Gonzales Chaves', 'Aguirre', 'Albardón', 'Alberdi', 'Alberti', 'Almirante Brown', 'Aluminé', 'Ambato', 'Ancasti', 'Andalgalá', 'Angaco', 'Anta', 'Antofagasta de la Sierra', 'Apóstoles', 'Arauco', 'Arrecifes', 'Atamisqui', 'Atreucó', 'Avellaneda', 'Ayacucho', 'Azul', 'Añelo', 'Bahía Blanca', 'Balcarce', 'Banda', 'Baradero', 'Bariloche', 'Belgrano', 'Bella Vista', 'Belén', 'Benito Juárez', 'Berazategui', 'Berisso', 'Bermejo', 'Berón de Astrada', 'Biedma', 'Bolívar', 'Bragado', 'Brandsen', 'Burruyacú', 'COMUNA 01', 'COMUNA 02', 'COMUNA 03', 'COMUNA 04', 'COMUNA 05', 'COMUNA 06', 'COMUNA 07', 'COMUNA 08', 'COMUNA 09', 'COMUNA 10', 'COMUNA 11', 'COMUNA 12', 'COMUNA 13', 'COMUNA 14', 'COMUNA 15', 'Cachi', 'Cafayate', 'Cainguás', 'Calamuchita', 'Caleu Caleu', 'Calingasta', 'Campana', 'Candelaria', 'Capayán', 'Capital', 'Capitán Sarmiento', 'Carlos Casares', 'Carlos Tejedor', 'Carmen de Areco', 'Caseros', 'Castellanos', 'Castelli', 'Castro Barros', 'Catan LilL', 'Catriló', 'Caucete', 'Cañuelas', 'Cerrillos', 'Chacabuco', 'Chalileo', 'Chamical', 'Chapaleufú', 'Chascomús', 'Chical Co', 'Chicligasta', 'Chicoana', 'Chilecito', 'Chimbas', 'Chivilcoy', 'Chos Malal', 'Choya', 'Cochinoca', 'Collón Curá', 'Colón', 'Comandante Fernández', 'Concepción', 'Concordia', 'Conesa', 'Confluencia', 'Conhelo', 'Constitución', 'Copo', 'Coronel Dorrego', 'Coronel Felipe Varela', 'Coronel Pringles', 'Coronel Suárez', 'Coronel de Marina L. Rosales', 'Corpen Aike', 'Cruz Alta', 'Cruz del Eje', 'Curacó', 'Curuzú Cuatiá', 'Cushamen', 'Daireaux', 'Deseado', 'Diamante', 'Doctor Manuel Belgrano', 'Dolores', 'El Alto', 'El Carmen', 'El Cuy', 'Eldorado', 'Empedrado', 'Ensenada', 'Escalante', 'Escobar', 'Esquina', 'Esteban Echeverría', 'Exaltación de la Cruz', 'Ezeiza', 'Famaillá', 'Famatina', 'Federación', 'Federal', 'Feliciano', 'Figueroa', 'Florencio Varela', 'Florentino Ameghino', 'Formosa', 'Fray Justo Santa María de Oro', 'Fray Mamerto Esquiú', 'Futaleufú', 'Gaiman', 'Garay', 'Gastre', 'General Alvarado', 'General Alvear', 'General Angel V. Peñaloza', 'General Arenales', 'General Belgrano', 'General Donovan', 'General Guido', 'General Güemes', 'General Juan F. Quiroga', 'General Juan Madariaga', 'General La Madrid', 'General Lamadrid', 'General Las Heras', 'General Lavalle', 'General López', 'General Manuel Belgrano', 'General Obligado', 'General Ocampo', 'General Paz', 'General Pedernera', 'General Pinto', 'General Pueyrredón', 'General Roca', 'General Rodríguez', 'General San Martín', 'General Taboada', 'General Viamonte', 'General Villegas', 'Gobernador Dupuy', 'Godoy Cruz', 'Goya', 'Graneros', 'Grl. José de San Martín', 'Guachipas', 'Gualeguay', 'Gualeguaychú', 'Guaminí', 'Guaraní', 'Guasayán', 'Guatraché', 'Guaymallén', 'Güer Aike', 'Hipólito Yrigoyen', 'Hucal', 'Huiliches', 'Humahuaca', 'Hurlingham', 'Iglesia', 'Iguazú', 'Independencia', 'Iriondo', 'Iruya', 'Ischilín', 'Islas del Ibicuy', 'ItatÍ', 'Ituzaingó', 'Jiménez', 'José C. Paz', 'Juan Bautista Alberdi', 'Juan F. Ibarra', 'Junín', 'Juárez Celman', 'Jáchal', 'La Caldera', 'La Candelaria', 'La Capital', 'La Cocha', 'La Costa', 'La Matanza', 'La Paz', 'La Plata', 'La Poma', 'La Viña', 'Lago Argentino', 'Lago Buenos Aires', 'Laishi', 'Languiñeo', 'Lanús', 'Laprida', 'Las Colonias', 'Las Flores', 'Las Heras', 'Lavalle', 'Leales', 'Leandro N. Alem', 'Ledesma', 'Libertad', 'Libertador General San Martín', 'Libertador Grl. San Martín', 'Lihuel Calel', 'Limay Mahuida', 'Lincoln', 'Lobería', 'Lobos', 'Lomas De Zamora', 'Loncopué', 'Loreto', 'Los Andes', 'Los Lagos', 'Loventué', 'Luján', 'Luján de Cuyo', 'Lules', 'Lácar', 'Magallanes', 'Magdalena', 'Maipú', 'Malargüe', 'Malvinas Argentinas', 'Mar Chiquita', 'Maracó', 'Marcos Juárez', 'Marcos Paz', 'Matacos', 'Mayor Luis J. Fontana', 'Mburucuyá', 'Mercedes', 'Merlo', 'Metán', 'Minas', 'Mitre', 'Molinos', 'Monte', 'Monte Caseros', 'Monte Hermoso', 'Montecarlo', 'Monteros', 'Moreno', 'Morón', 'Mártires', 'Navarro', 'Necochea', 'Nogoyá', 'O Higgins', 'Oberá', 'Ojo de Agua', 'Olavarría', 'Orán', 'Paclín', 'Palpalá', 'Paraná', 'Paso de Indios', 'Paso de los Libres', 'Patagones', 'Patiño', 'Pehuajó', 'Pehuenches', 'Pellegrini', 'Pergamino', 'Pichi Mahuida', 'Picunches', 'Picún Leufú', 'Pila', 'Pilagás', 'Pilar', 'Pilcaniyeu', 'Pilcomayo', 'Pinamar', 'Pirané', 'Pocho', 'Pocito', 'Pomán', 'Presidencia de la Plaza', 'Presidente Perón', 'Presidente Roque Sáenz Peña', 'Puelén', 'Punilla', 'Punta Indio', 'Puán', 'Quebrachos', 'Quemú Quemú', 'Quilmes', 'Quitilipi', 'Ramallo', 'Ramón Lista', 'Rancul', 'Rauch', 'Rawson', 'Realicó', 'Rinconada', 'Rivadavia', 'Robles', 'Rojas', 'Roque Pérez', 'Rosario', 'Rosario Vera Peñaloza', 'Rosario de Lerma', 'Rosario de la Frontera', 'Río Chico', 'Río Cuarto', 'Río Grande', 'Río Hondo', 'Río Primero', 'Río Seco', 'Río Segundo', 'Río Senguer', 'SANTA BARBARA', 'Saavedra', 'Saladas', 'Saladillo', 'Salavina', 'Salliqueló', 'Salto', 'San Alberto', 'San Andrés de Giles', 'San Antonio', 'San Antonio de Areco', 'San Blas de los Sauces', 'San Carlos', 'San Cayetano', 'San Cosme', 'San Cristóbal', 'San Fernando', 'San Ignacio', 'San Isidro', 'San Javier', 'San Jerónimo', 'San Justo', 'San Lorenzo', 'San Luis del Palmar', 'San Martín', 'San Miguel', 'San Nicolás', 'San Pedro', 'San Rafael', 'San Roque', 'San Salvador', 'San Vicente', 'Sanagasta', 'Santa Catalina', 'Santa Lucía', 'Santa María', 'Santa Rosa', 'Santa Victoria', 'Santo Tomé', 'Sargento Cabral', 'Sarmiento', 'Sauce', 'Silípica', 'Simoca', 'Sobremonte', 'Suipacha', 'Susques', 'Tafí Viejo', 'Tafí del Valle', 'Tala', 'Tandil', 'Tapalqué', 'Tapenagá', 'Tehuelches', 'Telsen', 'Tercero Arriba', 'Tigre', 'Tilcara', 'Tinogasta', 'Toay', 'Tordillo', 'Tornquist', 'Totoral', 'Trancas', 'Trenel', 'Trenque Lauquen', 'Tres Arroyos', 'Tres De Febrero', 'Tres Lomas', 'Tulumba', 'Tumbaya', 'Tunuyán', 'Tupungato', 'Ullum', 'Unión', 'Uruguay', 'Ushuaia', 'Utracán', 'Valcheta', 'Valle Fértil', 'Valle Grande', 'Valle Viejo', 'Vera', 'Vicente López', 'Victoria', 'Villa Gesell', 'Villaguay', 'Villarino', 'Vinchina', 'Yavi', 'Yerba Buena', 'Zapala', 'Zonda', 'Zárate', 'Ñorquincó', 'Ñorquín']\n",
      "['12 de Octubre', '1º de Mayo', '2 de Abril', '25 de Mayo', '9 de Julio', 'ANTARTIDA ARGENTINA', 'Adolfo Alsina', 'Adolfo Gonzales Chaves', 'Aguirre', 'Albardón', 'Alberdi', 'Alberti', 'Almirante Brown', 'Aluminé', 'Ambato', 'Ancasti', 'Andalgalá', 'Angaco', 'Anta', 'Antofagasta de la Sierra', 'Apóstoles', 'Arauco', 'Arrecifes', 'Atamisqui', 'Atreucó', 'Avellaneda', 'Ayacucho', 'Azul', 'Añelo', 'Bahía Blanca', 'Balcarce', 'Banda', 'Baradero', 'Bariloche', 'Belgrano', 'Bella Vista', 'Belén', 'Benito Juárez', 'Berazategui', 'Berisso', 'Bermejo', 'Berón de Astrada', 'Biedma', 'Bolívar', 'Bragado', 'Brandsen', 'Burruyacú', 'COMUNA 01', 'COMUNA 02', 'COMUNA 03', 'COMUNA 04', 'COMUNA 05', 'COMUNA 06', 'COMUNA 07', 'COMUNA 08', 'COMUNA 09', 'COMUNA 10', 'COMUNA 11', 'COMUNA 12', 'COMUNA 13', 'COMUNA 14', 'COMUNA 15', 'Cachi', 'Cafayate', 'Cainguás', 'Calamuchita', 'Caleu Caleu', 'Calingasta', 'Campana', 'Candelaria', 'Capayán', 'Capital', 'Capitán Sarmiento', 'Carlos Casares', 'Carlos Tejedor', 'Carmen de Areco', 'Caseros', 'Castellanos', 'Castelli', 'Castro Barros', 'Catan LilL', 'Catriló', 'Caucete', 'Cañuelas', 'Cerrillos', 'Chacabuco', 'Chalileo', 'Chamical', 'Chapaleufú', 'Chascomús', 'Chical Co', 'Chicligasta', 'Chicoana', 'Chilecito', 'Chimbas', 'Chivilcoy', 'Chos Malal', 'Choya', 'Cochinoca', 'Collón Curá', 'Colón', 'Comandante Fernández', 'Concepción', 'Concordia', 'Conesa', 'Confluencia', 'Conhelo', 'Constitución', 'Copo', 'Coronel Dorrego', 'Coronel Felipe Varela', 'Coronel Pringles', 'Coronel Suárez', 'Coronel de Marina L. Rosales', 'Corpen Aike', 'Cruz Alta', 'Cruz del Eje', 'Curacó', 'Curuzú Cuatiá', 'Cushamen', 'Daireaux', 'Deseado', 'Diamante', 'Doctor Manuel Belgrano', 'Dolores', 'El Alto', 'El Carmen', 'El Cuy', 'Eldorado', 'Empedrado', 'Ensenada', 'Escalante', 'Escobar', 'Esquina', 'Esteban Echeverría', 'Exaltación de la Cruz', 'Ezeiza', 'Famaillá', 'Famatina', 'Federación', 'Federal', 'Feliciano', 'Figueroa', 'Florencio Varela', 'Florentino Ameghino', 'Formosa', 'Fray Justo Santa María de Oro', 'Fray Mamerto Esquiú', 'Futaleufú', 'Gaiman', 'Garay', 'Gastre', 'General Alvarado', 'General Alvear', 'General Angel V. Peñaloza', 'General Arenales', 'General Belgrano', 'General Donovan', 'General Guido', 'General Güemes', 'General Juan F. Quiroga', 'General Juan Madariaga', 'General La Madrid', 'General Lamadrid', 'General Las Heras', 'General Lavalle', 'General López', 'General Manuel Belgrano', 'General Obligado', 'General Ocampo', 'General Paz', 'General Pedernera', 'General Pinto', 'General Pueyrredón', 'General Roca', 'General Rodríguez', 'General San Martín', 'General Taboada', 'General Viamonte', 'General Villegas', 'Gobernador Dupuy', 'Godoy Cruz', 'Goya', 'Graneros', 'Grl. José de San Martín', 'Guachipas', 'Gualeguay', 'Gualeguaychú', 'Guaminí', 'Guaraní', 'Guasayán', 'Guatraché', 'Guaymallén', 'Güer Aike', 'Hipólito Yrigoyen', 'Hucal', 'Huiliches', 'Humahuaca', 'Hurlingham', 'Iglesia', 'Iguazú', 'Independencia', 'Iriondo', 'Iruya', 'Ischilín', 'Islas del Ibicuy', 'ItatÍ', 'Ituzaingó', 'Jiménez', 'José C. Paz', 'Juan Bautista Alberdi', 'Juan F. Ibarra', 'Junín', 'Juárez Celman', 'Jáchal', 'La Caldera', 'La Candelaria', 'La Capital', 'La Cocha', 'La Costa', 'La Matanza', 'La Paz', 'La Plata', 'La Poma', 'La Viña', 'Lago Argentino', 'Lago Buenos Aires', 'Laishi', 'Languiñeo', 'Lanús', 'Laprida', 'Las Colonias', 'Las Flores', 'Las Heras', 'Lavalle', 'Leales', 'Leandro N. Alem', 'Ledesma', 'Libertad', 'Libertador General San Martín', 'Libertador Grl. San Martín', 'Lihuel Calel', 'Limay Mahuida', 'Lincoln', 'Lobería', 'Lobos', 'Lomas De Zamora', 'Loncopué', 'Loreto', 'Los Andes', 'Los Lagos', 'Loventué', 'Luján', 'Luján de Cuyo', 'Lules', 'Lácar', 'Magallanes', 'Magdalena', 'Maipú', 'Malargüe', 'Malvinas Argentinas', 'Mar Chiquita', 'Maracó', 'Marcos Juárez', 'Marcos Paz', 'Matacos', 'Mayor Luis J. Fontana', 'Mburucuyá', 'Mercedes', 'Merlo', 'Metán', 'Minas', 'Mitre', 'Molinos', 'Monte', 'Monte Caseros', 'Monte Hermoso', 'Montecarlo', 'Monteros', 'Moreno', 'Morón', 'Mártires', 'Navarro', 'Necochea', 'Nogoyá', 'O Higgins', 'Oberá', 'Ojo de Agua', 'Olavarría', 'Orán', 'Paclín', 'Palpalá', 'Paraná', 'Paso de Indios', 'Paso de los Libres', 'Patagones', 'Patiño', 'Pehuajó', 'Pehuenches', 'Pellegrini', 'Pergamino', 'Pichi Mahuida', 'Picunches', 'Picún Leufú', 'Pila', 'Pilagás', 'Pilar', 'Pilcaniyeu', 'Pilcomayo', 'Pinamar', 'Pirané', 'Pocho', 'Pocito', 'Pomán', 'Presidencia de la Plaza', 'Presidente Perón', 'Presidente Roque Sáenz Peña', 'Puelén', 'Punilla', 'Punta Indio', 'Puán', 'Quebrachos', 'Quemú Quemú', 'Quilmes', 'Quitilipi', 'Ramallo', 'Ramón Lista', 'Rancul', 'Rauch', 'Rawson', 'Realicó', 'Rinconada', 'Rivadavia', 'Robles', 'Rojas', 'Roque Pérez', 'Rosario', 'Rosario Vera Peñaloza', 'Rosario de Lerma', 'Rosario de la Frontera', 'Río Chico', 'Río Cuarto', 'Río Grande', 'Río Hondo', 'Río Primero', 'Río Seco', 'Río Segundo', 'Río Senguer', 'SANTA BARBARA', 'Saavedra', 'Saladas', 'Saladillo', 'Salavina', 'Salliqueló', 'Salto', 'San Alberto', 'San Andrés de Giles', 'San Antonio', 'San Antonio de Areco', 'San Blas de los Sauces', 'San Carlos', 'San Cayetano', 'San Cosme', 'San Cristóbal', 'San Fernando', 'San Ignacio', 'San Isidro', 'San Javier', 'San Jerónimo', 'San Justo', 'San Lorenzo', 'San Luis del Palmar', 'San Martín', 'San Miguel', 'San Nicolás', 'San Pedro', 'San Rafael', 'San Roque', 'San Salvador', 'San Vicente', 'Sanagasta', 'Santa Catalina', 'Santa Lucía', 'Santa María', 'Santa Rosa', 'Santa Victoria', 'Santo Tomé', 'Sargento Cabral', 'Sarmiento', 'Sauce', 'Silípica', 'Simoca', 'Sobremonte', 'Suipacha', 'Susques', 'Tafí Viejo', 'Tafí del Valle', 'Tala', 'Tandil', 'Tapalqué', 'Tapenagá', 'Tehuelches', 'Telsen', 'Tercero Arriba', 'Tigre', 'Tilcara', 'Tinogasta', 'Toay', 'Tordillo', 'Tornquist', 'Totoral', 'Trancas', 'Trenel', 'Trenque Lauquen', 'Tres Arroyos', 'Tres De Febrero', 'Tres Lomas', 'Tulumba', 'Tumbaya', 'Tunuyán', 'Tupungato', 'Ullum', 'Unión', 'Uruguay', 'Ushuaia', 'Utracán', 'Valcheta', 'Valle Fértil', 'Valle Grande', 'Valle Viejo', 'Vera', 'Vicente López', 'Victoria', 'Villa Gesell', 'Villaguay', 'Villarino', 'Vinchina', 'Yavi', 'Yerba Buena', 'Zapala', 'Zonda', 'Zárate', 'Ñorquincó', 'Ñorquín']\n",
      "['12 de Octubre', '1º de Mayo', '2 de Abril', '25 de Mayo', '9 de Julio', 'AMBA', 'ANTARTIDA ARGENTINA', 'Adolfo Alsina', 'Adolfo Gonzales Chaves', 'Aguirre', 'Albardón', 'Alberdi', 'Alberti', 'Almirante Brown', 'Aluminé', 'Ambato', 'Ancasti', 'Andalgalá', 'Angaco', 'Anta', 'Antofagasta de la Sierra', 'Apóstoles', 'Arauco', 'Arrecifes', 'Atamisqui', 'Atreucó', 'Avellaneda', 'Ayacucho', 'Azul', 'Añelo', 'Bahía Blanca', 'Balcarce', 'Banda', 'Baradero', 'Bariloche', 'Belgrano', 'Bella Vista', 'Belén', 'Benito Juárez', 'Berazategui', 'Berisso', 'Bermejo', 'Berón de Astrada', 'Biedma', 'Bolívar', 'Bragado', 'Brandsen', 'Burruyacú', 'Cachi', 'Cafayate', 'Cainguás', 'Calamuchita', 'Caleu Caleu', 'Calingasta', 'Campana', 'Candelaria', 'Capayán', 'Capital', 'Capitán Sarmiento', 'Carlos Casares', 'Carlos Tejedor', 'Carmen de Areco', 'Caseros', 'Castellanos', 'Castelli', 'Castro Barros', 'Catan LilL', 'Catriló', 'Caucete', 'Cañuelas', 'Cerrillos', 'Chacabuco', 'Chalileo', 'Chamical', 'Chapaleufú', 'Chascomús', 'Chical Co', 'Chicligasta', 'Chicoana', 'Chilecito', 'Chimbas', 'Chivilcoy', 'Chos Malal', 'Choya', 'Ciudad Autónoma de Buenos Aires', 'Cochinoca', 'Collón Curá', 'Colón', 'Comandante Fernández', 'Concepción', 'Concordia', 'Conesa', 'Confluencia', 'Conhelo', 'Constitución', 'Copo', 'Coronel Dorrego', 'Coronel Felipe Varela', 'Coronel Pringles', 'Coronel Suárez', 'Coronel de Marina L. Rosales', 'Corpen Aike', 'Cruz Alta', 'Cruz del Eje', 'Curacó', 'Curuzú Cuatiá', 'Cushamen', 'Daireaux', 'Deseado', 'Diamante', 'Doctor Manuel Belgrano', 'Dolores', 'El Alto', 'El Carmen', 'El Cuy', 'Eldorado', 'Empedrado', 'Ensenada', 'Escalante', 'Escobar', 'Esquina', 'Esteban Echeverría', 'Exaltación de la Cruz', 'Ezeiza', 'Famaillá', 'Famatina', 'Federación', 'Federal', 'Feliciano', 'Figueroa', 'Florencio Varela', 'Florentino Ameghino', 'Formosa', 'Fray Justo Santa María de Oro', 'Fray Mamerto Esquiú', 'Futaleufú', 'Gaiman', 'Garay', 'Gastre', 'General Alvarado', 'General Alvear', 'General Angel V. Peñaloza', 'General Arenales', 'General Belgrano', 'General Donovan', 'General Guido', 'General Güemes', 'General Juan F. Quiroga', 'General Juan Madariaga', 'General La Madrid', 'General Lamadrid', 'General Las Heras', 'General Lavalle', 'General López', 'General Manuel Belgrano', 'General Obligado', 'General Ocampo', 'General Paz', 'General Pedernera', 'General Pinto', 'General Pueyrredón', 'General Roca', 'General Rodríguez', 'General San Martín', 'General Taboada', 'General Viamonte', 'General Villegas', 'Gobernador Dupuy', 'Godoy Cruz', 'Goya', 'Graneros', 'Grl. José de San Martín', 'Guachipas', 'Gualeguay', 'Gualeguaychú', 'Guaminí', 'Guaraní', 'Guasayán', 'Guatraché', 'Guaymallén', 'Güer Aike', 'Hipólito Yrigoyen', 'Hucal', 'Huiliches', 'Humahuaca', 'Hurlingham', 'Iglesia', 'Iguazú', 'Independencia', 'Iriondo', 'Iruya', 'Ischilín', 'Islas del Ibicuy', 'ItatÍ', 'Ituzaingó', 'Jiménez', 'José C. Paz', 'Juan Bautista Alberdi', 'Juan F. Ibarra', 'Junín', 'Juárez Celman', 'Jáchal', 'La Caldera', 'La Candelaria', 'La Capital', 'La Cocha', 'La Costa', 'La Matanza', 'La Paz', 'La Plata', 'La Poma', 'La Viña', 'Lago Argentino', 'Lago Buenos Aires', 'Laishi', 'Languiñeo', 'Lanús', 'Laprida', 'Las Colonias', 'Las Flores', 'Las Heras', 'Lavalle', 'Leales', 'Leandro N. Alem', 'Ledesma', 'Libertad', 'Libertador General San Martín', 'Libertador Grl. San Martín', 'Lihuel Calel', 'Limay Mahuida', 'Lincoln', 'Lobería', 'Lobos', 'Lomas De Zamora', 'Loncopué', 'Loreto', 'Los Andes', 'Los Lagos', 'Loventué', 'Luján', 'Luján de Cuyo', 'Lules', 'Lácar', 'Magallanes', 'Magdalena', 'Maipú', 'Malargüe', 'Malvinas Argentinas', 'Mar Chiquita', 'Maracó', 'Marcos Juárez', 'Marcos Paz', 'Matacos', 'Mayor Luis J. Fontana', 'Mburucuyá', 'Mercedes', 'Merlo', 'Metán', 'Minas', 'Mitre', 'Molinos', 'Monte', 'Monte Caseros', 'Monte Hermoso', 'Montecarlo', 'Monteros', 'Moreno', 'Morón', 'Mártires', 'Navarro', 'Necochea', 'Nogoyá', 'O Higgins', 'OTROS', 'Oberá', 'Ojo de Agua', 'Olavarría', 'Orán', 'Paclín', 'Palpalá', 'Paraná', 'Paso de Indios', 'Paso de los Libres', 'Patagones', 'Patiño', 'Pehuajó', 'Pehuenches', 'Pellegrini', 'Pergamino', 'Pichi Mahuida', 'Picunches', 'Picún Leufú', 'Pila', 'Pilagás', 'Pilar', 'Pilcaniyeu', 'Pilcomayo', 'Pinamar', 'Pirané', 'Pocho', 'Pocito', 'Pomán', 'Presidencia de la Plaza', 'Presidente Perón', 'Presidente Roque Sáenz Peña', 'Puelén', 'Punilla', 'Punta Indio', 'Puán', 'Quebrachos', 'Quemú Quemú', 'Quilmes', 'Quitilipi', 'Ramallo', 'Ramón Lista', 'Rancul', 'Rauch', 'Rawson', 'Realicó', 'Rinconada', 'Rivadavia', 'Robles', 'Rojas', 'Roque Pérez', 'Rosario', 'Rosario Vera Peñaloza', 'Rosario de Lerma', 'Rosario de la Frontera', 'Río Chico', 'Río Cuarto', 'Río Grande', 'Río Hondo', 'Río Primero', 'Río Seco', 'Río Segundo', 'Río Senguer', 'SANTA BARBARA', 'Saavedra', 'Saladas', 'Saladillo', 'Salavina', 'Salliqueló', 'Salto', 'San Alberto', 'San Andrés de Giles', 'San Antonio', 'San Antonio de Areco', 'San Blas de los Sauces', 'San Carlos', 'San Cayetano', 'San Cosme', 'San Cristóbal', 'San Fernando', 'San Ignacio', 'San Isidro', 'San Javier', 'San Jerónimo', 'San Justo', 'San Lorenzo', 'San Luis del Palmar', 'San Martín', 'San Miguel', 'San Nicolás', 'San Pedro', 'San Rafael', 'San Roque', 'San Salvador', 'San Vicente', 'Sanagasta', 'Santa Catalina', 'Santa Lucía', 'Santa María', 'Santa Rosa', 'Santa Victoria', 'Santo Tomé', 'Sargento Cabral', 'Sarmiento', 'Sauce', 'Silípica', 'Simoca', 'Sobremonte', 'Suipacha', 'Susques', 'Tafí Viejo', 'Tafí del Valle', 'Tala', 'Tandil', 'Tapalqué', 'Tapenagá', 'Tehuelches', 'Telsen', 'Tercero Arriba', 'Tigre', 'Tilcara', 'Tinogasta', 'Toay', 'Tordillo', 'Tornquist', 'Totoral', 'Trancas', 'Trenel', 'Trenque Lauquen', 'Tres Arroyos', 'Tres De Febrero', 'Tres Lomas', 'Tulumba', 'Tumbaya', 'Tunuyán', 'Tupungato', 'Ullum', 'Unión', 'Uruguay', 'Ushuaia', 'Utracán', 'Valcheta', 'Valle Fértil', 'Valle Grande', 'Valle Viejo', 'Vera', 'Vicente López', 'Victoria', 'Villa Gesell', 'Villaguay', 'Villarino', 'Vinchina', 'Yavi', 'Yerba Buena', 'Zapala', 'Zonda', 'Zárate', 'Ñorquincó', 'Ñorquín']\n"
     ]
    }
   ],
   "source": [
    "# Partido\n",
    "# A vista tienen los valores igual escrito\n",
    "# Hago la tabla que contenga los valores y id de cada uno\n",
    "# En base a uno de los primeros df de este codigo\n",
    "# Y despues con este agrego la columna id_Partido.\n",
    "# Si en el tercer df faltan valores de id_Partido, ahi verifico qué hacer.\n",
    "print(list(Conect_local['Partido'].sort_values().unique()))\n",
    "print(list(Acces_Inter_Localidades['Partido'].sort_values().unique()))\n",
    "print(list(Acces_Inter_VelBajada_Localidad['Partido'].sort_values().unique()))"
   ]
  },
  {
   "cell_type": "code",
   "execution_count": 201,
   "metadata": {},
   "outputs": [
    {
     "name": "stdout",
     "output_type": "stream",
     "text": [
      "['1 De Agosto', '11 De Septiembre', '11 de Octubre', '12 de Octubre', '16 de Julio', '17 de Agosto', '1º de Mayo', '20 De Junio', '25 de Mayo', '28 de Julio', '28 de Noviembre', '3 de Mayo', '30 de Agosto', '5Ta Brigada', '7 de Abril', '9 De Abril', '9 de Julio', '9 de Julio (Est. Pueblo 9 de Julio)', '9 de Julio Kilómetro 20', 'AGRONOMIA', 'ALMAGRO', 'ALPASINCHE', 'ALTO VERDE', 'Aarón Castellanos (Est. Castellanos)', 'Abasto', 'Abbott', 'Abdón Castro Tolay', 'Abra Grande', 'Abra Pampa', 'Abralaite', 'Abramo', 'Acassuso', 'Acceso Norte', 'Acebal', 'Acevedo', 'Acheral', 'Achiras', 'Aconquija', 'Acoyte', 'Adelia María', 'Adolfo E. Carranza', 'Adolfo Gonzales Chaves (Est. Chaves)', 'Adolfo Van Praet', 'Adrogué', 'Aerolito', 'Aeropuerto Internacional Ezeiza', 'Agrelo', 'Agua Escondida', 'Agua de Castilla', 'Agua de Oro', 'Aguada Cecilio', 'Aguada Guzmán', 'Aguada San Roque', 'Aguada de Guerra', 'Aguaray', 'Aguará Grande', 'Aguas Blancas', 'Aguas Calientes', 'Aguas Verdes', 'Aguilares', 'Agustina', 'Agustoni', 'Agustín Mosconi', 'Agustín Roca', 'Aicuña', 'Aimogasta', 'Alba Posse', 'Albarellos', 'Alberdi', 'Alberdi Viejo', 'Alberti (Est. Andrés Vaccarezza)', 'Alcira (Est. Gigena)', 'Alcorta', 'Aldao', 'Aldao (Est. Casablanca)', 'Aldea Apeleg', 'Aldea Asunción', 'Aldea Beleiro', 'Aldea Brasilera', 'Aldea Epulef', 'Aldea Escolar', 'Aldea Grapschental', 'Aldea María Luisa', 'Aldea Protestante', 'Aldea Salto', 'Aldea San Antonio', 'Aldea San Francisco', 'Aldea San Juan', 'Aldea San Rafael', 'Aldea Santa María', 'Aldea Santa Rosa', 'Aldea Spatzenkutter', 'Aldea Valle María', 'Alderetes', 'Aldo Bonzi', 'Alejandra', 'Alejandro Korn', 'Alejandro Petión', 'Alejandro Roca (Est. Alejandro)', 'Alejo Ledesma', 'Alfredo Demarchi (Est. Facundo Quiroga)', 'Algarrobo del Águila', 'Alhuampa', 'Alicia', 'Alicia Baja', 'Alijilán', 'Allen', 'Almafuerte', 'Almirante Brown', 'Alpa Corral', 'Alpachiri', 'Alta Gracia', 'Alta Italia', 'Altamirano', 'Altamirano Sur', 'Alto Alegre', 'Alto Carrizal', 'Alto De Las Juntas', 'Alto De Sierra', 'Alto Los Cardales', 'Alto Pelado', 'Alto Pencoso', 'Alto Río Senguer', 'Alto Salvador', 'Alto Verde', 'Alto de Sierra', 'Alto de la Sierra', 'Alto de los Quebrachos', 'Altos de Chipión', 'Aluminé', 'Alvarez Jonte', 'Alvarez de Toledo', 'Alvear', 'Amadores', 'Amaicha del Valle', 'Amanao', 'Amaná', 'Ambil', 'Amboy', 'Ambrosetti', 'Ambul', 'Amenábar', 'Aminga', 'Ampascachi', 'Amuschina', 'América', 'Ana Zumarán', 'Ancaján', 'Ancasti', 'Anchorena', 'Andacollo', 'Andalgalá', 'Andalhualá', 'Andant', 'Andolucas', 'Andrade', 'Angastaco', 'Angel Etcheverry', 'Angel Gallardo', 'Angeloni', 'Angualasto', 'Anguil', 'Anguinan', 'Angulos', 'Angélica', 'Anillaco', 'Animaná', 'Anisacate', 'Anjullón', 'Anquincila', 'Antajé', 'Antelo', 'Antilla', 'Antinaco', 'Antofagasta de la Sierra', 'Antofalla', 'Antonio Carboni', 'Anzoategui', 'Aparicio', 'Aparzo', 'Apolinario Saravia', 'Apoyaco', 'Apóstoles', 'Arana', 'Aranguren', 'Arata', 'Arauco', 'Arbilla', 'Arbol Solo', 'Arboledas', 'Arcadia', 'Ardiles', 'Area De Promocion El Triángulo', 'Area Reserva Cinturón Ecológico', 'Arelauquen', 'Arenas Verdes', 'Arenaza', 'Arequito', 'Argentina', 'Argerich', 'Arias', 'Ariel', 'Aristóbulo del Valle', 'Arizona', 'Arminda', 'Armstrong', 'Arocena', 'Arrayanal', 'Arrecifes', 'Arribeños', 'Arroyito', 'Arroyo Aguiar', 'Arroyo Algodón', 'Arroyo Barú', 'Arroyo Cabral', 'Arroyo Ceibal', 'Arroyo Colorado', 'Arroyo Corto', 'Arroyo Dulce', 'Arroyo Leyes', 'Arroyo Los Berros', 'Arroyo Los Patos', 'Arroyo Martínez', 'Arroyo San Antonio', 'Arroyo Seco', 'Arroyo Venado', 'Arroyo Ventana', 'Arroyo Verde', 'Arroyo de la Cruz', 'Arroyo del Medio', 'Arrufo', 'Arteaga', 'Arturo Segui', 'Asamblea', 'Ascensión', 'Ascochinga', 'Assunta', 'Astica', 'Astra', 'Atahona', 'Atalaya', 'Ataliva', 'Ataliva Roca', 'Atlantida', 'Atocha', 'Aurelia', 'Ausonia', 'Avellaneda', 'Avellaneda (Est. Ewald)', 'Averías', 'Avia Terai', 'Ayacucho', 'Azara', 'Azcuénaga', 'Azopardo', 'Azul', 'Añatuya', 'Añelo', 'BALVANERA', 'BARRACAS', 'BELGRANO', 'BERMEJO', 'BOCA', 'BOEDO', 'BUENA NUEVA', 'Bagual', 'Bahía Blanca', 'Bahía Bustamante', 'Bahía Creek', 'Bahía San Blas', 'Baigorrita', 'Bajada del Agrio', 'Bajo Caracoles', 'Bajo Carrizal', 'Bajo De Veliz', 'Bajo Hondo', 'Bajo San Cayetano', 'Balcarce', 'Balde', 'Balde De Azcurra', 'Balde De Escudero', 'Balde De La Isla', 'Balde De Los Torres', 'Balde Del Carmen', 'Balde Retamo', 'Balde de la Punta', 'Balde del Rosario', 'Baldecito De La Pampa', 'Ballesteros', 'Ballesteros Sur', 'Balnearia', 'Balneario La Verde', 'Balneario Laguna de Gómez', 'Balneario Marisol', 'Balneario Monje', 'Balneario Orense', 'Balneario Pehuen Co', 'Balneario San Cayetano', 'Balneario Sauce Grande', 'Bananal', 'Banco Payaguá', 'Banda de Lucero', 'Banda del Río Salí', 'Bandera', 'Bandera Bajada', 'Banderaló', 'Banfield', 'Baradero', 'Barda del Medio', 'Bardas Blancas', 'Bario Ita', 'Barker', 'Barra Concepción', 'Barranca Alta', 'Barranca Larga', 'Barrancas', 'Barranqueras', 'Barreal', 'Barreal - Villa Pituil', 'Barrio 12 de Octubre', 'Barrio 25 De Mayo', 'Barrio Adina I Y Ii', 'Barrio Aeropuerto', 'Barrio Alto del Olvido', 'Barrio America Unida', 'Barrio Araujo', 'Barrio Arroyo del Medio', 'Barrio Bancario', 'Barrio Banco Provincia', 'Barrio Belgrano Norte', 'Barrio Belgrano-Máximo Paz', 'Barrio Blanco', 'Barrio Caima', 'Barrio Caleta Cordova', 'Barrio Caleta Olivares', 'Barrio Calle Ciega Nº10', 'Barrio Calle Ciega Nº6', 'Barrio Campos El Toledano', 'Barrio Canale', 'Barrio Carrasco', 'Barrio Casa Rosada', 'Barrio Castelli', 'Barrio Chacra Monte', 'Barrio Chivilcoy', 'Barrio Cicarelli', 'Barrio Ciudadela', 'Barrio Colinas Verdes', 'Barrio Colonia Conesa', 'Barrio Cooperativa Los Campamentos', 'Barrio Costa Este', 'Barrio Costa Linda', 'Barrio Costa Oeste', 'Barrio Cuatro Bocas', 'Barrio Destacamento', 'Barrio Echeverria', 'Barrio El Boquerón', 'Barrio El Carmen (Este)', 'Barrio El Carmen Oeste', 'Barrio El Casal', 'Barrio El Cepillo', 'Barrio El Congreso', 'Barrio El Coyunco', 'Barrio El Cruce', 'Barrio El Labrador', 'Barrio El Maruchito', 'Barrio El Milagro', 'Barrio El Mirador', 'Barrio El Nevado', 'Barrio El Pacaá - Barrio Comipini', 'Barrio El Peligro', 'Barrio El Petróleo', 'Barrio El Pilar', 'Barrio El Taladro', 'Barrio El Treinta', 'Barrio Emanuel', 'Barrio Emergente', 'Barrio Empleados de Comercio', 'Barrio Escuela 461', 'Barrio Escuela 633', 'Barrio Esperanza', 'Barrio Finca La Maroma', 'Barrio Frontera', 'Barrio Fátima', 'Barrio Gambier', 'Barrio Gasoducto', 'Barrio Gilbert', 'Barrio Goretti', 'Barrio Guatambu', 'Barrio Guemes', 'Barrio Guerrico', 'Barrio Intendencia', 'Barrio Isla 10', 'Barrio Jesús de Nazaret', 'Barrio Jocolí II', 'Barrio Justo P. Castro IV', 'Barrio Kennedy', 'Barrio La Barda', 'Barrio La Costa', 'Barrio La Defensa', 'Barrio La Esperanza', 'Barrio La Estación', 'Barrio La Gloria', 'Barrio La Herradura', 'Barrio La Lor', 'Barrio La Palmera', 'Barrio La Pega', 'Barrio La Ribera - Barrio APYCAR', 'Barrio La Rotonda', 'Barrio La Unión', 'Barrio Lagunas de Bartoluzzi', 'Barrio Laprida', 'Barrio Las Angustias', 'Barrio Las Casuarinas', 'Barrio Las Golondrinas', 'Barrio Las Malvinas', 'Barrio Las Margaritas', 'Barrio Las Quintas', 'Barrio Las Rosas', 'Barrio Las Tunas', 'Barrio Lomas Altas', 'Barrio Lomas de Tafí', 'Barrio Los Bosquecitos', 'Barrio Los Charabones', 'Barrio Los Jarilleros', 'Barrio Los Olivos', 'Barrio Los Olmos', 'Barrio Los Pinares', 'Barrio Los Pioneros', 'Barrio Luisillo', 'Barrio Manantial Rosales', 'Barrio Mar del Plata', 'Barrio María Auxiliadora', 'Barrio María Elvira', 'Barrio Militar - Aeropuerto Militar', 'Barrio Mitre', 'Barrio Molina Cabrera', 'Barrio Mosconi', 'Barrio Moño Azul', 'Barrio Municipal', 'Barrio Mutual San Martín', 'Barrio Norte (municipio de Cinco Saltos)', 'Barrio Norte (municipio de Cipolletti)', 'Barrio Ntra. Sra. De Fátima', 'Barrio Nuevo Garupa', 'Barrio Nuevo Río Ceballos', 'Barrio Parada 14', 'Barrio Parque Almirante Irizar (Ap. Kilómetro 61)', 'Barrio Parque General San Martin', 'Barrio Parque Las Acacias', 'Barrio Perdriel IV', 'Barrio Pinar', 'Barrio Pino Azul', 'Barrio Planta Compresora de Gas', 'Barrio Porvenir', 'Barrio Presidente Perón', 'Barrio Primavera', 'Barrio Prospero Palazzo', 'Barrio Puente 83', 'Barrio Puente De Madera', 'Barrio Restinga Ali', 'Barrio Rivadavia', 'Barrio Rodriguez Peña', 'Barrio Ruca Luhé', 'Barrio Rural', 'Barrio Ruta 24 Kilómetro 10', 'Barrio Ruta 40', 'Barrio Río Salado', 'Barrio Saavedra', 'Barrio Sadop', 'Barrio San Cayetano', 'Barrio San Felipe', 'Barrio San Jorge', 'Barrio San José III', 'Barrio Santa Isabel', 'Barrio Santa Lucia', 'Barrio Santa Paula', 'Barrio Santa Rita', 'Barrio Santa Rosa', 'Barrio Santa Teresita', 'Barrio Sarmiento', 'Barrio Tres Luces', 'Barrio Tungoil', 'Barrio U.T.A. II', 'Barrio Universitario', 'Barrio Unión', 'Barrio Villa S.U.P.E.', 'Barrio Villa del Parque', 'Barrio Virgen del Rosario', 'Barrio de los Pescadores', 'Barrio del Lago', 'Barrios', 'Barrios Acapulco y Veracruz', 'Bartolomé de las Casas', 'Basail', 'Basavilbaso', 'Base Belgrano Ii', 'Base Brown', 'Base Carlini', 'Base Esperanza', 'Base Marambio', 'Base Matienzo', 'Base Orcadas', 'Base San Martin', 'Batavia', 'Batán', 'Bauer y Sigel', 'Bayauca', 'Bañado de Ovanta', 'Bañado de Soto', 'Bañado de los Pantanos', 'Beazley', 'Beccar', 'Belen de Escobar', 'Bell Ville', 'Bella Estancia', 'Bella Italia', 'Bella Vista', 'Bellocq', 'Beltrán', 'Belén', 'Benavídez', 'Bengolea', 'Benitez', 'Benito Juárez (Est. Juárez)', 'Benito Legeren', 'Benjamín Gould', 'Beravebú', 'Berazategui', 'Berazategui Oeste', 'Berdier', 'Berisso', 'Bermejito', 'Bermejo', 'Bermúdez', 'Berna', 'Bernal', 'Bernal Oeste', 'Bernardo Larroude', 'Bernardo de Irigoyen', 'Bernardo de Irigoyen (Est. Irigoyen)', 'Bernasconi', 'Berrotarán', 'Berutti', 'Berón de Astrada', 'Betbeder', 'Bialet Massé', 'Bigand', 'Billinghurst', 'Blancagrande', 'Blanco Encalada', 'Blancuntre', 'Blaquier', 'Boca Del Tigre', 'Bocayuva', 'Bombal', 'Bonpland', 'Bordenave', 'Bosques', 'Boulogne Sur Mer', 'Bouquet', 'Bouwer', 'Bovril', 'Bowen', 'Bragado', 'Brea Pozo', 'Brinkmann', 'Buen Orden', 'Buen Pasto', 'Buena Esperanza', 'Buena Vista', 'Buenos Aires Chico', 'Bulnes', 'Burzaco', 'Bustinza', 'Buta Ranquil', 'Bárcena', 'CABALLITO', 'CARRODILLA', 'CHACARITA', 'CHACRAS DE CORIA', 'COGHLAN', 'COLEGIALES', 'COLONIA SEGOVIA', 'CONSTITUCION', 'COQUIMBITO', 'CRUZ DE PIEDRA', 'Cabal', 'Cabalango', 'Cabeza De Novillo', 'Cabildo', 'Cabra Corral', 'Caburei', 'Cacharí', 'Cacheuta', 'Cachi', 'Cachirulo', 'Cacique Ariacaiquín', 'Cadret', 'Cafayate', 'Cafferata', 'Caimancito', 'Calabacilla', 'Calchaquí', 'Calchín', 'Calchín Oeste', 'Caldenadas', 'Caleta Olivia', 'Caleufú', 'Calilegua', 'Calingasta', 'Camarones', 'Camet', 'Camet Norte', 'Camilo Aldao', 'Caminiaga', 'Campamento Vespucio', 'Campana', 'Campanas', 'Campichuelo', 'Campo Afuera', 'Campo Andino', 'Campo De Mayo', 'Campo Durán', 'Campo Gallo', 'Campo Garay', 'Campo Grande', 'Campo La Cruz', 'Campo Largo', 'Campo Los Andes', 'Campo Quijano', 'Campo Ramón', 'Campo Santo', 'Campo Viera', 'Campo de Herrera', 'Campos Salles', 'Campos de Roca', 'Campos del Virrey', 'Canals', 'Candelaria', 'Candelaria Sur', 'Candioti', 'Cangrejillos', 'Canning', 'Canteras El Sauce', 'Canteras Quilpo', 'Capayán', 'Capdeville', 'Capiazuti', 'Capilla Del Rosario', 'Capilla Vieja', 'Capilla de Sitón', 'Capilla de los Remedios', 'Capilla del Carmen', 'Capilla del Monte', 'Capilla del Señor (Est. Capilla)', 'Capioviciño', 'Capioví', 'Capitán Bermúdez', 'Capitán Castro', 'Capitán Cáceres', \"Capitán General Bernardo O'Higgins\", 'Capitán Juan Pagé', 'Capitán Montoya', 'Capitán Sarmiento', 'Capitán Solari', 'Capivara', 'Caraguatay', 'Carahunco', 'Carapachay', 'Carboncito', 'Carcarañá', 'Cardenal Cagliero', 'Carhué', 'Carilo', 'Carlos Beguerie', 'Carlos Casares', 'Carlos Keen', 'Carlos María Naón', 'Carlos Pellegrini', 'Carlos Salas', 'Carlos Spegazzini', 'Carlos Tejedor', 'Carlos Tomás Sourigues', 'Carmen', 'Carmen de Areco', 'Carmen de Patagones', 'Carmen del Sauce', 'Carmensa', 'Carnerillo', 'Carolina', 'Carpinteria', 'Carpintería', 'Carrenleufú', 'Carreras', 'Carrilobo', 'Carrizales (Est. Clarke)', 'Carro Quemado', 'Casa Bamba', 'Casa Colorada', 'Casa De Los Tigres', 'Casa Grande', 'Casa de Piedra', 'Casabindo', 'Casalegno', 'Casalins', 'Casares', 'Casas', 'Casbas', 'Cascadas', 'Caseros', 'Caseros Centro', 'Casilda', 'Casira', 'Caspalá', 'Caspi Corral', 'Caspichango', 'Castelar', 'Castellanos', 'Castelli', 'Castilla', 'Castro Barros', 'Catriel', 'Catriló', 'Catua', 'Caucete', 'Causana', 'Cavanagh', 'Caviahué', 'Cavour', 'Cayastacito', 'Cayastá', 'Cazador', 'Cazadores Correntinos', 'Cazón', 'Caá - Yarí', 'Cañada Escobar', 'Cañada Honda', 'Cañada Ombú', 'Cañada Rica', 'Cañada Rosquín', 'Cañada Seca', 'Cañada de Gómez', 'Cañada de Luque', 'Cañada de Machado', 'Cañada de Río Pinto', 'Cañada del Sauce', 'Cañada del Ucle', 'Cañadón Chileno', 'Cañadón Seco', 'Cañuelas', 'Ceballos', 'Ceibalito', 'Ceibas', 'Centenario', 'Centeno', 'Centinela del Mar', 'Centro 25 de Junio', 'Centro Agrícola El Pato', 'Centro Forestal', 'Centro Guerrero', 'Cepeda', 'Ceres', 'Cerrillos', 'Cerrito', 'Cerrito Blanco', 'Cerro Azul', 'Cerro Colorado', 'Cerro Corá', 'Cerro Cóndor', 'Cerro Negro', 'Cerro Policía', 'Cerro de Oro', 'Cerro de la Gloria', 'Cerros Largos', 'Cervantes', 'Cevil Redondo', 'Chabás', 'Chacabuco', 'Chacharramendi', 'Chacras de San Clemente', 'Chacras del Río Luján', 'Chajarí', 'Chaján', 'Chalacea', 'Chalicán', 'Chamical', 'Chancani', 'Chapadmalal', 'Chapanay', 'Chapuy', 'Chaquiago', 'Charadai', 'Charata', 'Charbonier', 'Charigüé', 'Charlone', 'Charras', 'Chascomús', 'Chasicó', 'Chauchillas', 'Chaupi Pozo', 'Chaupihuasi', 'Chavarría', 'Chazón', 'Chañar', 'Chañar Ladeado', 'Chañar Pozo de Abajo', 'Chañar Punco', 'Chañar Viejo', 'Chañarmuyo', 'Chelforó', 'Chepes', 'Chichinales', 'Chiclana', 'Chicoana', 'Chilca Juliana', 'Chilecito', 'Chilibroste', 'Chillar', 'Chimbas', 'Chimpay', 'Chivilcoy', 'Choele Choel', 'Cholila', 'Choromoro', 'Chorotis', 'Chorriaca', 'Chos Malal', 'Chosmes', 'Chovet', 'Choya', 'Christophersen', 'Chuchucaruana', 'Chucul', 'Chucuma', 'Chumbicha', 'Chuquis', 'Churqui Cañada', 'Churruca', 'Chuña', 'Chuña Huasi', 'Cianzo', 'Cienaga De Intihuasi', 'Cienaguita', 'Cieneguillas', 'Ciervo Petiso', 'Cinco Saltos', 'Cintra', 'Cipolletti', 'City Bell', 'Ciudad De Los Niños', 'Ciudad Del Libertador General San Martin', 'Ciudad Evita', 'Ciudad Jardin El Libertador', 'Ciudad Jardín Lomas del Palomar', 'Ciudadela', 'Ciénaga del Coro', 'Ciénega', 'Claraz', 'Claromecó', 'Classon', 'Claypole', 'Clemente Onelli', 'Clodomira', 'Clodomiro Ledesma', 'Clorinda', 'Club de Campo Larena - Los Quinchos', 'Club de Campo Las Malvinas', 'Club de Campo Los Puentes', 'Cobos', 'Cobres', 'Cochinoca', 'Coctaca', 'Colalao del Valle', 'Colan Conhue', 'Colana', 'Colazo', 'Collagasta', 'Colmena', 'Colombres', 'Colonia 10 de Julio', 'Colonia Aborigen', 'Colonia Alemana', 'Colonia Alicia', 'Colonia Almada', 'Colonia Alpina', 'Colonia Ana', 'Colonia Anguinán', 'Colonia Anita', 'Colonia Aurora', 'Colonia Avellaneda', 'Colonia Avigdor', 'Colonia Ayuí', 'Colonia Baranda', 'Colonia Barge', 'Colonia Barón', 'Colonia Belgrano', 'Colonia Benítez', 'Colonia Bicha', 'Colonia Bismarck', 'Colonia Bossi', 'Colonia Bremen', 'Colonia Campo Villafañe', 'Colonia Carlos Pellegrini', 'Colonia Carolina', 'Colonia Caroya', 'Colonia Catinzaco', 'Colonia Cello', 'Colonia Crespo', 'Colonia Dolores', 'Colonia Don Antonio', 'Colonia Dora', 'Colonia Durán', 'Colonia El Simbolar', 'Colonia Elisa', 'Colonia Elía', 'Colonia Ensanche Sauce', 'Colonia Ensayo', 'Colonia Fiorito', 'Colonia Fiscal', 'Colonia General Roca', 'Colonia Gutierrez', 'Colonia Hinojo', 'Colonia Hugues', 'Colonia Italiana', 'Colonia Iturraspe', 'Colonia Juliá y Echarren', 'Colonia La Argentina', 'Colonia Las Cuatro Esquinas', 'Colonia Las Pichanas', 'Colonia Las Rosas', 'Colonia Libertad', \"Colonia Liebig's\", 'Colonia Malligasta', 'Colonia Margarita', 'Colonia Marina', 'Colonia Mauricio', 'Colonia Mayo - Barrio La Milagrosa', 'Colonia Merou', 'Colonia Médici', 'Colonia Nievas', 'Colonia Nueva Coneta', 'Colonia Ortiz de Ocampo', 'Colonia Pando', 'Colonia Pastoril', 'Colonia Peña', 'Colonia Polana', 'Colonia Popular', 'Colonia Prosperidad', 'Colonia Raquel', 'Colonia Rosa', 'Colonia San Adolfo', 'Colonia San Bartolomé', 'Colonia San José', 'Colonia San Juan', 'Colonia San Martín', 'Colonia San Miguel', 'Colonia San Miguel Arcángel', 'Colonia San Pedro', 'Colonia San Ricardo (Est. Iriarte)', 'Colonia Santa María', 'Colonia Santa Rosa', 'Colonia Sarmiento', 'Colonia Segovia', 'Colonia Seré', 'Colonia Suiza', 'Colonia Tinco', 'Colonia Tirolesa', 'Colonia Valtelina', 'Colonia Veinticinco', 'Colonia Vicente Agüero', 'Colonia Vichigasta', 'Colonia Victoria', 'Colonia Videla', 'Colonia Vignaud', 'Colonia Yeruá', 'Colonia Zubelzu', 'Colonia del Valle', 'Colonias Unidas', 'Colpes', 'Colón', 'Comallo', 'Comandante Fontana', 'Comandante Luis Piedrabuena', 'Comandante Nicanor Otamendi', 'Comicó', 'Comodoro Py', 'Comodoro Rivadavia', 'Cona Niyeu', 'Concarán', 'Concepción', 'Concepción de la Sierra', 'Concepción del Bermejo', 'Concepción del Uruguay', 'Concordia', 'Conesa', 'Coneta', 'Conhelo', 'Conlara', 'Conscripto Bernardi', 'Constanza', 'Contralmirante Cordero', 'Copacabana', 'Copahue', 'Copetonas', 'Copo Quile', 'Coranzuli', 'Corcovado', 'Cordobita', 'Cordón del Plata', 'Coronda', 'Coronel Alzogaray', 'Coronel Arnold', 'Coronel Baigorria', 'Coronel Belisle', 'Coronel Boerr', 'Coronel Bogado', 'Coronel Brandsen', 'Coronel Charlone', 'Coronel Cornejo', 'Coronel Dorrego', 'Coronel Du Graty', 'Coronel Fraga', 'Coronel Hilario Lagos (Est. Aguas Buenas)', 'Coronel Juan Solá', 'Coronel Manuel L. Rico', 'Coronel Martínez de Hoz (Ap. Kilómetro 322)', 'Coronel Moldes', 'Coronel Mollinedo', 'Coronel Olleros', 'Coronel Pringles (Est. Pringles)', 'Coronel Rodolfo S. Domínguez', 'Coronel Seguí', 'Coronel Suárez', 'Coronel Vidal', 'Corpus', 'Corral Quemado', 'Corral de Bustos', 'Corralito', 'Correa', 'Corrientes', 'Cortaderas', 'Cortines', 'Corzuela', 'Cosquín', 'Costa Azul', 'Costa Bonita', 'Costa Flores', 'Costa Grande', 'Costa de Araujo', 'Costa de Reyes', 'Costa del Chubut', 'Costasacate', 'Cote Lai', 'Country Chacras de la Villa - Country San Isidro', 'Country Club Bosque Real - Barrio Morabo', 'Country Club El Casco', 'Country Club El Jagüel', 'Country Club El Rodeo', 'Country Club Las Praderas', 'Country Club Los Caldenes', 'Country Jockey Club', 'Country Los Medanos', 'Covunco Centro', 'Coyaguaima', 'Crespo', 'Crispi', 'Crotto', 'Cruce Caballero', 'Crucesita', 'Crucesitas Séptima Sección', 'Cruz Alta', 'Cruz Caña', 'Cruz de Caña', 'Cruz de Piedra', 'Cruz de los Milagros', 'Cruz del Eje', 'Cuadro Benegas', 'Cuadro Nacional', 'Cuadro Ortega', 'Cuartel V', 'Cuatro Bocas', 'Cuatro Esquinas', 'Cuchillo Co', 'Cucullú', 'Cuesta Blanca', 'Cuipan', 'Cululú', 'Cura Malal', 'Curarú', 'Curupaity', 'Curuzú Cuatiá', 'Cushamen Centro', 'Cusi Cusi', 'Cutral Có', 'Cóndor Huasi', 'Córdoba', \"D'Orbigny\", 'DORREGO', 'Daireaux', 'Dalmacio Vélez', 'Damián Maisonave (Est. Simson)', 'Daniel Donovan', 'Darregueira', 'Darwin', 'De Bary', 'De la Canal', 'De la Garma', 'Del Campillo', 'Del Carril', 'Del Valle', 'Del Viso', 'Delfín Gallo', 'Delfín Huergo', 'Desaguadero', 'Desiderio Tello', 'Despeñaderos', 'Destacamento Camara', 'Destacamento Decepcion', 'Destacamento Melchior', 'Destacamento Petrel', 'Desvío Aguirre', 'Desvío Arijón', 'Devoto', 'Deán Funes', 'Diadema Argentina', 'Diagonal Norte - Luz y Fuerza - Los Pocitos - Villa Nueva Italia (6)', 'Diamante', 'Diego Gaynor', 'Diego de Alvear', 'Diego de Rojas', 'Dina Huapi', 'Dique Chico', 'Dique Florentino Ameghino', 'Dique Luján', 'Dique Nº 1', 'Dique Vulpiani', 'Divisadero', 'Doblas', 'Dock Sud', 'Doctor Ricardo Rojas', 'Dolavon', 'Dolores', 'Domingo Savio', 'Domselaar', 'Don Bosco', 'Don Cristóbal', 'Don Emilio', 'Don Orione', 'Don Torcuato Este', 'Don Torcuato Oeste', 'Donadeu', 'Dorila', 'Dos Acequias (Est. Los Angacos)', 'Dos Arroyos', 'Dos Hermanas', 'Dos de Mayo Núcleo I', 'Dos de Mayo Núcleo II', 'Dos de Mayo Núcleo III', 'Dr. Manuel Belgrano', 'Dragones', 'Dudignac', 'Dufaur', 'Duggan', 'Dumesnil', 'Dunamar', 'Durazno', 'Díaz', 'EL CHALLAO', 'EL PLUMERILLO', 'EL RESGUARDO', 'EL SAUCE', 'EL ZAPALLAR', 'EX INGENIO SAN JOSE', 'Eduardo Castex', 'Egusquiza', 'El 49', 'El Acheral', 'El Aguilar', 'El Alamito', 'El Alcalde (Est. Tala Norte)', 'El Alcázar', 'El Algarrobal', 'El Alto', 'El Angosto', 'El Araza', 'El Arañado', 'El Arbolito', 'El Arenal', 'El Aybal', 'El Baldecito', 'El Barrial', 'El Bañado', 'El Bobadal', 'El Bolsón', 'El Borbollon', 'El Bordo', 'El Bracho', 'El Brete', 'El Brillante', 'El Caburé', 'El Cadillal', 'El Cajón', 'El Calafate', 'El Calden', 'El Caramelo', 'El Carmelo', 'El Carmen', 'El Carril', 'El Carrizal', 'El Caín', 'El Ceibal', 'El Cerrito', 'El Chacho', 'El Chaltén', 'El Charabon', 'El Charco', 'El Chañar', 'El Chocón', 'El Cholar', 'El Chorrillo', 'El Churrasco', 'El Cimarrón', 'El Colorado', 'El Corcovado - El Torreón', 'El Corte', 'El Crispín', 'El Crucero', 'El Cuadrado', 'El Cuy', 'El Cóndor', 'El Desmonte', 'El Deán', 'El Diquecito', 'El Divisadero', 'El Divisorio', 'El Dorado', 'El Duraznito', 'El Durazno', 'El Empalme', 'El Encón', 'El Escorial', 'El Espinillo', 'El Espino', 'El Estanquito', 'El Fical', 'El Fiscal', 'El Fortín', 'El Foyel', 'El Fuerte', 'El Fuertecito', 'El Galpón', 'El Hoyo', 'El Huayco', 'El Hueco', 'El Huecú', 'El Injerto', 'El Jagüel', 'El Jardín', 'El Juncal', 'El Libertador', 'El Lindero', 'El Maitén', 'El Manantial', 'El Manzano', 'El Marquesado', 'El Medanito', 'El Milagro', 'El Mirador', 'El Mirasol', 'El Mogote', 'El Mojón', 'El Mollar', 'El Moreno', 'El Médano', 'El Naranjo', 'El Nihuil', 'El Pajonal (Est. Pomán)', 'El Palenque', 'El Palomar', 'El Pantanillo', 'El Paraguay', 'El Paraiso', 'El Paramillo', 'El Paraíso', 'El Pedregal', 'El Pensamiento', 'El Peral', 'El Perdido (Est. José A. Guisasola)', 'El Peñón', 'El Pingo', 'El Piquete', 'El Portezuelo', 'El Potrerillo', 'El Potrero', 'El Potrillo', 'El Pueblito', 'El Puesto', 'El Quebrachal', 'El Quebracho', 'El Quemado', 'El Quimilo', 'El Rabón', 'El Ramblón', 'El Rastreador', 'El Recodo', 'El Recreo', 'El Recuerdo', 'El Redomón', 'El Remanso', 'El Retiro', 'El Rincon', 'El Rincón', 'El Rodeo', 'El Rosario', 'El Salado', 'El Salto', 'El Sauce', 'El Sauzal', 'El Sauzalito', 'El Sifon', 'El Soberbio', 'El Solar', 'El Sombrero', 'El Sosneado', 'El Tabacal', 'El Tala', 'El Talar', 'El Tipal - La Almudena', 'El Toro', 'El Trapiche', 'El Trigo', 'El Triunfo', 'El Tropezon', 'El Tropezón', 'El Trébol', 'El Tunal', 'El Turbio (Est. Gobernador Mayer)', 'El Tuscal', 'El Tío', 'El Valle', 'El Vergel', 'El Vinagrillo', 'El Volcán', 'El Zampal', 'El Zanjón', 'El Zapallar', 'El cazador', 'Eldorado', 'Elena', 'Eleodoro Lobos', 'Elisa', 'Elortondo', 'Elvira', 'Embajador Martini', 'Embalse', 'Embarcación', 'Emilia', 'Emilio Ayarza', 'Emilio V. Bunge', 'Empalme San Carlos', 'Empalme Villa Constitución', 'Empedrado', 'Energía', 'Enrique Carbó', 'Enrique Urién', 'Ensenada', 'Epuyén', 'Ernestina', 'Erézcano', 'Escalada', 'Esmeralda', 'Espartillar', 'Esperanza', 'Espigas', 'Esquel', 'Esquina', 'Esquina Negra', 'Esquina del Alambre', 'Esquiú', 'Estacion Camet', 'Estacion Presidente Roca', 'Estacion Puiggari', 'Estación Apóstoles', 'Estación Arenales', 'Estación Arroyo Clé', 'Estación Aráoz', 'Estación Atamisqui', 'Estación Camps', 'Estación Chapadmalal', 'Estación Clucellas', 'Estación Colonia Tirolesa', 'Estación Escriña', 'Estación General Obligado', 'Estación La Punta', 'Estación Lazo', 'Estación Lecueder', 'Estación Libertad', 'Estación Luxardo', 'Estación Mazán', 'Estación Raíces', 'Estación Robles', 'Estación Saguier', 'Estación Taboada', 'Estación Tacañitas', 'Estación Torrent', 'Estación Yeruá', 'Estación Yuquerí', 'Estancia De Amieva', 'Estancia Grande', 'Estancia San Pedro', 'Estancia Vieja', 'Estancia de Guadalupe', 'Estanislao Severo Zeballos', 'Estanislao del Campo', 'Esteban Agustín Gascón', 'Esteban Rams', 'Estela', 'Esther', 'Etruria', 'Eufrasio Loza', 'Eugenio Bustos', 'Eusebia y Carolina', 'Eustolia', 'Ex Ingenio Esperanza', 'Ex Ingenio Los Ralos', 'Ex Ingenio Lujan', 'Ex Ingenio Nueva Baviera', 'Ezpeleta', 'Ezpeleta Oeste', 'FLORES', 'FLORESTA', 'Facundo', 'Falda del Carmen', 'Falda del Cañete', 'Falucho', 'Famaillá', 'Famatanca', 'Famatina', 'Farallón Negro', 'Faro', 'Faustino M. Parera', 'Febré', 'Federación', 'Federal', 'Felicia', 'Felipe Solá', 'Felipe Yofré', 'Fernández', 'Ferri', 'Ferré', 'Fiambalá', 'Fighiera', 'Firmat', 'Fitz Roy', 'Fleming', 'Florencia', 'Florencio Varela', 'Florentino Ameghino', 'Florida', 'Florida Oeste', 'Fofo Cahuel', 'Fontana', 'Fontezuela', 'Formosa', 'Fortuna', 'Fortín Acha', 'Fortín Cabo 1º Lugones', 'Fortín El Patria', 'Fortín Inca', 'Fortín Las Chuñas', 'Fortín Lavalle', 'Fortín Olavarría', 'Fortín Olmos', 'Fortín Sargento 1º Leyes', 'Fortín Soledad', 'Fortín Tiburcio', 'Fracrán', 'Fraga', 'Fraile Pintado', 'Francisco Alvarez', 'Francisco Madero', 'Franck', 'Franklin', 'Fray Luis Beltrán', 'Frente Mar', 'Freyre', 'Frontera', 'Frontera de Río Pico', 'Frías', 'Fuentes', 'Fuerte Esperanza', 'Fuerte Quemado', 'Funes', 'Fátima', 'GENERAL BELGRANO', 'GENERAL GUTIERREZ', 'Gaboto', 'Gahan', 'Gaiman', 'Gan Gan', 'Gancedo', 'Gaona', 'Garabato', 'Garayalde', 'Gardey', 'Garibaldi', 'Garmendia', 'Garruchos', 'Garré', 'Garuhapé', 'Garupá', 'Garza', 'Garín', 'Gastre', 'Gato Colorado', 'General Acha', 'General Almada', 'General Alvear', 'General Arenales', 'General Baldissera', 'General Ballivián', 'General Belgrano', 'General Cabrera', 'General Campos', 'General Capdevila', 'General Conesa', 'General Daniel Cerri (Est. General Cerri)', 'General Deheza', 'General Enrique Godoy', 'General Fernández Oro', 'General Fotheringham', 'General Galarza', 'General Gelly', 'General Guido', 'General Güemes', 'General Hornos', 'General José de San Martín', 'General Juan Madariaga', 'General La Madrid', 'General Lagos', 'General Las Heras (Est. Las Heras)', 'General Lavalle', 'General Levalle', 'General Lucio Victorio Mansilla', 'General Mansilla (Est. Bartolomé Bavio)', 'General Manuel J. Campos', 'General Mosconi', \"General O'Brien\", 'General Pacheco', 'General Paz', 'General Pico', 'General Pinedo', 'General Pinto', 'General Pirán', 'General Pizarro', 'General Racedo', 'General Ramírez', 'General Rivas', 'General Roca', 'General Rodríguez', 'General Rojo', 'General San Martín (Est. Villa Alba)', 'General Urquiza', 'General Vedia', 'General Villegas (Est. Villegas)', 'Gerli', 'Germania (Est. Mayor José Orellano)', 'Gessler', 'Gilbert', 'Girodias', 'Glew', 'Gobernador Benegas', 'Gobernador Castro', 'Gobernador Costa', 'Gobernador Crespo', 'Gobernador Duval', 'Gobernador Echagüe', 'Gobernador Gregores', 'Gobernador Igr. Valentín Virasoro', 'Gobernador Juan E. Martínez', 'Gobernador Julio A. Costa', 'Gobernador López', 'Gobernador Mansilla', 'Gobernador Roca', 'Gobernador Solá', 'Gobernador Udaondo', 'Gobernador Ugarte', 'Godoy', 'Godoy Cruz', 'Goldney', 'Golondrina', 'Gonzalez Catán', 'González Moreno', 'Gorchs', 'Gorostiaga', 'Goudge', 'Gowland', 'Goya', 'Goyena', 'Gramilla', 'Gran China', 'Gran Guardia', 'Granadero Baigorria', 'Grand Bourg', 'Graneros', 'Gregoria Pérez de Denis (Est. El Nochero)', 'Gregorio De Laferrere', 'Grunbein', 'Grutly', 'Guachipas', 'Guadalcazar', 'Guadalupe Norte', 'Gualeguay', 'Gualeguaychú', 'Gualjaina', 'Guaminí', 'Guanacache', 'Guanaco Muerto', 'Guanchín', 'Guandacol', 'Guaraní', 'Guardamonte', 'Guardia Escolta', 'Guardia Mitre', 'Guasapampa', 'Guatimozín', 'Guatraché', 'Guaviraví', 'Guayamba', 'Guaymallén', 'Guernica', 'Guerrero', 'Guerrico', 'Guillermo E. Hudson', 'Gunther', 'Gálvez', 'Gómez', 'Gödeken', 'Gütemberg', 'Haedo', 'Hale', 'Hambis', 'Hasenkamp', 'Hasse', 'Haumonía', 'Helvecia', 'Henderson', 'Hermoso Campo', 'Hernandarias', 'Hernando', 'Hernán Mejía Miraval', 'Hernández', 'Herradura', 'Herrera', 'Herrera Vegas', 'Hersilia', 'Hickman', 'Hilario Ascasubi', 'Hinojo', 'Hipatia', 'Hipólito Bouchard', 'Hipólito Yrigoyen', 'Hipólito Yrigoyen (Est. Iturbe)', 'Hito 1', 'Hocker', 'Horquilla', 'Hortensia', 'Huacalera', 'Huaco', 'Hualfín', 'Hualtaran', 'Huanchillas', 'Huanguelén', 'Huanqueros', 'Huaycama', 'Hucal', 'Huerta Grande', 'Hughes', 'Huillapima', 'Huinca Renancó', 'Huinganco', 'Humahuaca', 'Humberto Primo', 'Humboldt', 'Hurlingham', 'Huyamampa', 'Huáncar', 'Ibarlucea', 'Ibarreta', 'Ibicuy', 'Icaño', 'Idiazabal', 'Iglesia', 'Ignacio Correas', 'Iltico', 'Impira', 'Independencia', 'Indio Rico', 'Infanzón', 'Ingeniero Adolfo Sourdeaux', 'Ingeniero Barbet', 'Ingeniero Chanourdie', 'Ingeniero Forres (Est. Chaguar Punco)', 'Ingeniero Foster', 'Ingeniero Giagnoni', 'Ingeniero Guillermo N. Juárez', 'Ingeniero Gustavo André', 'Ingeniero Jacobacci', 'Ingeniero Juan Allan', 'Ingeniero Luiggi', 'Ingeniero Luis A. Huergo', 'Ingeniero Maschwitz', 'Ingeniero Miguel Sajaroff', 'Ingeniero Moneta', 'Ingeniero Otto Krause', 'Ingeniero Pablo Nogués', 'Ingeniero Thompson', 'Ingeniero White', 'Ingenio Fronterita', 'Ingenio La Florida', 'Ingenio Primer Correntino', 'Ingenio San Pablo', 'Ingenio Santa Barbara', 'Inocencio Sosa', 'Inriville', 'Integración', 'Intendente Alvear', 'Intihuasi', 'Intiyaco', 'Inés Indart', 'Irala', 'Irazusta', 'Irene', 'Irigoyen', 'Irineo Portela', 'Iruya', 'Isca Yacu', 'Isca Yacu Semaul', 'Isidro Casanova', 'Isla Santiago (Oeste)', 'Isla Verde', 'Isla de Cañas', 'Isla del Cerrito', 'Itacaruaré', 'Italó', 'Itatí', 'Ituzaingó', 'Ituzaingó Centro', 'Ituzaingó Sur', 'Itá Ibaté', 'Itín', 'JESUS NAZARENO', 'Jacinto Arauz', 'Jacinto L. Aráuz', 'Jacipunco', 'Jagüé', 'Jaime Prats', 'Jama', 'James Craik', 'Jaramillo', 'Jardín América', 'Jardín Arenales', 'Jarilla', 'Jeppener', 'Jesús María', 'Joaquin Gorina', 'Joaquín V. González', 'Jocolí', 'Jocolí Viejo', 'Jorge Born', 'Jose Hernandez', 'Jose Ingenieros', 'Jose Melchor Romero', 'Jose Mármol', 'Josefina', 'José B. Casas', 'José C Paz', 'José Juan Almeyra', 'José Maria Ezeiza', 'José María Jáuregui (Est. Jáuregui)', 'José Rafael Gómez', 'José de San Martín', 'José de la Quintana', 'Joyango', 'Juan A. Pradere', 'Juan A. de la Peña', 'Juan Anchorena (Est. Urquiza)', 'Juan B. Molina', 'Juan Bautista Alberdi', 'Juan Bautista Alberdi (Est. Alberdi)', 'Juan Cousté (Est. Algarrobo)', 'Juan E. Barra', 'Juan F. Ibarra', 'Juan G. Bazán', 'Juan Jorba', 'Juan José Castelli', 'Juan José Paso', 'Juan Llerena', 'Juan María Gutierrez', 'Juan N. Fernández', 'Juan Pujol', 'Juan W. Gez', 'Juana Koslay', 'Jubileo', 'Juella', 'Julia Dufour', 'Juncal', 'Junín', 'Junín de los Andes', 'Justiniano Posse', 'Justo Daract', 'Juventud Unida', 'KILOMETRO 11 (GUAYMALLEN)', 'KM. 3 - General Mosconi', 'KM. 5 - Presidente Ortiz', 'KM. 8 - Don Bosco', 'Kilómetro 101', 'Kilómetro 115', 'Kilómetro 17', 'Kilómetro 30', 'Kilómetro 658', 'Km. 11 - Cuarteles', 'Koluel Kaike', 'LAS CAÑAS', 'LAS TORTUGAS', 'LINIERS', 'LUZURIAGA', 'La Adela', 'La Aguada', 'La Almona', 'La Angelina', 'La Angelita', 'La Arboleda', 'La Armonía', 'La Aurora', 'La Aurora (Est. La Niña)', 'La Avenencia', 'La Bajada', 'La Baliza', 'La Banda', 'La Batea', 'La Beba', 'La Boca del Río', 'La Botija', 'La Brava', 'La Brea', 'La Buitrera', 'La Cabral', 'La Caldera', 'La Calera', 'La Caleta', 'La Candelaria', 'La Capilla', 'La Carbonada', 'La Carlota', 'La Carolina', 'La Carrera', 'La Carreta', 'La Cautiva', 'La Cañada', 'La Celestina', 'La Central', 'La Cesira', 'La Chilca', 'La Chimbera', 'La Chispa', 'La Choza', 'La Cieneguita', 'La Ciénaga y Barrio San Rafael', 'La Ciénega', 'La Clarita', 'La Clotilde', 'La Cocha', 'La Colina', 'La Colonia', 'La Constancia', 'La Consulta', 'La Corita', 'La Cortadera', 'La Criolla', 'La Criolla (Est. Cañadita)', 'La Cruz', 'La Cuadra', 'La Cumbre', 'La Cumbrecita', 'La Delfina', 'La Donosa', 'La Dorada', 'La Dormida', 'La Dársena', 'La Eduvigis', 'La Emilia', 'La Escondida', 'La Esperanza', 'La Esquina', 'La Falda', 'La Falda De San Antonio', 'La Firmeza', 'La Floresta', 'La Florida', 'La Francia', 'La Gallareta', 'La Gilda', 'La Gloria', 'La Granja', 'La Guardia', 'La Higuera', 'La Hoyada', 'La Humada', 'La Intermedia', 'La Invencible', 'La Invernada', 'La Isleta', 'La Juanita', 'La Laguna', 'La Larga', 'La Leonesa', 'La Libertad', 'La Limpia', 'La Llave Nueva', 'La Lobería', 'La Loma', 'La Lomita', 'La Lonja', 'La Lucila', 'La Luisa', 'La Majada', 'La Manga', 'La Manuela', 'La Maroma', 'La Maruja', 'La Mendieta', 'La Merced', 'La Merced del Encón', 'La Mesada', 'La Misión', 'La Morada', 'La Nena', 'La Nueva Donosa', 'La Paisanita', 'La Pala', 'La Palestina', 'La Pampa', 'La Paquita', 'La Para', 'La Paz', 'La Pelada', 'La Penca y Caraguatá', 'La Perla', 'La Petra', 'La Picada', 'La Plata', 'La Playa', 'La Playosa', 'La Población', 'La Poma', 'La Posta', 'La Primavera', 'La Providencia', 'La Puerta', 'La Punilla', 'La Punta', 'La Puntilla', 'La Quiaca', 'La Quinta', 'La Ramada', 'La Ramadita', 'La Rancherita', 'La Redonda', 'La Reducción', 'La Reforma', 'La Reja', 'La Represita', 'La Ribera', 'La Rica', 'La Rinconada', 'La Rioja', 'La Rubia', 'La Sabana', 'La Salvadora', 'La Sarita', 'La Serranita', 'La Silleta', 'La Sofía', 'La Tablada', 'La Tercena', 'La Tigra', 'La Toma', 'La Tordilla', 'La Totora', 'La Travesía', 'La Trinidad', 'La Unión', 'La Vanguardia', 'La Verde', 'La Vertiente', 'La Violeta', 'La Viña', 'Labarden', 'Laborde', 'Labordeboy', 'Laboulaye', 'Lafinur', 'Lago Blanco', 'Lago Epuyén', 'Lago Puelo', 'Lago Rosario', 'Laguna Alsina (Est. Bonifacio)', 'Laguna Blanca', 'Laguna Brava', 'Laguna Escondida', 'Laguna Gallo', 'Laguna Larga', 'Laguna Limpia', 'Laguna Naick-Neck', 'Laguna Paiva', 'Laguna Vitel', 'Laguna Yema', 'Laguna de Lobos', 'Laguna del Pescado', 'Lagunillas de Farallón', 'Lagunita Salada', 'Laharrague', 'Lamadrid', 'Lamarque', 'Lampacito', 'Landeta', 'Lanteri', 'Lanús Este', 'Lanús Oeste', 'Lapachito', 'Laplacette', 'Laprida', 'Larguía', 'Larrechea', 'Larroque', 'Lartigau', 'Las Acequias', 'Las Aguadas', 'Las Albahacas', 'Las Armas', 'Las Arrias', 'Las Avispas', 'Las Bahamas', 'Las Bajadas', 'Las Bandurrias', 'Las Barrancas', 'Las Barranquitas', 'Las Bayas', 'Las Breñas', 'Las Caleras', 'Las Calles', 'Las Carabelas', 'Las Carditas', 'Las Catitas', 'Las Cañadas', 'Las Cañas', 'Las Cejas', 'Las Chacras', 'Las Chacritas', 'Las Chimbas', 'Las Coloradas', 'Las Compuertas', 'Las Corzuelas', 'Las Costas', 'Las Cuevas', 'Las Delicias', 'Las Encadenadas', 'Las Esquinas', 'Las Flores', 'Las Garcitas', 'Las Garzas', 'Las Gramillas', 'Las Grutas', 'Las Guachas', 'Las Heras', 'Las Higueras', 'Las Isletas', 'Las Isletillas', 'Las Jarillas', 'Las Jaulas', 'Las Juntas', 'Las Junturas', 'Las Lagunas', 'Las Lagunitas', 'Las Lajas', 'Las Lajitas', 'Las Leñas', 'Las Lomitas', 'Las Malvinas', 'Las Marianas', 'Las Martinetas', 'Las Mojarras', 'Las Moscas', 'Las Oscuras', 'Las Ovejas', 'Las Palmas', 'Las Palmeras', 'Las Palmitas', 'Las Palomas', 'Las Parejas', 'Las Perdices', 'Las Perlas', 'Las Petacas', 'Las Peñas', 'Las Piedritas', 'Las Pircas', 'Las Playas', 'Las Plumas', 'Las Rabonas', 'Las Rosas', 'Las Saladas', 'Las Tahonas', 'Las Talas', 'Las Talas - Los Médanos', 'Las Tapias', 'Las Tejas', 'Las Tinajas', 'Las Toninas', 'Las Toscas', 'Las Tunas', 'Las Varas', 'Las Varillas', 'Las Vegas', 'Las Vertientes', 'Las Violetas', 'Lastenia', 'Lavaisse', 'Lavalle', 'Lazzarino', 'Leandro N. Alem', 'Leguizamón', 'Lehmann', 'Leleque', 'Leones', 'Lezica y Torrezuri', 'León', 'Libertad', 'Libertador General San Martín (Est. Ledesma)', 'Liborio Luna', 'Licenciado Matienzo', 'Lilo Viejo', 'Lima', 'Limay Mahuida', 'Lin Calel', 'Lincoln', 'Lisandro Olmos', 'Liviara', 'Llambi Campbell', 'Llavallol', 'Llulluchayoc', 'Lobería', 'Lobos', 'Logroño', 'Loma Alta', 'Loma Blanca', 'Loma Bola', 'Loma Hermosa', 'Loma Verde', 'Lomas Blancas', 'Lomas De Zamora', 'Lomas Del Mirador', 'Lomas de Copello', 'Lomas de Vallejos', 'Lomas del Río Luján (Est. Río Luján)', 'Loncopué', 'Londres', 'Longchamps', 'Lonquimay', 'Loreto', 'Loro Huasi', 'Los Algarrobos Blancos', 'Los Alisos', 'Los Altares', 'Los Altos', 'Los Amores', 'Los Angeles', 'Los Angeles Norte', 'Los Angeles Sur', 'Los Antiguos', 'Los Baldecitos', 'Los Balverdis', 'Los Barriales', 'Los Berros', 'Los Blancos', 'Los Cachorros', 'Los Cajones', 'Los Callejones', 'Los Campamentos', 'Los Cardales', 'Los Cardos', 'Los Cardozos', 'Los Castillos', 'Los Catutos', 'Los Cedros - Las Quintas', 'Los Cerrillos', 'Los Charrúas', 'Los Chañaritos', 'Los Chiriguanos', 'Los Cipreses', 'Los Cisnes', 'Los Cocos', 'Los Comederos', 'Los Compartos', 'Los Conquistadores', 'Los Corrales', 'Los Corralitos', 'Los Cóndores', 'Los Frentones', 'Los Gutierrez', 'Los Helechos', 'Los Hornillos', 'Los Hornos', 'Los Hoyos', 'Los Indios', 'Los Juríes', 'Los Lapachos (Est. Maquinista Verón)', 'Los Laureles', 'Los Lobos', 'Los Manantiales', 'Los Medanos', 'Los Menucos', 'Los Miches', 'Los Miranda', 'Los Mistoles', 'Los Molinos', 'Los Molles', 'Los Muchachos - La Alborada', 'Los Nacimientos', 'Los Naranjos', 'Los Nogales', 'Los Núñez', 'Los Overos', 'Los Palacios', 'Los Penitentes', 'Los Pinos', 'Los Pirpintos', 'Los Polvorines', 'Los Pozos', 'Los Puestos', 'Los Quemados', 'Los Quiroga', 'Los Quirquinchos', 'Los Ralos', 'Los Ramblones', 'Los Reartes', 'Los Reyunos', 'Los Robles', 'Los Romeros', 'Los Sarmientos', 'Los Sauces', 'Los Soria', 'Los Surgentes', 'Los Talares', 'Los Talas', 'Los Telares', 'Los Tigres', 'Los Toldos', 'Los Troncos Del Talar', 'Los Varela', 'Los Zapallos', 'Los Zorros', 'Los Árboles', 'Loteo Costa de Río', 'Loteo Navea', 'Loteo San Vicente', 'Loventué', 'Lozada', 'Lozano', 'Lozano (Ap. Chañi)', 'Luan Toro', 'Luca', 'Lucas González', 'Lucas Monteverde', 'Lucila Del Mar', 'Lucio V. López', 'Lucio V. Mansilla', 'Lugones', 'Luis Beltrán', 'Luis Burela', 'Luis Guillón', 'Luis Palacios (Est. La Salada)', 'Luján', 'Luján de Cuyo', 'Lules', 'Lumbreras', 'Luque', 'Lutti', 'Luyaba', 'Líbano', 'Líbaros', 'López', 'López (Est. San Martín de Tours)', 'López Lecube', 'MATADEROS', 'MAYOR DRUMMOND', 'MONSERRAT', 'MONTE CASTRO', 'Macachín', 'Macapillo', 'Machagai', 'Machigasta', 'Maciel', 'Maciá', 'Maco', 'Macomitas', 'Magdala', 'Magdalena', 'Maggiolo', 'Maimará', 'Mainqué', 'Maipú', 'Makallé', 'Malabrigo', 'Malagueño', 'Malanzán', 'Malargüe', 'Malbrán', 'Malena', 'Malligasta', 'Mallín', 'Mallín Ahogado', 'Malvinas Argentinas', 'Mamuel Choique', 'Manantiales', 'Manfredi', 'Mansupa', 'Manuel B Gonnet', 'Manuel B. Gonnet (Est. French)', 'Manuel García Fernández', 'Manuel J. Cobo (Est. Lezama)', 'Manuel Ocampo', 'Manzanares', 'Manzano Amargo', 'Manzone', 'Maquinchao', 'Maquinista F. Savio (este)', 'Maquinista F. Savio (oeste)', 'Maquinista Gallini', 'Maquito', 'Mar Azul', 'Mar Chiquita', 'Mar De Las Pampas', 'Mar de Ajó - San Bernardo', 'Mar de Cobo', 'Mar del Plata', 'Mar del Sur', 'Marayes', 'Marcelino Escalada', 'Marcelino Ugarte (Est. Dennehy)', 'Marcos Juárez', 'Marcos Paz', 'Margarita', 'Margarita Belén', 'Mari Menuco', 'Mariano Acosta', 'Mariano Benítez', 'Mariano Boedo', 'Mariano H. Alfonzo (Est. San Patricio)', 'Mariano I. Loza (Est. Justino Solari)', 'Mariano Moreno', 'Mariano Unzué', 'Marmol Verde', 'Martín Coronado', 'Martín de Loyola', 'Martínez', 'Marull', 'María Grande', 'María Ignacia (Est. Vela)', 'María Juana', 'María Luisa', 'María Magdalena', 'María Susana', 'María Teresa', 'Massey (Est. Elordi)', 'Matará', 'Matheu', 'Matilde', 'Matorrales', 'Mattaldi', 'Mauricio Hirsch', 'Mauricio Mayer', 'Mayor Buratovich', 'Mayu Sumaj', 'Maza', 'Maíz Negro', 'Mbopicuá', 'Mburucuyá', 'Mechita', 'Mechita (Est. Mecha)', 'Mechongué', 'Medanitos', 'Medellín', 'Media Naranja', 'Medina', 'Medrano', 'Melincué (Est. San Urbano)', 'Melo', 'Mencué', 'Mendiolaza', 'Mendoza', 'Mercedes', 'Merlo', 'Mesilla Del Cura', 'Mesón de Fierro', 'Metileo', 'Metán Viejo', 'Mi Granja', 'Mi Valle', 'Micaela Cascallares (Est. Cascallares)', 'Miguel Cané', 'Miguel Riglos', 'Miguel Torres', 'Milagro', 'Milenica', 'Mina 3', 'Mina 9 de Octubre', 'Mina Clavero', 'Mina Providencia', 'Mina Santa Teresita', 'Minerva', 'Ministro Ramos Mexía', 'Ministro Rivadavia', 'Mira Pampa', 'Miraflores', 'Miramar', 'Miranda', 'Misarrumi', 'Misión Chaqueña', 'Misión El Cruce - El Milagro - El Jardín de San Martín', 'Misión Kilómetro 6', 'Misión Tacaagle', 'Misión Tierras Fiscales', 'Mocoretá', 'Moctezuma', 'Mogna', 'Moisés Ville', 'Mojones Norte', 'Mojón Grande', 'Mojón de Fierro', 'Molino Doll', 'Molinos', 'Mones Cazón', 'Monigotes', 'Monje', 'Monte Buey', 'Monte Caseros', 'Monte Chingolo', 'Monte Comán', 'Monte Flores', 'Monte Grande', 'Monte Hermoso', 'Monte Leña', 'Monte Maíz', 'Monte Nievas', 'Monte Potrero', 'Monte Quemado', 'Monte Ralo', 'Monte Vera', 'Monte de los Gauchos', 'Monte del Rosario', 'Monteagudo', 'Montecarlo', 'Montecaseros', 'Montecristo', 'Montefiore', 'Monteros', 'Monterrico', 'Montes de Oca', 'Moquehue', 'Moquehuá', 'Morales', 'Morea', 'Moreno', 'Moron', 'Morrison', 'Morse', 'Morteros', 'Mosmota', 'Mundo Nuevo', 'Munro', 'Murphy', 'Mussi', 'Mutquin', 'Muñiz', 'Mártires', 'Máximo Fernández (Est. Juan F. Salaberry)', 'Máximo Paz', 'Máximo Paz (Est. Paz)', 'Médanos', 'NUEVA POMPEYA', 'NUÑEZ', 'Nación Ranquel', 'Nahuel Mapá', 'Nahuel Niyeu', 'Naicó', 'Napaleofú', 'Napalpí', 'Napenay', 'Naranjo Esquino', 'Naré', 'Naschel', 'Naupa Huen', 'Navarro', 'Navia', 'Nazareno', 'Necochea - Quequén', 'Nelson', 'Nemesio Parma', 'Neuquén', 'Nicanor Olivera (Est. La Dulce)', 'Nicolás Bruzzone', 'Niquivil', 'Noetinger', 'Nogolí', 'Nogoyá', 'Nono', 'Nonogasta', 'Norberto de la Riestra', 'Nordelta', 'Norumbega', 'Nucleo I', 'Nucleo Ii', 'Nuestra Señora de Talavera', 'Nuestra Señora del Rosario', 'Nuestra Señora del Rosario de Caá Catí', 'Nueva California', 'Nueva Delicia', 'Nueva Escocia', 'Nueva Esperanza', 'Nueva Francia', 'Nueva Galia', 'Nueva Lehmann', 'Nueva Plata', 'Nueva Pompeya', 'Nueva Trinidad', 'Nueva Vizcaya', 'Nuevo Pirquitas', 'Nuevo Torino', 'Nácate', \"O'Higgins\", 'Oasis', 'Oberá', 'Obispo Trejo', 'Obligado', 'Ochandío', 'Ocloyas', 'Octavio Pico', 'Ojeda', 'Ojo Del Rio', 'Ojos de Agua', 'Olacapato', 'Olaeta', 'Olaroz Chico', 'Olascoaga', 'Olavarría', 'Olegario V. Andrade', 'Oliden', 'Oliva', 'Olivares de San Nicolás', 'Olivera', 'Oliveros', 'Olivos', 'Olpas', 'Olta', 'Onagoity', 'Oncativo', 'Open Door (Est. Dr. Domingo Cabred)', 'Oratorio', 'Ordoqui', 'Ordóñez', 'Orense', 'Oriente', 'Oro Verde', 'Orosmayo', 'Ostende', 'Osvaldo Magnasco', 'PALERMO', 'PALMIRA', 'PARQUE AVELLANEDA', 'PARQUE CHACABUCO', 'PARQUE CHAS', 'PARQUE PATRICIOS', 'PATERNAL', 'PEDRO MOLINA', 'PUERTO MADERO', 'Pablo Podestá', 'Pacará', 'Pacheco de Melo', 'Padre Lozano', 'Pagancillo', 'Pago Chico', 'Paicone', 'Pajas Blancas', 'Pala Pala', 'Palacios', 'Palca de Aparzo', 'Palca de Varas', 'Palma Sola', 'Palmar Grande', 'Palo Blanco', 'Palo Labrado', 'Palo Negro', 'Palo Santo', 'Palo Seco', 'Palos Blancos', 'Palpalá (Est. Gral. Manuel N. Savio)', 'Pampa Almirón', 'Pampa Blanca', 'Pampa Del Tamboreo', 'Pampa Grande', 'Pampa Landriel', 'Pampa Vieja', 'Pampa de los Guanacos', 'Pampa del Indio', 'Pampa del Infierno', 'Pampayasta Norte', 'Pampayasta Sur', 'Pampichuela', 'Panaholma', 'Panambi Kilómetro 15', 'Panambí', 'Panambí Kilómetro 8', 'Panquehua', 'Papagayos', 'Parada Acuña', 'Parada Labougle', 'Parada Orlando', 'Parada Pucheta', 'Parada Robles - Pavón', 'Paraje 29', 'Paraje Chaco Chico', 'Paraje La Agraria', 'Paraje La Costa', 'Paraje La Ruta', 'Paraje La Virgen', 'Paraje San Manuel', 'Paraná', 'Parapetí', 'Paraíso', 'Pardo', 'Pareditas', 'Parera', 'Parque Calmayo', 'Pascanas', 'Pasco', 'Pasman', 'Paso Aguerre', 'Paso Córdova', 'Paso Del Rey', 'Paso Flores', 'Paso Grande', 'Paso Viejo', 'Paso de Indios', 'Paso de la Laguna', 'Paso de la Patria', 'Paso de los Libres', 'Paso del Durazno', 'Paso del Sapo', 'Pasteur', 'Pastor Britos', 'Pastos Chicos', 'Patay', 'Patquía', 'Patricios', 'Paula', 'Paulina', 'Pavón', 'Pavón Arriba', 'Payogasta', 'Pearson', 'Pedernal', 'Pedernales', 'Pedro Gómez Cello', 'Pedro Luro', 'Pedro R. Fernández (Est. Manuel F. Mantilla)', 'Pehuajó', 'Pellegrini', 'Península Ruca Co', 'Perdriel', 'Pereyra', 'Pergamino', 'Perico', 'Perito Moreno', 'Perugorría', 'Perú', 'Peyrano', 'Peñas Blancas', 'Phillips', 'Piamonte', 'Pichanal', 'Pichi Huinca', 'Pichi Mahuida', 'Pichincha', 'Pico Truncado', 'Picún Leufú', 'Pie de Palo', 'Piedra del Águila', 'Piedrabuena', 'Piedras Blancas', 'Piedritas', 'Pieres', 'Pigüé', 'Pila', 'Pila Pardo', 'Pilar', 'Pilcaniyeu', 'Pilquiniyeu', 'Pilquiniyeu del Limay', 'Pinamar', 'Pinchas', 'Pincén', 'Pindapoy', 'Pineyro', 'Pinzón', 'Pipinas', 'Piquete Cabado', 'Piquillín', 'Piquirenda', 'Pirané', 'Piray Kilómetro 18', 'Pirovano', 'Pismanta', 'Pituil', 'Piñalito Norte', 'Piñalito Sur', 'Piñero (Est. Erasto)', 'Pla', 'Planta De Sandia', 'Playa Dorada', 'Playa Magagna', 'Playa Unión', 'Playas Doradas', 'Plaza Clucellas', 'Plaza Huincul', 'Plaza Luxardo', 'Plaza Matilde', 'Plaza Saguier', 'Plaza San Francisco', 'Plaza Vieja', 'Plaza de Mercedes', 'Plomer', 'Plottier', 'Pluma de Pato', 'Plátanos', 'Poblet', 'Pobre Diablo', 'Polco', 'Polcos', 'Polvaredas', 'Pomancillo Este', 'Pomancillo Oeste', 'Pomona', 'Pomán', 'Pontaut', 'Pontevedra', 'Portezuelo', 'Porteña', 'Portón Negro', 'Porvenir', 'Posada de los Lagos', 'Posadas', 'Posadas (Extensión)', 'Poscaya', 'Posta Cambio Zalazar', 'Potrerillo', 'Potrerillos', 'Potrero de Garay', 'Potrero de los Funes', 'Pozo Betbeder', 'Pozo Borrado', 'Pozo Cavado', 'Pozo Del Carril', 'Pozo Del Mistol', 'Pozo Del Molle', 'Pozo Del Tala', 'Pozo Hondo', 'Pozo Nuevo', 'Pozo Salado', 'Pozo de Maza', 'Pozo de los Indios', 'Pozo del Molle', 'Pozo del Mortero', 'Pozo del Tigre', 'Pozuelos', 'Prahuaniyeu', 'Presa El Tunal', 'Presidencia Roca', 'Presidencia Roque Sáenz Peña', 'Presidencia de la Plaza', 'Presidente Derqui', 'Presidente Roca', 'Presidente Sarmiento', 'Profesor Salvador Mazza', 'Profundidad', 'Progreso', 'Pronunciamiento', 'Providencia', 'Pueblo Andino', 'Pueblo Arrúa (Est. Alcaraz)', 'Pueblo Bellocq (Est. Las Garzas)', 'Pueblo Brugo', 'Pueblo Cazes', 'Pueblo Comechingones', 'Pueblo Doyle', 'Pueblo Esther', 'Pueblo General Belgrano', 'Pueblo General San Martín', 'Pueblo Gouin', 'Pueblo Illia', 'Pueblo Independencia', 'Pueblo Italiano', 'Pueblo Ledesma', 'Pueblo Libertador', \"Pueblo Liebig's\", 'Pueblo Marini', 'Pueblo Moreno', 'Pueblo Muñoz (Est. Bernard)', 'Pueblo Nuevo', 'Pueblo Pablo Torelo (Est. Otumpa)', 'Pueblo San Jorge', 'Pueblo Santa Lucía', 'Pueblo Uranga', 'Pueblo Viejo', 'Puelches', 'Puelén', 'Puente Cero', 'Puente Lavayén', 'Puente de Hierro', 'Puente del Inca', 'Puerta Colorada', 'Puerta de Colorados', 'Puerta de Corral Quemado', 'Puerta de San José', 'Puerto Andresito', 'Puerto Aragón', 'Puerto Arroyo Seco', 'Puerto Bermejo Nuevo', 'Puerto Bermejo Viejo', 'Puerto Deseado', 'Puerto Eva Perón', 'Puerto General San Martín', 'Puerto Iguazú', 'Puerto Las Cuevas', 'Puerto Lavalle', 'Puerto Leoni', 'Puerto Mado', 'Puerto Madryn', 'Puerto Paraná', 'Puerto Pilcomayo', 'Puerto Pinares', 'Puerto Piray', 'Puerto Pirámide', 'Puerto Reconquista', 'Puerto Rico', 'Puerto Ruiz', 'Puerto San Antonio Este', 'Puerto San Julián', 'Puerto Santa Ana', 'Puerto Santa Cruz', 'Puerto Tirol', 'Puerto Vilelas', 'Puerto Yeruá', 'Puesto Sey', 'Puesto Viejo', 'Puesto de Castro', 'Puesto de San Antonio', 'Puesto del Marquéz', 'Pujato', 'Pumahuasi', 'Punta Alta (Est Almirante Solier)', 'Punta Colorada', 'Punta De La Loma', 'Punta Indio', 'Punta Lara', 'Punta Mogotes', 'Punta de Balasto', 'Punta de Vacas', 'Punta de los Llanos', 'Punta del Agua', 'Punta del Médano', 'Purmamarca', 'Puán', 'Pérez', 'Pérez Millán', 'Quebracho Herrado', 'Quebracho Ladeado', 'Quebrada de Luna', 'Quebrada de los Pozos', 'Quebraleña', 'Quehué', 'Quemú Quemú', 'Quenumá', 'Quera', 'Quetrequén', 'Quili Malal', 'Quilino', 'Quilmes', 'Quilmes Oeste', 'Quimilí', 'Quines', 'Quinta El Mirador', 'Quinto Cuartel', 'Quirós', 'Quitilipi', 'RECOLETA', 'RETIRO', 'RINCON NORTE', 'RODEO DE LA CRUZ', 'Rada Tilly', 'Rafael Calzada', 'Rafael Castillo', 'Rafael García', 'Rafael Obligado', 'Rafaela', 'Rama Caída', 'Ramada Paso', 'Ramallo', 'Ramayón', 'Ramblones', 'Ramon M. Castro', 'Ramona', 'Ramos Mejía', 'Ramos Otero', 'Ramírez de Velazco', 'Ramón Biaus', 'Ramón J. Cárcano', 'Ramón Santamarina', 'Rancagua', 'Ranchillos', 'Ranchos', 'Rancul', 'Ranelagh', 'Ranqueles', 'Rapelli', 'Rauch', 'Rawson', 'Rayo Cortado', 'Real Sayana', 'Real del Padre', 'Realicó', 'Recalde', 'Recaredo', 'Reconquista', 'Recreo', 'Reducción de Abajo', 'Relmo', 'Remedios De Escalada', 'Remedios Escalada De San Martin', 'Renca', 'Represa Del Carmen', 'Reserva Area Protegida El Doradillo', 'Resistencia', 'Reta', 'Riacho He-He', 'Riacho Negro', 'Riachuelo', 'Ricardo Rojas', 'Ricardone', 'Rincon Del Carmen', 'Rinconada', 'Rinconadillas', 'Rincón', 'Rincón Potrero', 'Rincón de Azara', 'Rincón de Milberg', 'Rincón de Nogoyá', 'Rincón de los Sauces', 'Ringuelet', 'Rio Blanco', 'Rio Quinto', 'Rio Villegas', 'Riocito', 'Rivadavia', 'Rivera', 'Roberto Cano', 'Roberto De Vicenzo', 'Roberto J. Payró', 'Roberts', 'Roca Chica', 'Rocamora', 'Rodeito', 'Rodeo', 'Rodeo De Cadenas', 'Rodeo de Valdez', 'Rodeo del Medio', 'Rodero', 'Rodríguez Peña', 'Rojas', 'Roldán', 'Rolón', 'Romang', 'Roosevelt', 'Roque Pérez', 'Rosales', 'Rosario', 'Rosario de Lerma', 'Rosario de Río Grande', 'Rosario de la Frontera', 'Rosario del Saladillo', 'Rosario del Tala', 'Rospentek', 'Roversi', 'Rucanelo', 'Rueda', 'Rufino', 'Rufino De Elizalde', 'Ruiz de Montoya', 'Russell', 'Río Bamba', 'Río Ceballos', 'Río Chico', 'Río Chico (Est. Cerro Mesa)', 'Río Colorado', 'Río Cuarto', 'Río Gallegos', 'Río Grande', 'Río Juan Gómez', 'Río Mayo', 'Río Muerto', 'Río Pico', 'Río Piedras', 'Río Primero', 'Río Seco', 'Río Segundo', 'Río Tala', 'Río Tercero', 'Río de los Sauces', 'Río del Valle', 'SAAVEDRA', 'SAN CRISTOBAL', 'SAN FRANCISCO DEL MONTE', 'SAN NICOLAS', 'SAN TELMO', 'Sa Pereyra', 'Saavedra', 'Sacanta', 'Sachayoj', 'Saco Viejo', 'Saenz Peña', 'Saforcada', 'Sagrada Familia', 'Saira', 'Saladas', 'Saladero Mariano Cabal', 'Saladillo', 'Salazar', 'Saldungaray', 'Saldán', 'Salicas', 'Salicas - San Blas', 'Salinas del Bebedero', 'Salliqueló', 'Salsacate', 'Salsipuedes', 'Salta', 'Salto', 'Salto Andersen', 'Salto Encantado', 'Salto Grande', 'Salto de Las Rosas', 'Salvador María', 'Samborombón', 'Sampacho', 'Samuhú', 'San Agustín', 'San Alberto', 'San Andrés', 'San Andrés de Giles', 'San Antonio', 'San Antonio De Padua', 'San Antonio Oeste', 'San Antonio de Areco', 'San Antonio de Arredondo', 'San Antonio de Litín', 'San Antonio de Obligado', 'San Antonio de los Cobres', 'San Basilio', 'San Benito', 'San Bernardo', 'San Bernardo (Est. Guanaco)', 'San Blas', 'San Carlos', 'San Carlos Centro', 'San Carlos Minas', 'San Carlos Norte', 'San Carlos Sud', 'San Carlos de Bariloche', 'San Carlos de Bolívar (Est. Bolívar)', 'San Cayetano', 'San Clemente', 'San Clemente del Tuyú', 'San Cosme', 'San Cristóbal', 'San Eduardo', 'San Emilio', 'San Enrique', 'San Esteban', 'San Eugenio', 'San Fabián', 'San Felipe', 'San Fernando', 'San Fernando del Valle de Catamarca', 'San Francisco', 'San Francisco Solano', 'San Francisco de Alfarcito', 'San Francisco de Asís', 'San Francisco de Bellocq', 'San Francisco de Laishi', 'San Francisco de Santa Fe', 'San Francisco del Chañar', 'San Francisco del Monte de Oro', 'San Genaro', 'San Genaro Norte', 'San Germán', 'San Gerónimo', 'San Gotardo', 'San Gregorio', 'San Guillermo', 'San Gustavo', 'San Hilario', 'San Huberto', 'San Ignacio', 'San Ignacio (Loteo San Javier)', 'San Ignacio (Loteo Vélez Crespo)', 'San Isidro', 'San Isidro (Est. Los Angacos)', 'San Jaime de la Frontera', 'San Javier', 'San Javier y Yacanto', 'San Jerónimo', 'San Jerónimo Norte', 'San Jerónimo Sud', 'San Jerónimo del Sauce', 'San Joaquín', 'San Jorge', 'San Jose', 'San Jose Banda', 'San Jose Norte', 'San José', 'San José de Feliciano', 'San José de Jáchal', 'San José de La Cocha', 'San José de Metán', 'San José de Orquera', 'San José de la Dormida', 'San José de la Esquina', 'San José de las Salinas', 'San José del Boquerón', 'San José del Morro', 'San José del Rincón', 'San Juan', 'San Juan de Oros', 'San Juan de Quillaqués', 'San Juancito', 'San Justo', 'San Lorenzo', 'San Lucas', 'San Luis', 'San Luis del Palmar', 'San Manuel', 'San Marcos', 'San Marcos Sierra', 'San Mariano', 'San Martín', 'San Martín I', 'San Martín II', 'San Martín Norte', 'San Martín de las Escobas', 'San Martín de los Andes', 'San Mauricio', 'San Mayol', 'San Miguel', 'San Miguel de Tucumán (Est. Tucumán)', 'San Miguel del Monte (Est. Monte)', 'San Nicolás', 'San Nicolás de los Arroyos', 'San Pablo', 'San Pablo De Reyes', 'San Patricio del Chañar', 'San Pedro', 'San Pedro (Est. San Pedro de Jujuy)', 'San Pedro Norte', 'San Pedro de Colalao', 'San Pedro de Gütemberg', 'San Pedro de Toyos', 'San Rafael', 'San Ramón', 'San Ramón de la Nueva Orán', 'San Román', 'San Roque', 'San Roque Del Lago', 'San Salvador', 'San Salvador de Jujuy (Est. Jujuy)', 'San Sebastián', 'San Severo', 'San Vicente', 'San Víctor', 'Sanabria', 'Sancti Spiritu', 'Sanford', 'Sansinena', 'Santa Ana', 'Santa Ana de la Puna', 'Santa Anita', 'Santa Catalina', 'Santa Catalina (Est. Holmberg)', 'Santa Clara', 'Santa Clara de Buena Vista', 'Santa Clara de Saguier', 'Santa Clara del Mar', 'Santa Coloma', 'Santa Cruz', 'Santa Elena', 'Santa Eleodora', 'Santa Eufemia', 'Santa Fe', 'Santa Florentina', 'Santa Isabel', 'Santa Lucía', 'Santa Luisa', 'Santa Magdalena (Est. Jovita)', 'Santa Margarita', 'Santa Martina', 'Santa María', 'Santa María de Oro', 'Santa María de Punilla', 'Santa Monica', 'Santa Regina', 'Santa Rita', 'Santa Rita de Catuna', 'Santa Rosa', 'Santa Rosa De Catantal', 'Santa Rosa Del Gigante', 'Santa Rosa de Calamuchita', 'Santa Rosa de Calchines', 'Santa Rosa de Leales', 'Santa Rosa de Río Primero', 'Santa Rosa de los Pastos Grandes', 'Santa Rosa del Conlara', 'Santa Sylvina', 'Santa Teresa', 'Santa Teresita - Mar del Tuyú', 'Santa Trinidad', 'Santa Vera Cruz', 'Santa Victoria', 'Santa Victoria Este', 'Santiago Temple', 'Santiago de Liniers', 'Santiago del Estero', 'Santo Domingo', 'Santo Pipó', 'Santo Tomás', 'Santo Tomé', 'Santos Lugares', 'Santuario de Tres Pozos', 'Santurce', 'Sarah', 'Sarandí', 'Sarasa', 'Sargento Cabral', 'Sargento Moya', 'Sargento Vidal', 'Sarmiento', 'Sastre', 'Saturnino María Laspiur', 'Sauce', 'Sauce Arriba', 'Sauce Montrull', 'Sauce Pinto', 'Sauce Viejo', 'Sauce de Luna', 'Saujil', 'Sauzal', 'Sañogasta', 'Sebastián Elcano', 'Seclantás', 'Seeber', 'Segunda Usina', 'Seguí', 'Selva', 'Selvas del Río de Oro', 'Senillosa', 'Serodino', 'Serrano', 'Serrezuela', 'Sevigne', 'Shaqui', 'Sierra Chica', 'Sierra Colorada', 'Sierra Grande', 'Sierra Pailemán', 'Sierra de la Ventana', 'Sierra de los Padres', 'Sierras Bayas', 'Sierras De Encalada', 'Siete Palmas', 'Siján', 'Silva (Est. Abipones)', 'Silvio Pellico', 'Simbol', 'Simbolar', 'Simoca', 'Singuil', 'Sinsacate', 'Sir Leonard', 'Smith', 'Socavones', 'Sol de Julio', 'Sol de Mayo', 'Solanet', 'Solar de los Molinos', 'Soldado Maldonado', 'Soldini', 'Soledad', 'Solís', 'Sosa', 'Speluzzi', 'Stephenson', 'Strobel', 'Stroeder', 'Suardi', 'Subteniente Perín', 'Suco', 'Suipacha', 'Sumalao', 'Sumamao', 'Sumampa', 'Sumampa Viejo', 'Sunchales', 'Suncho Corral', 'Sundblad', 'Suriyaco', 'Susana', 'Susques', 'Suyuque Nuevo', 'Tabay', 'Tabossi', 'Taco Pozo', 'Taco Ralo', 'Tacuarendí (Emb. Kilómetro 421)', 'Tacural', 'Tafí Viejo', 'Tafí del Valle', 'Tala Cañada', 'Tala Huasi', 'Tala Verde', 'Talaini', 'Talapampa', 'Talita', 'Tama', 'Tamangueyú', 'Tamberías', 'Tambillos', 'Tancacha', 'Tandil', 'Taninga', 'Tanti', 'Tapalqué', 'Tapebicuá', 'Tapiales', 'Tapso', 'Taquimilán', 'Tartagal', 'Tartagal (Est. El Tajamar)', 'Taruma', 'Tasna', 'Tatacua', 'Tatané', 'Tatón', 'Tecka', 'Tedín Uriburu', 'Tejas Tres', 'Tellier', 'Telsen', 'Telén', 'Temperley', 'Teniente Berdina', 'Teniente Origone', 'Teodelina', 'Termas de Río Hondo', 'Termas de Santa Teresita', 'Tezanos Pintos', 'Thames', 'Theobald', 'Ticino', 'Tierra Alta', 'Tigre', 'Tilcara', 'Tilimuqui', 'Tilisarao', 'Timbúes', 'Timote', 'Tinoco', 'Tinogasta', 'Tintina', 'Toay', 'Toba', 'Tobantirenda', 'Tobuna', 'Todd', 'Tolar Grande', 'Toledo', 'Tolhuin', 'Tolloche', 'Tolombón', 'Tolosa', 'Tomas M. Anchorena', 'Tomás Jofré', 'Tomás Young', 'Tornquist', 'Toro Negro', 'Toro Pujio', 'Torres', 'Tortugas', 'Tortuguitas', 'Tosno', 'Tosquitas', 'Tostado', 'Totoras', 'Traill', 'Tramo 16', 'Tramo 20', 'Tranquitas', 'Transradio', 'Trebolares', 'Trelew', 'Trenel', 'Treneta', 'Trenque Lauquen', 'Tres Algarrobos (Est. Cuenca)', 'Tres Arroyos', 'Tres Capones', 'Tres Cruces', 'Tres Isletas', 'Tres Lagos', 'Tres Lagunas', 'Tres Lomas', 'Tres Luces', 'Tres Picos', 'Tres Porteñas', 'Tres Sargentos', 'Trevelín', 'Tricao Malal', 'Trinchera', 'Tristán Suarez', 'Triunvirato', 'Trongé', 'Trujui', 'Tránsito', 'Tuclame', 'Tudcum', 'Tumbaya', 'Tunuyán', 'Tupelí', 'Tupungato', 'Turdera', 'Tusaquillas', 'Tuyubil', 'Tío Pujio', 'Ubajay', 'Ucacha', 'Udaquiola', 'Ugarteche', 'Ulapes', 'Unanué', 'Unión', 'Unquillo', 'Uquía (Est. Senador Pérez)', 'Urdampilleta', 'Urdinarrain', 'Uribelarrea', 'Uriburu', 'Urundel', 'Urutaú', 'Ushuaia', 'Usno', 'Uspallata', 'VELEZ SARSFIELD', 'VERSALLES', 'VILLA CRESPO', 'VILLA DEL PARQUE', 'VILLA DEVOTO', 'VILLA GENERAL MITRE', 'VILLA LUGANO', 'VILLA LURO', 'VILLA NUEVA', 'VILLA ORTUZAR', 'VILLA PUEYRREDON', 'VILLA REAL', 'VILLA RIACHUELO', 'VILLA SANTA RITA', 'VILLA SOLDATI', 'VILLA URQUIZA', 'VILLA ZORRAQUIN', 'VISTALBA', 'Va Ma Irene De Los Remedios De Escalada', 'Vaca Huañuna', 'Vaca Perdida', 'Valcheta', 'Valdés', 'Valentín Alsina', 'Valeria Del Mar', 'Valle Alegre', 'Valle Azul', 'Valle Colorado', 'Valle De Pancanta', 'Valle Del Sol', 'Valle Grande', 'Valle Hermoso', 'Valle de Anisacate', 'Vallecito', 'Vaqueros', 'Varela', 'Varvarco', 'Vedia', 'Velloso', 'Venado Tuerto', 'Venados Grandes', 'Vera (Est. Gobernador Vera)', 'Vera y Pintado (Est. Guaraníes)', 'Verónica', 'Viale', 'Viamonte', 'Vicente Casares', 'Vicente López', 'Vichigasta', 'Victoria', 'Victorica', 'Vicuña Mackenna', 'Videla', 'Viedma', 'Vieytes', 'Vila', 'Vilelas', 'Vilismán', 'Villa Aberastain', 'Villa Aberastain - La Rinconada', 'Villa Adela', 'Villa Adelina', 'Villa Akerman', 'Villa Alberdi', 'Villa Albertina', 'Villa Alfredo Fortabat', 'Villa Allende', 'Villa Alpina', 'Villa Alsina (Est. Alsina)', 'Villa Amancay', 'Villa Amelia', 'Villa Ampacama', 'Villa Ana', 'Villa Angela', 'Villa Angélica (Est. El Socorro)', 'Villa Antigua', 'Villa Arguello', 'Villa Arrieta', 'Villa Ascasubi', 'Villa Astolfi', 'Villa Atamisqui', 'Villa Atuel', 'Villa Atuel Norte', 'Villa Ayacucho', 'Villa Ballester', 'Villa Barbosa - Villa Nacusi', 'Villa Barboza', 'Villa Basilio Nievas', 'Villa Bastias', 'Villa Belgrano', 'Villa Benjamín Aráoz', 'Villa Berna', 'Villa Bernardo Monteagudo', 'Villa Berthet', 'Villa Bolaños', 'Villa Bonita', 'Villa Bordeau', 'Villa Borjas', 'Villa Borjas - La Chimbera', 'Villa Bosch (Est. Juan Maria Bosch)', 'Villa Brown', 'Villa Burruyacú', 'Villa Cacique (Est. Alfredo Fortabat)', 'Villa Campanario', 'Villa Campi', 'Villa Candelaria', 'Villa Canto', 'Villa Carlos Paz', 'Villa Carmela', 'Villa Castelar (Est. Erize)', 'Villa Castelli', 'Villa Catedral', 'Villa Catela', 'Villa Cañás', 'Villa Centenario', 'Villa Cerro Azul', 'Villa Chacabuco', 'Villa Chicligasta', 'Villa Ciudad Parque Los Reartes', 'Villa Ciudad Parque Los Reartes (1a. Sección)', 'Villa Ciudad Parque Los Reartes (3a. Sección)', 'Villa Ciudad de América (Loteo Diego de Rojas)', 'Villa Clara', 'Villa Clodomiro Hileret', 'Villa Concepción del Tío', 'Villa Constitución', 'Villa Cooperativa', 'Villa Corazon De Maria', 'Villa Coronel Jose M. Zapiola', 'Villa Cura Brochero', 'Villa Córdoba', 'Villa De Mayo', 'Villa Dolores', 'Villa Dominguito (Est. Puntilla Blanca)', 'Villa Domínguez', 'Villa Domínico', 'Villa Don Bosco (Est. Angaco Sud)', 'Villa Eduardo Madero', 'Villa El Chacay', 'Villa El Chocón', 'Villa El Fachinal - Parque Norte - Guiñazú Norte', 'Villa El Palmar', 'Villa El Refugio', 'Villa El Salvador', 'Villa El Salvador - Villa Sefair', 'Villa El Tala', 'Villa El Tango', 'Villa Elisa', 'Villa Eloísa', 'Villa Elvira', 'Villa Escolar', 'Villa España', 'Villa Esperanza', 'Villa Espil', 'Villa Espora', 'Villa Fiad - Ingenio Leales', 'Villa Figueroa', 'Villa Fiorito', 'Villa Flor Serrana', 'Villa Fontana', 'Villa Francia (Est. Coronel Granada)', 'Villa Futalaufquen', 'Villa Garibaldi', 'Villa General Antonio J. De Sucre', 'Villa General Arias (Est. Kilómetro 638)', 'Villa General Belgrano', 'Villa General Eugenio Necochea', 'Villa General Fournier (Est. 9 de Julio Sud)', 'Villa General Güemes', 'Villa General Jose Tomas Guido', 'Villa General Juan G. Las Heras', 'Villa General Manuel Belgrano', 'Villa General Mitre (Est. Pinto)', 'Villa General Roca', 'Villa General San Martin', 'Villa General San Martín - Campo Afuera', 'Villa General Savio (Est. Sánchez)', 'Villa Gesell', 'Villa Giardino', 'Villa Giménez', 'Villa Gobernador Gálvez', 'Villa Gobernador Luis F. Etchevehere', 'Villa Gobernador Udaondo', 'Villa Godoy Cruz', 'Villa Granaderos De San Martín', 'Villa Gregoria Matorras', 'Villa Grisolía (Est. Achupallas)', 'Villa Guillermina', 'Villa Gutiérrez', 'Villa Hipodromo', 'Villa Huidobro', 'Villa Ibáñez', 'Villa Independencia', 'Villa Iris', 'Villa Josefina', 'Villa José León Suarez', 'Villa Juan Martín De Pueyrredon', 'Villa Kilómetro 213', 'Villa Krause', 'Villa La Angostura', 'Villa La Arcadia', 'Villa La Bolsa', 'Villa La Florida', 'Villa La Punta', 'Villa La Rivera', 'Villa La Rivera (Oliveros)', 'Villa La Rivera (Pueblo Andino)', 'Villa La Serranía', 'Villa La Viña', 'Villa Lago Azul', 'Villa Lago Meliquina', 'Villa Laguna La Brava', 'Villa Larca', 'Villa Las Flores', 'Villa Las Pirquitas', 'Villa Laura (Est. Constituyentes)', 'Villa Libertad', 'Villa Libertad (Municipio Caá Yarí)', 'Villa Libertad (Municipio Leandro N. Alem)', 'Villa Libertador San Martín', 'Villa Llanquín', 'Villa Llao Llao', 'Villa Los Aromos', 'Villa Los Coihues', 'Villa Los Llanos - Juárez Celman', 'Villa Los Patos', 'Villa Los Álamos', 'Villa Luzuriaga', 'Villa Lynch', 'Villa Lynch Pueyrredón', 'Villa Lía', 'Villa Mailín', 'Villa Maipu', 'Villa Malvinas Argentinas', 'Villa Mantero', 'Villa Manuel Pomar', 'Villa Manzano', 'Villa Margarita', 'Villa Mariano Moreno - El Colmenar', 'Villa Marini', 'Villa Marqués Alejandro María De Aguado', 'Villa Martelli', 'Villa María', 'Villa Mascardi', 'Villa Mazán', 'Villa Media Agua', 'Villa Mercedes', 'Villa Minetti', 'Villa Mirasol', 'Villa Moll (Est. Moll)', 'Villa Montoro', 'Villa Mugueta', 'Villa Nacusi', 'Villa Nueva', 'Villa Ocampo', 'Villa Oeste', 'Villa Ojo de Agua', 'Villa Olivari', 'Villa Ortiz (Est. Coronel Mom)', 'Villa Padre Monti', 'Villa Paranacito', 'Villa Parodi', 'Villa Parque Cecir', 'Villa Parque Girado', 'Villa Parque Pres Figueroa Alcorta', 'Villa Parque San Lorenzo', 'Villa Parque Santa Ana', 'Villa Parque Sicardi', 'Villa Parque Siquimán', 'Villa Pastora', 'Villa Paula Albarracin', 'Villa Pehuenia', 'Villa Pituil', 'Villa Porteña', 'Villa Progreso', 'Villa Quilino', 'Villa Quillinzo', 'Villa Quinteros', 'Villa Raffo', 'Villa Ramallo', 'Villa Recaste', 'Villa Reducción', 'Villa Regina', 'Villa Reynolds', 'Villa Riccio', 'Villa Roch', 'Villa Rodríguez (Est. Barrow)', 'Villa Rosa', 'Villa Rossi', 'Villa Roth (Est. Ingeniero Balbín)', 'Villa Roulet', 'Villa Ruiz', 'Villa Rumipal', 'Villa Río Bermejito', 'Villa Río Hondo', 'Villa Río Icho Cruz', 'Villa Saboya', 'Villa Salavina', 'Villa Salles', 'Villa San Agustín', 'Villa San Andrés', 'Villa San Carlos', 'Villa San Esteban', 'Villa San Isidro', 'Villa San Isidro - José de la Quintana', 'Villa San Javier', 'Villa San José', 'Villa San José de Vinchina', 'Villa San Justo', 'Villa San Lorenzo', 'Villa San Luis', 'Villa San Marcial (Est. Gobernador Urquiza)', 'Villa San Martín', 'Villa San Martín (Est. Loreto)', 'Villa San Miguel', 'Villa Sanagasta', 'Villa Santa Cruz del Lago', 'Villa Santa Eugenia', 'Villa Santa Rosa', 'Villa Santos Tesei', 'Villa Saralegui', 'Villa Sarmiento', 'Villa Sauze', 'Villa Sefair (Talacasto)', 'Villa Serrana La Gruta', 'Villa Sierras de Oro', 'Villa Silípica', 'Villa Tacu', 'Villa Tercera', 'Villa Teresa', 'Villa Traful', 'Villa Trinidad', 'Villa Tulumaya', 'Villa Tulumba', 'Villa Turística del Embalse', 'Villa Unión', 'Villa Urquiza', 'Villa Urrutia', 'Villa Valeria', 'Villa Vatteone', 'Villa Ventana', 'Villa Vil', 'Villa Yacanto', 'Villa Yapeyú', 'Villa Zula', 'Villa de Balcozna', 'Villa de Leales', 'Villa de María', 'Villa de Pocho', 'Villa de Praga', 'Villa de Soto', 'Villa de Trancas', 'Villa de la Quebrada', 'Villa de las Rosas', 'Villa del Carmen', 'Villa del Curi Leuvú', 'Villa del Dique', 'Villa del Mar', 'Villa del Nahueve', 'Villa del Parque', 'Villa del Plata', 'Villa del Prado', 'Villa del Rosario', 'Villa del Totoral', 'Villa del Tránsito', 'Villada', 'Villaguay', 'Villalonga', 'Villanueva (Ap. Río Salado)', 'Villars', 'Vilmer', 'Vinalito', 'Vinará', 'Virginia', 'Virrey Del Pino', 'Virreyes', 'Vista Alegre Norte', 'Vista Alegre Sur', 'Vista Flores', 'Vivoratá', 'Viña', 'Volcán', 'Vuelta de la Barranca', 'Vásquez', 'Vértiz', 'Wanda', 'Warnes', 'Washington', 'Weisburd', 'Wenceslao Escalante', 'Wheelwright', 'Wichi', 'Wilde', 'Wildermuth (Est. Granadero B. Bustos)', 'William C. Morris', 'Winifreda', 'XX de Setiembre', 'Yacimientos Río Turbio', 'Yacoraite', 'Yacuy', 'Yahapé', 'Yala', 'Yala Laubat', 'Yaminué', 'Yanda', 'Yapes', 'Yapeyú', 'Yatayti Calle', 'Yavi', 'Yavi Chico', 'Yerba Buena - Marcos Paz', 'Yocsina', 'Yoscaba', 'Yuchán', 'Yuto', 'Yutuyaco', 'Zanjitas', 'Zapala', 'Zaparinqui', 'Zavalla', 'Zavalía', 'Zelaya', 'Zenón Pereyra', 'Zenón Videla Dorna', 'Zona Aeropuerto Internacional Ezeiza', 'Zárate', 'ruta del sol', 'Álvarez', 'Árraga', 'Ñancay', 'Ñanducita', 'Ñirihuau', 'Ñorquincó']\n",
      "['1 De Agosto', '11 De Septiembre', '11 de Octubre', '12 de Octubre', '16 de Julio', '17 de Agosto', '1º de Mayo', '20 De Junio', '25 de Mayo', '28 de Julio', '28 de Noviembre', '3 de Mayo', '30 de Agosto', '5Ta Brigada', '7 de Abril', '9 De Abril', '9 de Julio', '9 de Julio (Est. Pueblo 9 de Julio)', '9 de Julio Kilómetro 20', 'AGRONOMIA', 'ALMAGRO', 'ALPASINCHE', 'ALTO VERDE', 'Aarón Castellanos (Est. Castellanos)', 'Abasto', 'Abbott', 'Abdón Castro Tolay', 'Abra Grande', 'Abra Pampa', 'Abralaite', 'Abramo', 'Acassuso', 'Acceso Norte', 'Acebal', 'Acevedo', 'Acheral', 'Achiras', 'Aconquija', 'Acoyte', 'Adelia María', 'Adolfo E. Carranza', 'Adolfo Gonzales Chaves (Est. Chaves)', 'Adolfo Van Praet', 'Adrogué', 'Aerolito', 'Aeropuerto Internacional Ezeiza', 'Agrelo', 'Agua Escondida', 'Agua de Castilla', 'Agua de Oro', 'Aguada Cecilio', 'Aguada Guzmán', 'Aguada San Roque', 'Aguada de Guerra', 'Aguaray', 'Aguará Grande', 'Aguas Blancas', 'Aguas Calientes', 'Aguas Verdes', 'Aguilares', 'Agustina', 'Agustoni', 'Agustín Mosconi', 'Agustín Roca', 'Aicuña', 'Aimogasta', 'Alba Posse', 'Albarellos', 'Alberdi', 'Alberdi Viejo', 'Alberti (Est. Andrés Vaccarezza)', 'Alcira (Est. Gigena)', 'Alcorta', 'Aldao', 'Aldao (Est. Casablanca)', 'Aldea Apeleg', 'Aldea Asunción', 'Aldea Beleiro', 'Aldea Brasilera', 'Aldea Epulef', 'Aldea Escolar', 'Aldea Grapschental', 'Aldea María Luisa', 'Aldea Protestante', 'Aldea Salto', 'Aldea San Antonio', 'Aldea San Francisco', 'Aldea San Juan', 'Aldea San Rafael', 'Aldea Santa María', 'Aldea Santa Rosa', 'Aldea Spatzenkutter', 'Aldea Valle María', 'Alderetes', 'Aldo Bonzi', 'Alejandra', 'Alejandro Korn', 'Alejandro Petión', 'Alejandro Roca (Est. Alejandro)', 'Alejo Ledesma', 'Alfredo Demarchi (Est. Facundo Quiroga)', 'Algarrobo del Águila', 'Alhuampa', 'Alicia', 'Alicia Baja', 'Alijilán', 'Allen', 'Almafuerte', 'Almirante Brown', 'Alpa Corral', 'Alpachiri', 'Alta Gracia', 'Alta Italia', 'Altamirano', 'Altamirano Sur', 'Alto Alegre', 'Alto Carrizal', 'Alto De Las Juntas', 'Alto De Sierra', 'Alto Los Cardales', 'Alto Pelado', 'Alto Pencoso', 'Alto Río Senguer', 'Alto Salvador', 'Alto Verde', 'Alto de Sierra', 'Alto de la Sierra', 'Alto de los Quebrachos', 'Altos de Chipión', 'Aluminé', 'Alvarez Jonte', 'Alvarez de Toledo', 'Alvear', 'Amadores', 'Amaicha del Valle', 'Amanao', 'Amaná', 'Ambil', 'Amboy', 'Ambrosetti', 'Ambul', 'Amenábar', 'Aminga', 'Ampascachi', 'Amuschina', 'América', 'Ana Zumarán', 'Ancaján', 'Ancasti', 'Anchorena', 'Andacollo', 'Andalgalá', 'Andalhualá', 'Andant', 'Andolucas', 'Andrade', 'Angastaco', 'Angel Etcheverry', 'Angel Gallardo', 'Angeloni', 'Angualasto', 'Anguil', 'Anguinan', 'Angulos', 'Angélica', 'Anillaco', 'Animaná', 'Anisacate', 'Anjullón', 'Anquincila', 'Antajé', 'Antelo', 'Antilla', 'Antinaco', 'Antofagasta de la Sierra', 'Antofalla', 'Antonio Carboni', 'Anzoategui', 'Aparicio', 'Aparzo', 'Apolinario Saravia', 'Apoyaco', 'Apóstoles', 'Arana', 'Aranguren', 'Arata', 'Arauco', 'Arbilla', 'Arbol Solo', 'Arboledas', 'Arcadia', 'Ardiles', 'Area De Promocion El Triángulo', 'Area Reserva Cinturón Ecológico', 'Arelauquen', 'Arenas Verdes', 'Arenaza', 'Arequito', 'Argentina', 'Argerich', 'Arias', 'Ariel', 'Aristóbulo del Valle', 'Arizona', 'Arminda', 'Armstrong', 'Arocena', 'Arrayanal', 'Arrecifes', 'Arribeños', 'Arroyito', 'Arroyo Aguiar', 'Arroyo Algodón', 'Arroyo Barú', 'Arroyo Cabral', 'Arroyo Ceibal', 'Arroyo Colorado', 'Arroyo Corto', 'Arroyo Dulce', 'Arroyo Leyes', 'Arroyo Los Berros', 'Arroyo Los Patos', 'Arroyo Martínez', 'Arroyo San Antonio', 'Arroyo Seco', 'Arroyo Venado', 'Arroyo Ventana', 'Arroyo Verde', 'Arroyo de la Cruz', 'Arroyo del Medio', 'Arrufo', 'Arteaga', 'Arturo Segui', 'Asamblea', 'Ascensión', 'Ascochinga', 'Assunta', 'Astica', 'Astra', 'Atahona', 'Atalaya', 'Ataliva', 'Ataliva Roca', 'Atlantida', 'Atocha', 'Aurelia', 'Ausonia', 'Avellaneda', 'Avellaneda (Est. Ewald)', 'Averías', 'Avia Terai', 'Ayacucho', 'Azara', 'Azcuénaga', 'Azopardo', 'Azul', 'Añatuya', 'Añelo', 'BALVANERA', 'BARRACAS', 'BELGRANO', 'BERMEJO', 'BOCA', 'BOEDO', 'BUENA NUEVA', 'Bagual', 'Bahía Blanca', 'Bahía Bustamante', 'Bahía Creek', 'Bahía San Blas', 'Baigorrita', 'Bajada del Agrio', 'Bajo Caracoles', 'Bajo Carrizal', 'Bajo De Veliz', 'Bajo Hondo', 'Bajo San Cayetano', 'Balcarce', 'Balde', 'Balde De Azcurra', 'Balde De Escudero', 'Balde De La Isla', 'Balde De Los Torres', 'Balde Del Carmen', 'Balde Retamo', 'Balde de la Punta', 'Balde del Rosario', 'Baldecito De La Pampa', 'Ballesteros', 'Ballesteros Sur', 'Balnearia', 'Balneario La Verde', 'Balneario Laguna de Gómez', 'Balneario Marisol', 'Balneario Monje', 'Balneario Orense', 'Balneario Pehuen Co', 'Balneario San Cayetano', 'Balneario Sauce Grande', 'Bananal', 'Banco Payaguá', 'Banda de Lucero', 'Banda del Río Salí', 'Bandera', 'Bandera Bajada', 'Banderaló', 'Banfield', 'Baradero', 'Barda del Medio', 'Bardas Blancas', 'Bario Ita', 'Barker', 'Barra Concepción', 'Barranca Alta', 'Barranca Larga', 'Barrancas', 'Barranqueras', 'Barreal', 'Barreal - Villa Pituil', 'Barrio 12 de Octubre', 'Barrio 25 De Mayo', 'Barrio Adina I Y Ii', 'Barrio Aeropuerto', 'Barrio Alto del Olvido', 'Barrio America Unida', 'Barrio Araujo', 'Barrio Arroyo del Medio', 'Barrio Bancario', 'Barrio Banco Provincia', 'Barrio Belgrano Norte', 'Barrio Belgrano-Máximo Paz', 'Barrio Blanco', 'Barrio Caima', 'Barrio Caleta Cordova', 'Barrio Caleta Olivares', 'Barrio Calle Ciega Nº10', 'Barrio Calle Ciega Nº6', 'Barrio Campos El Toledano', 'Barrio Canale', 'Barrio Carrasco', 'Barrio Casa Rosada', 'Barrio Castelli', 'Barrio Chacra Monte', 'Barrio Chivilcoy', 'Barrio Cicarelli', 'Barrio Ciudadela', 'Barrio Colinas Verdes', 'Barrio Colonia Conesa', 'Barrio Cooperativa Los Campamentos', 'Barrio Costa Este', 'Barrio Costa Linda', 'Barrio Costa Oeste', 'Barrio Cuatro Bocas', 'Barrio Destacamento', 'Barrio Echeverria', 'Barrio El Boquerón', 'Barrio El Carmen (Este)', 'Barrio El Carmen Oeste', 'Barrio El Casal', 'Barrio El Cepillo', 'Barrio El Congreso', 'Barrio El Coyunco', 'Barrio El Cruce', 'Barrio El Labrador', 'Barrio El Maruchito', 'Barrio El Milagro', 'Barrio El Mirador', 'Barrio El Nevado', 'Barrio El Pacaá - Barrio Comipini', 'Barrio El Peligro', 'Barrio El Petróleo', 'Barrio El Pilar', 'Barrio El Taladro', 'Barrio El Treinta', 'Barrio Emanuel', 'Barrio Emergente', 'Barrio Empleados de Comercio', 'Barrio Escuela 461', 'Barrio Escuela 633', 'Barrio Esperanza', 'Barrio Finca La Maroma', 'Barrio Frontera', 'Barrio Fátima', 'Barrio Gambier', 'Barrio Gasoducto', 'Barrio Gilbert', 'Barrio Goretti', 'Barrio Guatambu', 'Barrio Guemes', 'Barrio Guerrico', 'Barrio Intendencia', 'Barrio Isla 10', 'Barrio Jesús de Nazaret', 'Barrio Jocolí II', 'Barrio Justo P. Castro IV', 'Barrio Kennedy', 'Barrio La Barda', 'Barrio La Costa', 'Barrio La Defensa', 'Barrio La Esperanza', 'Barrio La Estación', 'Barrio La Gloria', 'Barrio La Herradura', 'Barrio La Lor', 'Barrio La Palmera', 'Barrio La Pega', 'Barrio La Ribera - Barrio APYCAR', 'Barrio La Rotonda', 'Barrio La Unión', 'Barrio Lagunas de Bartoluzzi', 'Barrio Laprida', 'Barrio Las Angustias', 'Barrio Las Casuarinas', 'Barrio Las Golondrinas', 'Barrio Las Malvinas', 'Barrio Las Margaritas', 'Barrio Las Quintas', 'Barrio Las Rosas', 'Barrio Las Tunas', 'Barrio Lomas Altas', 'Barrio Lomas de Tafí', 'Barrio Los Bosquecitos', 'Barrio Los Charabones', 'Barrio Los Jarilleros', 'Barrio Los Olivos', 'Barrio Los Olmos', 'Barrio Los Pinares', 'Barrio Los Pioneros', 'Barrio Luisillo', 'Barrio Manantial Rosales', 'Barrio Mar del Plata', 'Barrio María Auxiliadora', 'Barrio María Elvira', 'Barrio Militar - Aeropuerto Militar', 'Barrio Mitre', 'Barrio Molina Cabrera', 'Barrio Mosconi', 'Barrio Moño Azul', 'Barrio Municipal', 'Barrio Mutual San Martín', 'Barrio Norte (municipio de Cinco Saltos)', 'Barrio Norte (municipio de Cipolletti)', 'Barrio Ntra. Sra. De Fátima', 'Barrio Nuevo Garupa', 'Barrio Nuevo Río Ceballos', 'Barrio Parada 14', 'Barrio Parque Almirante Irizar (Ap. Kilómetro 61)', 'Barrio Parque General San Martin', 'Barrio Parque Las Acacias', 'Barrio Perdriel IV', 'Barrio Pinar', 'Barrio Pino Azul', 'Barrio Planta Compresora de Gas', 'Barrio Porvenir', 'Barrio Presidente Perón', 'Barrio Primavera', 'Barrio Prospero Palazzo', 'Barrio Puente 83', 'Barrio Puente De Madera', 'Barrio Restinga Ali', 'Barrio Rivadavia', 'Barrio Rodriguez Peña', 'Barrio Ruca Luhé', 'Barrio Rural', 'Barrio Ruta 24 Kilómetro 10', 'Barrio Ruta 40', 'Barrio Río Salado', 'Barrio Saavedra', 'Barrio Sadop', 'Barrio San Cayetano', 'Barrio San Felipe', 'Barrio San Jorge', 'Barrio San José III', 'Barrio Santa Isabel', 'Barrio Santa Lucia', 'Barrio Santa Paula', 'Barrio Santa Rita', 'Barrio Santa Rosa', 'Barrio Santa Teresita', 'Barrio Sarmiento', 'Barrio Tres Luces', 'Barrio Tungoil', 'Barrio U.T.A. II', 'Barrio Universitario', 'Barrio Unión', 'Barrio Villa S.U.P.E.', 'Barrio Villa del Parque', 'Barrio Virgen del Rosario', 'Barrio de los Pescadores', 'Barrio del Lago', 'Barrios', 'Barrios Acapulco y Veracruz', 'Bartolomé de las Casas', 'Basail', 'Basavilbaso', 'Base Belgrano Ii', 'Base Brown', 'Base Carlini', 'Base Esperanza', 'Base Marambio', 'Base Matienzo', 'Base Orcadas', 'Base San Martin', 'Batavia', 'Batán', 'Bauer y Sigel', 'Bayauca', 'Bañado de Ovanta', 'Bañado de Soto', 'Bañado de los Pantanos', 'Beazley', 'Beccar', 'Belen de Escobar', 'Bell Ville', 'Bella Estancia', 'Bella Italia', 'Bella Vista', 'Bellocq', 'Beltrán', 'Belén', 'Benavídez', 'Bengolea', 'Benitez', 'Benito Juárez (Est. Juárez)', 'Benito Legeren', 'Benjamín Gould', 'Beravebú', 'Berazategui', 'Berazategui Oeste', 'Berdier', 'Berisso', 'Bermejito', 'Bermejo', 'Bermúdez', 'Berna', 'Bernal', 'Bernal Oeste', 'Bernardo Larroude', 'Bernardo de Irigoyen', 'Bernardo de Irigoyen (Est. Irigoyen)', 'Bernasconi', 'Berrotarán', 'Berutti', 'Berón de Astrada', 'Betbeder', 'Bialet Massé', 'Bigand', 'Billinghurst', 'Blancagrande', 'Blanco Encalada', 'Blancuntre', 'Blaquier', 'Boca Del Tigre', 'Bocayuva', 'Bombal', 'Bonpland', 'Bordenave', 'Bosques', 'Boulogne Sur Mer', 'Bouquet', 'Bouwer', 'Bovril', 'Bowen', 'Bragado', 'Brea Pozo', 'Brinkmann', 'Buen Orden', 'Buen Pasto', 'Buena Esperanza', 'Buena Vista', 'Buenos Aires Chico', 'Bulnes', 'Burzaco', 'Bustinza', 'Buta Ranquil', 'Bárcena', 'CABALLITO', 'CARRODILLA', 'CHACARITA', 'CHACRAS DE CORIA', 'COGHLAN', 'COLEGIALES', 'COLONIA SEGOVIA', 'CONSTITUCION', 'COQUIMBITO', 'CRUZ DE PIEDRA', 'Cabal', 'Cabalango', 'Cabeza De Novillo', 'Cabildo', 'Cabra Corral', 'Caburei', 'Cacharí', 'Cacheuta', 'Cachi', 'Cachirulo', 'Cacique Ariacaiquín', 'Cadret', 'Cafayate', 'Cafferata', 'Caimancito', 'Calabacilla', 'Calchaquí', 'Calchín', 'Calchín Oeste', 'Caldenadas', 'Caleta Olivia', 'Caleufú', 'Calilegua', 'Calingasta', 'Camarones', 'Camet', 'Camet Norte', 'Camilo Aldao', 'Caminiaga', 'Campamento Vespucio', 'Campana', 'Campanas', 'Campichuelo', 'Campo Afuera', 'Campo Andino', 'Campo De Mayo', 'Campo Durán', 'Campo Gallo', 'Campo Garay', 'Campo Grande', 'Campo La Cruz', 'Campo Largo', 'Campo Los Andes', 'Campo Quijano', 'Campo Ramón', 'Campo Santo', 'Campo Viera', 'Campo de Herrera', 'Campos Salles', 'Campos de Roca', 'Campos del Virrey', 'Canals', 'Candelaria', 'Candelaria Sur', 'Candioti', 'Cangrejillos', 'Canning', 'Canteras El Sauce', 'Canteras Quilpo', 'Capayán', 'Capdeville', 'Capiazuti', 'Capilla Del Rosario', 'Capilla Vieja', 'Capilla de Sitón', 'Capilla de los Remedios', 'Capilla del Carmen', 'Capilla del Monte', 'Capilla del Señor (Est. Capilla)', 'Capioviciño', 'Capioví', 'Capitán Bermúdez', 'Capitán Castro', 'Capitán Cáceres', \"Capitán General Bernardo O'Higgins\", 'Capitán Juan Pagé', 'Capitán Montoya', 'Capitán Sarmiento', 'Capitán Solari', 'Capivara', 'Caraguatay', 'Carahunco', 'Carapachay', 'Carboncito', 'Carcarañá', 'Cardenal Cagliero', 'Carhué', 'Carilo', 'Carlos Beguerie', 'Carlos Casares', 'Carlos Keen', 'Carlos María Naón', 'Carlos Pellegrini', 'Carlos Salas', 'Carlos Spegazzini', 'Carlos Tejedor', 'Carlos Tomás Sourigues', 'Carmen', 'Carmen de Areco', 'Carmen de Patagones', 'Carmen del Sauce', 'Carmensa', 'Carnerillo', 'Carolina', 'Carpinteria', 'Carpintería', 'Carrenleufú', 'Carreras', 'Carrilobo', 'Carrizales (Est. Clarke)', 'Carro Quemado', 'Casa Bamba', 'Casa Colorada', 'Casa De Los Tigres', 'Casa Grande', 'Casa de Piedra', 'Casabindo', 'Casalegno', 'Casalins', 'Casares', 'Casas', 'Casbas', 'Cascadas', 'Caseros', 'Caseros Centro', 'Casilda', 'Casira', 'Caspalá', 'Caspi Corral', 'Caspichango', 'Castelar', 'Castellanos', 'Castelli', 'Castilla', 'Castro Barros', 'Catriel', 'Catriló', 'Catua', 'Caucete', 'Causana', 'Cavanagh', 'Caviahué', 'Cavour', 'Cayastacito', 'Cayastá', 'Cazador', 'Cazadores Correntinos', 'Cazón', 'Caá - Yarí', 'Cañada Escobar', 'Cañada Honda', 'Cañada Ombú', 'Cañada Rica', 'Cañada Rosquín', 'Cañada Seca', 'Cañada de Gómez', 'Cañada de Luque', 'Cañada de Machado', 'Cañada de Río Pinto', 'Cañada del Sauce', 'Cañada del Ucle', 'Cañadón Chileno', 'Cañadón Seco', 'Cañuelas', 'Ceballos', 'Ceibalito', 'Ceibas', 'Centenario', 'Centeno', 'Centinela del Mar', 'Centro 25 de Junio', 'Centro Agrícola El Pato', 'Centro Forestal', 'Centro Guerrero', 'Cepeda', 'Ceres', 'Cerrillos', 'Cerrito', 'Cerrito Blanco', 'Cerro Azul', 'Cerro Colorado', 'Cerro Corá', 'Cerro Cóndor', 'Cerro Negro', 'Cerro Policía', 'Cerro de Oro', 'Cerro de la Gloria', 'Cerros Largos', 'Cervantes', 'Cevil Redondo', 'Chabás', 'Chacabuco', 'Chacharramendi', 'Chacras de San Clemente', 'Chacras del Río Luján', 'Chajarí', 'Chaján', 'Chalacea', 'Chalicán', 'Chamical', 'Chancani', 'Chapadmalal', 'Chapanay', 'Chapuy', 'Chaquiago', 'Charadai', 'Charata', 'Charbonier', 'Charigüé', 'Charlone', 'Charras', 'Chascomús', 'Chasicó', 'Chauchillas', 'Chaupi Pozo', 'Chaupihuasi', 'Chavarría', 'Chazón', 'Chañar', 'Chañar Ladeado', 'Chañar Pozo de Abajo', 'Chañar Punco', 'Chañar Viejo', 'Chañarmuyo', 'Chelforó', 'Chepes', 'Chichinales', 'Chiclana', 'Chicoana', 'Chilca Juliana', 'Chilecito', 'Chilibroste', 'Chillar', 'Chimbas', 'Chimpay', 'Chivilcoy', 'Choele Choel', 'Cholila', 'Choromoro', 'Chorotis', 'Chorriaca', 'Chos Malal', 'Chosmes', 'Chovet', 'Choya', 'Christophersen', 'Chuchucaruana', 'Chucul', 'Chucuma', 'Chumbicha', 'Chuquis', 'Churqui Cañada', 'Churruca', 'Chuña', 'Chuña Huasi', 'Cianzo', 'Cienaga De Intihuasi', 'Cienaguita', 'Cieneguillas', 'Ciervo Petiso', 'Cinco Saltos', 'Cintra', 'Cipolletti', 'City Bell', 'Ciudad De Los Niños', 'Ciudad Del Libertador General San Martin', 'Ciudad Evita', 'Ciudad Jardin El Libertador', 'Ciudad Jardín Lomas del Palomar', 'Ciudadela', 'Ciénaga del Coro', 'Ciénega', 'Claraz', 'Claromecó', 'Classon', 'Claypole', 'Clemente Onelli', 'Clodomira', 'Clodomiro Ledesma', 'Clorinda', 'Club de Campo Larena - Los Quinchos', 'Club de Campo Las Malvinas', 'Club de Campo Los Puentes', 'Cobos', 'Cobres', 'Cochinoca', 'Coctaca', 'Colalao del Valle', 'Colan Conhue', 'Colana', 'Colazo', 'Collagasta', 'Colmena', 'Colombres', 'Colonia 10 de Julio', 'Colonia Aborigen', 'Colonia Alemana', 'Colonia Alicia', 'Colonia Almada', 'Colonia Alpina', 'Colonia Ana', 'Colonia Anguinán', 'Colonia Anita', 'Colonia Aurora', 'Colonia Avellaneda', 'Colonia Avigdor', 'Colonia Ayuí', 'Colonia Baranda', 'Colonia Barge', 'Colonia Barón', 'Colonia Belgrano', 'Colonia Benítez', 'Colonia Bicha', 'Colonia Bismarck', 'Colonia Bossi', 'Colonia Bremen', 'Colonia Campo Villafañe', 'Colonia Carlos Pellegrini', 'Colonia Carolina', 'Colonia Caroya', 'Colonia Catinzaco', 'Colonia Cello', 'Colonia Crespo', 'Colonia Dolores', 'Colonia Don Antonio', 'Colonia Dora', 'Colonia Durán', 'Colonia El Simbolar', 'Colonia Elisa', 'Colonia Elía', 'Colonia Ensanche Sauce', 'Colonia Ensayo', 'Colonia Fiorito', 'Colonia Fiscal', 'Colonia General Roca', 'Colonia Gutierrez', 'Colonia Hinojo', 'Colonia Hugues', 'Colonia Italiana', 'Colonia Iturraspe', 'Colonia Juliá y Echarren', 'Colonia La Argentina', 'Colonia Las Cuatro Esquinas', 'Colonia Las Pichanas', 'Colonia Las Rosas', 'Colonia Libertad', \"Colonia Liebig's\", 'Colonia Malligasta', 'Colonia Margarita', 'Colonia Marina', 'Colonia Mauricio', 'Colonia Mayo - Barrio La Milagrosa', 'Colonia Merou', 'Colonia Médici', 'Colonia Nievas', 'Colonia Nueva Coneta', 'Colonia Ortiz de Ocampo', 'Colonia Pando', 'Colonia Pastoril', 'Colonia Peña', 'Colonia Polana', 'Colonia Popular', 'Colonia Prosperidad', 'Colonia Raquel', 'Colonia Rosa', 'Colonia San Adolfo', 'Colonia San Bartolomé', 'Colonia San José', 'Colonia San Juan', 'Colonia San Martín', 'Colonia San Miguel', 'Colonia San Miguel Arcángel', 'Colonia San Pedro', 'Colonia San Ricardo (Est. Iriarte)', 'Colonia Santa María', 'Colonia Santa Rosa', 'Colonia Sarmiento', 'Colonia Segovia', 'Colonia Seré', 'Colonia Suiza', 'Colonia Tinco', 'Colonia Tirolesa', 'Colonia Valtelina', 'Colonia Veinticinco', 'Colonia Vicente Agüero', 'Colonia Vichigasta', 'Colonia Victoria', 'Colonia Videla', 'Colonia Vignaud', 'Colonia Yeruá', 'Colonia Zubelzu', 'Colonia del Valle', 'Colonias Unidas', 'Colpes', 'Colón', 'Comallo', 'Comandante Fontana', 'Comandante Luis Piedrabuena', 'Comandante Nicanor Otamendi', 'Comicó', 'Comodoro Py', 'Comodoro Rivadavia', 'Cona Niyeu', 'Concarán', 'Concepción', 'Concepción de la Sierra', 'Concepción del Bermejo', 'Concepción del Uruguay', 'Concordia', 'Conesa', 'Coneta', 'Conhelo', 'Conlara', 'Conscripto Bernardi', 'Constanza', 'Contralmirante Cordero', 'Copacabana', 'Copahue', 'Copetonas', 'Copo Quile', 'Coranzuli', 'Corcovado', 'Cordobita', 'Cordón del Plata', 'Coronda', 'Coronel Alzogaray', 'Coronel Arnold', 'Coronel Baigorria', 'Coronel Belisle', 'Coronel Boerr', 'Coronel Bogado', 'Coronel Brandsen', 'Coronel Charlone', 'Coronel Cornejo', 'Coronel Dorrego', 'Coronel Du Graty', 'Coronel Fraga', 'Coronel Hilario Lagos (Est. Aguas Buenas)', 'Coronel Juan Solá', 'Coronel Manuel L. Rico', 'Coronel Martínez de Hoz (Ap. Kilómetro 322)', 'Coronel Moldes', 'Coronel Mollinedo', 'Coronel Olleros', 'Coronel Pringles (Est. Pringles)', 'Coronel Rodolfo S. Domínguez', 'Coronel Seguí', 'Coronel Suárez', 'Coronel Vidal', 'Corpus', 'Corral Quemado', 'Corral de Bustos', 'Corralito', 'Correa', 'Corrientes', 'Cortaderas', 'Cortines', 'Corzuela', 'Cosquín', 'Costa Azul', 'Costa Bonita', 'Costa Flores', 'Costa Grande', 'Costa de Araujo', 'Costa de Reyes', 'Costa del Chubut', 'Costasacate', 'Cote Lai', 'Country Chacras de la Villa - Country San Isidro', 'Country Club Bosque Real - Barrio Morabo', 'Country Club El Casco', 'Country Club El Jagüel', 'Country Club El Rodeo', 'Country Club Las Praderas', 'Country Club Los Caldenes', 'Country Jockey Club', 'Country Los Medanos', 'Covunco Centro', 'Coyaguaima', 'Crespo', 'Crispi', 'Crotto', 'Cruce Caballero', 'Crucesita', 'Crucesitas Séptima Sección', 'Cruz Alta', 'Cruz Caña', 'Cruz de Caña', 'Cruz de Piedra', 'Cruz de los Milagros', 'Cruz del Eje', 'Cuadro Benegas', 'Cuadro Nacional', 'Cuadro Ortega', 'Cuartel V', 'Cuatro Bocas', 'Cuatro Esquinas', 'Cuchillo Co', 'Cucullú', 'Cuesta Blanca', 'Cuipan', 'Cululú', 'Cura Malal', 'Curarú', 'Curupaity', 'Curuzú Cuatiá', 'Cushamen Centro', 'Cusi Cusi', 'Cutral Có', 'Cóndor Huasi', 'Córdoba', \"D'Orbigny\", 'DORREGO', 'Daireaux', 'Dalmacio Vélez', 'Damián Maisonave (Est. Simson)', 'Daniel Donovan', 'Darregueira', 'Darwin', 'De Bary', 'De la Canal', 'De la Garma', 'Del Campillo', 'Del Carril', 'Del Valle', 'Del Viso', 'Delfín Gallo', 'Delfín Huergo', 'Desaguadero', 'Desiderio Tello', 'Despeñaderos', 'Destacamento Camara', 'Destacamento Decepcion', 'Destacamento Melchior', 'Destacamento Petrel', 'Desvío Aguirre', 'Desvío Arijón', 'Devoto', 'Deán Funes', 'Diadema Argentina', 'Diagonal Norte - Luz y Fuerza - Los Pocitos - Villa Nueva Italia (6)', 'Diamante', 'Diego Gaynor', 'Diego de Alvear', 'Diego de Rojas', 'Dina Huapi', 'Dique Chico', 'Dique Florentino Ameghino', 'Dique Luján', 'Dique Nº 1', 'Dique Vulpiani', 'Divisadero', 'Doblas', 'Dock Sud', 'Doctor Ricardo Rojas', 'Dolavon', 'Dolores', 'Domingo Savio', 'Domselaar', 'Don Bosco', 'Don Cristóbal', 'Don Emilio', 'Don Orione', 'Don Torcuato Este', 'Don Torcuato Oeste', 'Donadeu', 'Dorila', 'Dos Acequias (Est. Los Angacos)', 'Dos Arroyos', 'Dos Hermanas', 'Dos de Mayo Núcleo I', 'Dos de Mayo Núcleo II', 'Dos de Mayo Núcleo III', 'Dr. Manuel Belgrano', 'Dragones', 'Dudignac', 'Dufaur', 'Duggan', 'Dumesnil', 'Dunamar', 'Durazno', 'Díaz', 'EL CHALLAO', 'EL PLUMERILLO', 'EL RESGUARDO', 'EL SAUCE', 'EL ZAPALLAR', 'EX INGENIO SAN JOSE', 'Eduardo Castex', 'Egusquiza', 'El 49', 'El Acheral', 'El Aguilar', 'El Alamito', 'El Alcalde (Est. Tala Norte)', 'El Alcázar', 'El Algarrobal', 'El Alto', 'El Angosto', 'El Araza', 'El Arañado', 'El Arbolito', 'El Arenal', 'El Aybal', 'El Baldecito', 'El Barrial', 'El Bañado', 'El Bobadal', 'El Bolsón', 'El Borbollon', 'El Bordo', 'El Bracho', 'El Brete', 'El Brillante', 'El Caburé', 'El Cadillal', 'El Cajón', 'El Calafate', 'El Calden', 'El Caramelo', 'El Carmelo', 'El Carmen', 'El Carril', 'El Carrizal', 'El Caín', 'El Ceibal', 'El Cerrito', 'El Chacho', 'El Chaltén', 'El Charabon', 'El Charco', 'El Chañar', 'El Chocón', 'El Cholar', 'El Chorrillo', 'El Churrasco', 'El Cimarrón', 'El Colorado', 'El Corcovado - El Torreón', 'El Corte', 'El Crispín', 'El Crucero', 'El Cuadrado', 'El Cuy', 'El Cóndor', 'El Desmonte', 'El Deán', 'El Diquecito', 'El Divisadero', 'El Divisorio', 'El Dorado', 'El Duraznito', 'El Durazno', 'El Empalme', 'El Encón', 'El Escorial', 'El Espinillo', 'El Espino', 'El Estanquito', 'El Fical', 'El Fiscal', 'El Fortín', 'El Foyel', 'El Fuerte', 'El Fuertecito', 'El Galpón', 'El Hoyo', 'El Huayco', 'El Hueco', 'El Huecú', 'El Injerto', 'El Jagüel', 'El Jardín', 'El Juncal', 'El Libertador', 'El Lindero', 'El Maitén', 'El Manantial', 'El Manzano', 'El Marquesado', 'El Medanito', 'El Milagro', 'El Mirador', 'El Mirasol', 'El Mogote', 'El Mojón', 'El Mollar', 'El Moreno', 'El Médano', 'El Naranjo', 'El Nihuil', 'El Pajonal (Est. Pomán)', 'El Palenque', 'El Palomar', 'El Pantanillo', 'El Paraguay', 'El Paraiso', 'El Paramillo', 'El Paraíso', 'El Pedregal', 'El Pensamiento', 'El Peral', 'El Perdido (Est. José A. Guisasola)', 'El Peñón', 'El Pingo', 'El Piquete', 'El Portezuelo', 'El Potrerillo', 'El Potrero', 'El Potrillo', 'El Pueblito', 'El Puesto', 'El Quebrachal', 'El Quebracho', 'El Quemado', 'El Quimilo', 'El Rabón', 'El Ramblón', 'El Rastreador', 'El Recodo', 'El Recreo', 'El Recuerdo', 'El Redomón', 'El Remanso', 'El Retiro', 'El Rincon', 'El Rincón', 'El Rodeo', 'El Rosario', 'El Salado', 'El Salto', 'El Sauce', 'El Sauzal', 'El Sauzalito', 'El Sifon', 'El Soberbio', 'El Solar', 'El Sombrero', 'El Sosneado', 'El Tabacal', 'El Tala', 'El Talar', 'El Tipal - La Almudena', 'El Toro', 'El Trapiche', 'El Trigo', 'El Triunfo', 'El Tropezon', 'El Tropezón', 'El Trébol', 'El Tunal', 'El Turbio (Est. Gobernador Mayer)', 'El Tuscal', 'El Tío', 'El Valle', 'El Vergel', 'El Vinagrillo', 'El Volcán', 'El Zampal', 'El Zanjón', 'El Zapallar', 'El cazador', 'Eldorado', 'Elena', 'Eleodoro Lobos', 'Elisa', 'Elortondo', 'Elvira', 'Embajador Martini', 'Embalse', 'Embarcación', 'Emilia', 'Emilio Ayarza', 'Emilio V. Bunge', 'Empalme San Carlos', 'Empalme Villa Constitución', 'Empedrado', 'Energía', 'Enrique Carbó', 'Enrique Urién', 'Ensenada', 'Epuyén', 'Ernestina', 'Erézcano', 'Escalada', 'Esmeralda', 'Espartillar', 'Esperanza', 'Espigas', 'Esquel', 'Esquina', 'Esquina Negra', 'Esquina del Alambre', 'Esquiú', 'Estacion Camet', 'Estacion Presidente Roca', 'Estacion Puiggari', 'Estación Apóstoles', 'Estación Arenales', 'Estación Arroyo Clé', 'Estación Aráoz', 'Estación Atamisqui', 'Estación Camps', 'Estación Chapadmalal', 'Estación Clucellas', 'Estación Colonia Tirolesa', 'Estación Escriña', 'Estación General Obligado', 'Estación La Punta', 'Estación Lazo', 'Estación Lecueder', 'Estación Libertad', 'Estación Luxardo', 'Estación Mazán', 'Estación Raíces', 'Estación Robles', 'Estación Saguier', 'Estación Taboada', 'Estación Tacañitas', 'Estación Torrent', 'Estación Yeruá', 'Estación Yuquerí', 'Estancia De Amieva', 'Estancia Grande', 'Estancia San Pedro', 'Estancia Vieja', 'Estancia de Guadalupe', 'Estanislao Severo Zeballos', 'Estanislao del Campo', 'Esteban Agustín Gascón', 'Esteban Rams', 'Estela', 'Esther', 'Etruria', 'Eufrasio Loza', 'Eugenio Bustos', 'Eusebia y Carolina', 'Eustolia', 'Ex Ingenio Esperanza', 'Ex Ingenio Los Ralos', 'Ex Ingenio Lujan', 'Ex Ingenio Nueva Baviera', 'Ezpeleta', 'Ezpeleta Oeste', 'FLORES', 'FLORESTA', 'Facundo', 'Falda del Carmen', 'Falda del Cañete', 'Falucho', 'Famaillá', 'Famatanca', 'Famatina', 'Farallón Negro', 'Faro', 'Faustino M. Parera', 'Febré', 'Federación', 'Federal', 'Felicia', 'Felipe Solá', 'Felipe Yofré', 'Fernández', 'Ferri', 'Ferré', 'Fiambalá', 'Fighiera', 'Firmat', 'Fitz Roy', 'Fleming', 'Florencia', 'Florencio Varela', 'Florentino Ameghino', 'Florida', 'Florida Oeste', 'Fofo Cahuel', 'Fontana', 'Fontezuela', 'Formosa', 'Fortuna', 'Fortín Acha', 'Fortín Cabo 1º Lugones', 'Fortín El Patria', 'Fortín Inca', 'Fortín Las Chuñas', 'Fortín Lavalle', 'Fortín Olavarría', 'Fortín Olmos', 'Fortín Sargento 1º Leyes', 'Fortín Soledad', 'Fortín Tiburcio', 'Fracrán', 'Fraga', 'Fraile Pintado', 'Francisco Alvarez', 'Francisco Madero', 'Franck', 'Franklin', 'Fray Luis Beltrán', 'Frente Mar', 'Freyre', 'Frontera', 'Frontera de Río Pico', 'Frías', 'Fuentes', 'Fuerte Esperanza', 'Fuerte Quemado', 'Funes', 'Fátima', 'GENERAL BELGRANO', 'GENERAL GUTIERREZ', 'Gaboto', 'Gahan', 'Gaiman', 'Gan Gan', 'Gancedo', 'Gaona', 'Garabato', 'Garayalde', 'Gardey', 'Garibaldi', 'Garmendia', 'Garruchos', 'Garré', 'Garuhapé', 'Garupá', 'Garza', 'Garín', 'Gastre', 'Gato Colorado', 'General Acha', 'General Almada', 'General Alvear', 'General Arenales', 'General Baldissera', 'General Ballivián', 'General Belgrano', 'General Cabrera', 'General Campos', 'General Capdevila', 'General Conesa', 'General Daniel Cerri (Est. General Cerri)', 'General Deheza', 'General Enrique Godoy', 'General Fernández Oro', 'General Fotheringham', 'General Galarza', 'General Gelly', 'General Guido', 'General Güemes', 'General Hornos', 'General José de San Martín', 'General Juan Madariaga', 'General La Madrid', 'General Lagos', 'General Las Heras (Est. Las Heras)', 'General Lavalle', 'General Levalle', 'General Lucio Victorio Mansilla', 'General Mansilla (Est. Bartolomé Bavio)', 'General Manuel J. Campos', 'General Mosconi', \"General O'Brien\", 'General Pacheco', 'General Paz', 'General Pico', 'General Pinedo', 'General Pinto', 'General Pirán', 'General Pizarro', 'General Racedo', 'General Ramírez', 'General Rivas', 'General Roca', 'General Rodríguez', 'General Rojo', 'General San Martín (Est. Villa Alba)', 'General Urquiza', 'General Vedia', 'General Villegas (Est. Villegas)', 'Gerli', 'Germania (Est. Mayor José Orellano)', 'Gessler', 'Gilbert', 'Girodias', 'Glew', 'Gobernador Benegas', 'Gobernador Castro', 'Gobernador Costa', 'Gobernador Crespo', 'Gobernador Duval', 'Gobernador Echagüe', 'Gobernador Gregores', 'Gobernador Igr. Valentín Virasoro', 'Gobernador Juan E. Martínez', 'Gobernador Julio A. Costa', 'Gobernador López', 'Gobernador Mansilla', 'Gobernador Roca', 'Gobernador Solá', 'Gobernador Udaondo', 'Gobernador Ugarte', 'Godoy', 'Godoy Cruz', 'Goldney', 'Golondrina', 'Gonzalez Catán', 'González Moreno', 'Gorchs', 'Gorostiaga', 'Goudge', 'Gowland', 'Goya', 'Goyena', 'Gramilla', 'Gran China', 'Gran Guardia', 'Granadero Baigorria', 'Grand Bourg', 'Graneros', 'Gregoria Pérez de Denis (Est. El Nochero)', 'Gregorio De Laferrere', 'Grunbein', 'Grutly', 'Guachipas', 'Guadalcazar', 'Guadalupe Norte', 'Gualeguay', 'Gualeguaychú', 'Gualjaina', 'Guaminí', 'Guanacache', 'Guanaco Muerto', 'Guanchín', 'Guandacol', 'Guaraní', 'Guardamonte', 'Guardia Escolta', 'Guardia Mitre', 'Guasapampa', 'Guatimozín', 'Guatraché', 'Guaviraví', 'Guayamba', 'Guaymallén', 'Guernica', 'Guerrero', 'Guerrico', 'Guillermo E. Hudson', 'Gunther', 'Gálvez', 'Gómez', 'Gödeken', 'Gütemberg', 'Haedo', 'Hale', 'Hambis', 'Hasenkamp', 'Hasse', 'Haumonía', 'Helvecia', 'Henderson', 'Hermoso Campo', 'Hernandarias', 'Hernando', 'Hernán Mejía Miraval', 'Hernández', 'Herradura', 'Herrera', 'Herrera Vegas', 'Hersilia', 'Hickman', 'Hilario Ascasubi', 'Hinojo', 'Hipatia', 'Hipólito Bouchard', 'Hipólito Yrigoyen', 'Hipólito Yrigoyen (Est. Iturbe)', 'Hito 1', 'Hocker', 'Horquilla', 'Hortensia', 'Huacalera', 'Huaco', 'Hualfín', 'Hualtaran', 'Huanchillas', 'Huanguelén', 'Huanqueros', 'Huaycama', 'Hucal', 'Huerta Grande', 'Hughes', 'Huillapima', 'Huinca Renancó', 'Huinganco', 'Humahuaca', 'Humberto Primo', 'Humboldt', 'Hurlingham', 'Huyamampa', 'Huáncar', 'Ibarlucea', 'Ibarreta', 'Ibicuy', 'Icaño', 'Idiazabal', 'Iglesia', 'Ignacio Correas', 'Iltico', 'Impira', 'Independencia', 'Indio Rico', 'Infanzón', 'Ingeniero Adolfo Sourdeaux', 'Ingeniero Barbet', 'Ingeniero Chanourdie', 'Ingeniero Forres (Est. Chaguar Punco)', 'Ingeniero Foster', 'Ingeniero Giagnoni', 'Ingeniero Guillermo N. Juárez', 'Ingeniero Gustavo André', 'Ingeniero Jacobacci', 'Ingeniero Juan Allan', 'Ingeniero Luiggi', 'Ingeniero Luis A. Huergo', 'Ingeniero Maschwitz', 'Ingeniero Miguel Sajaroff', 'Ingeniero Moneta', 'Ingeniero Otto Krause', 'Ingeniero Pablo Nogués', 'Ingeniero Thompson', 'Ingeniero White', 'Ingenio Fronterita', 'Ingenio La Florida', 'Ingenio Primer Correntino', 'Ingenio San Pablo', 'Ingenio Santa Barbara', 'Inocencio Sosa', 'Inriville', 'Integración', 'Intendente Alvear', 'Intihuasi', 'Intiyaco', 'Inés Indart', 'Irala', 'Irazusta', 'Irene', 'Irigoyen', 'Irineo Portela', 'Iruya', 'Isca Yacu', 'Isca Yacu Semaul', 'Isidro Casanova', 'Isla Santiago (Oeste)', 'Isla Verde', 'Isla de Cañas', 'Isla del Cerrito', 'Itacaruaré', 'Italó', 'Itatí', 'Ituzaingó', 'Ituzaingó Centro', 'Ituzaingó Sur', 'Itá Ibaté', 'Itín', 'JESUS NAZARENO', 'Jacinto Arauz', 'Jacinto L. Aráuz', 'Jacipunco', 'Jagüé', 'Jaime Prats', 'Jama', 'James Craik', 'Jaramillo', 'Jardín América', 'Jardín Arenales', 'Jarilla', 'Jeppener', 'Jesús María', 'Joaquin Gorina', 'Joaquín V. González', 'Jocolí', 'Jocolí Viejo', 'Jorge Born', 'Jose Hernandez', 'Jose Ingenieros', 'Jose Melchor Romero', 'Jose Mármol', 'Josefina', 'José B. Casas', 'José C Paz', 'José Juan Almeyra', 'José Maria Ezeiza', 'José María Jáuregui (Est. Jáuregui)', 'José Rafael Gómez', 'José de San Martín', 'José de la Quintana', 'Joyango', 'Juan A. Pradere', 'Juan A. de la Peña', 'Juan Anchorena (Est. Urquiza)', 'Juan B. Molina', 'Juan Bautista Alberdi', 'Juan Bautista Alberdi (Est. Alberdi)', 'Juan Cousté (Est. Algarrobo)', 'Juan E. Barra', 'Juan F. Ibarra', 'Juan G. Bazán', 'Juan Jorba', 'Juan José Castelli', 'Juan José Paso', 'Juan Llerena', 'Juan María Gutierrez', 'Juan N. Fernández', 'Juan Pujol', 'Juan W. Gez', 'Juana Koslay', 'Jubileo', 'Juella', 'Julia Dufour', 'Juncal', 'Junín', 'Junín de los Andes', 'Justiniano Posse', 'Justo Daract', 'Juventud Unida', 'KILOMETRO 11 (GUAYMALLEN)', 'KM. 3 - General Mosconi', 'KM. 5 - Presidente Ortiz', 'KM. 8 - Don Bosco', 'Kilómetro 101', 'Kilómetro 115', 'Kilómetro 17', 'Kilómetro 30', 'Kilómetro 658', 'Km. 11 - Cuarteles', 'Koluel Kaike', 'LAS CAÑAS', 'LAS TORTUGAS', 'LINIERS', 'LUZURIAGA', 'La Adela', 'La Aguada', 'La Almona', 'La Angelina', 'La Angelita', 'La Arboleda', 'La Armonía', 'La Aurora', 'La Aurora (Est. La Niña)', 'La Avenencia', 'La Bajada', 'La Baliza', 'La Banda', 'La Batea', 'La Beba', 'La Boca del Río', 'La Botija', 'La Brava', 'La Brea', 'La Buitrera', 'La Cabral', 'La Caldera', 'La Calera', 'La Caleta', 'La Candelaria', 'La Capilla', 'La Carbonada', 'La Carlota', 'La Carolina', 'La Carrera', 'La Carreta', 'La Cautiva', 'La Cañada', 'La Celestina', 'La Central', 'La Cesira', 'La Chilca', 'La Chimbera', 'La Chispa', 'La Choza', 'La Cieneguita', 'La Ciénaga y Barrio San Rafael', 'La Ciénega', 'La Clarita', 'La Clotilde', 'La Cocha', 'La Colina', 'La Colonia', 'La Constancia', 'La Consulta', 'La Corita', 'La Cortadera', 'La Criolla', 'La Criolla (Est. Cañadita)', 'La Cruz', 'La Cuadra', 'La Cumbre', 'La Cumbrecita', 'La Delfina', 'La Donosa', 'La Dorada', 'La Dormida', 'La Dársena', 'La Eduvigis', 'La Emilia', 'La Escondida', 'La Esperanza', 'La Esquina', 'La Falda', 'La Falda De San Antonio', 'La Firmeza', 'La Floresta', 'La Florida', 'La Francia', 'La Gallareta', 'La Gilda', 'La Gloria', 'La Granja', 'La Guardia', 'La Higuera', 'La Hoyada', 'La Humada', 'La Intermedia', 'La Invencible', 'La Invernada', 'La Isleta', 'La Juanita', 'La Laguna', 'La Larga', 'La Leonesa', 'La Libertad', 'La Limpia', 'La Llave Nueva', 'La Lobería', 'La Loma', 'La Lomita', 'La Lonja', 'La Lucila', 'La Luisa', 'La Majada', 'La Manga', 'La Manuela', 'La Maroma', 'La Maruja', 'La Mendieta', 'La Merced', 'La Merced del Encón', 'La Mesada', 'La Misión', 'La Morada', 'La Nena', 'La Nueva Donosa', 'La Paisanita', 'La Pala', 'La Palestina', 'La Pampa', 'La Paquita', 'La Para', 'La Paz', 'La Pelada', 'La Penca y Caraguatá', 'La Perla', 'La Petra', 'La Picada', 'La Plata', 'La Playa', 'La Playosa', 'La Población', 'La Poma', 'La Posta', 'La Primavera', 'La Providencia', 'La Puerta', 'La Punilla', 'La Punta', 'La Puntilla', 'La Quiaca', 'La Quinta', 'La Ramada', 'La Ramadita', 'La Rancherita', 'La Redonda', 'La Reducción', 'La Reforma', 'La Reja', 'La Represita', 'La Ribera', 'La Rica', 'La Rinconada', 'La Rioja', 'La Rubia', 'La Sabana', 'La Salvadora', 'La Sarita', 'La Serranita', 'La Silleta', 'La Sofía', 'La Tablada', 'La Tercena', 'La Tigra', 'La Toma', 'La Tordilla', 'La Totora', 'La Travesía', 'La Trinidad', 'La Unión', 'La Vanguardia', 'La Verde', 'La Vertiente', 'La Violeta', 'La Viña', 'Labarden', 'Laborde', 'Labordeboy', 'Laboulaye', 'Lafinur', 'Lago Blanco', 'Lago Epuyén', 'Lago Puelo', 'Lago Rosario', 'Laguna Alsina (Est. Bonifacio)', 'Laguna Blanca', 'Laguna Brava', 'Laguna Escondida', 'Laguna Gallo', 'Laguna Larga', 'Laguna Limpia', 'Laguna Naick-Neck', 'Laguna Paiva', 'Laguna Vitel', 'Laguna Yema', 'Laguna de Lobos', 'Laguna del Pescado', 'Lagunillas de Farallón', 'Lagunita Salada', 'Laharrague', 'Lamadrid', 'Lamarque', 'Lampacito', 'Landeta', 'Lanteri', 'Lanús Este', 'Lanús Oeste', 'Lapachito', 'Laplacette', 'Laprida', 'Larguía', 'Larrechea', 'Larroque', 'Lartigau', 'Las Acequias', 'Las Aguadas', 'Las Albahacas', 'Las Armas', 'Las Arrias', 'Las Avispas', 'Las Bahamas', 'Las Bajadas', 'Las Bandurrias', 'Las Barrancas', 'Las Barranquitas', 'Las Bayas', 'Las Breñas', 'Las Caleras', 'Las Calles', 'Las Carabelas', 'Las Carditas', 'Las Catitas', 'Las Cañadas', 'Las Cañas', 'Las Cejas', 'Las Chacras', 'Las Chacritas', 'Las Chimbas', 'Las Coloradas', 'Las Compuertas', 'Las Corzuelas', 'Las Costas', 'Las Cuevas', 'Las Delicias', 'Las Encadenadas', 'Las Esquinas', 'Las Flores', 'Las Garcitas', 'Las Garzas', 'Las Gramillas', 'Las Grutas', 'Las Guachas', 'Las Heras', 'Las Higueras', 'Las Isletas', 'Las Isletillas', 'Las Jarillas', 'Las Jaulas', 'Las Juntas', 'Las Junturas', 'Las Lagunas', 'Las Lagunitas', 'Las Lajas', 'Las Lajitas', 'Las Leñas', 'Las Lomitas', 'Las Malvinas', 'Las Marianas', 'Las Martinetas', 'Las Mojarras', 'Las Moscas', 'Las Oscuras', 'Las Ovejas', 'Las Palmas', 'Las Palmeras', 'Las Palmitas', 'Las Palomas', 'Las Parejas', 'Las Perdices', 'Las Perlas', 'Las Petacas', 'Las Peñas', 'Las Piedritas', 'Las Pircas', 'Las Playas', 'Las Plumas', 'Las Rabonas', 'Las Rosas', 'Las Saladas', 'Las Tahonas', 'Las Talas', 'Las Talas - Los Médanos', 'Las Tapias', 'Las Tejas', 'Las Tinajas', 'Las Toninas', 'Las Toscas', 'Las Tunas', 'Las Varas', 'Las Varillas', 'Las Vegas', 'Las Vertientes', 'Las Violetas', 'Lastenia', 'Lavaisse', 'Lavalle', 'Lazzarino', 'Leandro N. Alem', 'Leguizamón', 'Lehmann', 'Leleque', 'Leones', 'Lezica y Torrezuri', 'León', 'Libertad', 'Libertador General San Martín (Est. Ledesma)', 'Liborio Luna', 'Licenciado Matienzo', 'Lilo Viejo', 'Lima', 'Limay Mahuida', 'Lin Calel', 'Lincoln', 'Lisandro Olmos', 'Liviara', 'Llambi Campbell', 'Llavallol', 'Llulluchayoc', 'Lobería', 'Lobos', 'Logroño', 'Loma Alta', 'Loma Blanca', 'Loma Bola', 'Loma Hermosa', 'Loma Verde', 'Lomas Blancas', 'Lomas De Zamora', 'Lomas Del Mirador', 'Lomas de Copello', 'Lomas de Vallejos', 'Lomas del Río Luján (Est. Río Luján)', 'Loncopué', 'Londres', 'Longchamps', 'Lonquimay', 'Loreto', 'Loro Huasi', 'Los Algarrobos Blancos', 'Los Alisos', 'Los Altares', 'Los Altos', 'Los Amores', 'Los Angeles', 'Los Angeles Norte', 'Los Angeles Sur', 'Los Antiguos', 'Los Baldecitos', 'Los Balverdis', 'Los Barriales', 'Los Berros', 'Los Blancos', 'Los Cachorros', 'Los Cajones', 'Los Callejones', 'Los Campamentos', 'Los Cardales', 'Los Cardos', 'Los Cardozos', 'Los Castillos', 'Los Catutos', 'Los Cedros - Las Quintas', 'Los Cerrillos', 'Los Charrúas', 'Los Chañaritos', 'Los Chiriguanos', 'Los Cipreses', 'Los Cisnes', 'Los Cocos', 'Los Comederos', 'Los Compartos', 'Los Conquistadores', 'Los Corrales', 'Los Corralitos', 'Los Cóndores', 'Los Frentones', 'Los Gutierrez', 'Los Helechos', 'Los Hornillos', 'Los Hornos', 'Los Hoyos', 'Los Indios', 'Los Juríes', 'Los Lapachos (Est. Maquinista Verón)', 'Los Laureles', 'Los Lobos', 'Los Manantiales', 'Los Medanos', 'Los Menucos', 'Los Miches', 'Los Miranda', 'Los Mistoles', 'Los Molinos', 'Los Molles', 'Los Muchachos - La Alborada', 'Los Nacimientos', 'Los Naranjos', 'Los Nogales', 'Los Núñez', 'Los Overos', 'Los Palacios', 'Los Penitentes', 'Los Pinos', 'Los Pirpintos', 'Los Polvorines', 'Los Pozos', 'Los Puestos', 'Los Quemados', 'Los Quiroga', 'Los Quirquinchos', 'Los Ralos', 'Los Ramblones', 'Los Reartes', 'Los Reyunos', 'Los Robles', 'Los Romeros', 'Los Sarmientos', 'Los Sauces', 'Los Soria', 'Los Surgentes', 'Los Talares', 'Los Talas', 'Los Telares', 'Los Tigres', 'Los Toldos', 'Los Troncos Del Talar', 'Los Varela', 'Los Zapallos', 'Los Zorros', 'Los Árboles', 'Loteo Costa de Río', 'Loteo Navea', 'Loteo San Vicente', 'Loventué', 'Lozada', 'Lozano', 'Lozano (Ap. Chañi)', 'Luan Toro', 'Luca', 'Lucas González', 'Lucas Monteverde', 'Lucila Del Mar', 'Lucio V. López', 'Lucio V. Mansilla', 'Lugones', 'Luis Beltrán', 'Luis Burela', 'Luis Guillón', 'Luis Palacios (Est. La Salada)', 'Luján', 'Luján de Cuyo', 'Lules', 'Lumbreras', 'Luque', 'Lutti', 'Luyaba', 'Líbano', 'Líbaros', 'López', 'López (Est. San Martín de Tours)', 'López Lecube', 'MATADEROS', 'MAYOR DRUMMOND', 'MONSERRAT', 'MONTE CASTRO', 'Macachín', 'Macapillo', 'Machagai', 'Machigasta', 'Maciel', 'Maciá', 'Maco', 'Macomitas', 'Magdala', 'Magdalena', 'Maggiolo', 'Maimará', 'Mainqué', 'Maipú', 'Makallé', 'Malabrigo', 'Malagueño', 'Malanzán', 'Malargüe', 'Malbrán', 'Malena', 'Malligasta', 'Mallín', 'Mallín Ahogado', 'Malvinas Argentinas', 'Mamuel Choique', 'Manantiales', 'Manfredi', 'Mansupa', 'Manuel B Gonnet', 'Manuel B. Gonnet (Est. French)', 'Manuel García Fernández', 'Manuel J. Cobo (Est. Lezama)', 'Manuel Ocampo', 'Manzanares', 'Manzano Amargo', 'Manzone', 'Maquinchao', 'Maquinista F. Savio (este)', 'Maquinista F. Savio (oeste)', 'Maquinista Gallini', 'Maquito', 'Mar Azul', 'Mar Chiquita', 'Mar De Las Pampas', 'Mar de Ajó - San Bernardo', 'Mar de Cobo', 'Mar del Plata', 'Mar del Sur', 'Marayes', 'Marcelino Escalada', 'Marcelino Ugarte (Est. Dennehy)', 'Marcos Juárez', 'Marcos Paz', 'Margarita', 'Margarita Belén', 'Mari Menuco', 'Mariano Acosta', 'Mariano Benítez', 'Mariano Boedo', 'Mariano H. Alfonzo (Est. San Patricio)', 'Mariano I. Loza (Est. Justino Solari)', 'Mariano Moreno', 'Mariano Unzué', 'Marmol Verde', 'Martín Coronado', 'Martín de Loyola', 'Martínez', 'Marull', 'María Grande', 'María Ignacia (Est. Vela)', 'María Juana', 'María Luisa', 'María Magdalena', 'María Susana', 'María Teresa', 'Massey (Est. Elordi)', 'Matará', 'Matheu', 'Matilde', 'Matorrales', 'Mattaldi', 'Mauricio Hirsch', 'Mauricio Mayer', 'Mayor Buratovich', 'Mayu Sumaj', 'Maza', 'Maíz Negro', 'Mbopicuá', 'Mburucuyá', 'Mechita', 'Mechita (Est. Mecha)', 'Mechongué', 'Medanitos', 'Medellín', 'Media Naranja', 'Medina', 'Medrano', 'Melincué (Est. San Urbano)', 'Melo', 'Mencué', 'Mendiolaza', 'Mendoza', 'Mercedes', 'Merlo', 'Mesilla Del Cura', 'Mesón de Fierro', 'Metileo', 'Metán Viejo', 'Mi Granja', 'Mi Valle', 'Micaela Cascallares (Est. Cascallares)', 'Miguel Cané', 'Miguel Riglos', 'Miguel Torres', 'Milagro', 'Milenica', 'Mina 3', 'Mina 9 de Octubre', 'Mina Clavero', 'Mina Providencia', 'Mina Santa Teresita', 'Minerva', 'Ministro Ramos Mexía', 'Ministro Rivadavia', 'Mira Pampa', 'Miraflores', 'Miramar', 'Miranda', 'Misarrumi', 'Misión Chaqueña', 'Misión El Cruce - El Milagro - El Jardín de San Martín', 'Misión Kilómetro 6', 'Misión Tacaagle', 'Misión Tierras Fiscales', 'Mocoretá', 'Moctezuma', 'Mogna', 'Moisés Ville', 'Mojones Norte', 'Mojón Grande', 'Mojón de Fierro', 'Molino Doll', 'Molinos', 'Mones Cazón', 'Monigotes', 'Monje', 'Monte Buey', 'Monte Caseros', 'Monte Chingolo', 'Monte Comán', 'Monte Flores', 'Monte Grande', 'Monte Hermoso', 'Monte Leña', 'Monte Maíz', 'Monte Nievas', 'Monte Potrero', 'Monte Quemado', 'Monte Ralo', 'Monte Vera', 'Monte de los Gauchos', 'Monte del Rosario', 'Monteagudo', 'Montecarlo', 'Montecaseros', 'Montecristo', 'Montefiore', 'Monteros', 'Monterrico', 'Montes de Oca', 'Moquehue', 'Moquehuá', 'Morales', 'Morea', 'Moreno', 'Moron', 'Morrison', 'Morse', 'Morteros', 'Mosmota', 'Mundo Nuevo', 'Munro', 'Murphy', 'Mussi', 'Mutquin', 'Muñiz', 'Mártires', 'Máximo Fernández (Est. Juan F. Salaberry)', 'Máximo Paz', 'Máximo Paz (Est. Paz)', 'Médanos', 'NUEVA POMPEYA', 'NUÑEZ', 'Nación Ranquel', 'Nahuel Mapá', 'Nahuel Niyeu', 'Naicó', 'Napaleofú', 'Napalpí', 'Napenay', 'Naranjo Esquino', 'Naré', 'Naschel', 'Naupa Huen', 'Navarro', 'Navia', 'Nazareno', 'Necochea - Quequén', 'Nelson', 'Nemesio Parma', 'Neuquén', 'Nicanor Olivera (Est. La Dulce)', 'Nicolás Bruzzone', 'Niquivil', 'Noetinger', 'Nogolí', 'Nogoyá', 'Nono', 'Nonogasta', 'Norberto de la Riestra', 'Nordelta', 'Norumbega', 'Nucleo I', 'Nucleo Ii', 'Nuestra Señora de Talavera', 'Nuestra Señora del Rosario', 'Nuestra Señora del Rosario de Caá Catí', 'Nueva California', 'Nueva Delicia', 'Nueva Escocia', 'Nueva Esperanza', 'Nueva Francia', 'Nueva Galia', 'Nueva Lehmann', 'Nueva Plata', 'Nueva Pompeya', 'Nueva Trinidad', 'Nueva Vizcaya', 'Nuevo Pirquitas', 'Nuevo Torino', 'Nácate', \"O'Higgins\", 'Oasis', 'Oberá', 'Obispo Trejo', 'Obligado', 'Ochandío', 'Ocloyas', 'Octavio Pico', 'Ojeda', 'Ojo Del Rio', 'Ojos de Agua', 'Olacapato', 'Olaeta', 'Olaroz Chico', 'Olascoaga', 'Olavarría', 'Olegario V. Andrade', 'Oliden', 'Oliva', 'Olivares de San Nicolás', 'Olivera', 'Oliveros', 'Olivos', 'Olpas', 'Olta', 'Onagoity', 'Oncativo', 'Open Door (Est. Dr. Domingo Cabred)', 'Oratorio', 'Ordoqui', 'Ordóñez', 'Orense', 'Oriente', 'Oro Verde', 'Orosmayo', 'Ostende', 'Osvaldo Magnasco', 'PALERMO', 'PALMIRA', 'PARQUE AVELLANEDA', 'PARQUE CHACABUCO', 'PARQUE CHAS', 'PARQUE PATRICIOS', 'PATERNAL', 'PEDRO MOLINA', 'PUERTO MADERO', 'Pablo Podestá', 'Pacará', 'Pacheco de Melo', 'Padre Lozano', 'Pagancillo', 'Pago Chico', 'Paicone', 'Pajas Blancas', 'Pala Pala', 'Palacios', 'Palca de Aparzo', 'Palca de Varas', 'Palma Sola', 'Palmar Grande', 'Palo Blanco', 'Palo Labrado', 'Palo Negro', 'Palo Santo', 'Palo Seco', 'Palos Blancos', 'Palpalá (Est. Gral. Manuel N. Savio)', 'Pampa Almirón', 'Pampa Blanca', 'Pampa Del Tamboreo', 'Pampa Grande', 'Pampa Landriel', 'Pampa Vieja', 'Pampa de los Guanacos', 'Pampa del Indio', 'Pampa del Infierno', 'Pampayasta Norte', 'Pampayasta Sur', 'Pampichuela', 'Panaholma', 'Panambi Kilómetro 15', 'Panambí', 'Panambí Kilómetro 8', 'Panquehua', 'Papagayos', 'Parada Acuña', 'Parada Labougle', 'Parada Orlando', 'Parada Pucheta', 'Parada Robles - Pavón', 'Paraje 29', 'Paraje Chaco Chico', 'Paraje La Agraria', 'Paraje La Costa', 'Paraje La Ruta', 'Paraje La Virgen', 'Paraje San Manuel', 'Paraná', 'Parapetí', 'Paraíso', 'Pardo', 'Pareditas', 'Parera', 'Parque Calmayo', 'Pascanas', 'Pasco', 'Pasman', 'Paso Aguerre', 'Paso Córdova', 'Paso Del Rey', 'Paso Flores', 'Paso Grande', 'Paso Viejo', 'Paso de Indios', 'Paso de la Laguna', 'Paso de la Patria', 'Paso de los Libres', 'Paso del Durazno', 'Paso del Sapo', 'Pasteur', 'Pastor Britos', 'Pastos Chicos', 'Patay', 'Patquía', 'Patricios', 'Paula', 'Paulina', 'Pavón', 'Pavón Arriba', 'Payogasta', 'Pearson', 'Pedernal', 'Pedernales', 'Pedro Gómez Cello', 'Pedro Luro', 'Pedro R. Fernández (Est. Manuel F. Mantilla)', 'Pehuajó', 'Pellegrini', 'Península Ruca Co', 'Perdriel', 'Pereyra', 'Pergamino', 'Perico', 'Perito Moreno', 'Perugorría', 'Perú', 'Peyrano', 'Peñas Blancas', 'Phillips', 'Piamonte', 'Pichanal', 'Pichi Huinca', 'Pichi Mahuida', 'Pichincha', 'Pico Truncado', 'Picún Leufú', 'Pie de Palo', 'Piedra del Águila', 'Piedrabuena', 'Piedras Blancas', 'Piedritas', 'Pieres', 'Pigüé', 'Pila', 'Pila Pardo', 'Pilar', 'Pilcaniyeu', 'Pilquiniyeu', 'Pilquiniyeu del Limay', 'Pinamar', 'Pinchas', 'Pincén', 'Pindapoy', 'Pineyro', 'Pinzón', 'Pipinas', 'Piquete Cabado', 'Piquillín', 'Piquirenda', 'Pirané', 'Piray Kilómetro 18', 'Pirovano', 'Pismanta', 'Pituil', 'Piñalito Norte', 'Piñalito Sur', 'Piñero (Est. Erasto)', 'Pla', 'Planta De Sandia', 'Playa Dorada', 'Playa Magagna', 'Playa Unión', 'Playas Doradas', 'Plaza Clucellas', 'Plaza Huincul', 'Plaza Luxardo', 'Plaza Matilde', 'Plaza Saguier', 'Plaza San Francisco', 'Plaza Vieja', 'Plaza de Mercedes', 'Plomer', 'Plottier', 'Pluma de Pato', 'Plátanos', 'Poblet', 'Pobre Diablo', 'Polco', 'Polcos', 'Polvaredas', 'Pomancillo Este', 'Pomancillo Oeste', 'Pomona', 'Pomán', 'Pontaut', 'Pontevedra', 'Portezuelo', 'Porteña', 'Portón Negro', 'Porvenir', 'Posada de los Lagos', 'Posadas', 'Posadas (Extensión)', 'Poscaya', 'Posta Cambio Zalazar', 'Potrerillo', 'Potrerillos', 'Potrero de Garay', 'Potrero de los Funes', 'Pozo Betbeder', 'Pozo Borrado', 'Pozo Cavado', 'Pozo Del Carril', 'Pozo Del Mistol', 'Pozo Del Molle', 'Pozo Del Tala', 'Pozo Hondo', 'Pozo Nuevo', 'Pozo Salado', 'Pozo de Maza', 'Pozo de los Indios', 'Pozo del Molle', 'Pozo del Mortero', 'Pozo del Tigre', 'Pozuelos', 'Prahuaniyeu', 'Presa El Tunal', 'Presidencia Roca', 'Presidencia Roque Sáenz Peña', 'Presidencia de la Plaza', 'Presidente Derqui', 'Presidente Roca', 'Presidente Sarmiento', 'Profesor Salvador Mazza', 'Profundidad', 'Progreso', 'Pronunciamiento', 'Providencia', 'Pueblo Andino', 'Pueblo Arrúa (Est. Alcaraz)', 'Pueblo Bellocq (Est. Las Garzas)', 'Pueblo Brugo', 'Pueblo Cazes', 'Pueblo Comechingones', 'Pueblo Doyle', 'Pueblo Esther', 'Pueblo General Belgrano', 'Pueblo General San Martín', 'Pueblo Gouin', 'Pueblo Illia', 'Pueblo Independencia', 'Pueblo Italiano', 'Pueblo Ledesma', 'Pueblo Libertador', \"Pueblo Liebig's\", 'Pueblo Marini', 'Pueblo Moreno', 'Pueblo Muñoz (Est. Bernard)', 'Pueblo Nuevo', 'Pueblo Pablo Torelo (Est. Otumpa)', 'Pueblo San Jorge', 'Pueblo Santa Lucía', 'Pueblo Uranga', 'Pueblo Viejo', 'Puelches', 'Puelén', 'Puente Cero', 'Puente Lavayén', 'Puente de Hierro', 'Puente del Inca', 'Puerta Colorada', 'Puerta de Colorados', 'Puerta de Corral Quemado', 'Puerta de San José', 'Puerto Andresito', 'Puerto Aragón', 'Puerto Arroyo Seco', 'Puerto Bermejo Nuevo', 'Puerto Bermejo Viejo', 'Puerto Deseado', 'Puerto Eva Perón', 'Puerto General San Martín', 'Puerto Iguazú', 'Puerto Las Cuevas', 'Puerto Lavalle', 'Puerto Leoni', 'Puerto Mado', 'Puerto Madryn', 'Puerto Paraná', 'Puerto Pilcomayo', 'Puerto Pinares', 'Puerto Piray', 'Puerto Pirámide', 'Puerto Reconquista', 'Puerto Rico', 'Puerto Ruiz', 'Puerto San Antonio Este', 'Puerto San Julián', 'Puerto Santa Ana', 'Puerto Santa Cruz', 'Puerto Tirol', 'Puerto Vilelas', 'Puerto Yeruá', 'Puesto Sey', 'Puesto Viejo', 'Puesto de Castro', 'Puesto de San Antonio', 'Puesto del Marquéz', 'Pujato', 'Pumahuasi', 'Punta Alta (Est Almirante Solier)', 'Punta Colorada', 'Punta De La Loma', 'Punta Indio', 'Punta Lara', 'Punta Mogotes', 'Punta de Balasto', 'Punta de Vacas', 'Punta de los Llanos', 'Punta del Agua', 'Punta del Médano', 'Purmamarca', 'Puán', 'Pérez', 'Pérez Millán', 'Quebracho Herrado', 'Quebracho Ladeado', 'Quebrada de Luna', 'Quebrada de los Pozos', 'Quebraleña', 'Quehué', 'Quemú Quemú', 'Quenumá', 'Quera', 'Quetrequén', 'Quili Malal', 'Quilino', 'Quilmes', 'Quilmes Oeste', 'Quimilí', 'Quines', 'Quinta El Mirador', 'Quinto Cuartel', 'Quirós', 'Quitilipi', 'RECOLETA', 'RETIRO', 'RINCON NORTE', 'RODEO DE LA CRUZ', 'Rada Tilly', 'Rafael Calzada', 'Rafael Castillo', 'Rafael García', 'Rafael Obligado', 'Rafaela', 'Rama Caída', 'Ramada Paso', 'Ramallo', 'Ramayón', 'Ramblones', 'Ramon M. Castro', 'Ramona', 'Ramos Mejía', 'Ramos Otero', 'Ramírez de Velazco', 'Ramón Biaus', 'Ramón J. Cárcano', 'Ramón Santamarina', 'Rancagua', 'Ranchillos', 'Ranchos', 'Rancul', 'Ranelagh', 'Ranqueles', 'Rapelli', 'Rauch', 'Rawson', 'Rayo Cortado', 'Real Sayana', 'Real del Padre', 'Realicó', 'Recalde', 'Recaredo', 'Reconquista', 'Recreo', 'Reducción de Abajo', 'Relmo', 'Remedios De Escalada', 'Remedios Escalada De San Martin', 'Renca', 'Represa Del Carmen', 'Reserva Area Protegida El Doradillo', 'Resistencia', 'Reta', 'Riacho He-He', 'Riacho Negro', 'Riachuelo', 'Ricardo Rojas', 'Ricardone', 'Rincon Del Carmen', 'Rinconada', 'Rinconadillas', 'Rincón', 'Rincón Potrero', 'Rincón de Azara', 'Rincón de Milberg', 'Rincón de Nogoyá', 'Rincón de los Sauces', 'Ringuelet', 'Rio Blanco', 'Rio Quinto', 'Rio Villegas', 'Riocito', 'Rivadavia', 'Rivera', 'Roberto Cano', 'Roberto De Vicenzo', 'Roberto J. Payró', 'Roberts', 'Roca Chica', 'Rocamora', 'Rodeito', 'Rodeo', 'Rodeo De Cadenas', 'Rodeo de Valdez', 'Rodeo del Medio', 'Rodero', 'Rodríguez Peña', 'Rojas', 'Roldán', 'Rolón', 'Romang', 'Roosevelt', 'Roque Pérez', 'Rosales', 'Rosario', 'Rosario de Lerma', 'Rosario de Río Grande', 'Rosario de la Frontera', 'Rosario del Saladillo', 'Rosario del Tala', 'Rospentek', 'Roversi', 'Rucanelo', 'Rueda', 'Rufino', 'Rufino De Elizalde', 'Ruiz de Montoya', 'Russell', 'Río Bamba', 'Río Ceballos', 'Río Chico', 'Río Chico (Est. Cerro Mesa)', 'Río Colorado', 'Río Cuarto', 'Río Gallegos', 'Río Grande', 'Río Juan Gómez', 'Río Mayo', 'Río Muerto', 'Río Pico', 'Río Piedras', 'Río Primero', 'Río Seco', 'Río Segundo', 'Río Tala', 'Río Tercero', 'Río de los Sauces', 'Río del Valle', 'SAAVEDRA', 'SAN CRISTOBAL', 'SAN FRANCISCO DEL MONTE', 'SAN NICOLAS', 'SAN TELMO', 'Sa Pereyra', 'Saavedra', 'Sacanta', 'Sachayoj', 'Saco Viejo', 'Saenz Peña', 'Saforcada', 'Sagrada Familia', 'Saira', 'Saladas', 'Saladero Mariano Cabal', 'Saladillo', 'Salazar', 'Saldungaray', 'Saldán', 'Salicas', 'Salicas - San Blas', 'Salinas del Bebedero', 'Salliqueló', 'Salsacate', 'Salsipuedes', 'Salta', 'Salto', 'Salto Andersen', 'Salto Encantado', 'Salto Grande', 'Salto de Las Rosas', 'Salvador María', 'Samborombón', 'Sampacho', 'Samuhú', 'San Agustín', 'San Alberto', 'San Andrés', 'San Andrés de Giles', 'San Antonio', 'San Antonio De Padua', 'San Antonio Oeste', 'San Antonio de Areco', 'San Antonio de Arredondo', 'San Antonio de Litín', 'San Antonio de Obligado', 'San Antonio de los Cobres', 'San Basilio', 'San Benito', 'San Bernardo', 'San Bernardo (Est. Guanaco)', 'San Blas', 'San Carlos', 'San Carlos Centro', 'San Carlos Minas', 'San Carlos Norte', 'San Carlos Sud', 'San Carlos de Bariloche', 'San Carlos de Bolívar (Est. Bolívar)', 'San Cayetano', 'San Clemente', 'San Clemente del Tuyú', 'San Cosme', 'San Cristóbal', 'San Eduardo', 'San Emilio', 'San Enrique', 'San Esteban', 'San Eugenio', 'San Fabián', 'San Felipe', 'San Fernando', 'San Fernando del Valle de Catamarca', 'San Francisco', 'San Francisco Solano', 'San Francisco de Alfarcito', 'San Francisco de Asís', 'San Francisco de Bellocq', 'San Francisco de Laishi', 'San Francisco de Santa Fe', 'San Francisco del Chañar', 'San Francisco del Monte de Oro', 'San Genaro', 'San Genaro Norte', 'San Germán', 'San Gerónimo', 'San Gotardo', 'San Gregorio', 'San Guillermo', 'San Gustavo', 'San Hilario', 'San Huberto', 'San Ignacio', 'San Ignacio (Loteo San Javier)', 'San Ignacio (Loteo Vélez Crespo)', 'San Isidro', 'San Isidro (Est. Los Angacos)', 'San Jaime de la Frontera', 'San Javier', 'San Javier y Yacanto', 'San Jerónimo', 'San Jerónimo Norte', 'San Jerónimo Sud', 'San Jerónimo del Sauce', 'San Joaquín', 'San Jorge', 'San Jose', 'San Jose Banda', 'San Jose Norte', 'San José', 'San José de Feliciano', 'San José de Jáchal', 'San José de La Cocha', 'San José de Metán', 'San José de Orquera', 'San José de la Dormida', 'San José de la Esquina', 'San José de las Salinas', 'San José del Boquerón', 'San José del Morro', 'San José del Rincón', 'San Juan', 'San Juan de Oros', 'San Juan de Quillaqués', 'San Juancito', 'San Justo', 'San Lorenzo', 'San Lucas', 'San Luis', 'San Luis del Palmar', 'San Manuel', 'San Marcos', 'San Marcos Sierra', 'San Mariano', 'San Martín', 'San Martín I', 'San Martín II', 'San Martín Norte', 'San Martín de las Escobas', 'San Martín de los Andes', 'San Mauricio', 'San Mayol', 'San Miguel', 'San Miguel de Tucumán (Est. Tucumán)', 'San Miguel del Monte (Est. Monte)', 'San Nicolás', 'San Nicolás de los Arroyos', 'San Pablo', 'San Pablo De Reyes', 'San Patricio del Chañar', 'San Pedro', 'San Pedro (Est. San Pedro de Jujuy)', 'San Pedro Norte', 'San Pedro de Colalao', 'San Pedro de Gütemberg', 'San Pedro de Toyos', 'San Rafael', 'San Ramón', 'San Ramón de la Nueva Orán', 'San Román', 'San Roque', 'San Roque Del Lago', 'San Salvador', 'San Salvador de Jujuy (Est. Jujuy)', 'San Sebastián', 'San Severo', 'San Vicente', 'San Víctor', 'Sanabria', 'Sancti Spiritu', 'Sanford', 'Sansinena', 'Santa Ana', 'Santa Ana de la Puna', 'Santa Anita', 'Santa Catalina', 'Santa Catalina (Est. Holmberg)', 'Santa Clara', 'Santa Clara de Buena Vista', 'Santa Clara de Saguier', 'Santa Clara del Mar', 'Santa Coloma', 'Santa Cruz', 'Santa Elena', 'Santa Eleodora', 'Santa Eufemia', 'Santa Fe', 'Santa Florentina', 'Santa Isabel', 'Santa Lucía', 'Santa Luisa', 'Santa Magdalena (Est. Jovita)', 'Santa Margarita', 'Santa Martina', 'Santa María', 'Santa María de Oro', 'Santa María de Punilla', 'Santa Monica', 'Santa Regina', 'Santa Rita', 'Santa Rita de Catuna', 'Santa Rosa', 'Santa Rosa De Catantal', 'Santa Rosa Del Gigante', 'Santa Rosa de Calamuchita', 'Santa Rosa de Calchines', 'Santa Rosa de Leales', 'Santa Rosa de Río Primero', 'Santa Rosa de los Pastos Grandes', 'Santa Rosa del Conlara', 'Santa Sylvina', 'Santa Teresa', 'Santa Teresita - Mar del Tuyú', 'Santa Trinidad', 'Santa Vera Cruz', 'Santa Victoria', 'Santa Victoria Este', 'Santiago Temple', 'Santiago de Liniers', 'Santiago del Estero', 'Santo Domingo', 'Santo Pipó', 'Santo Tomás', 'Santo Tomé', 'Santos Lugares', 'Santuario de Tres Pozos', 'Santurce', 'Sarah', 'Sarandí', 'Sarasa', 'Sargento Cabral', 'Sargento Moya', 'Sargento Vidal', 'Sarmiento', 'Sastre', 'Saturnino María Laspiur', 'Sauce', 'Sauce Arriba', 'Sauce Montrull', 'Sauce Pinto', 'Sauce Viejo', 'Sauce de Luna', 'Saujil', 'Sauzal', 'Sañogasta', 'Sebastián Elcano', 'Seclantás', 'Seeber', 'Segunda Usina', 'Seguí', 'Selva', 'Selvas del Río de Oro', 'Senillosa', 'Serodino', 'Serrano', 'Serrezuela', 'Sevigne', 'Shaqui', 'Sierra Chica', 'Sierra Colorada', 'Sierra Grande', 'Sierra Pailemán', 'Sierra de la Ventana', 'Sierra de los Padres', 'Sierras Bayas', 'Sierras De Encalada', 'Siete Palmas', 'Siján', 'Silva (Est. Abipones)', 'Silvio Pellico', 'Simbol', 'Simbolar', 'Simoca', 'Singuil', 'Sinsacate', 'Sir Leonard', 'Smith', 'Socavones', 'Sol de Julio', 'Sol de Mayo', 'Solanet', 'Solar de los Molinos', 'Soldado Maldonado', 'Soldini', 'Soledad', 'Solís', 'Sosa', 'Speluzzi', 'Stephenson', 'Strobel', 'Stroeder', 'Suardi', 'Subteniente Perín', 'Suco', 'Suipacha', 'Sumalao', 'Sumamao', 'Sumampa', 'Sumampa Viejo', 'Sunchales', 'Suncho Corral', 'Sundblad', 'Suriyaco', 'Susana', 'Susques', 'Suyuque Nuevo', 'Tabay', 'Tabossi', 'Taco Pozo', 'Taco Ralo', 'Tacuarendí (Emb. Kilómetro 421)', 'Tacural', 'Tafí Viejo', 'Tafí del Valle', 'Tala Cañada', 'Tala Huasi', 'Tala Verde', 'Talaini', 'Talapampa', 'Talita', 'Tama', 'Tamangueyú', 'Tamberías', 'Tambillos', 'Tancacha', 'Tandil', 'Taninga', 'Tanti', 'Tapalqué', 'Tapebicuá', 'Tapiales', 'Tapso', 'Taquimilán', 'Tartagal', 'Tartagal (Est. El Tajamar)', 'Taruma', 'Tasna', 'Tatacua', 'Tatané', 'Tatón', 'Tecka', 'Tedín Uriburu', 'Tejas Tres', 'Tellier', 'Telsen', 'Telén', 'Temperley', 'Teniente Berdina', 'Teniente Origone', 'Teodelina', 'Termas de Río Hondo', 'Termas de Santa Teresita', 'Tezanos Pintos', 'Thames', 'Theobald', 'Ticino', 'Tierra Alta', 'Tigre', 'Tilcara', 'Tilimuqui', 'Tilisarao', 'Timbúes', 'Timote', 'Tinoco', 'Tinogasta', 'Tintina', 'Toay', 'Toba', 'Tobantirenda', 'Tobuna', 'Todd', 'Tolar Grande', 'Toledo', 'Tolhuin', 'Tolloche', 'Tolombón', 'Tolosa', 'Tomas M. Anchorena', 'Tomás Jofré', 'Tomás Young', 'Tornquist', 'Toro Negro', 'Toro Pujio', 'Torres', 'Tortugas', 'Tortuguitas', 'Tosno', 'Tosquitas', 'Tostado', 'Totoras', 'Traill', 'Tramo 16', 'Tramo 20', 'Tranquitas', 'Transradio', 'Trebolares', 'Trelew', 'Trenel', 'Treneta', 'Trenque Lauquen', 'Tres Algarrobos (Est. Cuenca)', 'Tres Arroyos', 'Tres Capones', 'Tres Cruces', 'Tres Isletas', 'Tres Lagos', 'Tres Lagunas', 'Tres Lomas', 'Tres Luces', 'Tres Picos', 'Tres Porteñas', 'Tres Sargentos', 'Trevelín', 'Tricao Malal', 'Trinchera', 'Tristán Suarez', 'Triunvirato', 'Trongé', 'Trujui', 'Tránsito', 'Tuclame', 'Tudcum', 'Tumbaya', 'Tunuyán', 'Tupelí', 'Tupungato', 'Turdera', 'Tusaquillas', 'Tuyubil', 'Tío Pujio', 'Ubajay', 'Ucacha', 'Udaquiola', 'Ugarteche', 'Ulapes', 'Unanué', 'Unión', 'Unquillo', 'Uquía (Est. Senador Pérez)', 'Urdampilleta', 'Urdinarrain', 'Uribelarrea', 'Uriburu', 'Urundel', 'Urutaú', 'Ushuaia', 'Usno', 'Uspallata', 'VELEZ SARSFIELD', 'VERSALLES', 'VILLA CRESPO', 'VILLA DEL PARQUE', 'VILLA DEVOTO', 'VILLA GENERAL MITRE', 'VILLA LUGANO', 'VILLA LURO', 'VILLA NUEVA', 'VILLA ORTUZAR', 'VILLA PUEYRREDON', 'VILLA REAL', 'VILLA RIACHUELO', 'VILLA SANTA RITA', 'VILLA SOLDATI', 'VILLA URQUIZA', 'VILLA ZORRAQUIN', 'VISTALBA', 'Va Ma Irene De Los Remedios De Escalada', 'Vaca Huañuna', 'Vaca Perdida', 'Valcheta', 'Valdés', 'Valentín Alsina', 'Valeria Del Mar', 'Valle Alegre', 'Valle Azul', 'Valle Colorado', 'Valle De Pancanta', 'Valle Del Sol', 'Valle Grande', 'Valle Hermoso', 'Valle de Anisacate', 'Vallecito', 'Vaqueros', 'Varela', 'Varvarco', 'Vedia', 'Velloso', 'Venado Tuerto', 'Venados Grandes', 'Vera (Est. Gobernador Vera)', 'Vera y Pintado (Est. Guaraníes)', 'Verónica', 'Viale', 'Viamonte', 'Vicente Casares', 'Vicente López', 'Vichigasta', 'Victoria', 'Victorica', 'Vicuña Mackenna', 'Videla', 'Viedma', 'Vieytes', 'Vila', 'Vilelas', 'Vilismán', 'Villa Aberastain', 'Villa Aberastain - La Rinconada', 'Villa Adela', 'Villa Adelina', 'Villa Akerman', 'Villa Alberdi', 'Villa Albertina', 'Villa Alfredo Fortabat', 'Villa Allende', 'Villa Alpina', 'Villa Alsina (Est. Alsina)', 'Villa Amancay', 'Villa Amelia', 'Villa Ampacama', 'Villa Ana', 'Villa Angela', 'Villa Angélica (Est. El Socorro)', 'Villa Antigua', 'Villa Arguello', 'Villa Arrieta', 'Villa Ascasubi', 'Villa Astolfi', 'Villa Atamisqui', 'Villa Atuel', 'Villa Atuel Norte', 'Villa Ayacucho', 'Villa Ballester', 'Villa Barbosa - Villa Nacusi', 'Villa Barboza', 'Villa Basilio Nievas', 'Villa Bastias', 'Villa Belgrano', 'Villa Benjamín Aráoz', 'Villa Berna', 'Villa Bernardo Monteagudo', 'Villa Berthet', 'Villa Bolaños', 'Villa Bonita', 'Villa Bordeau', 'Villa Borjas', 'Villa Borjas - La Chimbera', 'Villa Bosch (Est. Juan Maria Bosch)', 'Villa Brown', 'Villa Burruyacú', 'Villa Cacique (Est. Alfredo Fortabat)', 'Villa Campanario', 'Villa Campi', 'Villa Candelaria', 'Villa Canto', 'Villa Carlos Paz', 'Villa Carmela', 'Villa Castelar (Est. Erize)', 'Villa Castelli', 'Villa Catedral', 'Villa Catela', 'Villa Cañás', 'Villa Centenario', 'Villa Cerro Azul', 'Villa Chacabuco', 'Villa Chicligasta', 'Villa Ciudad Parque Los Reartes', 'Villa Ciudad Parque Los Reartes (1a. Sección)', 'Villa Ciudad Parque Los Reartes (3a. Sección)', 'Villa Ciudad de América (Loteo Diego de Rojas)', 'Villa Clara', 'Villa Clodomiro Hileret', 'Villa Concepción del Tío', 'Villa Constitución', 'Villa Cooperativa', 'Villa Corazon De Maria', 'Villa Coronel Jose M. Zapiola', 'Villa Cura Brochero', 'Villa Córdoba', 'Villa De Mayo', 'Villa Dolores', 'Villa Dominguito (Est. Puntilla Blanca)', 'Villa Domínguez', 'Villa Domínico', 'Villa Don Bosco (Est. Angaco Sud)', 'Villa Eduardo Madero', 'Villa El Chacay', 'Villa El Chocón', 'Villa El Fachinal - Parque Norte - Guiñazú Norte', 'Villa El Palmar', 'Villa El Refugio', 'Villa El Salvador', 'Villa El Salvador - Villa Sefair', 'Villa El Tala', 'Villa El Tango', 'Villa Elisa', 'Villa Eloísa', 'Villa Elvira', 'Villa Escolar', 'Villa España', 'Villa Esperanza', 'Villa Espil', 'Villa Espora', 'Villa Fiad - Ingenio Leales', 'Villa Figueroa', 'Villa Fiorito', 'Villa Flor Serrana', 'Villa Fontana', 'Villa Francia (Est. Coronel Granada)', 'Villa Futalaufquen', 'Villa Garibaldi', 'Villa General Antonio J. De Sucre', 'Villa General Arias (Est. Kilómetro 638)', 'Villa General Belgrano', 'Villa General Eugenio Necochea', 'Villa General Fournier (Est. 9 de Julio Sud)', 'Villa General Güemes', 'Villa General Jose Tomas Guido', 'Villa General Juan G. Las Heras', 'Villa General Manuel Belgrano', 'Villa General Mitre (Est. Pinto)', 'Villa General Roca', 'Villa General San Martin', 'Villa General San Martín - Campo Afuera', 'Villa General Savio (Est. Sánchez)', 'Villa Gesell', 'Villa Giardino', 'Villa Giménez', 'Villa Gobernador Gálvez', 'Villa Gobernador Luis F. Etchevehere', 'Villa Gobernador Udaondo', 'Villa Godoy Cruz', 'Villa Granaderos De San Martín', 'Villa Gregoria Matorras', 'Villa Grisolía (Est. Achupallas)', 'Villa Guillermina', 'Villa Gutiérrez', 'Villa Hipodromo', 'Villa Huidobro', 'Villa Ibáñez', 'Villa Independencia', 'Villa Iris', 'Villa Josefina', 'Villa José León Suarez', 'Villa Juan Martín De Pueyrredon', 'Villa Kilómetro 213', 'Villa Krause', 'Villa La Angostura', 'Villa La Arcadia', 'Villa La Bolsa', 'Villa La Florida', 'Villa La Punta', 'Villa La Rivera', 'Villa La Rivera (Oliveros)', 'Villa La Rivera (Pueblo Andino)', 'Villa La Serranía', 'Villa La Viña', 'Villa Lago Azul', 'Villa Lago Meliquina', 'Villa Laguna La Brava', 'Villa Larca', 'Villa Las Flores', 'Villa Las Pirquitas', 'Villa Laura (Est. Constituyentes)', 'Villa Libertad', 'Villa Libertad (Municipio Caá Yarí)', 'Villa Libertad (Municipio Leandro N. Alem)', 'Villa Libertador San Martín', 'Villa Llanquín', 'Villa Llao Llao', 'Villa Los Aromos', 'Villa Los Coihues', 'Villa Los Llanos - Juárez Celman', 'Villa Los Patos', 'Villa Los Álamos', 'Villa Luzuriaga', 'Villa Lynch', 'Villa Lynch Pueyrredón', 'Villa Lía', 'Villa Mailín', 'Villa Maipu', 'Villa Malvinas Argentinas', 'Villa Mantero', 'Villa Manuel Pomar', 'Villa Manzano', 'Villa Margarita', 'Villa Mariano Moreno - El Colmenar', 'Villa Marini', 'Villa Marqués Alejandro María De Aguado', 'Villa Martelli', 'Villa María', 'Villa Mascardi', 'Villa Mazán', 'Villa Media Agua', 'Villa Mercedes', 'Villa Minetti', 'Villa Mirasol', 'Villa Moll (Est. Moll)', 'Villa Montoro', 'Villa Mugueta', 'Villa Nacusi', 'Villa Nueva', 'Villa Ocampo', 'Villa Oeste', 'Villa Ojo de Agua', 'Villa Olivari', 'Villa Ortiz (Est. Coronel Mom)', 'Villa Padre Monti', 'Villa Paranacito', 'Villa Parodi', 'Villa Parque Cecir', 'Villa Parque Girado', 'Villa Parque Pres Figueroa Alcorta', 'Villa Parque San Lorenzo', 'Villa Parque Santa Ana', 'Villa Parque Sicardi', 'Villa Parque Siquimán', 'Villa Pastora', 'Villa Paula Albarracin', 'Villa Pehuenia', 'Villa Pituil', 'Villa Porteña', 'Villa Progreso', 'Villa Quilino', 'Villa Quillinzo', 'Villa Quinteros', 'Villa Raffo', 'Villa Ramallo', 'Villa Recaste', 'Villa Reducción', 'Villa Regina', 'Villa Reynolds', 'Villa Riccio', 'Villa Roch', 'Villa Rodríguez (Est. Barrow)', 'Villa Rosa', 'Villa Rossi', 'Villa Roth (Est. Ingeniero Balbín)', 'Villa Roulet', 'Villa Ruiz', 'Villa Rumipal', 'Villa Río Bermejito', 'Villa Río Hondo', 'Villa Río Icho Cruz', 'Villa Saboya', 'Villa Salavina', 'Villa Salles', 'Villa San Agustín', 'Villa San Andrés', 'Villa San Carlos', 'Villa San Esteban', 'Villa San Isidro', 'Villa San Isidro - José de la Quintana', 'Villa San Javier', 'Villa San José', 'Villa San José de Vinchina', 'Villa San Justo', 'Villa San Lorenzo', 'Villa San Luis', 'Villa San Marcial (Est. Gobernador Urquiza)', 'Villa San Martín', 'Villa San Martín (Est. Loreto)', 'Villa San Miguel', 'Villa Sanagasta', 'Villa Santa Cruz del Lago', 'Villa Santa Eugenia', 'Villa Santa Rosa', 'Villa Santos Tesei', 'Villa Saralegui', 'Villa Sarmiento', 'Villa Sauze', 'Villa Sefair (Talacasto)', 'Villa Serrana La Gruta', 'Villa Sierras de Oro', 'Villa Silípica', 'Villa Tacu', 'Villa Tercera', 'Villa Teresa', 'Villa Traful', 'Villa Trinidad', 'Villa Tulumaya', 'Villa Tulumba', 'Villa Turística del Embalse', 'Villa Unión', 'Villa Urquiza', 'Villa Urrutia', 'Villa Valeria', 'Villa Vatteone', 'Villa Ventana', 'Villa Vil', 'Villa Yacanto', 'Villa Yapeyú', 'Villa Zula', 'Villa de Balcozna', 'Villa de Leales', 'Villa de María', 'Villa de Pocho', 'Villa de Praga', 'Villa de Soto', 'Villa de Trancas', 'Villa de la Quebrada', 'Villa de las Rosas', 'Villa del Carmen', 'Villa del Curi Leuvú', 'Villa del Dique', 'Villa del Mar', 'Villa del Nahueve', 'Villa del Parque', 'Villa del Plata', 'Villa del Prado', 'Villa del Rosario', 'Villa del Totoral', 'Villa del Tránsito', 'Villada', 'Villaguay', 'Villalonga', 'Villanueva (Ap. Río Salado)', 'Villars', 'Vilmer', 'Vinalito', 'Vinará', 'Virginia', 'Virrey Del Pino', 'Virreyes', 'Vista Alegre Norte', 'Vista Alegre Sur', 'Vista Flores', 'Vivoratá', 'Viña', 'Volcán', 'Vuelta de la Barranca', 'Vásquez', 'Vértiz', 'Wanda', 'Warnes', 'Washington', 'Weisburd', 'Wenceslao Escalante', 'Wheelwright', 'Wichi', 'Wilde', 'Wildermuth (Est. Granadero B. Bustos)', 'William C. Morris', 'Winifreda', 'XX de Setiembre', 'Yacimientos Río Turbio', 'Yacoraite', 'Yacuy', 'Yahapé', 'Yala', 'Yala Laubat', 'Yaminué', 'Yanda', 'Yapes', 'Yapeyú', 'Yatayti Calle', 'Yavi', 'Yavi Chico', 'Yerba Buena - Marcos Paz', 'Yocsina', 'Yoscaba', 'Yuchán', 'Yuto', 'Yutuyaco', 'Zanjitas', 'Zapala', 'Zaparinqui', 'Zavalla', 'Zavalía', 'Zelaya', 'Zenón Pereyra', 'Zenón Videla Dorna', 'Zona Aeropuerto Internacional Ezeiza', 'Zárate', 'ruta del sol', 'Álvarez', 'Árraga', 'Ñancay', 'Ñanducita', 'Ñirihuau', 'Ñorquincó']\n",
      "['11 De Septiembre', '11 de Octubre', '12 de Octubre', '1º de Mayo', '20 De Junio', '25 de Mayo', '28 de Julio', '28 de Noviembre', '3 de Mayo', '30 de Agosto', '7 de Abril', '9 De Abril', '9 de Julio', 'ALPA CORRAL', 'Aarón Castellanos (Est. Castellanos)', 'Abasto', 'Abbott', 'Abra Grande', 'Abra Pampa', 'Abramo', 'Acassuso', 'Acceso Norte', 'Acebal', 'Acevedo', 'Acheral', 'Achiras', 'Aconquija', 'Acoyte', 'Adelia María', 'Adolfo Gonzales Chaves  (Est. Chaves)', 'Adolfo Van Praet', 'Adrogué', 'Aerolito', 'Aeropuerto Internacional Ezeiza', 'Agrelo', 'Agua Escondida', 'Agua de Oro', 'Aguada Cecilio', 'Aguada Guzmán', 'Aguada de Guerra', 'Aguaray', 'Aguará Grande', 'Aguas Blancas', 'Aguas Calientes', 'Aguas Verdes', 'Aguilares', 'Agustina', 'Agustoni', 'Agustín Mosconi', 'Agustín Roca', 'Aicuña', 'Aimogasta', 'Alba Posse', 'Albarellos', 'Alberdi', 'Alberdi Viejo', 'Alberti   (Est. Andrés Vaccarezza)', 'Alcira (Est. Gigena)', 'Alcorta', 'Aldao', 'Aldao (Est. Casablanca)', 'Aldea Apeleg', 'Aldea Beleiro', 'Aldea Brasilera', 'Aldea Epulef', 'Aldea Escolar', 'Aldea María Luisa', 'Aldea Protestante', 'Aldea San Antonio', 'Aldea San Juan', 'Aldea San Rafael', 'Aldea Spatzenkutter', 'Aldea Valle María', 'Alderetes', 'Aldo Bonzi', 'Alejandra', 'Alejandro Korn', 'Alejandro Petión', 'Alejandro Roca (Est. Alejandro)', 'Alejo Ledesma', 'Alfredo Demarchi  (Est. Facundo Quiroga)', 'Alhuampa', 'Alicia', 'Alicia Baja', 'Alijilán', 'Allen', 'Almafuerte', 'Alpachiri', 'Alpasinche', 'Alta Gracia', 'Alta Italia', 'Alto Alegre', 'Alto Los Cardales', 'Alto Pelado', 'Alto Pencoso', 'Alto Río Senguer', 'Alto Salvador', 'Alto Verde', 'Alto de Sierra', 'Alto de la Sierra', 'Alto de los Quebrachos', 'Altos de Chipión', 'Aluminé', 'Alvarez de Toledo', 'Alvear', 'Amaicha del Valle', 'Amaná', 'Ambil', 'Amboy', 'Ambrosetti', 'Amenábar', 'Aminga', 'Ampascachi', 'América', 'Ancasti', 'Anchorena', 'Andacollo', 'Andalgalá', 'Andolucas', 'Andrade', 'Angastaco', 'Angel Etcheverry', 'Angel Gallardo', 'Angeloni', 'Angualasto', 'Anguil', 'Angulos', 'Angélica', 'Anillaco', 'Animaná', 'Anisacate', 'Anjullón', 'Antilla', 'Antofagasta de la Sierra', 'Antonio Carboni', 'Apolinario Saravia', 'Apóstoles', 'Arana', 'Aranguren', 'Arata', 'Arbilla', 'Arcadia', 'Area De Promocion El Triángulo', 'Arenas Verdes', 'Arenaza', 'Arequito', 'Argerich', 'Arias', 'Aristóbulo del Valle', 'Arizona', 'Arminda', 'Armstrong', 'Arocena', 'Arrecifes', 'Arribeños', 'Arroyito', 'Arroyo Aguiar', 'Arroyo Algodón', 'Arroyo Barú', 'Arroyo Cabral', 'Arroyo Ceibal', 'Arroyo Corto', 'Arroyo Dulce', 'Arroyo Leyes', 'Arroyo Los Berros', 'Arroyo Los Patos', 'Arroyo Seco', 'Arroyo Venado', 'Arroyo Ventana', 'Arroyo Verde', 'Arroyo de la Cruz', 'Arroyo del Medio', 'Arrufo', 'Arteaga', 'Arturo Segui', 'Ascensión', 'Ascochinga', 'Astica', 'Atahona', 'Atalaya', 'Ataliva', 'Ataliva Roca', 'Atocha', 'Aurelia', 'Ausonia', 'Avellaneda', 'Avellaneda (Est. Ewald)', 'Averías', 'Avia Terai', 'Ayacucho', 'Azara', 'Azcuénaga', 'Azul', 'Añatuya', 'Añelo', 'Bagual', 'Bahía Blanca', 'Bahía San Blas', 'Baigorrita', 'Bajada del Agrio', 'Bajo Caracoles', 'Bajo Hondo', 'Balcarce', 'Balde', 'Ballesteros', 'Ballesteros Sur', 'Balneario La Verde', 'Balneario Laguna de Gómez', 'Balneario Marisol', 'Balneario Pehuen Co', 'Balneario San Cayetano', 'Balneario Sauce Grande', 'Banco Payaguá', 'Banda del Río Salí', 'Bandera', 'Bandera Bajada', 'Banderaló', 'Banfield', 'Baradero', 'Barda del Medio', 'Barker', 'Barrancas', 'Barranqueras', 'Barreal - Villa Pituil', 'Barrio 12 de Octubre', 'Barrio Belgrano-Máximo Paz', 'Barrio Caima', 'Barrio Caleta Cordova', 'Barrio Cicarelli', 'Barrio Colinas Verdes', 'Barrio Cooperativa Los Campamentos', 'Barrio Del Lago', 'Barrio Destacamento', 'Barrio El Boquerón', 'Barrio El Carmen (Este)', 'Barrio El Carmen Oeste', 'Barrio El Casal', 'Barrio El Cepillo', 'Barrio El Congreso', 'Barrio El Coyunco', 'Barrio El Labrador', 'Barrio El Peligro', 'Barrio El Taladro', 'Barrio Esperanza', 'Barrio Finca La Maroma', 'Barrio Gambier', 'Barrio Guerrico', 'Barrio Jesús de Nazaret', 'Barrio La Gloria', 'Barrio La Rotonda', 'Barrio Las Casuarinas', 'Barrio Las Tunas', 'Barrio Lomas de Tafí', 'Barrio Los Olivos', 'Barrio Los Pinares', 'Barrio Los Pioneros', 'Barrio Mutual San Martín', 'Barrio Parque General San Martin', 'Barrio Perdriel IV', 'Barrio Rivadavia', 'Barrio Ruca Luhé', 'Barrio Ruta 24 Kilómetro 10', 'Barrio Ruta 40', 'Barrio Sadop', 'Barrio San Cayetano', 'Barrio Santa Paula', 'Barrio Santa Teresita', 'Barrios', 'Bartolomé de las Casas', 'Basail', 'Basavilbaso', 'Base Belgrano Ii', 'Base Orcadas', 'Base San Martin', 'Batavia', 'Batán', 'Bauer y Sigel', 'Bayauca', 'Bañado de Ovanta', 'Bañado de Soto', 'Beazley', 'Beccar', 'Belen de Escobar', 'Bell Ville', 'Bella Italia', 'Bella Vista', 'Beltrán', 'Belén', 'Benavídez', 'Bengolea', 'Benito Juárez  (Est. Juárez)', 'Benjamín Gould', 'Beravebú', 'Berazategui', 'Berazategui Oeste', 'Berisso', 'Bermejo', 'Berna', 'Bernal', 'Bernal Oeste', 'Bernardo Larroude', 'Bernardo de Irigoyen', 'Bernardo de Irigoyen (Est. Irigoyen)', 'Bernasconi', 'Berrotarán', 'Berón de Astrada', 'Betbeder', 'Bialet Massé', 'Bigand', 'Billinghurst', 'Blanco Encalada', 'Blancuntre', 'Blaquier', 'Boca Del Tigre', 'Bombal', 'Bonpland', 'Bordenave', 'Bosques', 'Boulogne Sur Mer', 'Bouquet', 'Bovril', 'Bowen', 'Bragado', 'Brea Pozo', 'Brinkmann', 'Buen Pasto', 'Buena Esperanza', 'Buena Nueva', 'Buena Vista', 'Bulnes', 'Burzaco', 'Bustinza', 'Buta Ranquil', 'Bárcena', 'Cabal', 'Cabalango', 'Cabildo', 'Cabra Corral', 'Cacharí', 'Cacheuta', 'Cachi', 'Cacique Ariacaiquín', 'Cadret', 'Cafayate', 'Cafferata', 'Caimancito', 'Calabacilla', 'Calchaquí', 'Calchín', 'Caleta Olivia', 'Caleufú', 'Calilegua', 'Calingasta', 'Camarones', 'Camet', 'Camilo Aldao', 'Caminiaga', 'Campamento Vespucio', 'Campana', 'Campanas', 'Campichuelo', 'Campo De Mayo', 'Campo Durán', 'Campo Gallo', 'Campo Grande', 'Campo La Cruz', 'Campo Largo', 'Campo Los Andes', 'Campo Quijano', 'Campo Ramón', 'Campo Santo', 'Campo Viera', 'Canals', 'Candelaria', 'Candioti', 'Cangrejillos', 'Canning', 'Capayán', 'Capilla Del Rosario', 'Capilla Vieja', 'Capilla del Carmen', 'Capilla del Monte', 'Capilla del Señor  (Est. Capilla)', 'Capioví', 'Capitán Bermúdez', 'Capitán Castro', 'Capitán Cáceres', \"Capitán General Bernardo O'Higgins\", 'Capitán Juan Pagé', 'Capitán Montoya', 'Capitán Sarmiento', 'Capitán Solari', 'Capivara', 'Caraguatay', 'Carahunco', 'Carapachay', 'Carcarañá', 'Carhué', 'Carilo', 'Carlos Beguerie', 'Carlos Casares', 'Carlos Keen', 'Carlos Pellegrini', 'Carlos Salas', 'Carlos Spegazzini', 'Carlos Tejedor', 'Carlos Tomás Sourigues', 'Carmen', 'Carmen de Areco', 'Carmen de Patagones', 'Carmen del Sauce', 'Carmensa', 'Carnerillo', 'Carolina', 'Carpinteria', 'Carpintería', 'Carrenleufú', 'Carreras', 'Carrilobo', 'Carrizales (Est. Clarke)', 'Carro Quemado', 'Carrodilla', 'Casa De Piedra', 'Casa Grande', 'Casalins', 'Casas', 'Casbas', 'Caseros', 'Casilda', 'Casira', 'Caspi Corral', 'Castelar', 'Castellanos', 'Castelli', 'Castilla', 'Catriel', 'Catriló', 'Catua', 'Caucete', 'Cavanagh', 'Caviahué', 'Cavour', 'Cayastacito', 'Cayastá', 'Cazador', 'Cazadores Correntinos', 'Cazón', 'Caá - Yarí', 'Cañada Honda', 'Cañada Ombú', 'Cañada Rosquín', 'Cañada Seca', 'Cañada de Gómez', 'Cañada de Machado', 'Cañada del Sauce', 'Cañada del Ucle', 'Cañadón Seco', 'Cañuelas', 'Ceballos', 'Ceibalito', 'Ceibas', 'Centenario', 'Centeno', 'Centinela Del Mar', 'Centro Agrícola El Pato', 'Centro Forestal', 'Centro Guerrero', 'Cepeda', 'Ceres', 'Cerrillos', 'Cerrito', 'Cerro Azul', 'Cerro Colorado', 'Cerro Cóndor', 'Cerro De La Gloria', 'Cerro Policía', 'Cerro de Oro', 'Cervantes', 'Chabás', 'Chacabuco', 'Chacharramendi', 'Chacras De Coria', 'Chacras Del Río Luján', 'Chacras de San Clemente', 'Chajarí', 'Chaján', 'Chalicán', 'Chamical', 'Chancani', 'Chapadmalal', 'Chapanay', 'Chapuy', 'Chaquiago', 'Charadai', 'Charata', 'Charbonier', 'Charras', 'Chascomús', 'Chauchillas', 'Chaupi Pozo', 'Chaupihuasi', 'Chavarría', 'Chazón', 'Chañar', 'Chañar Ladeado', 'Chañar Pozo de Abajo', 'Chañarmuyo', 'Chepes', 'Chichinales', 'Chiclana', 'Chicoana', 'Chilca Juliana', 'Chilecito', 'Chilibroste', 'Chillar', 'Chimbas', 'Chimpay', 'Chivilcoy', 'Choele Choel', 'Cholila', 'Chorotis', 'Chorriaca', 'Chos Malal', 'Chosmes', 'Chovet', 'Choya', 'Christophersen', 'Chucul', 'Chumbicha', 'Chuquis', 'Churruca', 'Chuña', 'Cienaguita', 'Cieneguillas', 'Ciervo Petiso', 'Cinco Saltos', 'Cintra', 'Cipolletti', 'City Bell', 'Ciudad Autónoma de Buenos Aires', 'Ciudad Del Libertador General San Martin', 'Ciudad Evita', 'Ciudad Jardin El Libertador', 'Ciudad Jardín Lomas del Palomar', 'Ciudadela', 'Ciénaga del Coro', 'Ciénega', 'Claraz', 'Claromecó', 'Classon', 'Claypole', 'Clemente Onelli', 'Clodomira', 'Clodomiro Ledesma', 'Clorinda', 'Cobos', 'Colalao del Valle', 'Colan Conhue', 'Colazo', 'Colmena', 'Colonia Aborigen', 'Colonia Alemana', 'Colonia Alicia', 'Colonia Almada', 'Colonia Alpina', 'Colonia Ana', 'Colonia Anguinán', 'Colonia Anita', 'Colonia Aurora', 'Colonia Avellaneda', 'Colonia Avigdor', 'Colonia Ayuí', 'Colonia Barón', 'Colonia Belgrano', 'Colonia Benítez', 'Colonia Bicha', 'Colonia Bismarck', 'Colonia Bossi', 'Colonia Campo Villafañe', 'Colonia Carolina', 'Colonia Caroya', 'Colonia Cello', 'Colonia Dolores', 'Colonia Dora', 'Colonia Durán', 'Colonia El Simbolar', 'Colonia Elisa', 'Colonia Elía', 'Colonia Ensanche Sauce', 'Colonia Ensayo', 'Colonia Fiorito', 'Colonia Hinojo', 'Colonia Hugues', 'Colonia Italiana', 'Colonia Juliá y Echarren', 'Colonia La Argentina', 'Colonia Las Pichanas', 'Colonia Las Rosas', 'Colonia Libertad', \"Colonia Liebig's\", 'Colonia Margarita', 'Colonia Marina', 'Colonia Médici', 'Colonia Nueva Coneta', 'Colonia Pastoril', 'Colonia Peña', 'Colonia Polana', 'Colonia Raquel', 'Colonia Rosa', 'Colonia San Bartolomé', 'Colonia San Miguel Arcángel', 'Colonia San Ricardo  (Est. Iriarte)', 'Colonia Santa María', 'Colonia Santa Rosa', 'Colonia Segovia', 'Colonia Seré', 'Colonia Tinco', 'Colonia Vichigasta', 'Colonia Victoria', 'Colonia Vignaud', 'Colonia del Valle', 'Colonias Unidas', 'Colpes', 'Colón', 'Comallo', 'Comandante Fontana', 'Comandante Luis Piedrabuena', 'Comandante Nicanor Otamendi', 'Comicó', 'Comodoro Py', 'Comodoro Rivadavia', 'Cona Niyeu', 'Concarán', 'Concepción', 'Concepción de la Sierra', 'Concepción del Bermejo', 'Concepción del Uruguay', 'Concordia', 'Conesa', 'Coneta', 'Conhelo', 'Conlara', 'Conscripto Bernardi', 'Contralmirante Cordero', 'Copacabana', 'Copahue', 'Copetonas', 'Copo Quile', 'Coquimbito', 'Coranzuli', 'Corcovado', 'Cordón del Plata', 'Coronda', 'Coronel Arnold', 'Coronel Baigorria', 'Coronel Belisle', 'Coronel Boerr', 'Coronel Bogado', 'Coronel Brandsen', 'Coronel Charlone', 'Coronel Cornejo', 'Coronel Dorrego', 'Coronel Du Graty', 'Coronel Fraga', 'Coronel Hilario Lagos (Est. Aguas Buenas)', 'Coronel Juan Solá', 'Coronel Manuel L. Rico', 'Coronel Martínez de Hoz  (Ap. Kilómetro 322)', 'Coronel Moldes', 'Coronel Mollinedo', 'Coronel Olleros', 'Coronel Pringles  (Est. Pringles)', 'Coronel Rodolfo S. Domínguez', 'Coronel Suárez', 'Coronel Vidal', 'Corpus', 'Corral de Bustos', 'Corralito', 'Correa', 'Corrientes', 'Cortaderas', 'Cortines', 'Corzuela', 'Cosquín', 'Costa Bonita', 'Costa Flores', 'Costa de Araujo', 'Costasacate', 'Country Los Medanos', 'Coyaguaima', 'Crespo', 'Cruce Caballero', 'Crucesita', 'Crucesitas Séptima Sección', 'Cruz Alta', 'Cruz Caña', 'Cruz de Caña', 'Cruz de Piedra', 'Cruz del Eje', 'Cuadro Benegas', 'Cuartel V', 'Cuatro Bocas', 'Cuatro Esquinas', 'Cuchillo Co', 'Cucullú', 'Cuesta Blanca', 'Cuipan', 'Cululú', 'Curarú', 'Curupaity', 'Curuzú Cuatiá', 'Cusi Cusi', 'Cutral Có', 'Córdoba', 'Daireaux', 'Dalmacio Vélez', 'Damián Maisonave (Est. Simson)', 'Darregueira', 'Darwin', 'De la Canal', 'De la Garma', 'Del Campillo', 'Del Carril', 'Del Valle', 'Del Viso', 'Delfín Gallo', 'Desaguadero', 'Desiderio Tello', 'Despeñaderos', 'Desvío Aguirre', 'Desvío Arijón', 'Devoto', 'Deán Funes', 'Diadema Argentina', 'Diagonal Norte - Luz y Fuerza - Los Pocitos - Villa Nueva Italia (6)', 'Diamante', 'Diego de Alvear', 'Diego de Rojas', 'Dina Huapi', 'Dique Luján', 'Divisadero', 'Doblas', 'Dock Sud', 'Doctor Ricardo Rojas', 'Dolavon', 'Dolores', 'Domselaar', 'Don Bosco', 'Don Cristóbal', 'Don Emilio', 'Don Orione', 'Don Torcuato Este', 'Don Torcuato Oeste', 'Donadeu', 'Dorila', 'Dorrego', 'Dos Acequias (Est. Los Angacos)', 'Dos Arroyos', 'Dos Hermanas', 'Dos de Mayo Núcleo I', 'Dos de Mayo Núcleo III', 'Dr. Manuel Belgrano', 'Dragones', 'Dudignac', 'Duggan', 'Dumesnil', 'Durazno', 'Díaz', 'EL PARAÍSO', 'Eduardo Castex', 'El Aguilar', 'El Alamito', 'El Alcázar', 'El Algarrobal', 'El Alto', 'El Araza', 'El Arañado', 'El Arenal', 'El Barrial', 'El Bañado', 'El Bobadal', 'El Bolsón', 'El Bordo', 'El Bracho', 'El Brete', 'El Brillante', 'El Caburé', 'El Calafate', 'El Caramelo', 'El Carmen', 'El Carril', 'El Carrizal', 'El Caín', 'El Ceibal', 'El Chacho', 'El Challao', 'El Chaltén', 'El Charco', 'El Chocón', 'El Cholar', 'El Cimarrón', 'El Colorado', 'El Corcovado - El Torreón', 'El Cuadrado', 'El Cuy', 'El Cóndor', 'El Dorado', 'El Durazno', 'El Escorial', 'El Espinillo', 'El Espino', 'El Fortín', 'El Foyel', 'El Fuerte', 'El Fuertecito', 'El Galpón', 'El Hoyo', 'El Huayco', 'El Hueco', 'El Huecú', 'El Jagüel', 'El Jardín', 'El Libertador', 'El Maitén', 'El Manantial', 'El Manzano', 'El Marquesado', 'El Medanito', 'El Mirador', 'El Mirasol', 'El Mojón', 'El Mollar', 'El Moreno', 'El Médano', 'El Naranjo', 'El Nihuil', 'El Palenque', 'El Palomar', 'El Pantanillo', 'El Pedregal', 'El Perdido  (Est. José A. Guisasola)', 'El Pingo', 'El Piquete', 'El Plumerillo', 'El Portezuelo', 'El Potrero', 'El Potrillo', 'El Puesto', 'El Quebrachal', 'El Quebracho', 'El Rabón', 'El Ramblón', 'El Resguardo', 'El Retiro', 'El Rincón', 'El Rodeo', 'El Salto', 'El Sauce', 'El Sauzal', 'El Sauzalito', 'El Soberbio', 'El Solar', 'El Sombrero', 'El Tabacal', 'El Tala', 'El Talar', 'El Tipal - La Almudena', 'El Toro', 'El Trapiche', 'El Trigo', 'El Triunfo', 'El Trébol', 'El Tunal', 'El Turbio (Est. Gobernador Mayer)', 'El Tío', 'El Vergel', 'El Volcán', 'El Zanjón', 'El Zapallar', 'El cazador', 'Eldorado', 'Elena', 'Elisa', 'Elortondo', 'Elvira', 'Embajador Martini', 'Embalse', 'Embarcación', 'Emilia', 'Emilio V. Bunge', 'Empalme San Carlos', 'Empalme Villa Constitución', 'Empedrado', 'Energía', 'Enrique Carbó', 'Enrique Urién', 'Ensenada', 'Epuyén', 'Ernestina', 'Erézcano', 'Esmeralda', 'Espartillar', 'Esperanza', 'Esquel', 'Esquina', 'Esquina del Alambre', 'Estación Atamisqui', 'Estación Camps', 'Estación Chapadmalal', 'Estación Clucellas', 'Estación La Punta', 'Estación Libertad', 'Estación Luxardo', 'Estación Mazán', 'Estación Raíces', 'Estación Robles', 'Estación Saguier', 'Estación Taboada', 'Estación Tacañitas', 'Estación Torrent', 'Estación Yeruá', 'Estación Yuquerí', 'Estancia Grande', 'Estancia San Pedro', 'Estancia Vieja', 'Estancia de Guadalupe', 'Estanislao Severo Zeballos', 'Estanislao del Campo', 'Esteban Agustín Gascón', 'Esteban Rams', 'Esther', 'Etruria', 'Eugenio Bustos', 'Eusebia y Carolina', 'Eustolia', 'Ezpeleta', 'Ezpeleta Oeste', 'Facundo', 'Falucho', 'Famaillá', 'Famatina', 'Faustino M. Parera', 'Febré', 'Federación', 'Federal', 'Felicia', 'Felipe Yofré', 'Fernández', 'Ferri', 'Ferré', 'Fiambalá', 'Fighiera', 'Firmat', 'Florencia', 'Florencio Varela', 'Florentino Ameghino', 'Florida', 'Florida Oeste', 'Fontana', 'Fontezuela', 'Formosa', 'Fortuna', 'Fortín Acha', 'Fortín Cabo 1º Lugones', 'Fortín El Patria', 'Fortín Inca', 'Fortín Lavalle', 'Fortín Olavarría', 'Fortín Olmos', 'Fortín Sargento 1º Leyes', 'Fortín Soledad', 'Fortín Tiburcio', 'Fracrán', 'Fraga', 'Fraile Pintado', 'Francisco Alvarez', 'Francisco Madero', 'Franck', 'Fray Luis Beltrán', 'Freyre', 'Frontera', 'Frías', 'Fuentes', 'Fuerte Esperanza', 'Funes', 'Fátima', 'Gaboto', 'Gahan', 'Gaiman', 'Gan Gan', 'Gancedo', 'Gaona', 'Garabato', 'Garayalde', 'Gardey', 'Garmendia', 'Garruchos', 'Garuhapé', 'Garupá', 'Garza', 'Garín', 'Gastre', 'Gato Colorado', 'General Acha', 'General Alvear', 'General Arenales', 'General Baldissera', 'General Ballivián', 'General Belgrano', 'General Cabrera', 'General Campos', 'General Capdevila', 'General Conesa', 'General Daniel Cerri  (Est. General Cerri)', 'General Deheza', 'General Enrique Godoy', 'General Fernández Oro', 'General Fotheringham', 'General Galarza', 'General Gelly', 'General Guido', 'General Gutierrez', 'General Güemes', 'General José de San Martín', 'General Juan Madariaga', 'General La Madrid', 'General Lagos', 'General Las Heras  (Est. Las Heras)', 'General Lavalle', 'General Levalle', 'General Lucio Victorio Mansilla', 'General Mansilla  (Est. Bartolomé Bavio)', 'General Manuel J. Campos', 'General Mosconi', \"General O'Brien\", 'General Pacheco', 'General Paz', 'General Pico', 'General Pinedo', 'General Pinto', 'General Pirán', 'General Pizarro', 'General Racedo', 'General Ramírez', 'General Rivas', 'General Roca', 'General Rodríguez', 'General Rojo', 'General San Martín (Est. Villa Alba)', 'General Urquiza', 'General Vedia', 'General Villegas  (Est. Villegas)', 'Gerli', 'Germania  (Est. Mayor José Orellano)', 'Gessler', 'Gilbert', 'Girodias', 'Glew', 'Gobernador Benegas', 'Gobernador Crespo', 'Gobernador Duval', 'Gobernador Echagüe', 'Gobernador Gregores', 'Gobernador Igr. Valentín Virasoro', 'Gobernador Juan E. Martínez', 'Gobernador Julio A. Costa', 'Gobernador López', 'Gobernador Mansilla', 'Gobernador Roca', 'Gobernador Solá', 'Gobernador Udaondo', 'Gobernador Ugarte', 'Godoy', 'Godoy Cruz', 'Golondrina', 'Gonzalez Catán', 'González Moreno', 'Gorchs', 'Gorostiaga', 'Goudge', 'Gowland', 'Goya', 'Goyena', 'Gramilla', 'Gran China', 'Gran Guardia', 'Granadero Baigorria', 'Grand Bourg', 'Graneros', 'Gregoria Pérez de Denis (Est. El Nochero)', 'Gregorio De Laferrere', 'Grutly', 'Guachipas', 'Guadalcazar', 'Guadalupe Norte', 'Gualeguay', 'Gualeguaychú', 'Gualjaina', 'Guaminí', 'Guanacache', 'Guanaco Muerto', 'Guandacol', 'Guaraní', 'Guardia Escolta', 'Guardia Mitre', 'Guatimozín', 'Guatraché', 'Guaymallén', 'Guernica', 'Guerrero', 'Guerrico', 'Guillermo E. Hudson', 'Gálvez', 'Gödeken', 'Haedo', 'Hale', 'Hambis', 'Hasenkamp', 'Hasse', 'Helvecia', 'Henderson', 'Hermoso Campo', 'Hernandarias', 'Hernando', 'Hernán Mejía Miraval', 'Hernández', 'Herradura', 'Herrera', 'Hersilia', 'Hickman', 'Hinojo', 'Hipatia', 'Hipólito Bouchard', 'Hipólito Yrigoyen', 'Hipólito Yrigoyen (Est. Iturbe)', 'Hocker', 'Huacalera', 'Huaco', 'Hualfín', 'Huanchillas', 'Huanguelén', 'Huanqueros', 'Huerta Grande', 'Hughes', 'Huillapima', 'Huinca Renancó', 'Huinganco', 'Humahuaca', 'Humberto Primo', 'Humboldt', 'Hurlingham', 'Huáncar', 'ITALÓ', 'Ibarlucea', 'Ibarreta', 'Ibicuy', 'Icaño', 'Idiazabal', 'Iglesia', 'Ignacio Correas', 'Indio Rico', 'Ingeniero Adolfo Sourdeaux', 'Ingeniero Chanourdie', 'Ingeniero Forres (Est. Chaguar Punco)', 'Ingeniero Giagnoni', 'Ingeniero Guillermo N. Juárez', 'Ingeniero Gustavo André', 'Ingeniero Jacobacci', 'Ingeniero Juan Allan', 'Ingeniero Luiggi', 'Ingeniero Luis A. Huergo', 'Ingeniero Maschwitz', 'Ingeniero Miguel Sajaroff', 'Ingeniero Pablo Nogués', 'Ingeniero White', 'Ingenio San Pablo', 'Inocencio Sosa', 'Inriville', 'Intendente Alvear', 'Intiyaco', 'Inés Indart', 'Irala', 'Irigoyen', 'Irineo Portela', 'Iruya', 'Isca Yacu', 'Isidro Casanova', 'Isla Verde', 'Isla de Cañas', 'Isla del Cerrito', 'Itacaruaré', 'Itatí', 'Ituzaingó', 'Ituzaingó Centro', 'Ituzaingó Sur', 'Itá Ibaté', 'Itín', 'Jacinto Arauz', 'Jaime Prats', 'Jama', 'James Craik', 'Jaramillo', 'Jardín América', 'Jarilla', 'Jeppener', 'Jesus Nazareno', 'Jesús María', 'Joaquin Gorina', 'Joaquín V. González', 'Jocolí', 'Jocolí Viejo', 'Jorge Born', 'Jose Hernandez', 'Jose Ingenieros', 'Jose Melchor Romero', 'Jose Mármol', 'Josefina', 'José B. Casas', 'José C Paz', 'José Juan Almeyra', 'José Maria Ezeiza', 'José María Jáuregui (Est. Jáuregui)', 'José Rafael Gómez', 'José de San Martín', 'José de la Quintana', 'Juan A. Pradere', 'Juan A. de la Peña', 'Juan Anchorena  (Est. Urquiza)', 'Juan B. Molina', 'Juan Bautista Alberdi', 'Juan Bautista Alberdi  (Est. Alberdi)', 'Juan Cousté  (Est. Algarrobo)', 'Juan E. Barra', 'Juan G. Bazán', 'Juan Jorba', 'Juan José Castelli', 'Juan José Paso', 'Juan Llerena', 'Juan María Gutierrez', 'Juan N. Fernández', 'Juan Pujol', 'Juana Koslay', 'Jubileo', 'Juella', 'Juncal', 'Junín', 'Junín de los Andes', 'Justiniano Posse', 'Justo Daract', 'Juventud Unida', 'Kilómetro 101', 'Kilómetro 115', 'LAS ALBAHACAS', 'La Adela', 'La Aguada', 'La Angelina', 'La Angelita', 'La Arboleda', 'La Armonía', 'La Bajada', 'La Banda', 'La Batea', 'La Brava', 'La Buitrera', 'La Cabral', 'La Caldera', 'La Calera', 'La Candelaria', 'La Capilla', 'La Carlota', 'La Carolina', 'La Carrera', 'La Carreta', 'La Cañada', 'La Central', 'La Cesira', 'La Chispa', 'La Ciénaga y Barrio San Rafael', 'La Clarita', 'La Clotilde', 'La Cocha', 'La Colonia', 'La Constancia', 'La Consulta', 'La Corita', 'La Cortadera', 'La Criolla', 'La Criolla (Est. Cañadita)', 'La Cruz', 'La Cuadra', 'La Cumbre', 'La Cumbrecita', 'La Donosa', 'La Dormida', 'La Eduvigis', 'La Escondida', 'La Esperanza', 'La Falda', 'La Falda De San Antonio', 'La Firmeza', 'La Florida', 'La Francia', 'La Gallareta', 'La Gloria', 'La Granja', 'La Higuera', 'La Humada', 'La Intermedia', 'La Invernada', 'La Isleta', 'La Laguna', 'La Leonesa', 'La Libertad', 'La Loma', 'La Lonja', 'La Lucila', 'La Luisa', 'La Majada', 'La Maroma', 'La Maruja', 'La Mendieta', 'La Merced', 'La Merced Del Encón', 'La Mesada', 'La Paisanita', 'La Paquita', 'La Para', 'La Paz', 'La Pelada', 'La Penca y Caraguatá', 'La Picada', 'La Plata', 'La Playa', 'La Playosa', 'La Población', 'La Poma', 'La Primavera', 'La Puerta', 'La Punilla', 'La Punta', 'La Puntilla', 'La Quiaca', 'La Quinta', 'La Ramada', 'La Redonda', 'La Reducción', 'La Reforma', 'La Reja', 'La Rica', 'La Rinconada', 'La Rioja', 'La Rubia', 'La Sarita', 'La Silleta', 'La Sofía', 'La Tablada', 'La Tercena', 'La Tigra', 'La Toma', 'La Tordilla', 'La Travesía', 'La Trinidad', 'La Unión', 'La Vanguardia', 'La Verde', 'La Vertiente', 'La Violeta', 'La Viña', 'Labarden', 'Laborde', 'Labordeboy', 'Laboulaye', 'Lafinur', 'Lago Blanco', 'Lago Puelo', 'Lago Rosario', 'Laguna Alsina  (Est. Bonifacio)', 'Laguna Blanca', 'Laguna Brava', 'Laguna Escondida', 'Laguna Gallo', 'Laguna Larga', 'Laguna Limpia', 'Laguna Naick-Neck', 'Laguna Paiva', 'Laguna Yema', 'Lagunillas de Farallón', 'Lagunita Salada', 'Lamadrid', 'Lamarque', 'Landeta', 'Lanteri', 'Lanús Este', 'Lanús Oeste', 'Lapachito', 'Laplacette', 'Laprida', 'Larguía', 'Larrechea', 'Larroque', 'Las Acequias', 'Las Aguadas', 'Las Armas', 'Las Arrias', 'Las Bajadas', 'Las Bandurrias', 'Las Barrancas', 'Las Breñas', 'Las Caleras', 'Las Calles', 'Las Carabelas', 'Las Catitas', 'Las Cañas', 'Las Cejas', 'Las Chacras', 'Las Chacritas', 'Las Coloradas', 'Las Compuertas', 'Las Costas', 'Las Delicias', 'Las Flores', 'Las Garcitas', 'Las Garzas', 'Las Grutas', 'Las Heras', 'Las Higueras', 'Las Isletillas', 'Las Jarillas', 'Las Juntas', 'Las Junturas', 'Las Lagunas', 'Las Lajas', 'Las Lajitas', 'Las Leñas', 'Las Lomitas', 'Las Malvinas', 'Las Marianas', 'Las Martinetas', 'Las Moscas', 'Las Ovejas', 'Las Palmas', 'Las Palmeras', 'Las Parejas', 'Las Perdices', 'Las Perlas', 'Las Petacas', 'Las Peñas', 'Las Playas', 'Las Plumas', 'Las Rabonas', 'Las Rosas', 'Las Talas', 'Las Tapias', 'Las Tinajas', 'Las Toninas', 'Las Tortugas', 'Las Toscas', 'Las Tunas', 'Las Varas', 'Las Varillas', 'Las Vegas', 'Las Vertientes', 'Lavaisse', 'Lavalle', 'Leandro N. Alem', 'Leguizamón', 'Lehmann', 'Leleque', 'Leones', 'Lezica y Torrezuri', 'León', 'Libertad', 'Libertador General San Martín (Est. Ledesma)', 'Licenciado Matienzo', 'Lima', 'Limay Mahuida', 'Lin Calel', 'Lincoln', 'Lisandro Olmos', 'Liviara', 'Llambi Campbell', 'Llavallol', 'Lobería', 'Lobos', 'Logroño', 'Loma Alta', 'Loma Blanca', 'Loma Bola', 'Loma Hermosa', 'Loma Verde', 'Lomas Blancas', 'Lomas De Zamora', 'Lomas Del Mirador', 'Lomas de Vallejos', 'Lomas del Río Luján (Est. Río Luján)', 'Loncopué', 'Londres', 'Longchamps', 'Lonquimay', 'Loreto', 'Los Alisos', 'Los Altares', 'Los Altos', 'Los Amores', 'Los Angeles', 'Los Antiguos', 'Los Barriales', 'Los Berros', 'Los Blancos', 'Los Cachorros', 'Los Cajones', 'Los Campamentos', 'Los Cardales', 'Los Cardos', 'Los Cardozos', 'Los Catutos', 'Los Cerrillos', 'Los Charrúas', 'Los Chañaritos', 'Los Chiriguanos', 'Los Cipreses', 'Los Cisnes', 'Los Cocos', 'Los Conquistadores', 'Los Corralitos', 'Los Cóndores', 'Los Frentones', 'Los Helechos', 'Los Hornillos', 'Los Hornos', 'Los Juríes', 'Los Lapachos (Est. Maquinista Verón)', 'Los Laureles', 'Los Menucos', 'Los Molinos', 'Los Molles', 'Los Naranjos', 'Los Nogales', 'Los Núñez', 'Los Palacios', 'Los Pinos', 'Los Pirpintos', 'Los Polvorines', 'Los Quiroga', 'Los Quirquinchos', 'Los Ralos', 'Los Reartes', 'Los Robles', 'Los Romeros', 'Los Sarmientos', 'Los Sauces', 'Los Surgentes', 'Los Talares', 'Los Talas', 'Los Telares', 'Los Tigres', 'Los Toldos', 'Los Troncos Del Talar', 'Los Varela', 'Los Zapallos', 'Los Árboles', 'Loventué', 'Lozano', 'Lozano (Ap. Chañi)', 'Luan Toro', 'Lucas González', 'Lucas Monteverde', 'Lucila Del Mar', 'Lucio V. López', 'Lugones', 'Luis Beltrán', 'Luis Burela', 'Luis Guillón', 'Luis Palacios (Est. La Salada)', 'Luján', 'Luján de Cuyo', 'Lules', 'Lumbreras', 'Luque', 'Luyaba', 'Luzuriaga', 'Líbaros', 'López', 'López (Est. San Martín de Tours)', 'Macachín', 'Machagai', 'Maciel', 'Maciá', 'Maco', 'Magdala', 'Magdalena', 'Maggiolo', 'Maimará', 'Mainqué', 'Maipú', 'Makallé', 'Malabrigo', 'Malagueño', 'Malanzán', 'Malargüe', 'Malbrán', 'Malena', 'Malligasta', 'Malvinas Argentinas', 'Mamuel Choique', 'Manantiales', 'Manfredi', 'Mansupa', 'Manuel Alberti', 'Manuel B Gonnet', 'Manuel B. Gonnet  (Est. French)', 'Manuel García Fernández', 'Manuel J. Cobo  (Est. Lezama)', 'Manuel Ocampo', 'Manzanares', 'Manzano Amargo', 'Maquinchao', 'Maquinista F. Savio (este)', 'Maquinista F. Savio (oeste)', 'Maquito', 'Mar de Ajó - San Bernardo', 'Mar de Cobo', 'Mar del Plata', 'Mar del Sur', 'Marcelino Escalada', 'Marcos Juárez', 'Marcos Paz', 'Margarita', 'Margarita Belén', 'Mari Menuco', 'Mariano Acosta', 'Mariano Boedo', 'Mariano H. Alfonzo  (Est. San Patricio)', 'Mariano I. Loza  (Est. Justino Solari)', 'Mariano Moreno', 'Martín Coronado', 'Martín de Loyola', 'Martínez', 'Marull', 'María Grande', 'María Ignacia  (Est. Vela)', 'María Juana', 'María Luisa', 'María Susana', 'María Teresa', 'Matará', 'Matheu', 'Matilde', 'Mauricio Hirsch', 'Mauricio Mayer', 'Mayor Buratovich', 'Mayor Drummond', 'Mayu Sumaj', 'Maza', 'Mburucuyá', 'Mechita', 'Mechita (Est. Mecha)', 'Mechongué', 'Medellín', 'Media Naranja', 'Medrano', 'Melincué (Est. San Urbano)', 'Melo', 'Mencué', 'Mendiolaza', 'Mendoza', 'Mercedes', 'Merlo', 'Metileo', 'Metán Viejo', 'Mi Granja', 'Micaela Cascallares  (Est. Cascallares)', 'Miguel Cané', 'Miguel Riglos', 'Miguel Torres', 'Milagro', 'Mina 3', 'Mina Clavero', 'Mina Providencia', 'Ministro Ramos Mexía', 'Ministro Rivadavia', 'Miraflores', 'Miramar', 'Misarrumi', 'Misión El Cruce - El Milagro - El Jardín de San Martín', 'Misión Kilómetro 6', 'Misión Tacaagle', 'Mocoretá', 'Moctezuma', 'Mogna', 'Moisés Ville', 'Mojón Grande', 'Mojón de Fierro', 'Molino Doll', 'Molinos', 'Mones Cazón', 'Monigotes', 'Monje', 'Monte Buey', 'Monte Caseros', 'Monte Chingolo', 'Monte Comán', 'Monte Flores', 'Monte Grande', 'Monte Hermoso', 'Monte Maíz', 'Monte Nievas', 'Monte Quemado', 'Monte Ralo', 'Monte Vera', 'Monteagudo', 'Montecarlo', 'Montecaseros', 'Montecristo', 'Montefiore', 'Monteros', 'Monterrico', 'Montes de Oca', 'Moquehue', 'Moquehuá', 'Morales', 'Moreno', 'Moron', 'Morrison', 'Morse', 'Morteros', 'Mundo Nuevo', 'Munro', 'Murphy', 'Mutquin', 'Muñiz', 'Mártires', 'Máximo Paz', 'Máximo Paz (Est. Paz)', 'Médanos', 'Nahuel Mapá', 'Nahuel Niyeu', 'Napaleofú', 'Naré', 'Naschel', 'Naupa Huen', 'Navarro', 'Navia', 'Nazareno', 'Necochea - Quequén', 'Nelson', 'Nemesio Parma', 'Neuquén', 'Nicanor Olivera  (Est. La Dulce)', 'Niquivil', 'Noetinger', 'Nogolí', 'Nogoyá', 'Nono', 'Nonogasta', 'Norberto de la Riestra', 'Nordelta', 'Nuestra Señora del Rosario de Caá Catí', 'Nueva California', 'Nueva Escocia', 'Nueva Esperanza', 'Nueva Francia', 'Nueva Galia', 'Nueva Plata', 'Nueva Pompeya', 'Nueva Trinidad', 'Nueva Vizcaya', 'Nuevo Pirquitas', 'Nuevo Torino', 'Nácate', \"O'Higgins\", 'Oasis', 'Oberá', 'Ochandío', 'Ojeda', 'Olacapato', 'Olaeta', 'Olaroz Chico', 'Olascoaga', 'Olavarría', 'Olegario V. Andrade', 'Oliva', 'Olivares de San Nicolás', 'Olivera', 'Oliveros', 'Olivos', 'Olta', 'Oncativo', 'Open Door  (Est. Dr. Domingo Cabred)', 'Oratorio', 'Ordóñez', 'Orense', 'Oriente', 'Oro Verde', 'Orosmayo', 'Osvaldo Magnasco', 'Otros', 'PINCÉN', 'Pablo Podestá', 'Pacará', 'Padre Lozano', 'Pagancillo', 'Pago Chico', 'Paicone', 'Pajas Blancas', 'Pala Pala', 'Palacios', 'Palma Sola', 'Palmar Grande', 'Palmira', 'Palo Santo', 'Palpalá (Est. Gral. Manuel N. Savio)', 'Pampa Almirón', 'Pampa Blanca', 'Pampa Grande', 'Pampa Vieja', 'Pampa de los Guanacos', 'Pampa del Indio', 'Pampa del Infierno', 'Pampayasta Norte', 'Pampayasta Sur', 'Panambi Kilómetro 15', 'Panambí', 'Panambí Kilómetro 8', 'Panquehua', 'Papagayos', 'Parada Acuña', 'Parada Labougle', 'Parada Orlando', 'Parada Pucheta', 'Parada Robles - Pavón', 'Paraje 29', 'Paraje San Manuel', 'Paraná', 'Paraíso', 'Pardo', 'Pareditas', 'Parera', 'Parque Calmayo', 'Pascanas', 'Pasco', 'Pasman', 'Paso Del Rey', 'Paso Flores', 'Paso Grande', 'Paso Viejo', 'Paso de Indios', 'Paso de la Laguna', 'Paso de la Patria', 'Paso de los Libres', 'Paso del Sapo', 'Pasteur', 'Pastos Chicos', 'Patay', 'Patquía', 'Patricios', 'Paula', 'Pavón', 'Pavón Arriba', 'Payogasta', 'Pearson', 'Pedernal', 'Pedernales', 'Pedro Gómez Cello', 'Pedro Luro', 'Pedro Molina', 'Pedro R. Fernández (Est. Manuel F. Mantilla)', 'Pehuajó', 'Pellegrini', 'Perdriel', 'Pereyra', 'Pergamino', 'Perico', 'Perito Moreno', 'Perugorría', 'Perú', 'Peyrano', 'Peñas Blancas', 'Phillips', 'Piamonte', 'Pichanal', 'Pichi Mahuida', 'Pichincha', 'Pico Truncado', 'Picún Leufú', 'Piedra del Águila', 'Piedrabuena', 'Piedras Blancas', 'Piedritas', 'Pieres', 'Pigüé', 'Pila', 'Pilar', 'Pilcaniyeu', 'Pilquiniyeu', 'Pilquiniyeu del Limay', 'Pinamar', 'Pinchas', 'Pineyro', 'Pinzón', 'Pipinas', 'Piquete Cabado', 'Piquillín', 'Piquirenda', 'Pirané', 'Pirovano', 'Pismanta', 'Pituil', 'Piñalito Sur', 'Piñero (Est. Erasto)', 'Playa Magagna', 'Playa Unión', 'Playas Doradas', 'Plaza Clucellas', 'Plaza Huincul', 'Plaza Luxardo', 'Plaza Saguier', 'Plaza San Francisco', 'Plottier', 'Pluma de Pato', 'Plátanos', 'Polcos', 'Pomona', 'Pomán', 'Pontevedra', 'Portezuelo', 'Porteña', 'Porvenir', 'Posadas', 'Poscaya', 'Posta Cambio Zalazar', 'Potrerillo', 'Potrerillos', 'Potrero de Garay', 'Potrero de los Funes', 'Pozo Borrado', 'Pozo Del Mistol', 'Pozo Hondo', 'Pozo de Maza', 'Pozo de los Indios', 'Pozo del Molle', 'Pozo del Mortero', 'Pozo del Tigre', 'Pozuelos', 'Prahuaniyeu', 'Presidencia Roca', 'Presidencia Roque Sáenz Peña', 'Presidencia de la Plaza', 'Presidente Derqui', 'Presidente Roca', 'Profesor Salvador Mazza', 'Profundidad', 'Progreso', 'Pronunciamiento', 'Providencia', 'Pueblo Andino', 'Pueblo Arrúa (Est. Alcaraz)', 'Pueblo Brugo', 'Pueblo Esther', 'Pueblo General Belgrano', 'Pueblo Gouin', 'Pueblo Illia', 'Pueblo Independencia', 'Pueblo Italiano', 'Pueblo Libertador', \"Pueblo Liebig's\", 'Pueblo Marini', 'Pueblo Muñoz (Est. Bernard)', 'Pueblo Nuevo', 'Pueblo Pablo Torelo (Est. Otumpa)', 'Pueblo San Jorge', 'Pueblo Santa Lucía', 'Pueblo Uranga', 'Pueblo Viejo', 'Puelches', 'Puelén', 'Puente de Hierro', 'Puente del Inca', 'Puerta de San José', 'Puerto Arroyo Seco', 'Puerto Bermejo Nuevo', 'Puerto Deseado', 'Puerto Eva Perón', 'Puerto General San Martín', 'Puerto Iguazú', 'Puerto Leoni', 'Puerto Mado', 'Puerto Madryn', 'Puerto Pilcomayo', 'Puerto Piray', 'Puerto Pirámide', 'Puerto Rico', 'Puerto San Antonio Este', 'Puerto San Julián', 'Puerto Santa Cruz', 'Puerto Tirol', 'Puerto Vilelas', 'Puerto Yeruá', 'Puesto Sey', 'Puesto Viejo', 'Puesto del Marquéz', 'Pujato', 'Pumahuasi', 'Punta Alta  (Est Almirante Solier)', 'Punta Colorada', 'Punta Indio', 'Punta de los Llanos', 'Punta del Agua', 'Punta del Médano', 'Purmamarca', 'Puán', 'Pérez', 'Pérez Millán', 'Quebracho Herrado', 'Quebracho Ladeado', 'Quebrada de los Pozos', 'Quehué', 'Quemú Quemú', 'Quenumá', 'Quetrequén', 'Quilino', 'Quilmes', 'Quilmes Oeste', 'Quimilí', 'Quines', 'Quinta El Mirador', 'Quinto Cuartel', 'Quirós', 'Quitilipi', 'Rada Tilly', 'Rafael Calzada', 'Rafael Castillo', 'Rafael Obligado', 'Rafaela', 'Rama Caída', 'Ramada Paso', 'Ramallo', 'Ramayón', 'Ramona', 'Ramos Mejía', 'Ramos Otero', 'Ramírez de Velazco', 'Ramón Biaus', 'Ramón J. Cárcano', 'Rancagua', 'Ranchillos', 'Ranchos', 'Rancul', 'Ranelagh', 'Rapelli', 'Rauch', 'Rawson', 'Rayo Cortado', 'Real Sayana', 'Real del Padre', 'Realicó', 'Reconquista', 'Recreo', 'Reducción de Abajo', 'Relmo', 'Remedios De Escalada', 'Remedios Escalada De San Martin', 'Renca', 'Reserva Area Protegida El Doradillo', 'Resistencia', 'Reta', 'Riacho He-He', 'Riacho Negro', 'Riachuelo', 'Ricardo Rojas', 'Ricardone', 'Rinconada', 'Rincón', 'Rincón de Milberg', 'Rincón de Nogoyá', 'Rincón de los Sauces', 'Ringuelet', 'Rio Villegas', 'Rivadavia', 'Rivera', 'Roberto J. Payró', 'Roberts', 'Roca Chica', 'Rocamora', 'Rodeo', 'Rodeo De La Cruz', 'Rodeo del Medio', 'Rodríguez Peña', 'Rojas', 'Roldán', 'Rolón', 'Romang', 'Roque Pérez', 'Rosales', 'Rosario', 'Rosario de Lerma', 'Rosario de Río Grande', 'Rosario de la Frontera', 'Rosario del Saladillo', 'Rosario del Tala', 'Roversi', 'Rucanelo', 'Rueda', 'Rufino', 'Ruiz de Montoya', 'Russell', 'Río Bamba', 'Río Ceballos', 'Río Chico (Est. Cerro Mesa)', 'Río Colorado', 'Río Cuarto', 'Río Gallegos', 'Río Grande', 'Río Juan Gómez', 'Río Mayo', 'Río Pico', 'Río Piedras', 'Río Primero', 'Río Seco', 'Río Segundo', 'Río Tala', 'Río Tercero', 'Río de los Sauces', 'Río del Valle', 'Sa Pereyra', 'Saavedra', 'Sacanta', 'Sachayoj', 'Saco Viejo', 'Saenz Peña', 'Saforcada', 'Saira', 'Saladas', 'Saladero Mariano Cabal', 'Saladillo', 'Salazar', 'Saldungaray', 'Saldán', 'Salicas - San Blas', 'Salinas del Bebedero', 'Salliqueló', 'Salsacate', 'Salsipuedes', 'Salta', 'Salto', 'Salto Andersen', 'Salto Encantado', 'Salto Grande', 'Salto de Las Rosas', 'Salvador María', 'Sampacho', 'Samuhú', 'San Agustín', 'San Andrés', 'San Andrés de Giles', 'San Antonio', 'San Antonio De Padua', 'San Antonio Oeste', 'San Antonio de Areco', 'San Antonio de Arredondo', 'San Antonio de Litín', 'San Antonio de Obligado', 'San Antonio de los Cobres', 'San Basilio', 'San Benito', 'San Bernardo', 'San Bernardo  (Est. Guanaco)', 'San Blas', 'San Carlos', 'San Carlos Centro', 'San Carlos Minas', 'San Carlos Norte', 'San Carlos Sud', 'San Carlos de Bariloche', 'San Carlos de Bolívar  (Est. Bolívar)', 'San Cayetano', 'San Clemente del Tuyú', 'San Cosme', 'San Cristóbal', 'San Eduardo', 'San Enrique', 'San Esteban', 'San Eugenio', 'San Fabián', 'San Fernando', 'San Fernando del Valle de Catamarca', 'San Francisco', 'San Francisco Del Monte', 'San Francisco Solano', 'San Francisco de Asís', 'San Francisco de Bellocq', 'San Francisco de Laishi', 'San Francisco de Santa Fe', 'San Francisco del Chañar', 'San Francisco del Monte de Oro', 'San Genaro', 'San Genaro Norte', 'San Germán', 'San Gerónimo', 'San Gregorio', 'San Guillermo', 'San Gustavo', 'San Hilario', 'San Huberto', 'San Ignacio', 'San Ignacio (Loteo San Javier)', 'San Isidro', 'San Isidro (Est. Los Angacos)', 'San Jaime de la Frontera', 'San Javier', 'San Javier y Yacanto', 'San Jerónimo', 'San Jerónimo Norte', 'San Jerónimo Sud', 'San Jerónimo del Sauce', 'San Jorge', 'San Jose', 'San José', 'San José de Feliciano', 'San José de Jáchal', 'San José de La Cocha', 'San José de Metán', 'San José de Orquera', 'San José de la Dormida', 'San José de la Esquina', 'San José del Boquerón', 'San José del Morro', 'San José del Rincón', 'San Juan', 'San Juan de Quillaqués', 'San Justo', 'San Lorenzo', 'San Lucas', 'San Luis', 'San Luis del Palmar', 'San Manuel', 'San Marcos', 'San Marcos Sierra', 'San Martín', 'San Martín I', 'San Martín II', 'San Martín Norte', 'San Martín de las Escobas', 'San Martín de los Andes', 'San Mayol', 'San Miguel', 'San Miguel de Tucumán (Est. Tucumán)', 'San Miguel del Monte  (Est. Monte)', 'San Nicolás', 'San Nicolás de los Arroyos', 'San Pablo', 'San Patricio del Chañar', 'San Pedro', 'San Pedro (Est. San Pedro de Jujuy)', 'San Pedro Norte', 'San Pedro de Colalao', 'San Rafael', 'San Ramón', 'San Ramón de la Nueva Orán', 'San Roque', 'San Salvador', 'San Salvador de Jujuy (Est. Jujuy)', 'San Sebastián', 'San Vicente', 'San Víctor', 'Sancti Spiritu', 'Sanford', 'Sansinena', 'Santa Ana', 'Santa Anita', 'Santa Catalina', 'Santa Catalina (Est. Holmberg)', 'Santa Clara', 'Santa Clara de Buena Vista', 'Santa Clara de Saguier', 'Santa Clara del Mar', 'Santa Coloma', 'Santa Cruz', 'Santa Elena', 'Santa Eufemia', 'Santa Fe', 'Santa Florentina', 'Santa Isabel', 'Santa Lucía', 'Santa Magdalena (Est. Jovita)', 'Santa Margarita', 'Santa María', 'Santa María de Oro', 'Santa María de Punilla', 'Santa Regina', 'Santa Rita', 'Santa Rita de Catuna', 'Santa Rosa', 'Santa Rosa de Calamuchita', 'Santa Rosa de Calchines', 'Santa Rosa de Leales', 'Santa Rosa de Río Primero', 'Santa Rosa de los Pastos Grandes', 'Santa Rosa del Conlara', 'Santa Sylvina', 'Santa Teresa', 'Santa Teresita - Mar del Tuyú', 'Santa Trinidad', 'Santa Vera Cruz', 'Santa Victoria', 'Santa Victoria Este', 'Santiago De Liniers', 'Santiago Temple', 'Santiago del Estero', 'Santo Domingo', 'Santo Pipó', 'Santo Tomás', 'Santo Tomé', 'Santos Lugares', 'Santurce', 'Sarah', 'Sarandí', 'Sarasa', 'Sargento Cabral', 'Sargento Moya', 'Sargento Vidal', 'Sarmiento', 'Sastre', 'Saturnino María Laspiur', 'Sauce', 'Sauce Arriba', 'Sauce Montrull', 'Sauce Viejo', 'Sauce de Luna', 'Saujil', 'Sañogasta', 'Sebastián Elcano', 'Seclantás', 'Seeber', 'Segunda Usina', 'Seguí', 'Selva', 'Senillosa', 'Serodino', 'Serrano', 'Serrezuela', 'Sevigne', 'Shaqui', 'Sierra Chica', 'Sierra Colorada', 'Sierra Grande', 'Sierra Pailemán', 'Sierra de la Ventana', 'Sierra de los Padres', 'Sierras Bayas', 'Siete Palmas', 'Siján', 'Silva (Est. Abipones)', 'Silvio Pellico', 'Simbol', 'Simbolar', 'Simoca', 'Sinsacate', 'Smith', 'Sol de Julio', 'Solanet', 'Soldini', 'Soledad', 'Solís', 'Speluzzi', 'Strobel', 'Stroeder', 'Suardi', 'Subteniente Perín', 'Suipacha', 'Sumalao', 'Sumampa', 'Sumampa Viejo', 'Sunchales', 'Suncho Corral', 'Susana', 'Susques', 'Tabay', 'Tabossi', 'Taco Pozo', 'Taco Ralo', 'Tacuarendí (Emb. Kilómetro 421)', 'Tacural', 'Tafí Viejo', 'Tafí del Valle', 'Tala Cañada', 'Tala Huasi', 'Talapampa', 'Talita', 'Tama', 'Tamangueyú', 'Tamberías', 'Tancacha', 'Tandil', 'Taninga', 'Tanti', 'Tapalqué', 'Tapiales', 'Tapso', 'Taquimilán', 'Tartagal', 'Tartagal (Est. El Tajamar)', 'Taruma', 'Tatacua', 'Tatané', 'Tecka', 'Tellier', 'Telsen', 'Telén', 'Temperley', 'Teniente Berdina', 'Teniente Origone', 'Teodelina', 'Termas de Río Hondo', 'Ticino', 'Tigre', 'Tilcara', 'Tilimuqui', 'Tilisarao', 'Timbúes', 'Timote', 'Tinogasta', 'Tintina', 'Toay', 'Toba', 'Tobantirenda', 'Tobuna', 'Todd', 'Tolar Grande', 'Toledo', 'Tolhuin', 'Tolloche', 'Tolombón', 'Tolosa', 'Tomas M. Anchorena', 'Tomás Young', 'Tornquist', 'Toro Pujio', 'Torres', 'Tortugas', 'Tortuguitas', 'Tosno', 'Tostado', 'Totoras', 'Transradio', 'Trelew', 'Trenel', 'Treneta', 'Trenque Lauquen', 'Tres Algarrobos  (Est. Cuenca)', 'Tres Arroyos', 'Tres Cruces', 'Tres Isletas', 'Tres Lagos', 'Tres Lagunas', 'Tres Lomas', 'Tres Porteñas', 'Tres Sargentos', 'Trevelín', 'Tricao Malal', 'Tristán Suarez', 'Trongé', 'Trujui', 'Tránsito', 'Tuclame', 'Tudcum', 'Tumbaya', 'Tunuyán', 'Tupelí', 'Tupungato', 'Turdera', 'Tío Pujio', 'Ubajay', 'Ucacha', 'Udaquiola', 'Ugarteche', 'Ulapes', 'Unanué', 'Unión', 'Unquillo', 'Uquía (Est. Senador Pérez)', 'Urdampilleta', 'Urdinarrain', 'Uribelarrea', 'Uriburu', 'Urundel', 'Urutaú', 'Ushuaia', 'Uspallata', 'VILLA EL CHACAY', 'VILLA RAMALLO', 'Va Ma Irene De Los Remedios De Escalada', 'Vaca Huañuna', 'Vaca Perdida', 'Valcheta', 'Valdés', 'Valentín Alsina', 'Valle Azul', 'Valle Hermoso', 'Valle de Anisacate', 'Vallecito', 'Vaqueros', 'Varela', 'Varvarco', 'Vedia', 'Venado Tuerto', 'Vera (Est. Gobernador Vera)', 'Vera y Pintado (Est. Guaraníes)', 'Verónica', 'Viale', 'Viamonte', 'Vicente Casares', 'Vicente López', 'Vichigasta', 'Victoria', 'Victorica', 'Vicuña Mackenna', 'Videla', 'Viedma', 'Vieytes', 'Vila', 'Vilelas', 'Villa  Eduardo Madero', 'Villa  Elisa', 'Villa  de Trancas', 'Villa Aberastain', 'Villa Aberastain - La Rinconada', 'Villa Adelina', 'Villa Alfredo Fortabat', 'Villa Allende', 'Villa Alpina', 'Villa Alsina  (Est. Alsina)', 'Villa Amancay', 'Villa Amelia', 'Villa Ana', 'Villa Angela', 'Villa Arguello', 'Villa Ascasubi', 'Villa Astolfi', 'Villa Atamisqui', 'Villa Atuel', 'Villa Atuel Norte', 'Villa Ayacucho', 'Villa Ballester', 'Villa Barbosa - Villa Nacusi', 'Villa Basilio Nievas', 'Villa Berna', 'Villa Bernardo Monteagudo', 'Villa Berthet', 'Villa Bolaños', 'Villa Bonita', 'Villa Borjas', 'Villa Borjas - La Chimbera', 'Villa Bosch (Est. Juan Maria Bosch)', 'Villa Brown', 'Villa Burruyacú', 'Villa Cacique  (Est. Alfredo Fortabat)', 'Villa Carlos Paz', 'Villa Carmela', 'Villa Castelli', 'Villa Catedral', 'Villa Catela', 'Villa Cañás', 'Villa Centenario', 'Villa Cerro Azul', 'Villa Chacabuco', 'Villa Chicligasta', 'Villa Ciudad Parque Los Reartes', 'Villa Ciudad Parque Los Reartes (1a. Sección)', 'Villa Ciudad Parque Los Reartes (3a. Sección)', 'Villa Ciudad de América (Loteo Diego de Rojas)', 'Villa Clara', 'Villa Concepción del Tío', 'Villa Constitución', 'Villa Coronel Jose M. Zapiola', 'Villa Cura Brochero', 'Villa De Mayo', 'Villa Del Nahueve', 'Villa Dolores', 'Villa Dominguito (Est. Puntilla Blanca)', 'Villa Domínguez', 'Villa Domínico', 'Villa Don Bosco (Est. Angaco Sud)', 'Villa El Chocón', 'Villa El Fachinal - Parque Norte - Guiñazú Norte', 'Villa El Palmar', 'Villa El Salvador', 'Villa El Salvador - Villa Sefair', 'Villa Elisa', 'Villa Eloísa', 'Villa Elvira', 'Villa Escolar', 'Villa España', 'Villa Espil', 'Villa Fiad - Ingenio Leales', 'Villa Figueroa', 'Villa Fiorito', 'Villa Fontana', 'Villa Francia  (Est. Coronel Granada)', 'Villa Futalaufquen', 'Villa Garibaldi', 'Villa General Antonio J.  De Sucre', 'Villa General Arias  (Est. Kilómetro 638)', 'Villa General Belgrano', 'Villa General Eugenio Necochea', 'Villa General Fournier  (Est. 9 de Julio Sud)', 'Villa General Güemes', 'Villa General Jose Tomas Guido', 'Villa General Juan G. Las Heras', 'Villa General Manuel Belgrano', 'Villa General Mitre (Est. Pinto)', 'Villa General Roca', 'Villa General San Martin', 'Villa General San Martín - Campo Afuera', 'Villa Gesell', 'Villa Giardino', 'Villa Gobernador Gálvez', 'Villa Gobernador Udaondo', 'Villa Godoy Cruz', 'Villa Granaderos De San Martín', 'Villa Gregoria Matorras', 'Villa Guillermina', 'Villa Hipodromo', 'Villa Huidobro', 'Villa Ibáñez', 'Villa Independencia', 'Villa Iris', 'Villa José León Suarez', 'Villa Juan Martín De Pueyrredon', 'Villa Kilómetro 213', 'Villa Krause', 'Villa La Angostura', 'Villa La Arcadia', 'Villa La Bolsa', 'Villa La Florida', 'Villa La Punta', 'Villa La Rivera (Oliveros)', 'Villa La Rivera (Pueblo Andino)', 'Villa La Viña', 'Villa Lago Meliquina', 'Villa Laguna La Brava', 'Villa Larca', 'Villa Las Pirquitas', 'Villa Libertad', 'Villa Libertad (Municipio Leandro N. Alem)', 'Villa Libertador San Martín', 'Villa Llanquín', 'Villa Llao Llao', 'Villa Los Aromos', 'Villa Los Coihues', 'Villa Los Llanos - Juárez Celman', 'Villa Luzuriaga', 'Villa Lynch', 'Villa Lía', 'Villa Mailín', 'Villa Maipu', 'Villa Malvinas Argentinas', 'Villa Mantero', 'Villa Manzano', 'Villa Mariano Moreno - El Colmenar', 'Villa Marqués Alejandro  María De Aguado', 'Villa Martelli', 'Villa María', 'Villa Mascardi', 'Villa Mazán', 'Villa Media Agua', 'Villa Mercedes', 'Villa Minetti', 'Villa Mirasol', 'Villa Moll  (Est. Moll)', 'Villa Montoro', 'Villa Mugueta', 'Villa Nueva', 'Villa Ocampo', 'Villa Ojo de Agua', 'Villa Olivari', 'Villa Paranacito', 'Villa Parque Pres Figueroa Alcorta', 'Villa Parque San Lorenzo', 'Villa Parque Santa Ana', 'Villa Parque Sicardi', 'Villa Parque Siquimán', 'Villa Paula Albarracin', 'Villa Pehuenia', 'Villa Progreso', 'Villa Quilino', 'Villa Quillinzo', 'Villa Quinteros', 'Villa Raffo', 'Villa Reducción', 'Villa Regina', 'Villa Roch', 'Villa Rosa', 'Villa Ruiz', 'Villa Rumipal', 'Villa Río Bermejito', 'Villa Río Hondo', 'Villa Río Icho Cruz', 'Villa Salavina', 'Villa Salles', 'Villa San Agustín', 'Villa San Andrés', 'Villa San Esteban', 'Villa San Isidro', 'Villa San Isidro - José de la Quintana', 'Villa San José', 'Villa San José de Vinchina', 'Villa San Justo', 'Villa San Lorenzo', 'Villa San Luis', 'Villa San Marcial (Est. Gobernador Urquiza)', 'Villa San Martín', 'Villa San Martín (Est. Loreto)', 'Villa San Miguel', 'Villa Sanagasta', 'Villa Santa Cruz del Lago', 'Villa Santa Rosa', 'Villa Santos Tesei', 'Villa Saralegui', 'Villa Sarmiento', 'Villa Serrana La Gruta', 'Villa Teresa', 'Villa Traful', 'Villa Tulumaya', 'Villa Tulumba', 'Villa Unión', 'Villa Urquiza', 'Villa Valeria', 'Villa Vatteone', 'Villa Ventana', 'Villa Yacanto', 'Villa Yapeyú', 'Villa de Leales', 'Villa de María', 'Villa de Pocho', 'Villa de Praga', 'Villa de Soto', 'Villa de la Quebrada', 'Villa de las Rosas', 'Villa del Carmen', 'Villa del Dique', 'Villa del Plata', 'Villa del Prado', 'Villa del Rosario', 'Villa del Totoral', 'Villa del Tránsito', 'Villada', 'Villaguay', 'Villalonga', 'Villanueva  (Ap. Río Salado)', 'Villars', 'Vilmer', 'Vinalito', 'Virginia', 'Virrey Del Pino', 'Virreyes', 'Vista Alegre Norte', 'Vista Alegre Sur', 'Vista Flores', 'Vistalba', 'Viña', 'Volcán', 'Vuelta de la Barranca', 'Vásquez', 'Vértiz', 'Wanda', 'Warnes', 'Washington', 'Weisburd', 'Wenceslao Escalante', 'Wheelwright', 'Wichi', 'Wilde', 'William C. Morris', 'Winifreda', 'XX de Setiembre', 'Yacimientos Río Turbio', 'Yacuy', 'Yala', 'Yala Laubat', 'Yaminué', 'Yanda', 'Yavi', 'Yavi Chico', 'Yerba Buena - Marcos Paz', 'Yuto', 'Zanjitas', 'Zapala', 'Zavalla', 'Zavalía', 'Zelaya', 'Zenón Pereyra', 'Zona Aeropuerto Internacional Ezeiza', 'Zárate', 'colonia la plata', 'la rotonda', 'ruta del sol', 'Álvarez', 'Árraga', 'Ñanducita', 'Ñorquincó']\n"
     ]
    }
   ],
   "source": [
    "#Localidad\n",
    "# Voy a usar la misma lógica que con los partidos.\n",
    "print(list(Conect_local['Localidad'].sort_values().unique()))\n",
    "print(list(Acces_Inter_Localidades['Localidad'].sort_values().unique()))\n",
    "print(list(Acces_Inter_VelBajada_Localidad['Localidad'].sort_values().unique()))"
   ]
  },
  {
   "cell_type": "markdown",
   "metadata": {},
   "source": [
    "## Hago las tablas de id"
   ]
  },
  {
   "cell_type": "markdown",
   "metadata": {},
   "source": [
    "### `Provincias`"
   ]
  },
  {
   "cell_type": "code",
   "execution_count": 202,
   "metadata": {},
   "outputs": [],
   "source": [
    "Provincias=pd.DataFrame({\"Provincia\":list(Conect_local['Provincia'].sort_values().unique())})"
   ]
  },
  {
   "cell_type": "code",
   "execution_count": 203,
   "metadata": {},
   "outputs": [],
   "source": [
    "Provincias.to_csv(\"csv_api/Provincias.csv\")"
   ]
  },
  {
   "cell_type": "code",
   "execution_count": 204,
   "metadata": {},
   "outputs": [],
   "source": [
    "Provincias=pd.read_csv(\"csv_api/Provincias.csv\")"
   ]
  },
  {
   "cell_type": "code",
   "execution_count": 205,
   "metadata": {},
   "outputs": [],
   "source": [
    "Provincias['id_Provincia']=Provincias['Unnamed: 0']\n",
    "Provincias.drop(columns='Unnamed: 0',inplace=True)"
   ]
  },
  {
   "cell_type": "code",
   "execution_count": 206,
   "metadata": {},
   "outputs": [],
   "source": [
    "Provincias.to_csv(\"csv_api/Provincias.csv\",index=False)"
   ]
  },
  {
   "cell_type": "markdown",
   "metadata": {},
   "source": [
    "### `Localidades`"
   ]
  },
  {
   "cell_type": "code",
   "execution_count": 207,
   "metadata": {},
   "outputs": [],
   "source": [
    "Localidades=pd.DataFrame({\"Localidad\":list(Conect_local['Localidad'].sort_values().unique())})"
   ]
  },
  {
   "cell_type": "code",
   "execution_count": 208,
   "metadata": {},
   "outputs": [],
   "source": [
    "Localidades.to_csv(\"csv_api/Localidades.csv\")"
   ]
  },
  {
   "cell_type": "code",
   "execution_count": 209,
   "metadata": {},
   "outputs": [],
   "source": [
    "Localidades=pd.read_csv(\"csv_api/Localidades.csv\")"
   ]
  },
  {
   "cell_type": "code",
   "execution_count": 210,
   "metadata": {},
   "outputs": [],
   "source": [
    "Localidades['id_Localidad']=Localidades['Unnamed: 0']\n",
    "Localidades.drop(columns='Unnamed: 0',inplace=True)"
   ]
  },
  {
   "cell_type": "code",
   "execution_count": 211,
   "metadata": {},
   "outputs": [],
   "source": [
    "Localidades.to_csv(\"csv_api/Localidades.csv\",index=False)"
   ]
  },
  {
   "cell_type": "markdown",
   "metadata": {},
   "source": [
    "### `Partidos`"
   ]
  },
  {
   "cell_type": "code",
   "execution_count": 212,
   "metadata": {},
   "outputs": [],
   "source": [
    "Partidos=pd.DataFrame({\"Partido\":list(Conect_local['Partido'].sort_values().unique())})\n",
    "Partidos.to_csv(\"csv_api/Partidos.csv\")\n",
    "Partidos=pd.read_csv(\"csv_api/Partidos.csv\")\n",
    "Partidos['id_Partido']=Partidos['Unnamed: 0']\n",
    "Partidos.drop(columns='Unnamed: 0',inplace=True)\n",
    "Partidos.to_csv(\"csv_api/Partidos.csv\",index=False)"
   ]
  },
  {
   "cell_type": "markdown",
   "metadata": {},
   "source": [
    "## Agregar los id\n",
    "Hay que agregar a cada uno de estos df los id utilizando merge. Como no quiero perder datos en caso de que no detecte o no se encuentre un valor no puedo hacer inner join, hago left y me aseguro que siempre se encuentren las tablas de hecho en la izquierda."
   ]
  },
  {
   "cell_type": "markdown",
   "metadata": {},
   "source": [
    "### `Provincias`"
   ]
  },
  {
   "cell_type": "markdown",
   "metadata": {},
   "source": [
    "Conect_local<br>\n",
    "Acces_Inter_Localidades<br>\n",
    "Acces_Inter_VelBajada_Localidad<br>\n",
    "Acces_Inter_Prov_Vel<br>\n",
    "Acces_Banda_Ancha_Angosta_Provincia<br>\n",
    "Penet_Inter_PROV_100HOG"
   ]
  },
  {
   "cell_type": "code",
   "execution_count": 213,
   "metadata": {},
   "outputs": [],
   "source": [
    "Prueba1=pd.merge(Conect_local,Provincias,on=\"Provincia\",how='left')"
   ]
  },
  {
   "cell_type": "code",
   "execution_count": 214,
   "metadata": {},
   "outputs": [
    {
     "data": {
      "text/html": [
       "<div>\n",
       "<style scoped>\n",
       "    .dataframe tbody tr th:only-of-type {\n",
       "        vertical-align: middle;\n",
       "    }\n",
       "\n",
       "    .dataframe tbody tr th {\n",
       "        vertical-align: top;\n",
       "    }\n",
       "\n",
       "    .dataframe thead th {\n",
       "        text-align: right;\n",
       "    }\n",
       "</style>\n",
       "<table border=\"1\" class=\"dataframe\">\n",
       "  <thead>\n",
       "    <tr style=\"text-align: right;\">\n",
       "      <th></th>\n",
       "      <th>Provincia</th>\n",
       "      <th>Partido</th>\n",
       "      <th>Localidad</th>\n",
       "      <th>Poblacion</th>\n",
       "      <th>ADSL</th>\n",
       "      <th>CABLEMODEM</th>\n",
       "      <th>DIALUP</th>\n",
       "      <th>FIBRAOPTICA</th>\n",
       "      <th>SATELITAL</th>\n",
       "      <th>WIRELESS</th>\n",
       "      <th>TELEFONIAFIJA</th>\n",
       "      <th>3G</th>\n",
       "      <th>4G</th>\n",
       "      <th>link</th>\n",
       "      <th>Latitud</th>\n",
       "      <th>Longitud</th>\n",
       "      <th>id_Provincia</th>\n",
       "    </tr>\n",
       "  </thead>\n",
       "  <tbody>\n",
       "    <tr>\n",
       "      <th>13</th>\n",
       "      <td>CHUBUT</td>\n",
       "      <td>Futaleufú</td>\n",
       "      <td>Lago Rosario</td>\n",
       "      <td>87</td>\n",
       "      <td>--</td>\n",
       "      <td>--</td>\n",
       "      <td>--</td>\n",
       "      <td>--</td>\n",
       "      <td>SI</td>\n",
       "      <td>--</td>\n",
       "      <td>SI</td>\n",
       "      <td>--</td>\n",
       "      <td>--</td>\n",
       "      <td>26035040.0</td>\n",
       "      <td>-43,2500168518714</td>\n",
       "      <td>-71,3512318442886</td>\n",
       "      <td>4</td>\n",
       "    </tr>\n",
       "    <tr>\n",
       "      <th>27</th>\n",
       "      <td>MISIONES</td>\n",
       "      <td>San Ignacio</td>\n",
       "      <td>General Urquiza</td>\n",
       "      <td>372</td>\n",
       "      <td>--</td>\n",
       "      <td>--</td>\n",
       "      <td>--</td>\n",
       "      <td>--</td>\n",
       "      <td>--</td>\n",
       "      <td>SI</td>\n",
       "      <td>--</td>\n",
       "      <td>--</td>\n",
       "      <td>--</td>\n",
       "      <td>54098040.0</td>\n",
       "      <td>-27,0988816811273</td>\n",
       "      <td>-55,3678169761144</td>\n",
       "      <td>13</td>\n",
       "    </tr>\n",
       "    <tr>\n",
       "      <th>45</th>\n",
       "      <td>CABA</td>\n",
       "      <td>COMUNA 04</td>\n",
       "      <td>NUEVA POMPEYA</td>\n",
       "      <td>42695</td>\n",
       "      <td>SI</td>\n",
       "      <td>SI</td>\n",
       "      <td>SI</td>\n",
       "      <td>SI</td>\n",
       "      <td>SI</td>\n",
       "      <td>SI</td>\n",
       "      <td>SI</td>\n",
       "      <td>SI</td>\n",
       "      <td>SI</td>\n",
       "      <td>2000010.0</td>\n",
       "      <td>-34,6505501963997</td>\n",
       "      <td>-58,4188550090093</td>\n",
       "      <td>1</td>\n",
       "    </tr>\n",
       "    <tr>\n",
       "      <th>46</th>\n",
       "      <td>CHACO</td>\n",
       "      <td>San Fernando</td>\n",
       "      <td>Fontana</td>\n",
       "      <td>32027</td>\n",
       "      <td>--</td>\n",
       "      <td>--</td>\n",
       "      <td>--</td>\n",
       "      <td>SI</td>\n",
       "      <td>--</td>\n",
       "      <td>SI</td>\n",
       "      <td>--</td>\n",
       "      <td>SI</td>\n",
       "      <td>SI</td>\n",
       "      <td>22140040.0</td>\n",
       "      <td>-27,4167127425858</td>\n",
       "      <td>-59,04393778912</td>\n",
       "      <td>3</td>\n",
       "    </tr>\n",
       "    <tr>\n",
       "      <th>47</th>\n",
       "      <td>CHACO</td>\n",
       "      <td>San Fernando</td>\n",
       "      <td>Puerto Vilelas</td>\n",
       "      <td>8278</td>\n",
       "      <td>--</td>\n",
       "      <td>--</td>\n",
       "      <td>--</td>\n",
       "      <td>SI</td>\n",
       "      <td>SI</td>\n",
       "      <td>--</td>\n",
       "      <td>--</td>\n",
       "      <td>SI</td>\n",
       "      <td>SI</td>\n",
       "      <td>22140050.0</td>\n",
       "      <td>-27,5106090846354</td>\n",
       "      <td>-58,938994465923</td>\n",
       "      <td>3</td>\n",
       "    </tr>\n",
       "    <tr>\n",
       "      <th>48</th>\n",
       "      <td>CHACO</td>\n",
       "      <td>San Fernando</td>\n",
       "      <td>Resistencia</td>\n",
       "      <td>290723</td>\n",
       "      <td>SI</td>\n",
       "      <td>SI</td>\n",
       "      <td>SI</td>\n",
       "      <td>SI</td>\n",
       "      <td>SI</td>\n",
       "      <td>SI</td>\n",
       "      <td>SI</td>\n",
       "      <td>SI</td>\n",
       "      <td>SI</td>\n",
       "      <td>22140060.0</td>\n",
       "      <td>-27,4521194584549</td>\n",
       "      <td>-58,9876174408016</td>\n",
       "      <td>3</td>\n",
       "    </tr>\n",
       "    <tr>\n",
       "      <th>49</th>\n",
       "      <td>CHACO</td>\n",
       "      <td>San Lorenzo</td>\n",
       "      <td>Samuhú</td>\n",
       "      <td>1251</td>\n",
       "      <td>--</td>\n",
       "      <td>--</td>\n",
       "      <td>--</td>\n",
       "      <td>--</td>\n",
       "      <td>SI</td>\n",
       "      <td>--</td>\n",
       "      <td>--</td>\n",
       "      <td>--</td>\n",
       "      <td>SI</td>\n",
       "      <td>22147010.0</td>\n",
       "      <td>-27,5222254234698</td>\n",
       "      <td>-60,3941746057505</td>\n",
       "      <td>3</td>\n",
       "    </tr>\n",
       "    <tr>\n",
       "      <th>59</th>\n",
       "      <td>CABA</td>\n",
       "      <td>COMUNA 10</td>\n",
       "      <td>FLORESTA</td>\n",
       "      <td>37575</td>\n",
       "      <td>SI</td>\n",
       "      <td>SI</td>\n",
       "      <td>SI</td>\n",
       "      <td>SI</td>\n",
       "      <td>SI</td>\n",
       "      <td>SI</td>\n",
       "      <td>SI</td>\n",
       "      <td>SI</td>\n",
       "      <td>SI</td>\n",
       "      <td>2000010.0</td>\n",
       "      <td>-34,6276862905939</td>\n",
       "      <td>-58,4835872783595</td>\n",
       "      <td>1</td>\n",
       "    </tr>\n",
       "  </tbody>\n",
       "</table>\n",
       "</div>"
      ],
      "text/plain": [
       "   Provincia       Partido        Localidad  Poblacion ADSL CABLEMODEM DIALUP  \\\n",
       "13    CHUBUT     Futaleufú     Lago Rosario         87   --         --     --   \n",
       "27  MISIONES   San Ignacio  General Urquiza        372   --         --     --   \n",
       "45      CABA     COMUNA 04    NUEVA POMPEYA      42695   SI         SI     SI   \n",
       "46     CHACO  San Fernando          Fontana      32027   --         --     --   \n",
       "47     CHACO  San Fernando   Puerto Vilelas       8278   --         --     --   \n",
       "48     CHACO  San Fernando      Resistencia     290723   SI         SI     SI   \n",
       "49     CHACO   San Lorenzo           Samuhú       1251   --         --     --   \n",
       "59      CABA     COMUNA 10         FLORESTA      37575   SI         SI     SI   \n",
       "\n",
       "   FIBRAOPTICA SATELITAL WIRELESS TELEFONIAFIJA  3G  4G        link  \\\n",
       "13          --        SI       --            SI  --  --  26035040.0   \n",
       "27          --        --       SI            --  --  --  54098040.0   \n",
       "45          SI        SI       SI            SI  SI  SI   2000010.0   \n",
       "46          SI        --       SI            --  SI  SI  22140040.0   \n",
       "47          SI        SI       --            --  SI  SI  22140050.0   \n",
       "48          SI        SI       SI            SI  SI  SI  22140060.0   \n",
       "49          --        SI       --            --  --  SI  22147010.0   \n",
       "59          SI        SI       SI            SI  SI  SI   2000010.0   \n",
       "\n",
       "              Latitud           Longitud  id_Provincia  \n",
       "13  -43,2500168518714  -71,3512318442886             4  \n",
       "27  -27,0988816811273  -55,3678169761144            13  \n",
       "45  -34,6505501963997  -58,4188550090093             1  \n",
       "46  -27,4167127425858    -59,04393778912             3  \n",
       "47  -27,5106090846354   -58,938994465923             3  \n",
       "48  -27,4521194584549  -58,9876174408016             3  \n",
       "49  -27,5222254234698  -60,3941746057505             3  \n",
       "59  -34,6276862905939  -58,4835872783595             1  "
      ]
     },
     "execution_count": 214,
     "metadata": {},
     "output_type": "execute_result"
    }
   ],
   "source": [
    "Prueba1[Prueba1['Provincia']!='BUENOS AIRES'].head(8)"
   ]
  },
  {
   "cell_type": "code",
   "execution_count": 215,
   "metadata": {},
   "outputs": [
    {
     "name": "stdout",
     "output_type": "stream",
     "text": [
      "Provincia         0\n",
      "Partido           0\n",
      "Localidad         0\n",
      "Poblacion         0\n",
      "ADSL              0\n",
      "CABLEMODEM        0\n",
      "DIALUP            0\n",
      "FIBRAOPTICA       0\n",
      "SATELITAL         0\n",
      "WIRELESS          0\n",
      "TELEFONIAFIJA     0\n",
      "3G                0\n",
      "4G                0\n",
      "link             12\n",
      "Latitud           0\n",
      "Longitud          0\n",
      "id_Provincia      0\n",
      "dtype: int64\n"
     ]
    }
   ],
   "source": [
    "# No deberia dar nulos en la nueva columna\n",
    "print(Prueba1.isna().sum())\n",
    "# No hay nulos, por lo tanto funciono bien\n",
    "# ahora se renombra la variable al mismo df que se quiere cambiar."
   ]
  },
  {
   "cell_type": "code",
   "execution_count": 216,
   "metadata": {},
   "outputs": [],
   "source": [
    "Conect_local=pd.merge(Conect_local,Provincias,on=\"Provincia\",how='left')"
   ]
  },
  {
   "cell_type": "code",
   "execution_count": 217,
   "metadata": {},
   "outputs": [],
   "source": [
    "Acces_Inter_Localidades=pd.merge(Acces_Inter_Localidades,Provincias,on=\"Provincia\",how='left')"
   ]
  },
  {
   "cell_type": "code",
   "execution_count": 218,
   "metadata": {},
   "outputs": [
    {
     "data": {
      "text/plain": [
       "Provincia        0\n",
       "Partido          0\n",
       "Localidad        0\n",
       "ADSL             0\n",
       "CABLEMODEM       0\n",
       "DIALUP           0\n",
       "FIBRAOPTICA      0\n",
       "4G               0\n",
       "3G               0\n",
       "TELEFONIAFIJA    0\n",
       "WIRELESS         0\n",
       "SATELITAL        0\n",
       "id_Provincia     0\n",
       "dtype: int64"
      ]
     },
     "execution_count": 218,
     "metadata": {},
     "output_type": "execute_result"
    }
   ],
   "source": [
    "Acces_Inter_Localidades.isna().sum()"
   ]
  },
  {
   "cell_type": "code",
   "execution_count": 219,
   "metadata": {},
   "outputs": [],
   "source": [
    "Acces_Inter_VelBajada_Localidad=pd.merge(Acces_Inter_VelBajada_Localidad,Provincias,on=\"Provincia\",how='left')"
   ]
  },
  {
   "cell_type": "code",
   "execution_count": 220,
   "metadata": {},
   "outputs": [
    {
     "data": {
      "text/plain": [
       "Provincia          0\n",
       "Partido            0\n",
       "Localidad          0\n",
       "Link Indec         0\n",
       "Otros           2142\n",
       "                ... \n",
       "90 mbps         3096\n",
       "92 mbps         3096\n",
       "95 mbps         3097\n",
       "100 mbps        2545\n",
       "id_Provincia       0\n",
       "Length: 84, dtype: int64"
      ]
     },
     "execution_count": 220,
     "metadata": {},
     "output_type": "execute_result"
    }
   ],
   "source": [
    "Acces_Inter_VelBajada_Localidad.isna().sum()"
   ]
  },
  {
   "cell_type": "code",
   "execution_count": 221,
   "metadata": {},
   "outputs": [],
   "source": [
    "Acces_Inter_Prov_Vel=pd.merge(Acces_Inter_Prov_Vel,Provincias,on=\"Provincia\",how='left')"
   ]
  },
  {
   "cell_type": "code",
   "execution_count": 222,
   "metadata": {},
   "outputs": [
    {
     "data": {
      "text/plain": [
       "Año                    0\n",
       "Trimestre              0\n",
       "Provincia              0\n",
       "HASTA 512 kbps         0\n",
       "+ 512 Kbps - 1 Mbps    0\n",
       "+ 1 Mbps - 6 Mbps      0\n",
       "+ 6 Mbps - 10 Mbps     0\n",
       "+ 10 Mbps - 20 Mbps    0\n",
       "+ 20 Mbps - 30 Mbps    0\n",
       "+ 30 Mbps              0\n",
       "OTROS                  6\n",
       "Total                  0\n",
       "id_Provincia           0\n",
       "dtype: int64"
      ]
     },
     "execution_count": 222,
     "metadata": {},
     "output_type": "execute_result"
    }
   ],
   "source": [
    "Acces_Inter_Prov_Vel.isna().sum()"
   ]
  },
  {
   "cell_type": "code",
   "execution_count": 223,
   "metadata": {},
   "outputs": [],
   "source": [
    "Acces_Banda_Ancha_Angosta_Provincia=pd.merge(Acces_Banda_Ancha_Angosta_Provincia,Provincias,on=\"Provincia\",how='left')"
   ]
  },
  {
   "cell_type": "code",
   "execution_count": 224,
   "metadata": {},
   "outputs": [
    {
     "data": {
      "text/plain": [
       "Año                 0\n",
       "Trimestre           0\n",
       "Provincia           0\n",
       "Banda ancha fija    0\n",
       "Dial up             2\n",
       "Total               0\n",
       "id_Provincia        0\n",
       "dtype: int64"
      ]
     },
     "execution_count": 224,
     "metadata": {},
     "output_type": "execute_result"
    }
   ],
   "source": [
    "Acces_Banda_Ancha_Angosta_Provincia.isna().sum()"
   ]
  },
  {
   "cell_type": "code",
   "execution_count": 225,
   "metadata": {},
   "outputs": [],
   "source": [
    "Penet_Inter_PROV_100HOG=pd.merge(Penet_Inter_PROV_100HOG,Provincias,on=\"Provincia\",how='left')"
   ]
  },
  {
   "cell_type": "code",
   "execution_count": 226,
   "metadata": {},
   "outputs": [
    {
     "data": {
      "text/plain": [
       "Año                             0\n",
       "Trimestre                       0\n",
       "Provincia                       0\n",
       "Accesos por cada 100 hogares    0\n",
       "id_Provincia                    0\n",
       "dtype: int64"
      ]
     },
     "execution_count": 226,
     "metadata": {},
     "output_type": "execute_result"
    }
   ],
   "source": [
    "Penet_Inter_PROV_100HOG.isna().sum()"
   ]
  },
  {
   "cell_type": "markdown",
   "metadata": {},
   "source": [
    "Provincias terminadas sin problemas<br>\n",
    "Ahora se eliminan las columnas \"Provincia\" de estos df"
   ]
  },
  {
   "cell_type": "code",
   "execution_count": 227,
   "metadata": {},
   "outputs": [],
   "source": [
    "Conect_local.drop(columns=\"Provincia\",inplace=True)\n",
    "Acces_Inter_Localidades.drop(columns=\"Provincia\",inplace=True)\n",
    "Acces_Inter_VelBajada_Localidad.drop(columns=\"Provincia\",inplace=True)\n",
    "Acces_Inter_Prov_Vel.drop(columns=\"Provincia\",inplace=True)\n",
    "Acces_Banda_Ancha_Angosta_Provincia.drop(columns=\"Provincia\",inplace=True)\n",
    "Penet_Inter_PROV_100HOG.drop(columns=\"Provincia\",inplace=True)"
   ]
  },
  {
   "cell_type": "code",
   "execution_count": 228,
   "metadata": {},
   "outputs": [
    {
     "data": {
      "text/html": [
       "<div>\n",
       "<style scoped>\n",
       "    .dataframe tbody tr th:only-of-type {\n",
       "        vertical-align: middle;\n",
       "    }\n",
       "\n",
       "    .dataframe tbody tr th {\n",
       "        vertical-align: top;\n",
       "    }\n",
       "\n",
       "    .dataframe thead th {\n",
       "        text-align: right;\n",
       "    }\n",
       "</style>\n",
       "<table border=\"1\" class=\"dataframe\">\n",
       "  <thead>\n",
       "    <tr style=\"text-align: right;\">\n",
       "      <th></th>\n",
       "      <th>Partido</th>\n",
       "      <th>Localidad</th>\n",
       "      <th>Poblacion</th>\n",
       "      <th>ADSL</th>\n",
       "      <th>CABLEMODEM</th>\n",
       "      <th>DIALUP</th>\n",
       "      <th>FIBRAOPTICA</th>\n",
       "      <th>SATELITAL</th>\n",
       "      <th>WIRELESS</th>\n",
       "      <th>TELEFONIAFIJA</th>\n",
       "      <th>3G</th>\n",
       "      <th>4G</th>\n",
       "      <th>link</th>\n",
       "      <th>Latitud</th>\n",
       "      <th>Longitud</th>\n",
       "      <th>id_Provincia</th>\n",
       "    </tr>\n",
       "  </thead>\n",
       "  <tbody>\n",
       "    <tr>\n",
       "      <th>0</th>\n",
       "      <td>Bahía Blanca</td>\n",
       "      <td>Villa Bordeau</td>\n",
       "      <td>0</td>\n",
       "      <td>--</td>\n",
       "      <td>--</td>\n",
       "      <td>--</td>\n",
       "      <td>--</td>\n",
       "      <td>--</td>\n",
       "      <td>--</td>\n",
       "      <td>--</td>\n",
       "      <td>SI</td>\n",
       "      <td>SI</td>\n",
       "      <td>6056020.0</td>\n",
       "      <td>-38,6472605094596</td>\n",
       "      <td>-62,3200223419024</td>\n",
       "      <td>0</td>\n",
       "    </tr>\n",
       "  </tbody>\n",
       "</table>\n",
       "</div>"
      ],
      "text/plain": [
       "        Partido      Localidad  Poblacion ADSL CABLEMODEM DIALUP FIBRAOPTICA  \\\n",
       "0  Bahía Blanca  Villa Bordeau          0   --         --     --          --   \n",
       "\n",
       "  SATELITAL WIRELESS TELEFONIAFIJA  3G  4G       link            Latitud  \\\n",
       "0        --       --            --  SI  SI  6056020.0  -38,6472605094596   \n",
       "\n",
       "            Longitud  id_Provincia  \n",
       "0  -62,3200223419024             0  "
      ]
     },
     "execution_count": 228,
     "metadata": {},
     "output_type": "execute_result"
    }
   ],
   "source": [
    "Conect_local.head(1)"
   ]
  },
  {
   "cell_type": "markdown",
   "metadata": {},
   "source": [
    "### `Localidades`"
   ]
  },
  {
   "cell_type": "markdown",
   "metadata": {},
   "source": [
    "Conect_local<br>\n",
    "Acces_Inter_Localidades<br>\n",
    "Acces_Inter_VelBajada_Localidad<br>"
   ]
  },
  {
   "cell_type": "code",
   "execution_count": 229,
   "metadata": {},
   "outputs": [],
   "source": [
    "Conect_local=pd.merge(Conect_local,Localidades,on=\"Localidad\",how='left')"
   ]
  },
  {
   "cell_type": "code",
   "execution_count": 230,
   "metadata": {},
   "outputs": [
    {
     "data": {
      "text/html": [
       "<div>\n",
       "<style scoped>\n",
       "    .dataframe tbody tr th:only-of-type {\n",
       "        vertical-align: middle;\n",
       "    }\n",
       "\n",
       "    .dataframe tbody tr th {\n",
       "        vertical-align: top;\n",
       "    }\n",
       "\n",
       "    .dataframe thead th {\n",
       "        text-align: right;\n",
       "    }\n",
       "</style>\n",
       "<table border=\"1\" class=\"dataframe\">\n",
       "  <thead>\n",
       "    <tr style=\"text-align: right;\">\n",
       "      <th></th>\n",
       "      <th>Partido</th>\n",
       "      <th>Localidad</th>\n",
       "      <th>Poblacion</th>\n",
       "      <th>ADSL</th>\n",
       "      <th>CABLEMODEM</th>\n",
       "      <th>DIALUP</th>\n",
       "      <th>FIBRAOPTICA</th>\n",
       "      <th>SATELITAL</th>\n",
       "      <th>WIRELESS</th>\n",
       "      <th>TELEFONIAFIJA</th>\n",
       "      <th>3G</th>\n",
       "      <th>4G</th>\n",
       "      <th>link</th>\n",
       "      <th>Latitud</th>\n",
       "      <th>Longitud</th>\n",
       "      <th>id_Provincia</th>\n",
       "      <th>id_Localidad</th>\n",
       "    </tr>\n",
       "  </thead>\n",
       "  <tbody>\n",
       "    <tr>\n",
       "      <th>0</th>\n",
       "      <td>Bahía Blanca</td>\n",
       "      <td>Villa Bordeau</td>\n",
       "      <td>0</td>\n",
       "      <td>--</td>\n",
       "      <td>--</td>\n",
       "      <td>--</td>\n",
       "      <td>--</td>\n",
       "      <td>--</td>\n",
       "      <td>--</td>\n",
       "      <td>--</td>\n",
       "      <td>SI</td>\n",
       "      <td>SI</td>\n",
       "      <td>6056020.0</td>\n",
       "      <td>-38,6472605094596</td>\n",
       "      <td>-62,3200223419024</td>\n",
       "      <td>0</td>\n",
       "      <td>3575</td>\n",
       "    </tr>\n",
       "    <tr>\n",
       "      <th>1</th>\n",
       "      <td>Bahía Blanca</td>\n",
       "      <td>Villa Espora</td>\n",
       "      <td>0</td>\n",
       "      <td>--</td>\n",
       "      <td>--</td>\n",
       "      <td>--</td>\n",
       "      <td>--</td>\n",
       "      <td>--</td>\n",
       "      <td>--</td>\n",
       "      <td>--</td>\n",
       "      <td>--</td>\n",
       "      <td>--</td>\n",
       "      <td>6056020.0</td>\n",
       "      <td>-38,7765069529222</td>\n",
       "      <td>-62,1851833537179</td>\n",
       "      <td>0</td>\n",
       "      <td>3633</td>\n",
       "    </tr>\n",
       "    <tr>\n",
       "      <th>2</th>\n",
       "      <td>Balcarce</td>\n",
       "      <td>Balcarce</td>\n",
       "      <td>38376</td>\n",
       "      <td>SI</td>\n",
       "      <td>SI</td>\n",
       "      <td>SI</td>\n",
       "      <td>SI</td>\n",
       "      <td>--</td>\n",
       "      <td>SI</td>\n",
       "      <td>SI</td>\n",
       "      <td>SI</td>\n",
       "      <td>SI</td>\n",
       "      <td>6063010.0</td>\n",
       "      <td>-37,8482779294345</td>\n",
       "      <td>-58,2551665841248</td>\n",
       "      <td>0</td>\n",
       "      <td>277</td>\n",
       "    </tr>\n",
       "    <tr>\n",
       "      <th>3</th>\n",
       "      <td>Balcarce</td>\n",
       "      <td>Los Pinos</td>\n",
       "      <td>337</td>\n",
       "      <td>--</td>\n",
       "      <td>--</td>\n",
       "      <td>--</td>\n",
       "      <td>--</td>\n",
       "      <td>--</td>\n",
       "      <td>SI</td>\n",
       "      <td>SI</td>\n",
       "      <td>--</td>\n",
       "      <td>--</td>\n",
       "      <td>6063020.0</td>\n",
       "      <td>-37,9412057603</td>\n",
       "      <td>-58,3225920150442</td>\n",
       "      <td>0</td>\n",
       "      <td>2236</td>\n",
       "    </tr>\n",
       "    <tr>\n",
       "      <th>4</th>\n",
       "      <td>Balcarce</td>\n",
       "      <td>Napaleofú</td>\n",
       "      <td>374</td>\n",
       "      <td>--</td>\n",
       "      <td>--</td>\n",
       "      <td>--</td>\n",
       "      <td>SI</td>\n",
       "      <td>--</td>\n",
       "      <td>SI</td>\n",
       "      <td>SI</td>\n",
       "      <td>SI</td>\n",
       "      <td>SI</td>\n",
       "      <td>6063030.0</td>\n",
       "      <td>-37,6254980210026</td>\n",
       "      <td>-58,7461862359423</td>\n",
       "      <td>0</td>\n",
       "      <td>2497</td>\n",
       "    </tr>\n",
       "  </tbody>\n",
       "</table>\n",
       "</div>"
      ],
      "text/plain": [
       "        Partido      Localidad  Poblacion ADSL CABLEMODEM DIALUP FIBRAOPTICA  \\\n",
       "0  Bahía Blanca  Villa Bordeau          0   --         --     --          --   \n",
       "1  Bahía Blanca   Villa Espora          0   --         --     --          --   \n",
       "2      Balcarce       Balcarce      38376   SI         SI     SI          SI   \n",
       "3      Balcarce      Los Pinos        337   --         --     --          --   \n",
       "4      Balcarce      Napaleofú        374   --         --     --          SI   \n",
       "\n",
       "  SATELITAL WIRELESS TELEFONIAFIJA  3G  4G       link            Latitud  \\\n",
       "0        --       --            --  SI  SI  6056020.0  -38,6472605094596   \n",
       "1        --       --            --  --  --  6056020.0  -38,7765069529222   \n",
       "2        --       SI            SI  SI  SI  6063010.0  -37,8482779294345   \n",
       "3        --       SI            SI  --  --  6063020.0     -37,9412057603   \n",
       "4        --       SI            SI  SI  SI  6063030.0  -37,6254980210026   \n",
       "\n",
       "            Longitud  id_Provincia  id_Localidad  \n",
       "0  -62,3200223419024             0          3575  \n",
       "1  -62,1851833537179             0          3633  \n",
       "2  -58,2551665841248             0           277  \n",
       "3  -58,3225920150442             0          2236  \n",
       "4  -58,7461862359423             0          2497  "
      ]
     },
     "execution_count": 230,
     "metadata": {},
     "output_type": "execute_result"
    }
   ],
   "source": [
    "Conect_local.head(5)"
   ]
  },
  {
   "cell_type": "code",
   "execution_count": 231,
   "metadata": {},
   "outputs": [
    {
     "data": {
      "text/html": [
       "<div>\n",
       "<style scoped>\n",
       "    .dataframe tbody tr th:only-of-type {\n",
       "        vertical-align: middle;\n",
       "    }\n",
       "\n",
       "    .dataframe tbody tr th {\n",
       "        vertical-align: top;\n",
       "    }\n",
       "\n",
       "    .dataframe thead th {\n",
       "        text-align: right;\n",
       "    }\n",
       "</style>\n",
       "<table border=\"1\" class=\"dataframe\">\n",
       "  <thead>\n",
       "    <tr style=\"text-align: right;\">\n",
       "      <th></th>\n",
       "      <th>Partido</th>\n",
       "      <th>Localidad</th>\n",
       "      <th>Poblacion</th>\n",
       "      <th>ADSL</th>\n",
       "      <th>CABLEMODEM</th>\n",
       "      <th>DIALUP</th>\n",
       "      <th>FIBRAOPTICA</th>\n",
       "      <th>SATELITAL</th>\n",
       "      <th>WIRELESS</th>\n",
       "      <th>TELEFONIAFIJA</th>\n",
       "      <th>3G</th>\n",
       "      <th>4G</th>\n",
       "      <th>link</th>\n",
       "      <th>Latitud</th>\n",
       "      <th>Longitud</th>\n",
       "      <th>id_Provincia</th>\n",
       "      <th>id_Localidad</th>\n",
       "    </tr>\n",
       "  </thead>\n",
       "  <tbody>\n",
       "    <tr>\n",
       "      <th>4307</th>\n",
       "      <td>Quitilipi</td>\n",
       "      <td>Quitilipi</td>\n",
       "      <td>24517</td>\n",
       "      <td>SI</td>\n",
       "      <td>--</td>\n",
       "      <td>--</td>\n",
       "      <td>SI</td>\n",
       "      <td>--</td>\n",
       "      <td>SI</td>\n",
       "      <td>SI</td>\n",
       "      <td>SI</td>\n",
       "      <td>SI</td>\n",
       "      <td>22133010.0</td>\n",
       "      <td>-26,8732071732978</td>\n",
       "      <td>-60,2185241226399</td>\n",
       "      <td>3</td>\n",
       "      <td>2905</td>\n",
       "    </tr>\n",
       "    <tr>\n",
       "      <th>4308</th>\n",
       "      <td>Quitilipi</td>\n",
       "      <td>Villa El Palmar</td>\n",
       "      <td>879</td>\n",
       "      <td>--</td>\n",
       "      <td>--</td>\n",
       "      <td>--</td>\n",
       "      <td>--</td>\n",
       "      <td>--</td>\n",
       "      <td>SI</td>\n",
       "      <td>--</td>\n",
       "      <td>--</td>\n",
       "      <td>SI</td>\n",
       "      <td>22133020.0</td>\n",
       "      <td>-26,4551186226266</td>\n",
       "      <td>-60,1646165913523</td>\n",
       "      <td>3</td>\n",
       "      <td>3620</td>\n",
       "    </tr>\n",
       "    <tr>\n",
       "      <th>4309</th>\n",
       "      <td>San Fernando</td>\n",
       "      <td>Barranqueras</td>\n",
       "      <td>54698</td>\n",
       "      <td>SI</td>\n",
       "      <td>SI</td>\n",
       "      <td>--</td>\n",
       "      <td>SI</td>\n",
       "      <td>--</td>\n",
       "      <td>SI</td>\n",
       "      <td>SI</td>\n",
       "      <td>SI</td>\n",
       "      <td>SI</td>\n",
       "      <td>22140010.0</td>\n",
       "      <td>-27,4877739289761</td>\n",
       "      <td>-58,9327416886365</td>\n",
       "      <td>3</td>\n",
       "      <td>316</td>\n",
       "    </tr>\n",
       "    <tr>\n",
       "      <th>4310</th>\n",
       "      <td>San Fernando</td>\n",
       "      <td>Basail</td>\n",
       "      <td>1929</td>\n",
       "      <td>SI</td>\n",
       "      <td>SI</td>\n",
       "      <td>--</td>\n",
       "      <td>--</td>\n",
       "      <td>SI</td>\n",
       "      <td>SI</td>\n",
       "      <td>SI</td>\n",
       "      <td>SI</td>\n",
       "      <td>SI</td>\n",
       "      <td>22140020.0</td>\n",
       "      <td>-27,8868655966917</td>\n",
       "      <td>-59,2791003619491</td>\n",
       "      <td>3</td>\n",
       "      <td>493</td>\n",
       "    </tr>\n",
       "    <tr>\n",
       "      <th>4311</th>\n",
       "      <td>San Fernando</td>\n",
       "      <td>Colonia Baranda</td>\n",
       "      <td>336</td>\n",
       "      <td>--</td>\n",
       "      <td>--</td>\n",
       "      <td>--</td>\n",
       "      <td>--</td>\n",
       "      <td>--</td>\n",
       "      <td>--</td>\n",
       "      <td>--</td>\n",
       "      <td>SI</td>\n",
       "      <td>SI</td>\n",
       "      <td>22140030.0</td>\n",
       "      <td>-27,5620449432874</td>\n",
       "      <td>-59,3096911774268</td>\n",
       "      <td>3</td>\n",
       "      <td>893</td>\n",
       "    </tr>\n",
       "  </tbody>\n",
       "</table>\n",
       "</div>"
      ],
      "text/plain": [
       "           Partido        Localidad  Poblacion ADSL CABLEMODEM DIALUP  \\\n",
       "4307     Quitilipi        Quitilipi      24517   SI         --     --   \n",
       "4308     Quitilipi  Villa El Palmar        879   --         --     --   \n",
       "4309  San Fernando     Barranqueras      54698   SI         SI     --   \n",
       "4310  San Fernando           Basail       1929   SI         SI     --   \n",
       "4311  San Fernando  Colonia Baranda        336   --         --     --   \n",
       "\n",
       "     FIBRAOPTICA SATELITAL WIRELESS TELEFONIAFIJA  3G  4G        link  \\\n",
       "4307          SI        --       SI            SI  SI  SI  22133010.0   \n",
       "4308          --        --       SI            --  --  SI  22133020.0   \n",
       "4309          SI        --       SI            SI  SI  SI  22140010.0   \n",
       "4310          --        SI       SI            SI  SI  SI  22140020.0   \n",
       "4311          --        --       --            --  SI  SI  22140030.0   \n",
       "\n",
       "                Latitud           Longitud  id_Provincia  id_Localidad  \n",
       "4307  -26,8732071732978  -60,2185241226399             3          2905  \n",
       "4308  -26,4551186226266  -60,1646165913523             3          3620  \n",
       "4309  -27,4877739289761  -58,9327416886365             3           316  \n",
       "4310  -27,8868655966917  -59,2791003619491             3           493  \n",
       "4311  -27,5620449432874  -59,3096911774268             3           893  "
      ]
     },
     "execution_count": 231,
     "metadata": {},
     "output_type": "execute_result"
    }
   ],
   "source": [
    "Conect_local.tail(5)"
   ]
  },
  {
   "cell_type": "code",
   "execution_count": 232,
   "metadata": {},
   "outputs": [
    {
     "data": {
      "text/plain": [
       "Partido           0\n",
       "Localidad         0\n",
       "Poblacion         0\n",
       "ADSL              0\n",
       "CABLEMODEM        0\n",
       "DIALUP            0\n",
       "FIBRAOPTICA       0\n",
       "SATELITAL         0\n",
       "WIRELESS          0\n",
       "TELEFONIAFIJA     0\n",
       "3G                0\n",
       "4G                0\n",
       "link             12\n",
       "Latitud           0\n",
       "Longitud          0\n",
       "id_Provincia      0\n",
       "id_Localidad      0\n",
       "dtype: int64"
      ]
     },
     "execution_count": 232,
     "metadata": {},
     "output_type": "execute_result"
    }
   ],
   "source": [
    "Conect_local.isna().sum()"
   ]
  },
  {
   "cell_type": "code",
   "execution_count": 233,
   "metadata": {},
   "outputs": [],
   "source": [
    "Acces_Inter_Localidades=pd.merge(Acces_Inter_Localidades,Localidades,on=\"Localidad\",how='left')"
   ]
  },
  {
   "cell_type": "code",
   "execution_count": 234,
   "metadata": {},
   "outputs": [
    {
     "data": {
      "text/plain": [
       "Partido          0\n",
       "Localidad        0\n",
       "ADSL             0\n",
       "CABLEMODEM       0\n",
       "DIALUP           0\n",
       "FIBRAOPTICA      0\n",
       "4G               0\n",
       "3G               0\n",
       "TELEFONIAFIJA    0\n",
       "WIRELESS         0\n",
       "SATELITAL        0\n",
       "id_Provincia     0\n",
       "id_Localidad     0\n",
       "dtype: int64"
      ]
     },
     "execution_count": 234,
     "metadata": {},
     "output_type": "execute_result"
    }
   ],
   "source": [
    "Acces_Inter_Localidades.isna().sum()"
   ]
  },
  {
   "cell_type": "code",
   "execution_count": 235,
   "metadata": {},
   "outputs": [],
   "source": [
    "Acces_Inter_VelBajada_Localidad=pd.merge(Acces_Inter_VelBajada_Localidad,Localidades,on=\"Localidad\",how='left')"
   ]
  },
  {
   "cell_type": "code",
   "execution_count": 236,
   "metadata": {},
   "outputs": [
    {
     "data": {
      "text/plain": [
       "Partido            0\n",
       "Localidad          0\n",
       "Link Indec         0\n",
       "Otros           2142\n",
       "0,256 mbps      3069\n",
       "                ... \n",
       "92 mbps         3096\n",
       "95 mbps         3097\n",
       "100 mbps        2545\n",
       "id_Provincia       0\n",
       "id_Localidad     156\n",
       "Length: 84, dtype: int64"
      ]
     },
     "execution_count": 236,
     "metadata": {},
     "output_type": "execute_result"
    }
   ],
   "source": [
    "Acces_Inter_VelBajada_Localidad.isna().sum()\n",
    "\n",
    "#Localidades vacias, a analizar."
   ]
  },
  {
   "cell_type": "code",
   "execution_count": 237,
   "metadata": {},
   "outputs": [
    {
     "data": {
      "text/plain": [
       "3911"
      ]
     },
     "execution_count": 237,
     "metadata": {},
     "output_type": "execute_result"
    }
   ],
   "source": [
    "Localidades.id_Localidad.max()"
   ]
  },
  {
   "cell_type": "code",
   "execution_count": 238,
   "metadata": {},
   "outputs": [
    {
     "data": {
      "text/plain": [
       "82"
      ]
     },
     "execution_count": 238,
     "metadata": {},
     "output_type": "execute_result"
    }
   ],
   "source": [
    "len(list(Acces_Inter_VelBajada_Localidad['Localidad'][Acces_Inter_VelBajada_Localidad['id_Localidad'].isna()==True].sort_values().unique()))"
   ]
  },
  {
   "cell_type": "code",
   "execution_count": 239,
   "metadata": {},
   "outputs": [],
   "source": [
    "Dicc={\"Localidad\":list(Acces_Inter_VelBajada_Localidad['Localidad'][Acces_Inter_VelBajada_Localidad['id_Localidad'].isna()==True].sort_values().unique()),\n",
    "    \"id_Localidad\":list(np.arange(3912,3912+82))}"
   ]
  },
  {
   "cell_type": "code",
   "execution_count": 240,
   "metadata": {},
   "outputs": [
    {
     "data": {
      "text/plain": [
       "3993"
      ]
     },
     "execution_count": 240,
     "metadata": {},
     "output_type": "execute_result"
    }
   ],
   "source": [
    "max(Dicc['id_Localidad'])"
   ]
  },
  {
   "cell_type": "code",
   "execution_count": 241,
   "metadata": {},
   "outputs": [
    {
     "name": "stderr",
     "output_type": "stream",
     "text": [
      "C:\\Users\\lasso\\AppData\\Local\\Temp\\ipykernel_14788\\2279367780.py:1: FutureWarning: The frame.append method is deprecated and will be removed from pandas in a future version. Use pandas.concat instead.\n",
      "  Localidades=Localidades.append(pd.DataFrame(Dicc),ignore_index=True)\n"
     ]
    }
   ],
   "source": [
    "Localidades=Localidades.append(pd.DataFrame(Dicc),ignore_index=True)"
   ]
  },
  {
   "cell_type": "code",
   "execution_count": 242,
   "metadata": {},
   "outputs": [
    {
     "data": {
      "text/plain": [
       "3993"
      ]
     },
     "execution_count": 242,
     "metadata": {},
     "output_type": "execute_result"
    }
   ],
   "source": [
    "# Funcionó, ahora exporto este como el nuevo csv y vuelvo a hacer el merge.\n",
    "Localidades['id_Localidad'].max()"
   ]
  },
  {
   "cell_type": "code",
   "execution_count": 243,
   "metadata": {},
   "outputs": [],
   "source": [
    "Localidades.to_csv(\"csv_api/Localidades.csv\",index=False)"
   ]
  },
  {
   "cell_type": "code",
   "execution_count": 244,
   "metadata": {},
   "outputs": [],
   "source": [
    "Localidades=pd.read_csv(\"csv_api/Localidades.csv\")"
   ]
  },
  {
   "cell_type": "code",
   "execution_count": 245,
   "metadata": {},
   "outputs": [],
   "source": [
    "Acces_Inter_VelBajada_Localidad1=pd.merge(Acces_Inter_VelBajada_Localidad,Localidades,on=\"Localidad\",how='left')"
   ]
  },
  {
   "cell_type": "markdown",
   "metadata": {},
   "source": [
    "Al haber dos columnas con mismo nombre genera otra columna separandolas con finales distintos.<br>\n",
    "Ahora lo único a hacer es nombrar la nueva columna 'id_Localidad' igual a la columna 'id_Localidad_y' en el df original."
   ]
  },
  {
   "cell_type": "code",
   "execution_count": 246,
   "metadata": {},
   "outputs": [
    {
     "data": {
      "text/plain": [
       "Partido              0\n",
       "Localidad            0\n",
       "Link Indec           0\n",
       "Otros             2142\n",
       "0,256 mbps        3069\n",
       "                  ... \n",
       "95 mbps           3097\n",
       "100 mbps          2545\n",
       "id_Provincia         0\n",
       "id_Localidad_x     156\n",
       "id_Localidad_y       0\n",
       "Length: 85, dtype: int64"
      ]
     },
     "execution_count": 246,
     "metadata": {},
     "output_type": "execute_result"
    }
   ],
   "source": [
    "Acces_Inter_VelBajada_Localidad1.isna().sum()"
   ]
  },
  {
   "cell_type": "code",
   "execution_count": 247,
   "metadata": {},
   "outputs": [],
   "source": [
    "Acces_Inter_VelBajada_Localidad['id_Localidad']=Acces_Inter_VelBajada_Localidad1['id_Localidad_y']"
   ]
  },
  {
   "cell_type": "code",
   "execution_count": 248,
   "metadata": {},
   "outputs": [
    {
     "data": {
      "text/plain": [
       "Partido            0\n",
       "Localidad          0\n",
       "Link Indec         0\n",
       "Otros           2142\n",
       "0,256 mbps      3069\n",
       "                ... \n",
       "92 mbps         3096\n",
       "95 mbps         3097\n",
       "100 mbps        2545\n",
       "id_Provincia       0\n",
       "id_Localidad       0\n",
       "Length: 84, dtype: int64"
      ]
     },
     "execution_count": 248,
     "metadata": {},
     "output_type": "execute_result"
    }
   ],
   "source": [
    "Acces_Inter_VelBajada_Localidad.isna().sum()"
   ]
  },
  {
   "cell_type": "code",
   "execution_count": 249,
   "metadata": {},
   "outputs": [],
   "source": [
    "Conect_local.drop(columns='Localidad',inplace=True)\n",
    "Acces_Inter_Localidades.drop(columns='Localidad',inplace=True)\n",
    "Acces_Inter_VelBajada_Localidad.drop(columns='Localidad',inplace=True)"
   ]
  },
  {
   "cell_type": "markdown",
   "metadata": {},
   "source": [
    "### `Partidos`"
   ]
  },
  {
   "cell_type": "markdown",
   "metadata": {},
   "source": [
    "Conect_local<br>\n",
    "Acces_Inter_Localidades<br>\n",
    "Acces_Inter_VelBajada_Localidad<br>"
   ]
  },
  {
   "cell_type": "code",
   "execution_count": 254,
   "metadata": {},
   "outputs": [],
   "source": [
    "Conect_local=pd.merge(Conect_local,Partidos,on=\"Partido\",how='left')"
   ]
  },
  {
   "cell_type": "code",
   "execution_count": 255,
   "metadata": {},
   "outputs": [
    {
     "data": {
      "text/plain": [
       "Partido           0\n",
       "Poblacion         0\n",
       "ADSL              0\n",
       "CABLEMODEM        0\n",
       "DIALUP            0\n",
       "FIBRAOPTICA       0\n",
       "SATELITAL         0\n",
       "WIRELESS          0\n",
       "TELEFONIAFIJA     0\n",
       "3G                0\n",
       "4G                0\n",
       "link             12\n",
       "Latitud           0\n",
       "Longitud          0\n",
       "id_Provincia      0\n",
       "id_Localidad      0\n",
       "id_Partido        0\n",
       "dtype: int64"
      ]
     },
     "execution_count": 255,
     "metadata": {},
     "output_type": "execute_result"
    }
   ],
   "source": [
    "Conect_local.isna().sum()"
   ]
  },
  {
   "cell_type": "code",
   "execution_count": 256,
   "metadata": {},
   "outputs": [],
   "source": [
    "Acces_Inter_Localidades=pd.merge(Acces_Inter_Localidades,Partidos,on=\"Partido\",how='left')"
   ]
  },
  {
   "cell_type": "code",
   "execution_count": 257,
   "metadata": {},
   "outputs": [
    {
     "data": {
      "text/plain": [
       "Partido          0\n",
       "ADSL             0\n",
       "CABLEMODEM       0\n",
       "DIALUP           0\n",
       "FIBRAOPTICA      0\n",
       "4G               0\n",
       "3G               0\n",
       "TELEFONIAFIJA    0\n",
       "WIRELESS         0\n",
       "SATELITAL        0\n",
       "id_Provincia     0\n",
       "id_Localidad     0\n",
       "id_Partido       0\n",
       "dtype: int64"
      ]
     },
     "execution_count": 257,
     "metadata": {},
     "output_type": "execute_result"
    }
   ],
   "source": [
    "Acces_Inter_Localidades.isna().sum()"
   ]
  },
  {
   "cell_type": "code",
   "execution_count": 250,
   "metadata": {},
   "outputs": [],
   "source": [
    "Acces_Inter_VelBajada_Localidad=pd.merge(Acces_Inter_VelBajada_Localidad,Partidos,on=\"Partido\",how='left')"
   ]
  },
  {
   "cell_type": "code",
   "execution_count": 253,
   "metadata": {},
   "outputs": [
    {
     "data": {
      "text/plain": [
       "Partido            0\n",
       "Link Indec         0\n",
       "Otros           2142\n",
       "0,256 mbps      3069\n",
       "0,375 mbps      3097\n",
       "                ... \n",
       "95 mbps         3097\n",
       "100 mbps        2545\n",
       "id_Provincia       0\n",
       "id_Localidad       0\n",
       "id_Partido        25\n",
       "Length: 84, dtype: int64"
      ]
     },
     "execution_count": 253,
     "metadata": {},
     "output_type": "execute_result"
    }
   ],
   "source": [
    "# Lo mismo que antes asi que hacemos la misma lógica\n",
    "Acces_Inter_VelBajada_Localidad.isna().sum()"
   ]
  },
  {
   "cell_type": "code",
   "execution_count": null,
   "metadata": {},
   "outputs": [],
   "source": [
    "Acces_Inter_VelBajada_Localidad"
   ]
  },
  {
   "cell_type": "code",
   "execution_count": 260,
   "metadata": {},
   "outputs": [
    {
     "data": {
      "text/plain": [
       "443"
      ]
     },
     "execution_count": 260,
     "metadata": {},
     "output_type": "execute_result"
    }
   ],
   "source": [
    "Partidos.id_Partido.max()"
   ]
  },
  {
   "cell_type": "code",
   "execution_count": 261,
   "metadata": {},
   "outputs": [
    {
     "data": {
      "text/plain": [
       "3"
      ]
     },
     "execution_count": 261,
     "metadata": {},
     "output_type": "execute_result"
    }
   ],
   "source": [
    "len(list(Acces_Inter_VelBajada_Localidad['Partido'][Acces_Inter_VelBajada_Localidad['id_Partido'].isna()==True].sort_values().unique()))"
   ]
  },
  {
   "cell_type": "code",
   "execution_count": 270,
   "metadata": {},
   "outputs": [],
   "source": [
    "Dicc={\"Partido\":list(Acces_Inter_VelBajada_Localidad['Partido'][Acces_Inter_VelBajada_Localidad['id_Partido'].isna()==True].sort_values().unique()),\n",
    "    \"id_Partido\":list(np.arange(444,447))}"
   ]
  },
  {
   "cell_type": "code",
   "execution_count": 271,
   "metadata": {},
   "outputs": [
    {
     "data": {
      "text/plain": [
       "{'Partido': ['AMBA', 'Ciudad Autónoma de Buenos Aires', 'OTROS'],\n",
       " 'id_Partido': [444, 445, 446]}"
      ]
     },
     "execution_count": 271,
     "metadata": {},
     "output_type": "execute_result"
    }
   ],
   "source": [
    "Dicc"
   ]
  },
  {
   "cell_type": "code",
   "execution_count": 272,
   "metadata": {},
   "outputs": [
    {
     "name": "stderr",
     "output_type": "stream",
     "text": [
      "C:\\Users\\lasso\\AppData\\Local\\Temp\\ipykernel_14788\\3809514706.py:1: FutureWarning: The frame.append method is deprecated and will be removed from pandas in a future version. Use pandas.concat instead.\n",
      "  Partidos=Partidos.append(pd.DataFrame(Dicc),ignore_index=True)\n"
     ]
    }
   ],
   "source": [
    "Partidos=Partidos.append(pd.DataFrame(Dicc),ignore_index=True)"
   ]
  },
  {
   "cell_type": "code",
   "execution_count": 273,
   "metadata": {},
   "outputs": [
    {
     "data": {
      "text/plain": [
       "446"
      ]
     },
     "execution_count": 273,
     "metadata": {},
     "output_type": "execute_result"
    }
   ],
   "source": [
    "Partidos['id_Partido'].max()"
   ]
  },
  {
   "cell_type": "code",
   "execution_count": 274,
   "metadata": {},
   "outputs": [],
   "source": [
    "Partidos.to_csv(\"csv_api/Partidos.csv\",index=False)"
   ]
  },
  {
   "cell_type": "code",
   "execution_count": 275,
   "metadata": {},
   "outputs": [],
   "source": [
    "Partidos=pd.read_csv(\"csv_api/Partidos.csv\")"
   ]
  },
  {
   "cell_type": "code",
   "execution_count": 276,
   "metadata": {},
   "outputs": [],
   "source": [
    "Acces_Inter_VelBajada_Localidad1=pd.merge(Acces_Inter_VelBajada_Localidad,Partidos,on=\"Partido\",how='left')"
   ]
  },
  {
   "cell_type": "code",
   "execution_count": 277,
   "metadata": {},
   "outputs": [
    {
     "data": {
      "text/plain": [
       "Partido            0\n",
       "Link Indec         0\n",
       "Otros           2142\n",
       "0,256 mbps      3069\n",
       "0,375 mbps      3097\n",
       "                ... \n",
       "100 mbps        2545\n",
       "id_Provincia       0\n",
       "id_Localidad       0\n",
       "id_Partido_x      25\n",
       "id_Partido_y       0\n",
       "Length: 85, dtype: int64"
      ]
     },
     "execution_count": 277,
     "metadata": {},
     "output_type": "execute_result"
    }
   ],
   "source": [
    "Acces_Inter_VelBajada_Localidad1.isna().sum()"
   ]
  },
  {
   "cell_type": "code",
   "execution_count": 278,
   "metadata": {},
   "outputs": [],
   "source": [
    "Acces_Inter_VelBajada_Localidad['id_Partido']=Acces_Inter_VelBajada_Localidad1['id_Partido_y']"
   ]
  },
  {
   "cell_type": "code",
   "execution_count": 287,
   "metadata": {},
   "outputs": [],
   "source": [
    "# Dropear ahora la columna innecesaria \"Partido\"\n",
    "\n",
    "Conect_local.drop(columns='Partido',inplace=True)\n",
    "Acces_Inter_Localidades.drop(columns='Partido',inplace=True)\n",
    "Acces_Inter_VelBajada_Localidad.drop(columns='Partido',inplace=True)"
   ]
  },
  {
   "cell_type": "code",
   "execution_count": 288,
   "metadata": {},
   "outputs": [],
   "source": [
    "# Se exportan los df reemplazando los datasets originales.\n",
    "\n",
    "Conect_local.to_csv(\"csv_api\\Conectividad_Localidad.csv\",index=False)\n",
    "Acces_Inter_Localidades.to_csv(\"csv_api\\Acces_Inter_Localidades.csv\",index=False)\n",
    "Acces_Inter_VelBajada_Localidad.to_csv(\"csv_api\\Acces_Inter_VelBajada_Localidad.csv\",index=False)"
   ]
  },
  {
   "cell_type": "markdown",
   "metadata": {},
   "source": [
    "##  Necesitan revisión:\n",
    "\n",
    "\n",
    "- Penet_Inter_PROV_100HOG.csv. (en SQL)\n",
    "    - Cambiar las \",\" por \".\" en la columna \"Accesos por cada 100 hogares\" para pasarla a float.<br>\n",
    "<br>\n",
    "\n",
    "- Penet_Inter_Nac.csv. (en SQL)\n",
    "    - Cambiar las \",\" por \".\" en las columnas \"Accesos por cada 100 hogares\", \"Accesos por cada 100 hab\" para pasarlas a float.<br>\n",
    "<br>\n",
    "\n",
    "- Acces_Banda_Ancha_Angosta_Nac.csv. \n",
    "    - Quitar los \".\" en \"Banda ancha fija\",\"Total\". \n",
    "    - Por si acaso también reemplazar \",\" por \".\" (en SQL).<br>\n",
    "<br>\n",
    "\n",
    "- Acces_Banda_Ancha_Angosta_Provincia.csv. \n",
    "    - Quitamos los \".\" en \"Banda ancha fija\", \"Dial up\" y \"Total\". Nos aseguramos de también reemplazar \",\" por \".\" en cada uno.\n",
    "    - Acces_Banda_Ancha_Angosta_Provincia.csv. Ver los vacios en \"Dial up\" y reemplazarlos por su valor correctos.<br>\n",
    "<br>\n",
    "\n",
    "- Acces_Inter_Tec_Nac.csv. \n",
    "    - Quitar los \".\" en \"ADSL\",\"Cablemodem\",\"Fibra óptica\",\"Wireless\",\"Otros\",\"Total\". \n",
    "    - Como en los otros casos reemplazamos \",\" por \".\" por si acaso (en SQL).<br>\n",
    "<br>\n",
    "\n",
    "- Vel_MedBajada_Nac.csv. (en SQL)\n",
    "    - Cambiar \",\" por \".\" en \"Mbps (Media de bajada)\"<br>\n",
    "<br>\n",
    "\n",
    "- Acces_Inter_Prov_Vel.csv. \n",
    "    - Quitar \".\" en todas las columnas después de la columna \"Provincia\".\n",
    "    - Cambiar los nombres de las columnas después de \"Provincia\" a solamente el rango de valor en Mbps (ej: \"Hasta 0.512\",\"0.512-1\",\"1-6\",etc).\n",
    "    - Verificar Vacios en \"OTROS\" y reemplazarlos por su valor correcto (seguramente lo mejor sea 0).<br>\n",
    "<br>\n",
    "\n",
    "- Ingresos_Inter_Fijo.csv. \n",
    "    - Quitar los \".\" en \"Ingresos (miles de pesos)\". \n",
    "    - Por si acaso cambiar \",\" por \".\"(en SQL).<br>\n",
    "<br>\n",
    "\n",
    "- Acces_Inter_VelBajada_Localidad.csv. \n",
    "    - dataset con más vacios, se reemplazan con 0.\n",
    "    - Verificar si hay que quitar \".\" o intercambiar \",\" por \".\".(hacer df.info() y df.isna().sum())<br>\n",
    "<br>\n",
    "\n",
    "- Acces_Inter_Localidades.csv. \n",
    "    - Reemplazar \"--\" por \"NO\" (Verificar más adelante si conviene cambiarlo a valores numericos -en la visualización de relaciones-)(Justamente conviene cambiarlo a numerico, asi que se va a hacer \"--\" por 0 y \"SI\" por 1).<br>\n",
    "<br>\n",
    "\n",
    "- Conectividad_Localidad.csv. \n",
    "    - Vacios en \"link\".\n",
    "    - Cambiar \",\" por \".\" en \"Latitud\" y \"Longitud\" (en SQL).\n",
    "    - Cambiar \"--\" por \"NO\" en \"ADSL\",\"CABLEMODEM\",\"DIALUP\",\"FIBRAOPTICA\",\"SATELITAL\",\"WIRELESS\",\"TELEFONIAFIJA\",\"3G\",\"4G\"(Conviene cambiarlo a numerico, asi que se va a hacer \"--\" por 0 y \"SI\" por 1)."
   ]
  },
  {
   "cell_type": "markdown",
   "metadata": {},
   "source": [
    "- Penet_Inter_PROV_100HOG.csv. (en SQL)\n",
    "    - Cambiar las \",\" por \".\" en la columna \"Accesos por cada 100 hogares\" para pasarla a float.<br>"
   ]
  },
  {
   "cell_type": "markdown",
   "metadata": {},
   "source": []
  },
  {
   "cell_type": "markdown",
   "metadata": {},
   "source": []
  },
  {
   "cell_type": "markdown",
   "metadata": {},
   "source": []
  },
  {
   "cell_type": "markdown",
   "metadata": {},
   "source": []
  },
  {
   "cell_type": "markdown",
   "metadata": {},
   "source": []
  },
  {
   "cell_type": "markdown",
   "metadata": {},
   "source": []
  },
  {
   "cell_type": "markdown",
   "metadata": {},
   "source": [
    "- Conectividad_Localidad.csv. \n",
    "    - Vacios en \"link\".\n",
    "    - Cambiar \",\" por \".\" en \"Latitud\" y \"Longitud\" (en SQL).\n",
    "    - Cambiar \"--\" por \"0\" y \"SI\" por 1 en \"ADSL\",\"CABLEMODEM\",\"DIALUP\",\"FIBRAOPTICA\",\"SATELITAL\",\"WIRELESS\",\"TELEFONIAFIJA\",\"3G\",\"4G\""
   ]
  },
  {
   "cell_type": "code",
   "execution_count": 45,
   "metadata": {},
   "outputs": [],
   "source": [
    "Conect_local=pd.read_csv(\"csv_api\\Conectividad_Localidad.csv\")"
   ]
  },
  {
   "cell_type": "code",
   "execution_count": 48,
   "metadata": {},
   "outputs": [
    {
     "data": {
      "text/html": [
       "<div>\n",
       "<style scoped>\n",
       "    .dataframe tbody tr th:only-of-type {\n",
       "        vertical-align: middle;\n",
       "    }\n",
       "\n",
       "    .dataframe tbody tr th {\n",
       "        vertical-align: top;\n",
       "    }\n",
       "\n",
       "    .dataframe thead th {\n",
       "        text-align: right;\n",
       "    }\n",
       "</style>\n",
       "<table border=\"1\" class=\"dataframe\">\n",
       "  <thead>\n",
       "    <tr style=\"text-align: right;\">\n",
       "      <th></th>\n",
       "      <th>Provincia</th>\n",
       "      <th>Partido</th>\n",
       "      <th>Localidad</th>\n",
       "      <th>Poblacion</th>\n",
       "      <th>ADSL</th>\n",
       "      <th>CABLEMODEM</th>\n",
       "      <th>DIALUP</th>\n",
       "      <th>FIBRAOPTICA</th>\n",
       "      <th>SATELITAL</th>\n",
       "      <th>WIRELESS</th>\n",
       "      <th>TELEFONIAFIJA</th>\n",
       "      <th>3G</th>\n",
       "      <th>4G</th>\n",
       "      <th>link</th>\n",
       "      <th>Latitud</th>\n",
       "      <th>Longitud</th>\n",
       "    </tr>\n",
       "  </thead>\n",
       "  <tbody>\n",
       "    <tr>\n",
       "      <th>919</th>\n",
       "      <td>TIERRA DEL FUEGO</td>\n",
       "      <td>ANTARTIDA ARGENTINA</td>\n",
       "      <td>Base Belgrano Ii</td>\n",
       "      <td>0</td>\n",
       "      <td>--</td>\n",
       "      <td>--</td>\n",
       "      <td>--</td>\n",
       "      <td>--</td>\n",
       "      <td>--</td>\n",
       "      <td>--</td>\n",
       "      <td>--</td>\n",
       "      <td>--</td>\n",
       "      <td>--</td>\n",
       "      <td>NaN</td>\n",
       "      <td>-77,8740088546501</td>\n",
       "      <td>-34,6265601051448</td>\n",
       "    </tr>\n",
       "    <tr>\n",
       "      <th>920</th>\n",
       "      <td>TIERRA DEL FUEGO</td>\n",
       "      <td>ANTARTIDA ARGENTINA</td>\n",
       "      <td>Base Brown</td>\n",
       "      <td>0</td>\n",
       "      <td>--</td>\n",
       "      <td>--</td>\n",
       "      <td>--</td>\n",
       "      <td>--</td>\n",
       "      <td>--</td>\n",
       "      <td>--</td>\n",
       "      <td>--</td>\n",
       "      <td>--</td>\n",
       "      <td>--</td>\n",
       "      <td>NaN</td>\n",
       "      <td>-64,8953481540258</td>\n",
       "      <td>-62,8705378154324</td>\n",
       "    </tr>\n",
       "    <tr>\n",
       "      <th>921</th>\n",
       "      <td>TIERRA DEL FUEGO</td>\n",
       "      <td>ANTARTIDA ARGENTINA</td>\n",
       "      <td>Base Carlini</td>\n",
       "      <td>0</td>\n",
       "      <td>--</td>\n",
       "      <td>--</td>\n",
       "      <td>--</td>\n",
       "      <td>--</td>\n",
       "      <td>--</td>\n",
       "      <td>--</td>\n",
       "      <td>--</td>\n",
       "      <td>--</td>\n",
       "      <td>--</td>\n",
       "      <td>NaN</td>\n",
       "      <td>-62,2383693073102</td>\n",
       "      <td>-58,6675435788796</td>\n",
       "    </tr>\n",
       "    <tr>\n",
       "      <th>922</th>\n",
       "      <td>TIERRA DEL FUEGO</td>\n",
       "      <td>ANTARTIDA ARGENTINA</td>\n",
       "      <td>Base Esperanza</td>\n",
       "      <td>0</td>\n",
       "      <td>--</td>\n",
       "      <td>--</td>\n",
       "      <td>--</td>\n",
       "      <td>--</td>\n",
       "      <td>--</td>\n",
       "      <td>--</td>\n",
       "      <td>--</td>\n",
       "      <td>--</td>\n",
       "      <td>SI</td>\n",
       "      <td>NaN</td>\n",
       "      <td>-63,3973928907224</td>\n",
       "      <td>-56,997322458775</td>\n",
       "    </tr>\n",
       "    <tr>\n",
       "      <th>923</th>\n",
       "      <td>TIERRA DEL FUEGO</td>\n",
       "      <td>ANTARTIDA ARGENTINA</td>\n",
       "      <td>Base Marambio</td>\n",
       "      <td>0</td>\n",
       "      <td>--</td>\n",
       "      <td>--</td>\n",
       "      <td>--</td>\n",
       "      <td>--</td>\n",
       "      <td>--</td>\n",
       "      <td>--</td>\n",
       "      <td>--</td>\n",
       "      <td>SI</td>\n",
       "      <td>SI</td>\n",
       "      <td>NaN</td>\n",
       "      <td>-64,2406140561753</td>\n",
       "      <td>-56,6250959571072</td>\n",
       "    </tr>\n",
       "    <tr>\n",
       "      <th>924</th>\n",
       "      <td>TIERRA DEL FUEGO</td>\n",
       "      <td>ANTARTIDA ARGENTINA</td>\n",
       "      <td>Base Matienzo</td>\n",
       "      <td>0</td>\n",
       "      <td>--</td>\n",
       "      <td>--</td>\n",
       "      <td>--</td>\n",
       "      <td>--</td>\n",
       "      <td>--</td>\n",
       "      <td>--</td>\n",
       "      <td>--</td>\n",
       "      <td>--</td>\n",
       "      <td>--</td>\n",
       "      <td>NaN</td>\n",
       "      <td>-64,9758620236943</td>\n",
       "      <td>-60,0706791228407</td>\n",
       "    </tr>\n",
       "    <tr>\n",
       "      <th>925</th>\n",
       "      <td>TIERRA DEL FUEGO</td>\n",
       "      <td>ANTARTIDA ARGENTINA</td>\n",
       "      <td>Base Orcadas</td>\n",
       "      <td>0</td>\n",
       "      <td>--</td>\n",
       "      <td>--</td>\n",
       "      <td>--</td>\n",
       "      <td>--</td>\n",
       "      <td>--</td>\n",
       "      <td>--</td>\n",
       "      <td>--</td>\n",
       "      <td>--</td>\n",
       "      <td>--</td>\n",
       "      <td>NaN</td>\n",
       "      <td>-60,737817304161</td>\n",
       "      <td>-44,7376600159669</td>\n",
       "    </tr>\n",
       "    <tr>\n",
       "      <th>926</th>\n",
       "      <td>TIERRA DEL FUEGO</td>\n",
       "      <td>ANTARTIDA ARGENTINA</td>\n",
       "      <td>Base San Martin</td>\n",
       "      <td>0</td>\n",
       "      <td>--</td>\n",
       "      <td>--</td>\n",
       "      <td>--</td>\n",
       "      <td>--</td>\n",
       "      <td>--</td>\n",
       "      <td>--</td>\n",
       "      <td>--</td>\n",
       "      <td>--</td>\n",
       "      <td>--</td>\n",
       "      <td>NaN</td>\n",
       "      <td>-68,1300703213167</td>\n",
       "      <td>-67,101329501464</td>\n",
       "    </tr>\n",
       "    <tr>\n",
       "      <th>927</th>\n",
       "      <td>TIERRA DEL FUEGO</td>\n",
       "      <td>ANTARTIDA ARGENTINA</td>\n",
       "      <td>Destacamento Camara</td>\n",
       "      <td>0</td>\n",
       "      <td>--</td>\n",
       "      <td>--</td>\n",
       "      <td>--</td>\n",
       "      <td>--</td>\n",
       "      <td>--</td>\n",
       "      <td>--</td>\n",
       "      <td>--</td>\n",
       "      <td>--</td>\n",
       "      <td>--</td>\n",
       "      <td>NaN</td>\n",
       "      <td>-62,5943496603855</td>\n",
       "      <td>-59,9190536260268</td>\n",
       "    </tr>\n",
       "    <tr>\n",
       "      <th>928</th>\n",
       "      <td>TIERRA DEL FUEGO</td>\n",
       "      <td>ANTARTIDA ARGENTINA</td>\n",
       "      <td>Destacamento Decepcion</td>\n",
       "      <td>0</td>\n",
       "      <td>--</td>\n",
       "      <td>--</td>\n",
       "      <td>--</td>\n",
       "      <td>--</td>\n",
       "      <td>--</td>\n",
       "      <td>--</td>\n",
       "      <td>--</td>\n",
       "      <td>--</td>\n",
       "      <td>--</td>\n",
       "      <td>NaN</td>\n",
       "      <td>-62,9753323251602</td>\n",
       "      <td>-60,6982227022535</td>\n",
       "    </tr>\n",
       "    <tr>\n",
       "      <th>929</th>\n",
       "      <td>TIERRA DEL FUEGO</td>\n",
       "      <td>ANTARTIDA ARGENTINA</td>\n",
       "      <td>Destacamento Melchior</td>\n",
       "      <td>0</td>\n",
       "      <td>--</td>\n",
       "      <td>--</td>\n",
       "      <td>--</td>\n",
       "      <td>--</td>\n",
       "      <td>--</td>\n",
       "      <td>--</td>\n",
       "      <td>--</td>\n",
       "      <td>--</td>\n",
       "      <td>--</td>\n",
       "      <td>NaN</td>\n",
       "      <td>-64,3256059503534</td>\n",
       "      <td>-62,9763657702779</td>\n",
       "    </tr>\n",
       "    <tr>\n",
       "      <th>930</th>\n",
       "      <td>TIERRA DEL FUEGO</td>\n",
       "      <td>ANTARTIDA ARGENTINA</td>\n",
       "      <td>Destacamento Petrel</td>\n",
       "      <td>0</td>\n",
       "      <td>--</td>\n",
       "      <td>--</td>\n",
       "      <td>--</td>\n",
       "      <td>--</td>\n",
       "      <td>--</td>\n",
       "      <td>--</td>\n",
       "      <td>--</td>\n",
       "      <td>--</td>\n",
       "      <td>--</td>\n",
       "      <td>NaN</td>\n",
       "      <td>-63,4779032552796</td>\n",
       "      <td>-56,2281462316807</td>\n",
       "    </tr>\n",
       "  </tbody>\n",
       "</table>\n",
       "</div>"
      ],
      "text/plain": [
       "            Provincia              Partido               Localidad  Poblacion  \\\n",
       "919  TIERRA DEL FUEGO  ANTARTIDA ARGENTINA        Base Belgrano Ii          0   \n",
       "920  TIERRA DEL FUEGO  ANTARTIDA ARGENTINA              Base Brown          0   \n",
       "921  TIERRA DEL FUEGO  ANTARTIDA ARGENTINA            Base Carlini          0   \n",
       "922  TIERRA DEL FUEGO  ANTARTIDA ARGENTINA          Base Esperanza          0   \n",
       "923  TIERRA DEL FUEGO  ANTARTIDA ARGENTINA           Base Marambio          0   \n",
       "924  TIERRA DEL FUEGO  ANTARTIDA ARGENTINA           Base Matienzo          0   \n",
       "925  TIERRA DEL FUEGO  ANTARTIDA ARGENTINA            Base Orcadas          0   \n",
       "926  TIERRA DEL FUEGO  ANTARTIDA ARGENTINA         Base San Martin          0   \n",
       "927  TIERRA DEL FUEGO  ANTARTIDA ARGENTINA     Destacamento Camara          0   \n",
       "928  TIERRA DEL FUEGO  ANTARTIDA ARGENTINA  Destacamento Decepcion          0   \n",
       "929  TIERRA DEL FUEGO  ANTARTIDA ARGENTINA   Destacamento Melchior          0   \n",
       "930  TIERRA DEL FUEGO  ANTARTIDA ARGENTINA     Destacamento Petrel          0   \n",
       "\n",
       "    ADSL CABLEMODEM DIALUP FIBRAOPTICA SATELITAL WIRELESS TELEFONIAFIJA  3G  \\\n",
       "919   --         --     --          --        --       --            --  --   \n",
       "920   --         --     --          --        --       --            --  --   \n",
       "921   --         --     --          --        --       --            --  --   \n",
       "922   --         --     --          --        --       --            --  --   \n",
       "923   --         --     --          --        --       --            --  SI   \n",
       "924   --         --     --          --        --       --            --  --   \n",
       "925   --         --     --          --        --       --            --  --   \n",
       "926   --         --     --          --        --       --            --  --   \n",
       "927   --         --     --          --        --       --            --  --   \n",
       "928   --         --     --          --        --       --            --  --   \n",
       "929   --         --     --          --        --       --            --  --   \n",
       "930   --         --     --          --        --       --            --  --   \n",
       "\n",
       "     4G  link            Latitud           Longitud  \n",
       "919  --   NaN  -77,8740088546501  -34,6265601051448  \n",
       "920  --   NaN  -64,8953481540258  -62,8705378154324  \n",
       "921  --   NaN  -62,2383693073102  -58,6675435788796  \n",
       "922  SI   NaN  -63,3973928907224   -56,997322458775  \n",
       "923  SI   NaN  -64,2406140561753  -56,6250959571072  \n",
       "924  --   NaN  -64,9758620236943  -60,0706791228407  \n",
       "925  --   NaN   -60,737817304161  -44,7376600159669  \n",
       "926  --   NaN  -68,1300703213167   -67,101329501464  \n",
       "927  --   NaN  -62,5943496603855  -59,9190536260268  \n",
       "928  --   NaN  -62,9753323251602  -60,6982227022535  \n",
       "929  --   NaN  -64,3256059503534  -62,9763657702779  \n",
       "930  --   NaN  -63,4779032552796  -56,2281462316807  "
      ]
     },
     "execution_count": 48,
     "metadata": {},
     "output_type": "execute_result"
    }
   ],
   "source": [
    "Conect_local[Conect_local['link'].isna()]"
   ]
  },
  {
   "cell_type": "code",
   "execution_count": null,
   "metadata": {},
   "outputs": [],
   "source": []
  },
  {
   "cell_type": "code",
   "execution_count": 50,
   "metadata": {},
   "outputs": [
    {
     "name": "stderr",
     "output_type": "stream",
     "text": [
      "C:\\Users\\lasso\\AppData\\Local\\Temp\\ipykernel_14788\\2718646308.py:1: FutureWarning: The default value of numeric_only in DataFrame.corr is deprecated. In a future version, it will default to False. Select only valid columns or specify the value of numeric_only to silence this warning.\n",
      "  corr2 = Conect_local.drop(columns=['Provincia','Partido','Localidad']).corr()\n"
     ]
    },
    {
     "data": {
      "image/png": "[encoded data removed]",
      "text/plain": [
       "<Figure size 2000x2000 with 2 Axes>"
      ]
     },
     "metadata": {},
     "output_type": "display_data"
    }
   ],
   "source": [
    "corr2 = Conect_local.drop(columns=['Provincia','Partido','Localidad']).corr()\n",
    "import matplotlib.pyplot as plt\n",
    "import seaborn as sns\n",
    "plt.figure(figsize=(20,20))\n",
    "sns.heatmap(corr2, cbar = True,  square = True, annot=True, fmt= '.2f',annot_kws={'size': 15},\n",
    "           xticklabels= Conect_local.drop(columns=['Provincia','Partido','Localidad']).columns, \n",
    "           yticklabels= Conect_local.drop(columns=['Provincia','Partido','Localidad']).columns,\n",
    "           cmap= 'coolwarm')\n",
    "plt.xticks(fontsize=14)\n",
    "plt.yticks(fontsize=14)\n",
    "plt.xticks(rotation=45, ha='right')\n",
    "plt.show()"
   ]
  },
  {
   "cell_type": "code",
   "execution_count": null,
   "metadata": {},
   "outputs": [],
   "source": [
    "Conect_local['link'][Conect_local['link'].isna()==True]"
   ]
  },
  {
   "cell_type": "code",
   "execution_count": null,
   "metadata": {},
   "outputs": [
    {
     "name": "stderr",
     "output_type": "stream",
     "text": [
      "C:\\Users\\lasso\\AppData\\Local\\Temp\\ipykernel_9904\\3248476656.py:1: SettingWithCopyWarning: \n",
      "A value is trying to be set on a copy of a slice from a DataFrame\n",
      "\n",
      "See the caveats in the documentation: https://pandas.pydata.org/pandas-docs/stable/user_guide/indexing.html#returning-a-view-versus-a-copy\n",
      "  Conect_local['link'][Conect_local['link'].isna()==True]='--'\n"
     ]
    }
   ],
   "source": [
    "\n",
    "#Conect_local['link'][Conect_local['link'].isna()==True]='--'"
   ]
  },
  {
   "cell_type": "code",
   "execution_count": null,
   "metadata": {},
   "outputs": [
    {
     "data": {
      "text/plain": [
       "Provincia        0\n",
       "Partido          0\n",
       "Localidad        0\n",
       "Poblacion        0\n",
       "ADSL             0\n",
       "CABLEMODEM       0\n",
       "DIALUP           0\n",
       "FIBRAOPTICA      0\n",
       "SATELITAL        0\n",
       "WIRELESS         0\n",
       "TELEFONIAFIJA    0\n",
       "3G               0\n",
       "4G               0\n",
       "link             0\n",
       "Latitud          0\n",
       "Longitud         0\n",
       "dtype: int64"
      ]
     },
     "execution_count": 173,
     "metadata": {},
     "output_type": "execute_result"
    }
   ],
   "source": [
    "Conect_local.isna().sum()"
   ]
  },
  {
   "cell_type": "code",
   "execution_count": null,
   "metadata": {},
   "outputs": [
    {
     "data": {
      "text/html": [
       "<div>\n",
       "<style scoped>\n",
       "    .dataframe tbody tr th:only-of-type {\n",
       "        vertical-align: middle;\n",
       "    }\n",
       "\n",
       "    .dataframe tbody tr th {\n",
       "        vertical-align: top;\n",
       "    }\n",
       "\n",
       "    .dataframe thead th {\n",
       "        text-align: right;\n",
       "    }\n",
       "</style>\n",
       "<table border=\"1\" class=\"dataframe\">\n",
       "  <thead>\n",
       "    <tr style=\"text-align: right;\">\n",
       "      <th></th>\n",
       "      <th>Unnamed: 0</th>\n",
       "      <th>Provincia</th>\n",
       "      <th>Partido</th>\n",
       "      <th>Localidad</th>\n",
       "      <th>Poblacion</th>\n",
       "      <th>ADSL</th>\n",
       "      <th>CABLEMODEM</th>\n",
       "      <th>DIALUP</th>\n",
       "      <th>FIBRAOPTICA</th>\n",
       "      <th>SATELITAL</th>\n",
       "      <th>WIRELESS</th>\n",
       "      <th>TELEFONIAFIJA</th>\n",
       "      <th>3G</th>\n",
       "      <th>4G</th>\n",
       "      <th>link</th>\n",
       "      <th>Latitud</th>\n",
       "      <th>Longitud</th>\n",
       "    </tr>\n",
       "  </thead>\n",
       "  <tbody>\n",
       "    <tr>\n",
       "      <th>0</th>\n",
       "      <td>0</td>\n",
       "      <td>BUENOS AIRES</td>\n",
       "      <td>Bahía Blanca</td>\n",
       "      <td>Villa Bordeau</td>\n",
       "      <td>0</td>\n",
       "      <td>--</td>\n",
       "      <td>--</td>\n",
       "      <td>--</td>\n",
       "      <td>--</td>\n",
       "      <td>--</td>\n",
       "      <td>--</td>\n",
       "      <td>--</td>\n",
       "      <td>SI</td>\n",
       "      <td>SI</td>\n",
       "      <td>6056020.0</td>\n",
       "      <td>-38,6472605094596</td>\n",
       "      <td>-62,3200223419024</td>\n",
       "    </tr>\n",
       "    <tr>\n",
       "      <th>1</th>\n",
       "      <td>1</td>\n",
       "      <td>BUENOS AIRES</td>\n",
       "      <td>Bahía Blanca</td>\n",
       "      <td>Villa Espora</td>\n",
       "      <td>0</td>\n",
       "      <td>--</td>\n",
       "      <td>--</td>\n",
       "      <td>--</td>\n",
       "      <td>--</td>\n",
       "      <td>--</td>\n",
       "      <td>--</td>\n",
       "      <td>--</td>\n",
       "      <td>--</td>\n",
       "      <td>--</td>\n",
       "      <td>6056020.0</td>\n",
       "      <td>-38,7765069529222</td>\n",
       "      <td>-62,1851833537179</td>\n",
       "    </tr>\n",
       "    <tr>\n",
       "      <th>2</th>\n",
       "      <td>2</td>\n",
       "      <td>BUENOS AIRES</td>\n",
       "      <td>Balcarce</td>\n",
       "      <td>Balcarce</td>\n",
       "      <td>38376</td>\n",
       "      <td>SI</td>\n",
       "      <td>SI</td>\n",
       "      <td>SI</td>\n",
       "      <td>SI</td>\n",
       "      <td>--</td>\n",
       "      <td>SI</td>\n",
       "      <td>SI</td>\n",
       "      <td>SI</td>\n",
       "      <td>SI</td>\n",
       "      <td>6063010.0</td>\n",
       "      <td>-37,8482779294345</td>\n",
       "      <td>-58,2551665841248</td>\n",
       "    </tr>\n",
       "    <tr>\n",
       "      <th>3</th>\n",
       "      <td>3</td>\n",
       "      <td>BUENOS AIRES</td>\n",
       "      <td>Balcarce</td>\n",
       "      <td>Los Pinos</td>\n",
       "      <td>337</td>\n",
       "      <td>--</td>\n",
       "      <td>--</td>\n",
       "      <td>--</td>\n",
       "      <td>--</td>\n",
       "      <td>--</td>\n",
       "      <td>SI</td>\n",
       "      <td>SI</td>\n",
       "      <td>--</td>\n",
       "      <td>--</td>\n",
       "      <td>6063020.0</td>\n",
       "      <td>-37,9412057603</td>\n",
       "      <td>-58,3225920150442</td>\n",
       "    </tr>\n",
       "    <tr>\n",
       "      <th>4</th>\n",
       "      <td>4</td>\n",
       "      <td>BUENOS AIRES</td>\n",
       "      <td>Balcarce</td>\n",
       "      <td>Napaleofú</td>\n",
       "      <td>374</td>\n",
       "      <td>--</td>\n",
       "      <td>--</td>\n",
       "      <td>--</td>\n",
       "      <td>SI</td>\n",
       "      <td>--</td>\n",
       "      <td>SI</td>\n",
       "      <td>SI</td>\n",
       "      <td>SI</td>\n",
       "      <td>SI</td>\n",
       "      <td>6063030.0</td>\n",
       "      <td>-37,6254980210026</td>\n",
       "      <td>-58,7461862359423</td>\n",
       "    </tr>\n",
       "    <tr>\n",
       "      <th>...</th>\n",
       "      <td>...</td>\n",
       "      <td>...</td>\n",
       "      <td>...</td>\n",
       "      <td>...</td>\n",
       "      <td>...</td>\n",
       "      <td>...</td>\n",
       "      <td>...</td>\n",
       "      <td>...</td>\n",
       "      <td>...</td>\n",
       "      <td>...</td>\n",
       "      <td>...</td>\n",
       "      <td>...</td>\n",
       "      <td>...</td>\n",
       "      <td>...</td>\n",
       "      <td>...</td>\n",
       "      <td>...</td>\n",
       "      <td>...</td>\n",
       "    </tr>\n",
       "    <tr>\n",
       "      <th>4307</th>\n",
       "      <td>4307</td>\n",
       "      <td>CHACO</td>\n",
       "      <td>Quitilipi</td>\n",
       "      <td>Quitilipi</td>\n",
       "      <td>24517</td>\n",
       "      <td>SI</td>\n",
       "      <td>--</td>\n",
       "      <td>--</td>\n",
       "      <td>SI</td>\n",
       "      <td>--</td>\n",
       "      <td>SI</td>\n",
       "      <td>SI</td>\n",
       "      <td>SI</td>\n",
       "      <td>SI</td>\n",
       "      <td>22133010.0</td>\n",
       "      <td>-26,8732071732978</td>\n",
       "      <td>-60,2185241226399</td>\n",
       "    </tr>\n",
       "    <tr>\n",
       "      <th>4308</th>\n",
       "      <td>4308</td>\n",
       "      <td>CHACO</td>\n",
       "      <td>Quitilipi</td>\n",
       "      <td>Villa El Palmar</td>\n",
       "      <td>879</td>\n",
       "      <td>--</td>\n",
       "      <td>--</td>\n",
       "      <td>--</td>\n",
       "      <td>--</td>\n",
       "      <td>--</td>\n",
       "      <td>SI</td>\n",
       "      <td>--</td>\n",
       "      <td>--</td>\n",
       "      <td>SI</td>\n",
       "      <td>22133020.0</td>\n",
       "      <td>-26,4551186226266</td>\n",
       "      <td>-60,1646165913523</td>\n",
       "    </tr>\n",
       "    <tr>\n",
       "      <th>4309</th>\n",
       "      <td>4309</td>\n",
       "      <td>CHACO</td>\n",
       "      <td>San Fernando</td>\n",
       "      <td>Barranqueras</td>\n",
       "      <td>54698</td>\n",
       "      <td>SI</td>\n",
       "      <td>SI</td>\n",
       "      <td>--</td>\n",
       "      <td>SI</td>\n",
       "      <td>--</td>\n",
       "      <td>SI</td>\n",
       "      <td>SI</td>\n",
       "      <td>SI</td>\n",
       "      <td>SI</td>\n",
       "      <td>22140010.0</td>\n",
       "      <td>-27,4877739289761</td>\n",
       "      <td>-58,9327416886365</td>\n",
       "    </tr>\n",
       "    <tr>\n",
       "      <th>4310</th>\n",
       "      <td>4310</td>\n",
       "      <td>CHACO</td>\n",
       "      <td>San Fernando</td>\n",
       "      <td>Basail</td>\n",
       "      <td>1929</td>\n",
       "      <td>SI</td>\n",
       "      <td>SI</td>\n",
       "      <td>--</td>\n",
       "      <td>--</td>\n",
       "      <td>SI</td>\n",
       "      <td>SI</td>\n",
       "      <td>SI</td>\n",
       "      <td>SI</td>\n",
       "      <td>SI</td>\n",
       "      <td>22140020.0</td>\n",
       "      <td>-27,8868655966917</td>\n",
       "      <td>-59,2791003619491</td>\n",
       "    </tr>\n",
       "    <tr>\n",
       "      <th>4311</th>\n",
       "      <td>4311</td>\n",
       "      <td>CHACO</td>\n",
       "      <td>San Fernando</td>\n",
       "      <td>Colonia Baranda</td>\n",
       "      <td>336</td>\n",
       "      <td>--</td>\n",
       "      <td>--</td>\n",
       "      <td>--</td>\n",
       "      <td>--</td>\n",
       "      <td>--</td>\n",
       "      <td>--</td>\n",
       "      <td>--</td>\n",
       "      <td>SI</td>\n",
       "      <td>SI</td>\n",
       "      <td>22140030.0</td>\n",
       "      <td>-27,5620449432874</td>\n",
       "      <td>-59,3096911774268</td>\n",
       "    </tr>\n",
       "  </tbody>\n",
       "</table>\n",
       "<p>4312 rows × 17 columns</p>\n",
       "</div>"
      ],
      "text/plain": [
       "      Unnamed: 0     Provincia       Partido        Localidad  Poblacion ADSL  \\\n",
       "0              0  BUENOS AIRES  Bahía Blanca    Villa Bordeau          0   --   \n",
       "1              1  BUENOS AIRES  Bahía Blanca     Villa Espora          0   --   \n",
       "2              2  BUENOS AIRES      Balcarce         Balcarce      38376   SI   \n",
       "3              3  BUENOS AIRES      Balcarce        Los Pinos        337   --   \n",
       "4              4  BUENOS AIRES      Balcarce        Napaleofú        374   --   \n",
       "...          ...           ...           ...              ...        ...  ...   \n",
       "4307        4307         CHACO     Quitilipi        Quitilipi      24517   SI   \n",
       "4308        4308         CHACO     Quitilipi  Villa El Palmar        879   --   \n",
       "4309        4309         CHACO  San Fernando     Barranqueras      54698   SI   \n",
       "4310        4310         CHACO  San Fernando           Basail       1929   SI   \n",
       "4311        4311         CHACO  San Fernando  Colonia Baranda        336   --   \n",
       "\n",
       "     CABLEMODEM DIALUP FIBRAOPTICA SATELITAL WIRELESS TELEFONIAFIJA  3G  4G  \\\n",
       "0            --     --          --        --       --            --  SI  SI   \n",
       "1            --     --          --        --       --            --  --  --   \n",
       "2            SI     SI          SI        --       SI            SI  SI  SI   \n",
       "3            --     --          --        --       SI            SI  --  --   \n",
       "4            --     --          SI        --       SI            SI  SI  SI   \n",
       "...         ...    ...         ...       ...      ...           ...  ..  ..   \n",
       "4307         --     --          SI        --       SI            SI  SI  SI   \n",
       "4308         --     --          --        --       SI            --  --  SI   \n",
       "4309         SI     --          SI        --       SI            SI  SI  SI   \n",
       "4310         SI     --          --        SI       SI            SI  SI  SI   \n",
       "4311         --     --          --        --       --            --  SI  SI   \n",
       "\n",
       "            link            Latitud           Longitud  \n",
       "0      6056020.0  -38,6472605094596  -62,3200223419024  \n",
       "1      6056020.0  -38,7765069529222  -62,1851833537179  \n",
       "2      6063010.0  -37,8482779294345  -58,2551665841248  \n",
       "3      6063020.0     -37,9412057603  -58,3225920150442  \n",
       "4      6063030.0  -37,6254980210026  -58,7461862359423  \n",
       "...          ...                ...                ...  \n",
       "4307  22133010.0  -26,8732071732978  -60,2185241226399  \n",
       "4308  22133020.0  -26,4551186226266  -60,1646165913523  \n",
       "4309  22140010.0  -27,4877739289761  -58,9327416886365  \n",
       "4310  22140020.0  -27,8868655966917  -59,2791003619491  \n",
       "4311  22140030.0  -27,5620449432874  -59,3096911774268  \n",
       "\n",
       "[4312 rows x 17 columns]"
      ]
     },
     "execution_count": 177,
     "metadata": {},
     "output_type": "execute_result"
    }
   ],
   "source": [
    "Conect_local"
   ]
  },
  {
   "cell_type": "code",
   "execution_count": null,
   "metadata": {},
   "outputs": [],
   "source": [
    "Conect_local.to_csv(\"csv_api\\Conectividad_Localidad.csv\",index=False)"
   ]
  },
  {
   "cell_type": "markdown",
   "metadata": {},
   "source": [
    "Se arregla el dataset con mayores vacios, el cual cuenta los consumos de velocidades de internet por áreas"
   ]
  },
  {
   "cell_type": "code",
   "execution_count": null,
   "metadata": {},
   "outputs": [],
   "source": []
  }
 ],
 "metadata": {
  "kernelspec": {
   "display_name": "Python 3",
   "language": "python",
   "name": "python3"
  },
  "language_info": {
   "codemirror_mode": {
    "name": "ipython",
    "version": 3
   },
   "file_extension": ".py",
   "mimetype": "text/x-python",
   "name": "python",
   "nbconvert_exporter": "python",
   "pygments_lexer": "ipython3",
   "version": "3.10.10"
  },
  "orig_nbformat": 4
 },
 "nbformat": 4,
 "nbformat_minor": 2
}
