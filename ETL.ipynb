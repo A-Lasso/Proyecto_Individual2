{
 "cells": [
  {
   "cell_type": "markdown",
   "metadata": {},
   "source": [
    "Auth Key= Vvj1xJ4hv6NtIRgLQwzfoMSMogPayC2gfKxCcONm"
   ]
  },
  {
   "cell_type": "markdown",
   "metadata": {},
   "source": [
    "Se traen los csv desde la API."
   ]
  },
  {
   "cell_type": "code",
   "execution_count": 5,
   "metadata": {},
   "outputs": [],
   "source": [
    "import pandas as pd\n",
    "import numpy as np\n",
    "import requests\n",
    "import json\n",
    "from pandas import json_normalize"
   ]
  },
  {
   "cell_type": "code",
   "execution_count": 48,
   "metadata": {},
   "outputs": [],
   "source": [
    "url='http://api.datosabiertos.enacom.gob.ar/api/v2/datastreams/PENET-DEL-INTER-FIJO-51614/data.csv/?auth_key=Vvj1xJ4hv6NtIRgLQwzfoMSMogPayC2gfKxCcONm'\n",
    "response=requests.get(url)"
   ]
  },
  {
   "cell_type": "code",
   "execution_count": 49,
   "metadata": {},
   "outputs": [
    {
     "data": {
      "text/plain": [
       "<Response [200]>"
      ]
     },
     "execution_count": 49,
     "metadata": {},
     "output_type": "execute_result"
    }
   ],
   "source": [
    "requests.get(url)"
   ]
  },
  {
   "cell_type": "code",
   "execution_count": 50,
   "metadata": {},
   "outputs": [],
   "source": [
    "if response.status_code ==200:\n",
    "    result=response.content\n",
    "    arch=open(\"csv_api\\Penet_Inter_PROV_100HOG.csv\",\"wb\")\n",
    "    arch.write(result)\n",
    "    arch.close()"
   ]
  },
  {
   "cell_type": "code",
   "execution_count": null,
   "metadata": {},
   "outputs": [],
   "source": [
    "url4='http://api.datosabiertos.enacom.gob.ar/api/v2/datastreams/PENET-NACIO-DEL-INTER-FIJO/data.csv/?auth_key=Vvj1xJ4hv6NtIRgLQwzfoMSMogPayC2gfKxCcONm'\n",
    "response=requests.get(url4)\n",
    "if response.status_code ==200:\n",
    "    result=response.content\n",
    "    arch=open(\"csv_api\\Penet_Inter_Nac.csv\",\"wb\")\n",
    "    arch.write(result)\n",
    "    arch.close()"
   ]
  },
  {
   "cell_type": "code",
   "execution_count": 47,
   "metadata": {},
   "outputs": [],
   "source": [
    "url2='http://api.datosabiertos.enacom.gob.ar/api/v2/datastreams/TOTAL-NACIO-DE-ACCES-48866/data.csv/?auth_key=Vvj1xJ4hv6NtIRgLQwzfoMSMogPayC2gfKxCcONm'\n",
    "response=requests.get(url2)\n",
    "if response.status_code ==200:\n",
    "    result=response.content\n",
    "    arch=open(\"csv_api\\Total_Nac_Acces.csv\",\"wb\")\n",
    "    arch.write(result)\n",
    "    arch.close()"
   ]
  },
  {
   "cell_type": "code",
   "execution_count": 52,
   "metadata": {},
   "outputs": [],
   "source": [
    "url3='http://api.datosabiertos.enacom.gob.ar/api/v2/datastreams/BANDA-ANCHA-Y-BANDA-ANGOS/data.csv/?auth_key=Vvj1xJ4hv6NtIRgLQwzfoMSMogPayC2gfKxCcONm'\n",
    "response=requests.get(url3)\n",
    "if response.status_code ==200:\n",
    "    result=response.content\n",
    "    arch=open(\"csv_api\\Acces_Banda_Ancha_Angosta_Provincia.csv\",\"wb\")\n",
    "    arch.write(result)\n",
    "    arch.close()"
   ]
  },
  {
   "cell_type": "code",
   "execution_count": null,
   "metadata": {},
   "outputs": [],
   "source": [
    "url5='http://api.datosabiertos.enacom.gob.ar/api/v2/datastreams/TOTAL-NACIO-DE-ACCES-A/data.csv/?auth_key=Vvj1xJ4hv6NtIRgLQwzfoMSMogPayC2gfKxCcONm'\n",
    "response=requests.get(url5)\n",
    "if response.status_code ==200:\n",
    "    result=response.content\n",
    "    arch=open(\"csv_api\\Acces_Inter_Tec_Nac.csv\",\"wb\")\n",
    "    arch.write(result)\n",
    "    arch.close()"
   ]
  },
  {
   "cell_type": "code",
   "execution_count": 53,
   "metadata": {},
   "outputs": [],
   "source": [
    "'''\n",
    "Tiene error, desde la pagina no se ve, intente cargarlo desde la API pero devuelve error también.\n",
    "url6='http://api.datosabiertos.enacom.gob.ar/api/v2/datastreams/ACCES-A-INTER-FIJO-POR/data.json/?auth_key=Vvj1xJ4hv6NtIRgLQwzfoMSMogPayC2gfKxCcONm'\n",
    "response=requests.get(url6)\n",
    "if response.status_code ==200:\n",
    "    result=response.content\n",
    "    arch=open(\"csv_api\\Acces_Inter_Tec_Prov.csv\",\"wb\")\n",
    "    arch.write(result)\n",
    "    arch.close()\n",
    "    Asi ocurre con otros csv\n",
    "    '''"
   ]
  },
  {
   "cell_type": "code",
   "execution_count": 54,
   "metadata": {},
   "outputs": [],
   "source": [
    "url7='http://api.datosabiertos.enacom.gob.ar/api/v2/datastreams/VELOC-PROME-DE-BAJAD-51733/data.csv/?auth_key=Vvj1xJ4hv6NtIRgLQwzfoMSMogPayC2gfKxCcONm'\n",
    "response=requests.get(url7)\n",
    "if response.status_code ==200:\n",
    "    result=response.content\n",
    "    arch=open(\"csv_api\\Vel_MedBajada_Nac.csv\",\"wb\")\n",
    "    arch.write(result)\n",
    "    arch.close()"
   ]
  },
  {
   "cell_type": "code",
   "execution_count": null,
   "metadata": {},
   "outputs": [],
   "source": [
    "url8='http://api.datosabiertos.enacom.gob.ar/api/v2/datastreams/ACCES-A-INTER-FIJO-23248/data.csv/?auth_key=Vvj1xJ4hv6NtIRgLQwzfoMSMogPayC2gfKxCcONm'\n",
    "response=requests.get(url8)\n",
    "if response.status_code ==200:\n",
    "    result=response.content\n",
    "    arch=open(\"csv_api\\Acces_Inter_Prov_Vel.csv\",\"wb\")\n",
    "    arch.write(result)\n",
    "    arch.close()"
   ]
  },
  {
   "cell_type": "code",
   "execution_count": null,
   "metadata": {},
   "outputs": [],
   "source": [
    "url9='http://api.datosabiertos.enacom.gob.ar/api/v2/datastreams/PENET-DEL-INTER-FIJO-51614/data.csv/?auth_key=Vvj1xJ4hv6NtIRgLQwzfoMSMogPayC2gfKxCcONm'\n",
    "response=requests.get(url9)\n",
    "if response.status_code ==200:\n",
    "    result=response.content\n",
    "    arch=open(\"csv_api\\.csv\",\"wb\")\n",
    "    arch.write(result)\n",
    "    arch.close()"
   ]
  },
  {
   "cell_type": "code",
   "execution_count": null,
   "metadata": {},
   "outputs": [],
   "source": [
    "url10='http://api.datosabiertos.enacom.gob.ar/api/v2/datastreams/PENET-DEL-INTER-FIJO-51614/data.csv/?auth_key=Vvj1xJ4hv6NtIRgLQwzfoMSMogPayC2gfKxCcONm'\n",
    "response=requests.get(url10)\n",
    "if response.status_code ==200:\n",
    "    result=response.content\n",
    "    arch=open(\"csv_api\\.csv\",\"wb\")\n",
    "    arch.write(result)\n",
    "    arch.close()"
   ]
  },
  {
   "cell_type": "markdown",
   "metadata": {},
   "source": [
    "Se verifican los valores en cada csv"
   ]
  }
 ],
 "metadata": {
  "kernelspec": {
   "display_name": "Python 3",
   "language": "python",
   "name": "python3"
  },
  "language_info": {
   "codemirror_mode": {
    "name": "ipython",
    "version": 3
   },
   "file_extension": ".py",
   "mimetype": "text/x-python",
   "name": "python",
   "nbconvert_exporter": "python",
   "pygments_lexer": "ipython3",
   "version": "3.10.10"
  },
  "orig_nbformat": 4
 },
 "nbformat": 4,
 "nbformat_minor": 2
}
