{
 "cells": [
  {
   "cell_type": "markdown",
   "metadata": {},
   "source": [
    "Auth Key= Vvj1xJ4hv6NtIRgLQwzfoMSMogPayC2gfKxCcONm"
   ]
  },
  {
   "cell_type": "code",
   "execution_count": 5,
   "metadata": {},
   "outputs": [],
   "source": [
    "import pandas as pd\n",
    "import numpy as np\n",
    "import requests\n",
    "import json\n",
    "from pandas import json_normalize"
   ]
  },
  {
   "cell_type": "code",
   "execution_count": 44,
   "metadata": {},
   "outputs": [],
   "source": [
    "url='http://api.datosabiertos.enacom.gob.ar/api/v2/datastreams/PENET-DEL-INTER-FIJO-51614/data.csv/?auth_key=Vvj1xJ4hv6NtIRgLQwzfoMSMogPayC2gfKxCcONm'\n",
    "response=requests.get(url)"
   ]
  },
  {
   "cell_type": "code",
   "execution_count": 40,
   "metadata": {},
   "outputs": [
    {
     "data": {
      "text/plain": [
       "<Response [200]>"
      ]
     },
     "execution_count": 40,
     "metadata": {},
     "output_type": "execute_result"
    }
   ],
   "source": [
    "requests.get(url)"
   ]
  },
  {
   "cell_type": "code",
   "execution_count": 46,
   "metadata": {},
   "outputs": [],
   "source": [
    "if response.status_code ==200:\n",
    "    result=response.content\n",
    "    arch=open(\"csv_api\\inter_fijo.csv\",\"wb\")\n",
    "    arch.write(result)\n",
    "    arch.close()"
   ]
  },
  {
   "cell_type": "code",
   "execution_count": null,
   "metadata": {},
   "outputs": [],
   "source": [
    "url='http://api.datosabiertos.enacom.gob.ar/api/v2/datastreams/PENET-DEL-INTER-FIJO-51614/data.csv/?auth_key=Vvj1xJ4hv6NtIRgLQwzfoMSMogPayC2gfKxCcONm'\n",
    "response=requests.get(url)\n",
    "if response.status_code ==200:\n",
    "    result=response.content\n",
    "    arch=open(\"csv_api\\.csv\",\"wb\")\n",
    "    arch.write(result)\n",
    "    arch.close()"
   ]
  },
  {
   "cell_type": "code",
   "execution_count": null,
   "metadata": {},
   "outputs": [],
   "source": [
    "url='http://api.datosabiertos.enacom.gob.ar/api/v2/datastreams/PENET-DEL-INTER-FIJO-51614/data.csv/?auth_key=Vvj1xJ4hv6NtIRgLQwzfoMSMogPayC2gfKxCcONm'\n",
    "response=requests.get(url)\n",
    "if response.status_code ==200:\n",
    "    result=response.content\n",
    "    arch=open(\"csv_api\\.csv\",\"wb\")\n",
    "    arch.write(result)\n",
    "    arch.close()"
   ]
  },
  {
   "cell_type": "code",
   "execution_count": null,
   "metadata": {},
   "outputs": [],
   "source": [
    "url='http://api.datosabiertos.enacom.gob.ar/api/v2/datastreams/PENET-DEL-INTER-FIJO-51614/data.csv/?auth_key=Vvj1xJ4hv6NtIRgLQwzfoMSMogPayC2gfKxCcONm'\n",
    "response=requests.get(url)\n",
    "if response.status_code ==200:\n",
    "    result=response.content\n",
    "    arch=open(\"csv_api\\.csv\",\"wb\")\n",
    "    arch.write(result)\n",
    "    arch.close()"
   ]
  },
  {
   "cell_type": "code",
   "execution_count": null,
   "metadata": {},
   "outputs": [],
   "source": [
    "url='http://api.datosabiertos.enacom.gob.ar/api/v2/datastreams/PENET-DEL-INTER-FIJO-51614/data.csv/?auth_key=Vvj1xJ4hv6NtIRgLQwzfoMSMogPayC2gfKxCcONm'\n",
    "response=requests.get(url)\n",
    "if response.status_code ==200:\n",
    "    result=response.content\n",
    "    arch=open(\"csv_api\\.csv\",\"wb\")\n",
    "    arch.write(result)\n",
    "    arch.close()"
   ]
  },
  {
   "cell_type": "code",
   "execution_count": null,
   "metadata": {},
   "outputs": [],
   "source": [
    "url='http://api.datosabiertos.enacom.gob.ar/api/v2/datastreams/PENET-DEL-INTER-FIJO-51614/data.csv/?auth_key=Vvj1xJ4hv6NtIRgLQwzfoMSMogPayC2gfKxCcONm'\n",
    "response=requests.get(url)\n",
    "if response.status_code ==200:\n",
    "    result=response.content\n",
    "    arch=open(\"csv_api\\.csv\",\"wb\")\n",
    "    arch.write(result)\n",
    "    arch.close()"
   ]
  },
  {
   "cell_type": "code",
   "execution_count": null,
   "metadata": {},
   "outputs": [],
   "source": [
    "url='http://api.datosabiertos.enacom.gob.ar/api/v2/datastreams/PENET-DEL-INTER-FIJO-51614/data.csv/?auth_key=Vvj1xJ4hv6NtIRgLQwzfoMSMogPayC2gfKxCcONm'\n",
    "response=requests.get(url)\n",
    "if response.status_code ==200:\n",
    "    result=response.content\n",
    "    arch=open(\"csv_api\\.csv\",\"wb\")\n",
    "    arch.write(result)\n",
    "    arch.close()"
   ]
  }
 ],
 "metadata": {
  "kernelspec": {
   "display_name": "Python 3",
   "language": "python",
   "name": "python3"
  },
  "language_info": {
   "codemirror_mode": {
    "name": "ipython",
    "version": 3
   },
   "file_extension": ".py",
   "mimetype": "text/x-python",
   "name": "python",
   "nbconvert_exporter": "python",
   "pygments_lexer": "ipython3",
   "version": "3.10.10"
  },
  "orig_nbformat": 4
 },
 "nbformat": 4,
 "nbformat_minor": 2
}
