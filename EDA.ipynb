{
 "cells": [
  {
   "cell_type": "code",
   "execution_count": 1,
   "metadata": {},
   "outputs": [
    {
     "name": "stderr",
     "output_type": "stream",
     "text": [
      "c:\\Users\\lasso\\AppData\\Local\\Programs\\Python\\Python310\\lib\\site-packages\\tqdm\\auto.py:22: TqdmWarning: IProgress not found. Please update jupyter and ipywidgets. See https://ipywidgets.readthedocs.io/en/stable/user_install.html\n",
      "  from .autonotebook import tqdm as notebook_tqdm\n"
     ]
    }
   ],
   "source": [
    "import pandas as pd\n",
    "import numpy as np\n",
    "import matplotlib.pyplot as plt\n",
    "import seaborn as sns\n",
    "from ydata_profiling import ProfileReport"
   ]
  },
  {
   "cell_type": "code",
   "execution_count": 2,
   "metadata": {},
   "outputs": [],
   "source": [
    "# Archivos a analizar con el EDA\n",
    "prof = ProfileReport(pd.read_csv(\"csv_api\\Penet_Inter_Nac.csv\"))"
   ]
  },
  {
   "cell_type": "code",
   "execution_count": 3,
   "metadata": {},
   "outputs": [
    {
     "name": "stderr",
     "output_type": "stream",
     "text": [
      "Summarize dataset:   0%|          | 0/5 [00:00<?, ?it/s]"
     ]
    },
    {
     "name": "stderr",
     "output_type": "stream",
     "text": [
      "Summarize dataset: 100%|██████████| 23/23 [00:01<00:00, 11.61it/s, Completed]                                                         \n",
      "Generate report structure: 100%|██████████| 1/1 [00:01<00:00,  1.56s/it]\n",
      "Render HTML: 100%|██████████| 1/1 [00:00<00:00,  3.04it/s]\n",
      "Export report to file: 100%|██████████| 1/1 [00:00<00:00, 333.15it/s]\n"
     ]
    }
   ],
   "source": [
    "prof.to_file(output_file='EDA_profiling\\Analisis_Penet_Inter_Nac.html')"
   ]
  },
  {
   "cell_type": "code",
   "execution_count": 4,
   "metadata": {},
   "outputs": [
    {
     "name": "stderr",
     "output_type": "stream",
     "text": [
      "Summarize dataset: 100%|██████████| 22/22 [00:01<00:00, 15.59it/s, Completed]                                                         \n",
      "Generate report structure: 100%|██████████| 1/1 [00:01<00:00,  1.33s/it]\n",
      "Render HTML: 100%|██████████| 1/1 [00:00<00:00,  2.52it/s]\n",
      "Export report to file: 100%|██████████| 1/1 [00:00<00:00, 333.23it/s]\n"
     ]
    }
   ],
   "source": [
    "prof = ProfileReport(pd.read_csv(\"csv_api\\Penet_Inter_PROV_100HOG.csv\"))\n",
    "prof.to_file(output_file='EDA_profiling\\Analisis_Penet_Inter_PROV_100HOG.html')"
   ]
  },
  {
   "cell_type": "code",
   "execution_count": null,
   "metadata": {},
   "outputs": [],
   "source": [
    "prof = ProfileReport(pd.read_csv(\"csv_api\\Acces_Banda_Ancha_Angosta_Nac.csv\"))\n",
    "prof.to_file(output_file='EDA_profiling\\Analisis_Acces_Banda_Ancha_Angosta_Nac.html')"
   ]
  },
  {
   "cell_type": "code",
   "execution_count": null,
   "metadata": {},
   "outputs": [],
   "source": [
    "prof = ProfileReport(pd.read_csv(\"csv_api\\.csv\"))\n",
    "prof.to_file(output_file='EDA_profiling\\Analisis_.html')"
   ]
  },
  {
   "cell_type": "code",
   "execution_count": null,
   "metadata": {},
   "outputs": [],
   "source": [
    "prof = ProfileReport(pd.read_csv(\"csv_api\\.csv\"))\n",
    "prof.to_file(output_file='EDA_profiling\\Analisis_.html')"
   ]
  },
  {
   "cell_type": "code",
   "execution_count": null,
   "metadata": {},
   "outputs": [],
   "source": [
    "prof = ProfileReport(pd.read_csv(\"csv_api\\.csv\"))\n",
    "prof.to_file(output_file='EDA_profiling\\Analisis_.html')"
   ]
  },
  {
   "cell_type": "code",
   "execution_count": null,
   "metadata": {},
   "outputs": [],
   "source": [
    "prof = ProfileReport(pd.read_csv(\"csv_api\\.csv\"))\n",
    "prof.to_file(output_file='EDA_profiling\\Analisis_.html')"
   ]
  },
  {
   "cell_type": "code",
   "execution_count": null,
   "metadata": {},
   "outputs": [],
   "source": [
    "prof = ProfileReport(pd.read_csv(\"csv_api\\.csv\"))\n",
    "prof.to_file(output_file='EDA_profiling\\Analisis_.html')"
   ]
  },
  {
   "cell_type": "code",
   "execution_count": null,
   "metadata": {},
   "outputs": [],
   "source": [
    "prof = ProfileReport(pd.read_csv(\"csv_api\\.csv\"))\n",
    "prof.to_file(output_file='EDA_profiling\\Analisis_.html')"
   ]
  },
  {
   "cell_type": "code",
   "execution_count": null,
   "metadata": {},
   "outputs": [],
   "source": [
    "prof = ProfileReport(pd.read_csv(\"csv_api\\.csv\"))\n",
    "prof.to_file(output_file='EDA_profiling\\Analisis_.html')"
   ]
  },
  {
   "cell_type": "code",
   "execution_count": null,
   "metadata": {},
   "outputs": [],
   "source": [
    "prof = ProfileReport(pd.read_csv(\"csv_api\\.csv\"))\n",
    "prof.to_file(output_file='EDA_profiling\\Analisis_.html')"
   ]
  }
 ],
 "metadata": {
  "kernelspec": {
   "display_name": "Python 3",
   "language": "python",
   "name": "python3"
  },
  "language_info": {
   "codemirror_mode": {
    "name": "ipython",
    "version": 3
   },
   "file_extension": ".py",
   "mimetype": "text/x-python",
   "name": "python",
   "nbconvert_exporter": "python",
   "pygments_lexer": "ipython3",
   "version": "3.10.10"
  },
  "orig_nbformat": 4
 },
 "nbformat": 4,
 "nbformat_minor": 2
}
